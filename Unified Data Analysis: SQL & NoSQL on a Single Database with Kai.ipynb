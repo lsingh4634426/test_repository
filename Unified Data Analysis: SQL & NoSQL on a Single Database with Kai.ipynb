{
  "cells": [
    {
      "id": "1a6d5359",
      "cell_type": "markdown",
      "metadata": {
        "execution": {}
      },
      "source": "\u003cdiv id=\"singlestore-header\" style=\"display: flex; background-color: rgba(235, 249, 245, 0.25); padding: 5px;\"\u003e\n    \u003cdiv id=\"icon-image\" style=\"width: 90px; height: 90px;\"\u003e\n        \u003cimg width=\"100%\" height=\"100%\" src=\"https://raw.githubusercontent.com/singlestore-labs/spaces-notebooks/master/common/images/header-icons/database.png\" /\u003e\n    \u003c/div\u003e\n    \u003cdiv id=\"text\" style=\"padding: 5px; margin-left: 10px;\"\u003e\n        \u003cdiv id=\"badge\" style=\"display: inline-block; background-color: rgba(0, 0, 0, 0.15); border-radius: 4px; padding: 4px 8px; align-items: center; margin-top: 6px; margin-bottom: -2px; font-size: 80%\"\u003eSingleStore Notebooks\u003c/div\u003e\n        \u003ch1 style=\"font-weight: 500; margin: 8px 0 0 4px;\"\u003eUnified Data Analysis: SQL \u0026amp; NoSQL on a Single Database with Kai\u003c/h1\u003e\n    \u003c/div\u003e\n\u003c/div\u003e",
      "attachments": {}
    },
    {
      "id": "6c2d8700",
      "cell_type": "markdown",
      "metadata": {
        "execution": {}
      },
      "source": "# Unified Data Analysis: SQL \u0026 NoSQL on a Single Database with Kai",
      "attachments": {}
    },
    {
      "id": "ced3b94d",
      "cell_type": "markdown",
      "metadata": {
        "execution": {}
      },
      "source": "\u003cimg src=https://raw.githubusercontent.com/singlestore-labs/spaces-notebooks/master/notebooks/unified-data-analysis-sql-nosql-kai/banking_analytics.png width=\"100%\"\u003e",
      "attachments": {}
    },
    {
      "id": "3eae9c76",
      "cell_type": "markdown",
      "metadata": {
        "execution": {}
      },
      "source": "### What you will learn in this notebook:\n\nIn this notebook we ingest data from from different sources like MySQL, MongoDB and S3 and perform efficient analysis using both NoSQL and SQL on multimodal data (tabular and JSON).\n\n### Highlights\n1. Setup CDC from MongoDB and MySQL in easy steps. Replicate data in real-time and ensure upto date information for analytics, eliminating the need for complex tooling for data movement\n\n2. Analyze data using both NoSQL and relational approaches, depending on your specific needs. Developers and data analytics who are familiar with different programming approaches like MongoDB query language and SQL can work together on the same database. Perform familiar SQL queries on your NoSQL data!\n\nReady to unlock real-time analytics and unified data access? Let's start!",
      "attachments": {}
    },
    {
      "id": "33a2b51c",
      "cell_type": "code",
      "metadata": {
        "execution": {},
        "language": "python"
      },
      "source": "!pip install pymongo prettytable matplotlib --quiet",
      "outputs": [],
      "execution_count": 1
    },
    {
      "id": "18e3e006",
      "cell_type": "markdown",
      "metadata": {
        "execution": {}
      },
      "source": "### Create database for importing data from different sources\n\nThis example gets banking data from three different sources: ATM locations from S3, transaction data from MySQL and user profile details from MongoDB databases. Joins data from different sources to generate rich insights about the transactional activity across user profile and locations across the globe",
      "attachments": {}
    },
    {
      "id": "a77b82b3",
      "cell_type": "code",
      "metadata": {
        "execution": {},
        "language": "python"
      },
      "source": "%%sql\nDROP DATABASE IF EXISTS BankingAnalytics;\nCREATE DATABASE BankingAnalytics;",
      "outputs": [],
      "execution_count": 2
    },
    {
      "id": "08515681",
      "cell_type": "markdown",
      "metadata": {
        "execution": {}
      },
      "source": "\u003cdiv class=\"alert alert-block alert-warning\"\u003e\n    \u003cb class=\"fa fa-solid fa-exclamation-circle\"\u003e\u003c/b\u003e\n    \u003cdiv\u003e\n        \u003cp\u003e\u003cb\u003eAction Required\u003c/b\u003e\u003c/p\u003e\n        \u003cp\u003e Make sure to select 'BankingAnalytics' database from the drop-down menu at the top of this notebook. It updates the \u003ctt\u003econnection_url\u003c/tt\u003e  to connect to that database.\u003c/p\u003e\n    \u003c/div\u003e\n\u003c/div\u003e",
      "attachments": {}
    },
    {
      "id": "047ed31a",
      "cell_type": "markdown",
      "metadata": {
        "execution": {}
      },
      "source": "\u003cimg src=\"https://raw.githubusercontent.com/singlestore-labs/spaces-notebooks/master/notebooks/unified-data-analysis-sql-nosql-kai/selectdb.png\" style=\"width: 500px; border: 1px solid darkorchid\"\u003e",
      "attachments": {}
    },
    {
      "id": "aa69ee29",
      "cell_type": "markdown",
      "metadata": {
        "execution": {}
      },
      "source": "## Setup CDC from MySQL",
      "attachments": {}
    },
    {
      "id": "cab7be5d",
      "cell_type": "markdown",
      "metadata": {
        "execution": {}
      },
      "source": "### SingleStore allows you to ingest the data from mysql using pipelines",
      "attachments": {}
    },
    {
      "id": "d37b87da",
      "cell_type": "markdown",
      "metadata": {
        "execution": {}
      },
      "source": "In this step, we create a link from MySQL instance and start the pipelines for the CDC",
      "attachments": {}
    },
    {
      "id": "fa97ca56",
      "cell_type": "code",
      "metadata": {
        "execution": {},
        "language": "python"
      },
      "source": "%%sql\nCREATE LINK mysqllink AS MYSQL\nCONFIG '{\n    \"database.hostname\": \"3.132.226.181\",\n    \"database.exclude.list\": \"mysql,performance_schema\",\n    \"table.include.list\": \"DomainAnalytics.transactions\",\n    \"database.port\": 3306,\n    \"database.ssl.mode\":\"required\"\n    }'\nCREDENTIALS '{\n    \"database.password\": \"Password@123\",\n    \"database.user\": \"repl_user\"\n    }';",
      "outputs": [],
      "execution_count": 3
    },
    {
      "id": "d1025983",
      "cell_type": "code",
      "metadata": {
        "execution": {},
        "language": "python"
      },
      "source": "%%sql\nCREATE TABLES AS INFER PIPELINE AS LOAD DATA LINK mysqllink \"*\" FORMAT AVRO;",
      "outputs": [],
      "execution_count": 4
    },
    {
      "id": "e9d91511",
      "cell_type": "code",
      "metadata": {
        "execution": {},
        "language": "python"
      },
      "source": "%%sql\nSTART ALL PIPELINES;",
      "outputs": [],
      "execution_count": 5
    },
    {
      "id": "dd0bcb77",
      "cell_type": "markdown",
      "metadata": {
        "execution": {}
      },
      "source": "### Migrate the data from S3 storage to SingleStore using Pipelines",
      "attachments": {}
    },
    {
      "id": "802e47d1",
      "cell_type": "markdown",
      "metadata": {
        "execution": {}
      },
      "source": "This steps loads data from S3, this requires the tables to be defined beforehand",
      "attachments": {}
    },
    {
      "id": "dd05a31c",
      "cell_type": "code",
      "metadata": {
        "execution": {},
        "language": "python"
      },
      "source": "%%sql\nCREATE TABLE IF NOT EXISTS atm_locations (\n    id INT PRIMARY KEY,\n    name VARCHAR(255),\n    address VARCHAR(255),\n    city VARCHAR(255),\n    country VARCHAR(255),\n    latitude DECIMAL(9, 6),\n    longitude DECIMAL(9, 6)\n);",
      "outputs": [],
      "execution_count": 6
    },
    {
      "id": "5ba219df",
      "cell_type": "code",
      "metadata": {
        "execution": {},
        "language": "python"
      },
      "source": "%%sql\nCREATE PIPELINE atmlocations AS\nLOAD DATA S3 's3://ocbfinalpoc1/data'\nCONFIG '{\"region\":\"ap-southeast-1\"}'\nSKIP DUPLICATE KEY ERRORS\nINTO TABLE atm_locations;",
      "outputs": [],
      "execution_count": 7
    },
    {
      "id": "94eebb51",
      "cell_type": "code",
      "metadata": {
        "execution": {},
        "language": "python"
      },
      "source": "%%sql\nSTART PIPELINE atmlocations",
      "outputs": [],
      "execution_count": 8
    },
    {
      "id": "56a58831",
      "cell_type": "markdown",
      "metadata": {
        "execution": {}
      },
      "source": "### Setup CDC from MongoDB to SingleStore",
      "attachments": {}
    },
    {
      "id": "87444b9b",
      "cell_type": "markdown",
      "metadata": {
        "execution": {}
      },
      "source": "Now we setup CDC from MongoDB to replicate the data SingleStore\n\nThe collections to be replicated are specified as a comma separated or in a wildcard format in \"collection.include.list\"",
      "attachments": {}
    },
    {
      "id": "b84d21a8",
      "cell_type": "code",
      "metadata": {
        "execution": {},
        "language": "python"
      },
      "source": "%%sql\nCREATE LINK mongo AS MONGODB\nCONFIG '{\n    \"mongodb.hosts\":\"ac-t7n47to-shard-00-00.tfutgo0.mongodb.net:27017,ac-t7n47to-shard-00-01.tfutgo0.mongodb.net:27017,ac-t7n47to-shard-00-02.tfutgo0.mongodb.net:27017\",\n    \"collection.include.list\": \"bank.*\",\n    \"mongodb.ssl.enabled\":\"true\",\n    \"mongodb.authsource\":\"admin\",\n    \"mongodb.members.auto.discover\": \"true\"\n    }'\nCREDENTIALS '{\n    \"mongodb.user\":\"mongo_sample_reader\",\n    \"mongodb.password\":\"SingleStoreRocks27017\"\n    }';",
      "outputs": [],
      "execution_count": 9
    },
    {
      "id": "4e58d374",
      "cell_type": "code",
      "metadata": {
        "execution": {},
        "language": "python"
      },
      "source": "%%sql\nCREATE TABLES AS INFER PIPELINE AS LOAD DATA LINK mongo '*' FORMAT AVRO;",
      "outputs": [],
      "execution_count": 10
    },
    {
      "id": "1f3b9fe9",
      "cell_type": "code",
      "metadata": {
        "execution": {},
        "language": "python"
      },
      "source": "%%sql\nSHOW PIPELINES",
      "outputs": [],
      "execution_count": 11
    },
    {
      "id": "2c088673",
      "cell_type": "code",
      "metadata": {
        "execution": {},
        "language": "python"
      },
      "source": "%%sql\nSTART ALL PIPELINES",
      "outputs": [],
      "execution_count": 12
    },
    {
      "id": "8b6caff3",
      "cell_type": "markdown",
      "metadata": {
        "execution": {}
      },
      "source": "### Check for records in tables",
      "attachments": {}
    },
    {
      "id": "3e469dab",
      "cell_type": "markdown",
      "metadata": {
        "execution": {}
      },
      "source": "Data from MySQL",
      "attachments": {}
    },
    {
      "id": "44688a3d",
      "cell_type": "code",
      "metadata": {
        "execution": {},
        "language": "python"
      },
      "source": "%%sql\nSELECT COUNT(*) FROM transactions",
      "outputs": [],
      "execution_count": 13
    },
    {
      "id": "d3fc1c14",
      "cell_type": "code",
      "metadata": {
        "execution": {},
        "language": "python"
      },
      "source": "%%sql\nSELECT * FROM transactions WHERE transaction_type LIKE '%Deposit%' LIMIT 1;",
      "outputs": [],
      "execution_count": 14
    },
    {
      "id": "37088621",
      "cell_type": "markdown",
      "metadata": {
        "execution": {}
      },
      "source": "Data from S3",
      "attachments": {}
    },
    {
      "id": "ed1670ee",
      "cell_type": "code",
      "metadata": {
        "execution": {},
        "language": "python"
      },
      "source": "%%sql\nSELECT COUNT(*) FROM atm_locations",
      "outputs": [],
      "execution_count": 15
    },
    {
      "id": "367930d2",
      "cell_type": "code",
      "metadata": {
        "execution": {},
        "language": "python"
      },
      "source": "%%sql\nSELECT * FROM atm_locations LIMIT 1;",
      "outputs": [],
      "execution_count": 16
    },
    {
      "id": "2f11225d",
      "cell_type": "markdown",
      "metadata": {
        "execution": {}
      },
      "source": "Data from MongoDB",
      "attachments": {}
    },
    {
      "id": "0150f6bc",
      "cell_type": "code",
      "metadata": {
        "execution": {},
        "language": "python"
      },
      "source": "%%sql\nSELECT _id:\u003eJSON, _more:\u003eJSON FROM profile LIMIT 1;",
      "outputs": [],
      "execution_count": 17
    },
    {
      "id": "21fbf852",
      "cell_type": "code",
      "metadata": {
        "execution": {},
        "language": "python"
      },
      "source": "%%sql\n\nSELECT _id:\u003eJSON, _more:\u003eJSON FROM history LIMIT 1;",
      "outputs": [],
      "execution_count": 18
    },
    {
      "id": "3f3dd776",
      "cell_type": "markdown",
      "metadata": {
        "execution": {}
      },
      "source": "### Join tables from different sources using SQL queries",
      "attachments": {}
    },
    {
      "id": "1e1ade40",
      "cell_type": "markdown",
      "metadata": {
        "execution": {}
      },
      "source": "SQL Query 1: View Users details, their associated ATMs",
      "attachments": {}
    },
    {
      "id": "9eb6e86c",
      "cell_type": "code",
      "metadata": {
        "execution": {},
        "language": "python"
      },
      "source": "%%sql\nSELECT\n    p._more::$full_name AS NameOfPerson,\n    p._more::$email AS Email,\n    a.id,\n    a.name AS ATMName,\n    a.city,\n    a.country\nFROM\n    profile p,\n    atm_locations a\nWHERE\n    p._more::$account_id = a.id\nLIMIT 10;",
      "outputs": [],
      "execution_count": 19
    },
    {
      "id": "c8147f4a",
      "cell_type": "markdown",
      "metadata": {
        "execution": {}
      },
      "source": "SQL Query 2: View Users details, their associated ATMs and transaction details",
      "attachments": {}
    },
    {
      "id": "9baa53de",
      "cell_type": "code",
      "metadata": {
        "execution": {},
        "language": "python"
      },
      "source": "%%sql\nSELECT\n    p._more::$full_name AS NameOfPerson,\n    p._more::$email AS Email,\n    a.id,\n    a.name AS ATMName,\n    a.city,\n    t.transaction_id,\n    t.transaction_date,\n    t.amount,\n    t.transaction_type,\n    t.description\nFROM\n    profile p\nJOIN\n    atm_locations a ON p._more::$account_id = a.id\nLEFT JOIN\n    transactions t ON p._more::$account_id = t.account_id\nLIMIT 10;",
      "outputs": [],
      "execution_count": 20
    },
    {
      "id": "ed30b745",
      "cell_type": "markdown",
      "metadata": {
        "execution": {}
      },
      "source": "### Run queries in Mongo Query Language using Kai",
      "attachments": {}
    },
    {
      "id": "42e097e7",
      "cell_type": "code",
      "metadata": {
        "execution": {},
        "language": "python"
      },
      "source": "from pymongo import MongoClient\nimport pprint\nfrom prettytable import PrettyTable\n\nclient = MongoClient(connection_url_kai)\n\n# Get the profile collection\ndb = client['BankingAnalytics']\nprofile_coll = db['profile']\n\nfor profile in profile_coll.find().limit(1):\n    pprint.pprint(profile)",
      "outputs": [],
      "execution_count": 21
    },
    {
      "id": "a3441786",
      "cell_type": "code",
      "metadata": {
        "execution": {},
        "language": "python"
      },
      "source": "pipeline = [\n    {\n        \"$lookup\": {\n            \"from\": \"profile\",\n            \"localField\": \"account_id\",\n            \"foreignField\": \"account_id\",\n            \"as\": \"profile_data\"\n        }\n    },\n    {\n        \"$limit\": 5\n    },\n    {\n        \"$group\": {\n            \"_id\": \"$_id\",\n            \"history_data\": {\"$first\": \"$$ROOT\"},\n            \"profile_data\": {\"$first\": {\"$arrayElemAt\": [\"$profile_data\", 0]}}\n        }\n    },\n    {\n        \"$project\": {\n            \"_id\": \"$history_data._id\",\n            \"account_id\": \"$history_data.account_id\",\n            \"history_data\": \"$history_data\",\n            \"profile_data\": \"$profile_data\"\n        }\n    }\n]\n\n# Execute the aggregation pipeline\nresult = list(db.history.aggregate(pipeline))\n\n# Print the result in a tabular format\ntable = PrettyTable([\"Account ID\", \"Full Name\", \"Date of Birth\", \"City\", \"State\", \"Country\", \"Postal Code\", \"Phone Number\", \"Email\"])\nfor doc in result:\n    profile_data = doc[\"profile_data\"]\n    table.add_row([\n        doc[\"account_id\"],\n        profile_data.get(\"full_name\", \"\"),\n        profile_data.get(\"date_of_birth\", \"\"),\n        profile_data.get(\"city\", \"\"),\n        profile_data.get(\"state\", \"\"),\n        profile_data.get(\"country\", \"\"),\n        profile_data.get(\"postal_code\", \"\"),\n        profile_data.get(\"phone_number\", \"\"),\n        profile_data.get(\"email\", \"\")\n    ])\n\nprint(table)",
      "outputs": [],
      "execution_count": 22
    },
    {
      "id": "fe24435f",
      "cell_type": "code",
      "metadata": {
        "execution": {},
        "language": "python"
      },
      "source": "# Get the state with highest number of customers\nfrom bson.son import SON\n\npipeline = [\n    {\"$group\": {\"_id\": \"$state\", \"count\": {\"$sum\": 1}}},\n    {\"$sort\": SON([(\"count\", -1), (\"_id\", -1)])},\n    {\"$limit\": 5}\n]\n\npprint.pprint(list(profile_coll.aggregate(pipeline)))",
      "outputs": [],
      "execution_count": 23
    },
    {
      "id": "1e919cbe",
      "cell_type": "code",
      "metadata": {
        "execution": {},
        "language": "python"
      },
      "source": "import matplotlib.pyplot as plt\n\ndata = list(profile_coll.aggregate(pipeline))\n\nprint(data)\n\ncountry,count = [dcts['_id'] for dcts in data],[dcts['count'] for dcts in data]\n\nplt.bar(country,count)\nplt.plot()",
      "outputs": [],
      "execution_count": 24
    },
    {
      "id": "f05705e2",
      "cell_type": "markdown",
      "metadata": {
        "execution": {}
      },
      "source": "With SingleStore Kai you can power analytics on SQL and NoSQL data using the API of your choice",
      "attachments": {}
    },
    {
      "id": "2abf5b5f",
      "cell_type": "markdown",
      "metadata": {
        "execution": {}
      },
      "source": "\u003cdiv id=\"singlestore-footer\" style=\"background-color: rgba(194, 193, 199, 0.25); height:2px; margin-bottom:10px\"\u003e\u003c/div\u003e\n\u003cdiv\u003e\u003cimg src=\"https://raw.githubusercontent.com/singlestore-labs/spaces-notebooks/master/common/images/singlestore-logo-grey.png\" style=\"padding: 0px; margin: 0px; height: 24px\"/\u003e\u003c/div\u003e",
      "attachments": {}
    }
  ],
  "metadata": {
    "kernelspec": {
      "display_name": "Python 3 (ipykernel)",
      "language": "python",
      "name": "python3"
    },
    "language_info": {
      "codemirror_mode": {
        "name": "ipython",
        "version": 3
      },
      "file_extension": ".py",
      "mimeType": "text/x-python",
      "name": "python",
      "nbconvert_exporter": "python",
      "pygments_lexer": "ipython3",
      "version": "3.11.6"
    },
    "jupyterlab": {
      "notebooks": {
        "version_major": 6,
        "version_minor": 4
      }
    },
    "singlestore_connection": {
      "connectionID": "",
      "defaultDatabase": ""
    },
    "singlestore_cell_default_language": "python"
  },
  "nbformat": 4,
  "nbformat_minor": 5
}