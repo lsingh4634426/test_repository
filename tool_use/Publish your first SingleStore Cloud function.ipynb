{
  "cells": [
    {
      "id": "33b073ec",
      "cell_type": "markdown",
      "metadata": {
        "execution": {}
      },
      "source": "\u003cdiv id=\"singlestore-header\" style=\"display: flex; background-color: rgba(235, 249, 245, 0.25); padding: 5px;\"\u003e\n    \u003cdiv id=\"icon-image\" style=\"width: 90px; height: 90px;\"\u003e\n        \u003cimg width=\"100%\" height=\"100%\" src=\"https://raw.githubusercontent.com/singlestore-labs/spaces-notebooks/master/common/images/header-icons/browser.png\" /\u003e\n    \u003c/div\u003e\n    \u003cdiv id=\"text\" style=\"padding: 5px; margin-left: 10px;\"\u003e\n        \u003cdiv id=\"badge\" style=\"display: inline-block; background-color: rgba(0, 0, 0, 0.15); border-radius: 4px; padding: 4px 8px; align-items: center; margin-top: 6px; margin-bottom: -2px; font-size: 80%\"\u003eSingleStore Notebooks\u003c/div\u003e\n        \u003ch1 style=\"font-weight: 500; margin: 8px 0 0 4px;\"\u003ePublish your first SingleStore Cloud function\u003c/h1\u003e\n    \u003c/div\u003e\n\u003c/div\u003e",
      "attachments": {}
    },
    {
      "id": "bd0ae268",
      "cell_type": "markdown",
      "metadata": {
        "execution": {}
      },
      "source": "\u003cdiv class=\"alert alert-block alert-warning\"\u003e\n    \u003cb class=\"fa fa-solid fa-exclamation-circle\"\u003e\u003c/b\u003e\n    \u003cdiv\u003e\n        \u003cp\u003e\u003cb\u003eNote\u003c/b\u003e\u003c/p\u003e\n        \u003cp\u003eThis notebook can be run on a Free Starter Workspace. To create a Free Starter Workspace navigate to \u003ctt\u003eStart\u003c/tt\u003e using the left nav. You can also use your existing Standard or Premium workspace with this Notebook.\u003c/p\u003e\n    \u003c/div\u003e\n\u003c/div\u003e",
      "attachments": {}
    },
    {
      "id": "bcb6e6a7",
      "cell_type": "markdown",
      "metadata": {
        "execution": {}
      },
      "source": "This Jupyter notebook will help you build your first Cloud Function, showcasing how to leverage the ultra-fast queries of SingleStore to build a responsive API server using FastAPI",
      "attachments": {}
    },
    {
      "id": "5776ded1",
      "cell_type": "markdown",
      "metadata": {
        "execution": {}
      },
      "source": "## Create some simple tables\n\nThis setup establishes a basic relational structure to store some items information.",
      "attachments": {}
    },
    {
      "id": "2bbf6a44",
      "cell_type": "code",
      "metadata": {
        "execution": {},
        "language": "python"
      },
      "source": "%%sql\nDROP TABLE IF EXISTS items;\n\nCREATE TABLE IF NOT EXISTS\nitems (\n    id INT PRIMARY KEY,\n    name VARCHAR(255),\n    price FLOAT\n);",
      "outputs": [],
      "execution_count": 1
    },
    {
      "id": "8a099c3f",
      "cell_type": "markdown",
      "metadata": {
        "execution": {}
      },
      "source": "## Create a Connection Pool\n\nTo run multiple simultaneous queries, we use sqlalchemy to create a pool of sql connections to the workspace you have selected. We also define a method to execute queries and transactions using a connection from this pool.",
      "attachments": {}
    },
    {
      "id": "225f1ba8",
      "cell_type": "code",
      "metadata": {
        "execution": {},
        "language": "python"
      },
      "source": "from sqlalchemy import create_engine, text\nimport requests\n\nca_cert_url = \"https://portal.singlestore.com/static/ca/singlestore_bundle.pem\"\nca_cert_path = \"/tmp/singlestore_bundle.pem\"\n\nresponse = requests.get(ca_cert_url)\nwith open(ca_cert_path, \"wb\") as f:\n    f.write(response.content)\n\nsql_connection_string = connection_url.replace(\"singlestoredb\", \"mysql+pymysql\")\nengine = create_engine(\n    f\"{sql_connection_string}?ssl_ca={ca_cert_path}\",\n    pool_size=10,           # Maximum number of connections in the pool is 10\n    max_overflow=5,         # Allow up to 5 additional connections (temporary overflow)\n    pool_timeout=30         # Wait up to 30 seconds for a connection from the pool\n)\n\ndef execute_query(query: str):\n    with engine.connect() as connection:\n        return connection.execute(text(query))\n\ndef execute_transaction(transactional_query: str):\n    with engine.connect() as connection:\n        transaction = connection.begin()\n        try:\n            result = connection.execute(text(transactional_query))\n            transaction.commit()\n            return result\n        except Exception as e:\n            transaction.rollback()\n            raise e",
      "outputs": [],
      "execution_count": 2
    },
    {
      "id": "dd5f2dea",
      "cell_type": "markdown",
      "metadata": {
        "execution": {}
      },
      "source": "## Setup Environment\n\nLets setup the environment ro run a FastAPI app defining the Data Model and an executor to run the different requests in different threads simultaneously",
      "attachments": {}
    },
    {
      "id": "f7bd1ec2",
      "cell_type": "code",
      "metadata": {
        "execution": {},
        "language": "python"
      },
      "source": "from fastapi import FastAPI, HTTPException\nfrom pydantic import BaseModel\nfrom singlestoredb import connect\nfrom concurrent.futures import ThreadPoolExecutor\nimport asyncio\n\n# Define the Type of the Data\nclass Item(BaseModel):\n    id: int\n    name: str\n    price: float\n\n# Create an executor that can execute queries on multiple threads simultaneously\nexecutor = ThreadPoolExecutor()\ndef run_in_thread(fn, *args):\n    loop = asyncio.get_event_loop()\n    return loop.run_in_executor(executor, fn, *args)",
      "outputs": [],
      "execution_count": 3
    },
    {
      "id": "d58c8382",
      "cell_type": "markdown",
      "metadata": {
        "execution": {}
      },
      "source": "## Define FastAPI App\n\nNext, we will be defining a FastAPI app that can insert, query and delete data from your table",
      "attachments": {}
    },
    {
      "id": "f3f3b047",
      "cell_type": "code",
      "metadata": {
        "execution": {},
        "language": "python"
      },
      "source": "app = FastAPI()\n\n# Get all items\n@app.get(\"/items\", response_model=list[Item])\nasync def get_items():\n    def get_items_query():\n        result = execute_query(\"SELECT * FROM items;\")\n        rows = result.fetchall()\n        return [{\"id\": row[0], \"name\": row[1], \"price\": row[2]} for row in rows]\n\n    try:\n        return await run_in_thread(get_items_query)\n    except Exception as e:\n        raise HTTPException(status_code=500, detail=f\"Error fetching all items: {str(e)}\")\n\n# Insert an item\n@app.post(\"/items\", response_model=dict)\nasync def create_item(item: Item):\n    def insert_item_query():\n        result = execute_transaction(f\"INSERT INTO items (id, name, price) VALUES ({item.id}, '{item.name}', {item.price})\")\n        return {\"message\": f\"Item with id {item.id} inserted successfully\"}\n\n    try:\n        return await run_in_thread(insert_item_query)\n    except Exception as e:\n        raise HTTPException(status_code=500, detail=f\"Error while inserting item with id {item.id}: {str(e)}\")\n\n# Get item by id\n@app.get(\"/items/{item_id}\", response_model=Item)\nasync def get_item(item_id: int):\n    def get_item_query():\n        result = execute_query(f\"SELECT * FROM items WHERE id={item_id}\")\n        row = result.fetchone()\n        if not row:\n            raise HTTPException(status_code=404, detail=\"Item not found\")\n        return {\"id\": row[0], \"name\": row[1], \"price\": row[2]}\n\n    try:\n        return await run_in_thread(get_item_query)\n    except HTTPException as e:\n        raise e\n    except Exception as e:\n        raise HTTPException(status_code=500, detail=f\"Error fetching item with id {item_id}: {str(e)}\")\n\n# Delete item by id\n@app.delete(\"/items/{item_id}\", response_model=dict)\nasync def delete_item(item_id: int):\n    def delete_item_query():\n        result = execute_transaction(f\"DELETE FROM items WHERE id={item_id}\")\n        return {\"message\": f\"number of rows deleted: {result.rowcount}\"}\n\n    try:\n        return await run_in_thread(delete_item_query)\n    except Exception as e:\n        raise HTTPException(status_code=500, detail=f\"Error deleting item with id {item_id}: {str(e)}\")",
      "outputs": [],
      "execution_count": 4
    },
    {
      "id": "40e2ad59",
      "cell_type": "markdown",
      "metadata": {
        "execution": {}
      },
      "source": "## Start the FastAPI server\n\nThe link at which the cloud function will be available interactively will be displayed.",
      "attachments": {}
    },
    {
      "id": "ed4b22cd",
      "cell_type": "code",
      "metadata": {
        "execution": {},
        "language": "python"
      },
      "source": "import singlestoredb.apps as apps\nconnection_info = await apps.run_function_app(app)",
      "outputs": [],
      "execution_count": 5
    },
    {
      "id": "4a825f0d",
      "cell_type": "markdown",
      "metadata": {
        "execution": {}
      },
      "source": "## Publish Cloud Function\n\nAfter validating the Cloud Function interactively, you can publish it and use it as an API server for your data!",
      "attachments": {}
    },
    {
      "id": "b6c75678",
      "cell_type": "markdown",
      "metadata": {
        "execution": {}
      },
      "source": "\u003cdiv id=\"singlestore-footer\" style=\"background-color: rgba(194, 193, 199, 0.25); height:2px; margin-bottom:10px\"\u003e\u003c/div\u003e\n\u003cdiv\u003e\u003cimg src=\"https://raw.githubusercontent.com/singlestore-labs/spaces-notebooks/master/common/images/singlestore-logo-grey.png\" style=\"padding: 0px; margin: 0px; height: 24px\"/\u003e\u003c/div\u003e",
      "attachments": {}
    }
  ],
  "metadata": {
    "kernelspec": {
      "display_name": "Python 3 (ipykernel)",
      "language": "python",
      "name": "python3"
    },
    "language_info": {
      "codemirror_mode": {
        "name": "ipython",
        "version": 3
      },
      "file_extension": ".py",
      "mimeType": "text/x-python",
      "name": "python",
      "nbconvert_exporter": "python",
      "pygments_lexer": "ipython3",
      "version": "3.11.9"
    },
    "jupyterlab": {
      "notebooks": {
        "version_major": 6,
        "version_minor": 4
      }
    },
    "singlestore_connection": {
      "connectionID": "",
      "defaultDatabase": ""
    },
    "singlestore_cell_default_language": "python",
    "singlestore_row_limit": 300
  },
  "nbformat": 4,
  "nbformat_minor": 5
}