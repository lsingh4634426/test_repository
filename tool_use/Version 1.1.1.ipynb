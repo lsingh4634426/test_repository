{
  "cells": [
    {
      "id": "359d556e",
      "cell_type": "markdown",
      "metadata": {},
      "source": "\u003cdiv id=\"singlestore-header\" style=\"display: flex; background-color: rgba(209, 153, 255, 0.25); padding: 5px;\"\u003e\n    \u003cdiv id=\"icon-image\" style=\"width: 90px; height: 90px;\"\u003e\n        \u003cimg width=\"100%\" height=\"100%\" src=\"https://raw.githubusercontent.com/singlestore-labs/spaces-notebooks/master/common/images/header-icons/notes.png\" /\u003e\n    \u003c/div\u003e\n    \u003cdiv id=\"text\" style=\"padding: 5px; margin-left: 10px;\"\u003e\n        \u003cdiv id=\"badge\" style=\"display: inline-block; background-color: rgba(0, 0, 0, 0.15); border-radius: 4px; padding: 4px 8px; align-items: center; margin-top: 6px; margin-bottom: -2px; font-size: 80%\"\u003eSingleStore Notebooks\u003c/div\u003e\n        \u003ch1 style=\"font-weight: 500; margin: 8px 0 0 4px;\"\u003eGetting Started with Notebooks\u003c/h1\u003e\n    \u003c/div\u003e\n\u003c/div\u003e",
      "attachments": {}
    },
    {
      "id": "7421ad91",
      "cell_type": "markdown",
      "metadata": {},
      "source": "\u003cdiv class=\"alert alert-block alert-warning\"\u003e\n    \u003cb class=\"fa fa-solid fa-exclamation-circle\"\u003e\u003c/b\u003e\n    \u003cdiv\u003e\n        \u003cp\u003e\u003cb\u003eNote\u003c/b\u003e\u003c/p\u003e\n        \u003cp\u003eThis notebook can be run on a Free Starter Workspace. To create a Free Starter Workspace navigate to \u003ctt\u003eStart\u003c/tt\u003e using the left nav. You can also use your existing Standard or Premium workspace with this Notebook.\u003c/p\u003e\n    \u003c/div\u003e\n\u003c/div\u003e",
      "attachments": {}
    },
    {
      "id": "9922b829",
      "cell_type": "markdown",
      "metadata": {},
      "source": "\u003ctable style=\"border: 0; border-spacing: 0; width: 100%; background-color: #03010D\"\u003e\u003ctr\u003e\n    \u003ctd style=\"padding: 0; margin: 0; background-color: #03010D; width: 33%; text-align: center\"\u003e\u003cimg src=\"https://raw.githubusercontent.com/singlestore-labs/spaces-notebooks/master/common/images/singlestore-logo-vertical.png\" style=\"height: 200px;\"/\u003e\u003c/td\u003e\n    \u003ctd style=\"padding: 0; margin: 0; width: 66%; background-color: #03010D; text-align: right\"\u003e\u003cimg src=\"https://raw.githubusercontent.com/singlestore-labs/spaces-notebooks/master/common/images/singlestore-jupyter.png\" style=\"height: 250px\"/\u003e\u003c/td\u003e\n\u003c/tr\u003e\u003c/table\u003e",
      "attachments": {}
    },
    {
      "id": "150affef",
      "cell_type": "markdown",
      "metadata": {},
      "source": "## What you will learn in this notebook:\n\n1. Load a CSV file from our Github Repo [Python]\n2. Ingest that file into a SingleStoreDB without defining the schema [Python]\n3. Interact natively with the database using SQL [SQL]\n4. Convert results to a DataFrame and visualize results with Plotly [Python]\n\n## Questions?\n\nReach out to us through our [forum](https://www.singlestore.com/forum).",
      "attachments": {}
    },
    {
      "id": "cc215d0f",
      "cell_type": "markdown",
      "metadata": {},
      "source": "## Enhance your notebooks with visualizations",
      "attachments": {}
    },
    {
      "id": "7ded7bfb",
      "cell_type": "markdown",
      "metadata": {},
      "source": "## 1. Import libraries for reading data into a DataFrame\n\nOur data set contains geographic data, so we also install [Shapely](https://shapely.readthedocs.io/en/stable/)\nto store that data in Shapely geometry objects.",
      "attachments": {}
    },
    {
      "id": "8019c71f",
      "cell_type": "code",
      "metadata": {
        "language": "python"
      },
      "source": "!pip3 install shapely --quiet\n\nimport pandas as pd\nimport shapely.wkt",
      "outputs": [],
      "execution_count": 1
    },
    {
      "id": "03190080",
      "cell_type": "markdown",
      "metadata": {},
      "source": "## 2. Load a csv file hosted in Github using Python\n\nNotice that we are using the `dtype=`, `parse_dates=`, and `converters=` options of the `read_csv` method to\nconvert specific columns into various data types, including geographic data in the `business_location` column.\nSee the [`read_csv`](https://pandas.pydata.org/pandas-docs/stable/reference/api/pandas.read_csv.html) documentation\nfor more information.",
      "attachments": {}
    },
    {
      "id": "e498faa7",
      "cell_type": "code",
      "metadata": {
        "language": "python"
      },
      "source": "url = 'https://raw.githubusercontent.com/singlestore-labs/singlestoredb-samples/main/' + \\\n      'Sample%20datasets/csv/Restaurant_Scores_LIVES_Standard.csv'",
      "outputs": [],
      "execution_count": 2
    },
    {
      "id": "4494b3cd",
      "cell_type": "code",
      "metadata": {
        "language": "python"
      },
      "source": "def str_to_shapely(x: str) -\u003e shapely.geometry.Point | None:\n    \"\"\"Convert a WKT string to a shapely object while handling NULLs.\"\"\"\n    return shapely.wkt.loads(x) if x else None\n\n\n# Read URL directly using pd.read_csv\ndf = pd.read_csv(url, index_col=0,\n                 # Use parse_date=, dtype=, and converters= to specify explicit data types\n                 parse_dates=['inspection_date'],\n                 date_format='%m/%d/%Y %H:%M:%S %p',\n                 dtype=dict(business_id=int, business_phone_number=str, business_postal_code=str, inspection_score=float),\n                 converters=dict(business_location=str_to_shapely))\ndf",
      "outputs": [],
      "execution_count": 3
    },
    {
      "id": "efad9e64",
      "cell_type": "markdown",
      "metadata": {},
      "source": "Display the data types in the resulting DataFrame. Note that any objects that pandas does not support natively (e.g., strings, blobs, shapely geometries, etc.) show up as `object`.",
      "attachments": {}
    },
    {
      "id": "989ffbe3",
      "cell_type": "code",
      "metadata": {
        "language": "python"
      },
      "source": "df.dtypes",
      "outputs": [],
      "execution_count": 4
    },
    {
      "id": "8ee45846",
      "cell_type": "markdown",
      "metadata": {},
      "source": "\u003cdiv class=\"alert alert-block alert-warning\"\u003e\n    \u003cb class=\"fa fa-solid fa-exclamation-circle\"\u003e\u003c/b\u003e\n    \u003cdiv\u003e\n        \u003cp\u003e\u003cb\u003eAction Required\u003c/b\u003e\u003c/p\u003e\n        \u003cp\u003e If you have a Free Starter Workspace deployed already, select the database from drop-down menu at the top of this notebook. It updates the \u003ctt\u003econnection_url\u003c/tt\u003e to connect to that database.\u003c/p\u003e\n    \u003c/div\u003e\n\u003c/div\u003e",
      "attachments": {}
    },
    {
      "id": "210bbda1",
      "cell_type": "markdown",
      "metadata": {},
      "source": "## 3. Ingest a DataFrame in a SingleStoreDB table",
      "attachments": {}
    },
    {
      "id": "96fa2c5a",
      "cell_type": "markdown",
      "metadata": {},
      "source": "1. Create the database\n2. Import the library to connect to the database\n3. Create the connection to the library\n4. Ingest the dataframe to the newly created database",
      "attachments": {}
    },
    {
      "id": "fba58fb6",
      "cell_type": "markdown",
      "metadata": {},
      "source": "Set the database name in a variable. It will be used in subsequent queries.",
      "attachments": {}
    },
    {
      "id": "11f05328",
      "cell_type": "markdown",
      "metadata": {},
      "source": "Here we are using the `database_name` variable in a `%%sql` cell. The syntax for including Python variables\nis to surround the variable name with `{{ ... }}`.",
      "attachments": {}
    },
    {
      "id": "69e18dfb",
      "cell_type": "code",
      "metadata": {
        "language": "python"
      },
      "source": "shared_tier_check = %sql show variables like 'is_shared_tier'\nif not shared_tier_check or shared_tier_check[0][1] == 'OFF':\n    database_name = 'getting_started_notebook'\n    %sql DROP DATABASE IF EXISTS {{database_name}};\n    %sql CREATE DATABASE {{database_name}};\nelse:\n    current_database = %sql SELECT DATABASE() as CurrentDatabase\n    database_name = current_database[0][0]",
      "outputs": [],
      "execution_count": 5
    },
    {
      "id": "961afa0b",
      "cell_type": "markdown",
      "metadata": {},
      "source": "\u003cdiv class=\"alert alert-block alert-warning\"\u003e\n    \u003cb class=\"fa fa-solid fa-exclamation-circle\"\u003e\u003c/b\u003e\n    \u003cdiv\u003e\n        \u003cp\u003e\u003cb\u003eAction Required\u003c/b\u003e\u003c/p\u003e\n        \u003cp\u003e Make sure to select a database from the drop-down menu at the top of this notebook. It updates the \u003ctt\u003econnection_url\u003c/tt\u003e  to connect to that database.\u003c/p\u003e\n    \u003c/div\u003e\n\u003c/div\u003e",
      "attachments": {}
    },
    {
      "id": "1f131f96",
      "cell_type": "markdown",
      "metadata": {},
      "source": "We can use SQLAlchemy and pandas to upload a DataFrame. Note that if the table does not exist, the data types will\nbe inferred from the data. This may not result in the exact types that you desire. You can define the table in\nthe database before uploading to get the exact types you want.\n\nIf you get an error about the database not being selected, that simply means that your `connection_url` does not\ncontain a specific database to connect to. You can use the drop-down menu at the top of this notebook (immediately\nunder the title) to select a database to work with. Changing the selection in the drop-down menu also updates\nthe `connection_url` variable.",
      "attachments": {}
    },
    {
      "id": "eb4e912b",
      "cell_type": "code",
      "metadata": {
        "language": "python"
      },
      "source": "import sqlalchemy as sa\n\n# Create a SQLAlchemy engine and connect\ndb_connection = sa.create_engine(connection_url).connect()",
      "outputs": [],
      "execution_count": 6
    },
    {
      "id": "90482136",
      "cell_type": "markdown",
      "metadata": {},
      "source": "The SingleStoreDB Python package also adds a convenience function for SQLAlchemy connections\nwithout using the `connection_url`. It automatically gets the connection information from\nthe `SINGLESTOREDB_URL` environment variable.",
      "attachments": {}
    },
    {
      "id": "4168ceb8",
      "cell_type": "code",
      "metadata": {
        "language": "python"
      },
      "source": "import singlestoredb as s2\n\n# Create a SQLAlchemy engine and connect, without having to specify the connection URL\ndb_connection = s2.create_engine().connect()\n\n# Upload the DataFrame\ndf.to_sql('sf_restaurant_scores', con=db_connection, if_exists='append', chunksize=1000)",
      "outputs": [],
      "execution_count": 7
    },
    {
      "id": "05dd0fa8",
      "cell_type": "markdown",
      "metadata": {},
      "source": "## 4. Interact natively with the database using SQL",
      "attachments": {}
    },
    {
      "id": "63c38ba1",
      "cell_type": "markdown",
      "metadata": {},
      "source": "1. Read the top 10 rows from the table\n2. Alter the table to get the date in a date format, not string\n3. Read the number of restaurant inspections over the time in San Francisco",
      "attachments": {}
    },
    {
      "id": "f79b3f45",
      "cell_type": "code",
      "metadata": {
        "language": "python"
      },
      "source": "%%sql\nSELECT * FROM {{database_name}}.sf_restaurant_scores LIMIT 10;",
      "outputs": [],
      "execution_count": 8
    },
    {
      "id": "acc21f0d",
      "cell_type": "markdown",
      "metadata": {},
      "source": "In the code block below, we use the `result1 \u003c\u003c` syntax on the `%%sql` line to store the result of the SQL\noperation into a variable which can be used later. As with other Jupyter notebooks, you can always get the value\nof the last executed cell in the `_` (underscore) variable, but setting a specifc variable name to use is generally\na safer way to retrieve results.",
      "attachments": {}
    },
    {
      "id": "6d45915f",
      "cell_type": "code",
      "metadata": {
        "language": "python"
      },
      "source": "%%sql result1 \u003c\u003c\nSELECT\n    DATE_TRUNC('month', inspection_date) AS month,\n    COUNT(*) AS count_inspection\nFROM\n    {{database_name}}.sf_restaurant_scores\nGROUP BY\n    MONTH\nORDER BY\n    MONTH DESC;",
      "outputs": [],
      "execution_count": 9
    },
    {
      "id": "ee90bcf4",
      "cell_type": "markdown",
      "metadata": {},
      "source": "The output of a `%%sql` cell is a `ResultSet` which contains methods for converting to various other data types (e.g., `csv`, `dicts`, `DataFrame`, `PolarsDataFrame`). It is also possible to convert to a DataFrame by passing a `ResultSet` object to the DataFrame\nconstructor as we'll see below.",
      "attachments": {}
    },
    {
      "id": "5ecfaa34",
      "cell_type": "code",
      "metadata": {
        "language": "python"
      },
      "source": "type(result1)",
      "outputs": [],
      "execution_count": 10
    },
    {
      "id": "facf96ae",
      "cell_type": "markdown",
      "metadata": {},
      "source": "## 5. Visualize with Plotly",
      "attachments": {}
    },
    {
      "id": "3a9fec49",
      "cell_type": "markdown",
      "metadata": {},
      "source": "We are using [Plotly](https://plotly.com) to visualize the data in `result1`. The first parameter of the\n`bar` function requires a DataFrame, so we'll convert `result1` to a DataFrame before calling `bar`.",
      "attachments": {}
    },
    {
      "id": "16372f39",
      "cell_type": "code",
      "metadata": {
        "language": "python"
      },
      "source": "result1_df = pd.DataFrame(result1)\nresult1_df[:5]",
      "outputs": [],
      "execution_count": 11
    },
    {
      "id": "cdb77c14",
      "cell_type": "code",
      "metadata": {
        "language": "python"
      },
      "source": "import plotly.express as px\n\npx.bar(result1_df, x='month', y='count_inspection', title='Inspections by Month')",
      "outputs": [],
      "execution_count": 12
    },
    {
      "id": "15ed2dde",
      "cell_type": "markdown",
      "metadata": {},
      "source": "## 6. Cleanup database",
      "attachments": {}
    },
    {
      "id": "d74f75d2",
      "cell_type": "markdown",
      "metadata": {},
      "source": "\u003cdiv class=\"alert alert-block alert-warning\"\u003e\n    \u003cb class=\"fa fa-solid fa-exclamation-circle\"\u003e\u003c/b\u003e\n    \u003cdiv\u003e\n        \u003cp\u003e\u003cb\u003eAction Required\u003c/b\u003e\u003c/p\u003e\n        \u003cp\u003e If you created a new database in your Standard or Premium Workspace, you can drop the database by running the cell below. Note: this will not drop your database for Free Starter Workspaces. To drop a Free Starter Workspace, terminate the Workspace using the UI. \u003c/p\u003e\n    \u003c/div\u003e\n\u003c/div\u003e",
      "attachments": {}
    },
    {
      "id": "f6557a14",
      "cell_type": "code",
      "metadata": {
        "language": "python"
      },
      "source": "shared_tier_check = %sql show variables like 'is_shared_tier'\nif not shared_tier_check or shared_tier_check[0][1] == 'OFF':\n    %sql DROP DATABASE IF EXISTS {{database_name}};",
      "outputs": [],
      "execution_count": 13
    },
    {
      "id": "f0820d14",
      "cell_type": "markdown",
      "metadata": {},
      "source": "\u003cdiv id=\"singlestore-footer\" style=\"background-color: rgba(194, 193, 199, 0.25); height:2px; margin-bottom:10px\"\u003e\u003c/div\u003e\n\u003cdiv\u003e\u003cimg src=\"https://raw.githubusercontent.com/singlestore-labs/spaces-notebooks/master/common/images/singlestore-logo-grey.png\" style=\"padding: 0px; margin: 0px; height: 24px\"/\u003e\u003c/div\u003e",
      "attachments": {}
    }
  ],
  "metadata": {
    "kernelspec": {
      "display_name": "Python 3 (ipykernel)",
      "language": "python",
      "name": "python3"
    },
    "language_info": {
      "codemirror_mode": {
        "name": "ipython",
        "version": 3
      },
      "file_extension": ".py",
      "mimeType": "text/x-python",
      "name": "python",
      "nbconvert_exporter": "python",
      "pygments_lexer": "ipython3",
      "version": "3.11.9"
    },
    "singlestore_connection": {
      "connectionID": "",
      "defaultDatabase": ""
    },
    "singlestore_cell_default_language": "python",
    "singlestore_row_limit": 300
  },
  "nbformat": 4,
  "nbformat_minor": 5
}