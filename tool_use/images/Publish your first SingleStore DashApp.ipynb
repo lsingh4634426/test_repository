{
  "cells": [
    {
      "id": "53ac2791",
      "cell_type": "markdown",
      "metadata": {
        "execution": {}
      },
      "source": "\u003cdiv id=\"singlestore-header\" style=\"display: flex; background-color: rgba(235, 249, 245, 0.25); padding: 5px;\"\u003e\n    \u003cdiv id=\"icon-image\" style=\"width: 90px; height: 90px;\"\u003e\n        \u003cimg width=\"100%\" height=\"100%\" src=\"https://raw.githubusercontent.com/singlestore-labs/spaces-notebooks/master/common/images/header-icons/browser.png\" /\u003e\n    \u003c/div\u003e\n    \u003cdiv id=\"text\" style=\"padding: 5px; margin-left: 10px;\"\u003e\n        \u003cdiv id=\"badge\" style=\"display: inline-block; background-color: rgba(0, 0, 0, 0.15); border-radius: 4px; padding: 4px 8px; align-items: center; margin-top: 6px; margin-bottom: -2px; font-size: 80%\"\u003eSingleStore Notebooks\u003c/div\u003e\n        \u003ch1 style=\"font-weight: 500; margin: 8px 0 0 4px;\"\u003ePublish your first SingleStore DashApp\u003c/h1\u003e\n    \u003c/div\u003e\n\u003c/div\u003e",
      "attachments": {}
    },
    {
      "id": "6e39e1ba",
      "cell_type": "markdown",
      "metadata": {
        "execution": {}
      },
      "source": "\u003cdiv class=\"alert alert-block alert-warning\"\u003e\n    \u003cb class=\"fa fa-solid fa-exclamation-circle\"\u003e\u003c/b\u003e\n    \u003cdiv\u003e\n        \u003cp\u003e\u003cb\u003eNote\u003c/b\u003e\u003c/p\u003e\n        \u003cp\u003eThis notebook can be run on a Free Starter Workspace. To create a Free Starter Workspace navigate to \u003ctt\u003eStart\u003c/tt\u003e using the left nav. You can also use your existing Standard or Premium workspace with this Notebook.\u003c/p\u003e\n    \u003c/div\u003e\n\u003c/div\u003e",
      "attachments": {}
    },
    {
      "id": "6f712b45",
      "cell_type": "markdown",
      "metadata": {
        "execution": {}
      },
      "source": "This Jupyter notebook will help you build your first real time Dashboard, showcasing how to leverage the ultra-fast queries of SingleStore to build a great visual experience using Plotly's DashApps.",
      "attachments": {}
    },
    {
      "id": "14e40e4b",
      "cell_type": "markdown",
      "metadata": {
        "execution": {}
      },
      "source": "## Create some simple tables\n\nThis setup establishes a basic relational structure to store some orders information.",
      "attachments": {}
    },
    {
      "id": "0e09ebfd",
      "cell_type": "code",
      "metadata": {
        "execution": {},
        "language": "python"
      },
      "source": "%%sql\nDROP TABLE IF EXISTS orders;\n\nCREATE TABLE IF NOT EXISTS orders (\n    order_id INT PRIMARY KEY,\n    order_date DATE,\n    amount DECIMAL(10, 2),\n    name VARCHAR(50)\n);",
      "outputs": [],
      "execution_count": 1
    },
    {
      "id": "56787869",
      "cell_type": "markdown",
      "metadata": {
        "execution": {}
      },
      "source": "## Insert some data\n\nLets now insert some time series data into the table.",
      "attachments": {}
    },
    {
      "id": "0d301918",
      "cell_type": "code",
      "metadata": {
        "execution": {},
        "language": "python"
      },
      "source": "%%sql\nINSERT INTO orders (order_id, order_date, amount, name) VALUES\n(1, '2024-01-01', 150.00, \"Laptop\"),\n(2, '2024-01-01', 20.00, \"Speaker\"),\n(3, '2024-01-01', 60.00, \"Monitor\"),\n(4, '2024-01-02', 300.00, \"Laptop\"),\n(5, '2024-01-02', 100.00, \"Laptop\"),\n(6, '2024-01-02', 100.00, \"Laptop\"),\n(7, '2024-01-02', 25.00, \"Speaker\"),\n(8, '2024-01-02', 20.00, \"Speaker\"),\n(9, '2024-01-02', 75.00, \"Monitor\"),\n(10, '2024-01-03', 350.00, \"Laptop\"),\n(11, '2024-01-03', 150.00, \"Laptop\"),\n(12, '2024-01-03', 25.00, \"Speaker\"),\n(13, '2024-01-03', 35.00, \"Speaker\"),\n(14, '2024-01-03', 55.00, \"Monitor\"),\n(15, '2024-01-04', 120.00, \"Laptop\"),\n(16, '2024-01-04', 120.00, \"Laptop\"),\n(17, '2024-01-04', 30.00, \"Speaker\"),\n(18, '2024-01-04', 40.00, \"Speaker\"),\n(19, '2024-01-04', 25.00, \"Speaker\"),\n(20, '2024-01-04', 50.00, \"Monitor\"),\n(21, '2024-01-04', 70.00, \"Monitor\");",
      "outputs": [],
      "execution_count": 2
    },
    {
      "id": "a1bf5d71",
      "cell_type": "markdown",
      "metadata": {
        "execution": {}
      },
      "source": "## Create a Connection Pool\n\nNext, we use sqlalchemy to create a pool of sql connections to the workspace you have selected. We also define a method to execute queries using a connection from this pool.",
      "attachments": {}
    },
    {
      "id": "b2124893",
      "cell_type": "code",
      "metadata": {
        "execution": {},
        "language": "python"
      },
      "source": "from sqlalchemy import create_engine, text\nimport requests\n\nca_cert_url = \"https://portal.singlestore.com/static/ca/singlestore_bundle.pem\"\nca_cert_path = \"/tmp/singlestore_bundle.pem\"\n\nresponse = requests.get(ca_cert_url)\nwith open(ca_cert_path, \"wb\") as f:\n    f.write(response.content)\n\nsql_connection_string = connection_url.replace(\"singlestoredb\", \"mysql+pymysql\")\nengine = create_engine(\n    f\"{sql_connection_string}?ssl_ca={ca_cert_path}\",\n    pool_size=10,           # Maximum number of connections in the pool is 10\n    max_overflow=5,         # Allow up to 5 additional connections (temporary overflow)\n    pool_timeout=30         # Wait up to 30 seconds for a connection from the pool\n)\n\ndef execute_query(query: str):\n    with engine.connect() as connection:\n        return pd.read_sql_query(query, connection)",
      "outputs": [],
      "execution_count": 3
    },
    {
      "id": "39d62939",
      "cell_type": "markdown",
      "metadata": {
        "execution": {}
      },
      "source": "## Create a line chart\n\nYou can create a line chart using plotly, to depict either of the following\n- Number of items sold\n- Total sales volume",
      "attachments": {}
    },
    {
      "id": "1093acff",
      "cell_type": "code",
      "metadata": {
        "execution": {},
        "language": "python"
      },
      "source": "import pandas as pd\nimport plotly.express as px\nimport plotly.graph_objects as go\n\ndef generate_line_chart(type):\n    if type == 'Count':\n        df = execute_query(\"SELECT order_date, name, COUNT(*) as sales from orders group by order_date, name order by order_date\")\n    elif type == 'Total Value':\n        df = execute_query(\"SELECT order_date, name, SUM(amount) as sales from orders group by order_date, name order by order_date\")\n    fig = px.line(df, x='order_date', y='sales', color='name', markers=True,\n              labels={'sales': 'Sales', 'date': 'Order Date'},\n              title='Sales Over Time')\n    fig.update_layout(\n        font_family=\"Roboto\",\n        font_color=\"gray\",\n        title_font_family=\"Roboto\",\n        title_font_color=\"Black\",\n        legend_title_font_color=\"gray\"\n    )\n    return fig\n\nline_chart = generate_line_chart(\"Count\")\nline_chart.show()",
      "outputs": [],
      "execution_count": 4
    },
    {
      "id": "a84e01f8",
      "cell_type": "markdown",
      "metadata": {
        "execution": {}
      },
      "source": "## Create a pie chart\n\nYou can create a pie chart to see the contribution of each type of item to the daily sales volume",
      "attachments": {}
    },
    {
      "id": "61a5401b",
      "cell_type": "code",
      "metadata": {
        "execution": {},
        "language": "python"
      },
      "source": "def generate_pie_chart(date):\n    df = execute_query(f\"SELECT name, SUM(amount) as sales from orders where order_date = '{date}' group by name\")\n    fig = px.pie(df,\n            names='name',\n            values='sales',\n            hover_data=['sales'],\n            labels={'sales': 'Total Sales', 'name': 'Type'},\n            title='Total Cost by Item Type')\n    return fig\n\npie_chart = generate_pie_chart(\"2024-01-01\")\npie_chart.show()",
      "outputs": [],
      "execution_count": 5
    },
    {
      "id": "d358911f",
      "cell_type": "markdown",
      "metadata": {
        "execution": {}
      },
      "source": "## Define the Dash App Layout and Callbacks\n\nWe can now define the [layout](https://dash.plotly.com/layout) and [callbacks](https://dash.plotly.com/basic-callbacks) of the Dash app.\nThe Layout defines the UI elements of your Dashboard and the callbacks define the interactions between the UI elements and the sqlalchemy query engine we defined earlier",
      "attachments": {}
    },
    {
      "id": "030cc3fb",
      "cell_type": "code",
      "metadata": {
        "execution": {},
        "language": "python"
      },
      "source": "from singlestoredb import apps\nfrom dash import Dash, callback, html, dcc, Input, Output\n\ndef get_order_dates():\n    df = execute_query(\"select distinct order_date from orders order by order_date\")\n    return df['order_date']\n\ninitial_dates = get_order_dates()\n\n# Create the Dash App\napp = Dash(\"Sales Report\", requests_pathname_prefix=os.environ['SINGLESTOREDB_APP_BASE_PATH'])\n\n# Define the Layout of the Dash App. We will be defining\n# - A line chart depicting a time series of sales\n# - A dropdown that shows 'Count'/'Total Value' options, which is used to render different line charts\n# - An interval counter to keep pinging the Dash App server to get the latest dashboard\n# - A pie chart depicting the total proportion of sales for a day by item type\n# - A drop down showing the different dates, which is used to render different pie charts\n\napp.layout = html.Div([\n    html.P('Sales Dashboard', style={'textAlign':'center', 'marginTop': 50, 'color': '#8800cc', 'fontSize': '32px', 'fontFamily':'Roboto'} ),\n    html.Div([\n        dcc.Interval(\n            id='interval-component',\n            interval=2 * 5000,  # Update every second\n            n_intervals=0  # Start at 0\n        ),\n        html.Div(\n            dcc.Dropdown(['Count', 'Total Value'], 'Count', id='category-dropdown', style={'width': '200px', 'marginRight':'32px' }),\n            style={'display': 'flex', 'justifyContent': 'flex-end'}\n        ),\n        dcc.Loading(\n            id=\"loading-spinner\",\n            type=\"circle\",  # Type of spinner: 'circle', 'dot', 'cube', etc.\n            children=[\n                dcc.Graph(figure = line_chart, id='line-chart'),\n            ]\n        ),\n        html.Div(\n            dcc.Dropdown(initial_dates, initial_dates[0], id='date-dropdown', style={'width': '200px', 'marginRight':'32px' }),\n            style={'display': 'flex', 'justifyContent': 'flex-end'}\n        ),\n        dcc.Graph(figure = pie_chart, id='pie-chart'),\n    ], style={'margin': '32px'})\n])\n\n# Define a callback to update the bar chart based on the category dropdown selection\n@app.callback(\n    Output(\"line-chart\", \"figure\"),\n    Input(\"category-dropdown\", \"value\"))  # Use the stored value\ndef update_bar_chart(type):\n    return generate_line_chart(type)\n\n# Define a callback to update the pie chart based on the date dropdown selection\n@app.callback(\n    Output(\"pie-chart\", \"figure\"),\n    Input(\"date-dropdown\", \"value\"),\n    Input('interval-component', 'n_intervals'))\ndef update_pie_chart(date, n_intervals):\n    return generate_pie_chart(date)\n\n# Define a callback to update the date dropdown periodically\n@app.callback(\n    Output('date-dropdown', 'options'),\n    Input('interval-component', 'n_intervals'))\ndef update_date_dropdown(n_intervals):\n    return get_order_dates()",
      "outputs": [],
      "execution_count": 6
    },
    {
      "id": "df15a3bc",
      "cell_type": "markdown",
      "metadata": {
        "execution": {}
      },
      "source": "## Start the Dash App server\n\nThe link at which the Dash App will be available interactively will be displayed. You can also insert more data into the table and view the changes to the dashboard in real time.",
      "attachments": {}
    },
    {
      "id": "b6dee5bd",
      "cell_type": "code",
      "metadata": {
        "execution": {},
        "language": "python"
      },
      "source": "connectionInfo = await apps.run_dashboard_app(app)",
      "outputs": [],
      "execution_count": 7
    },
    {
      "id": "4a609059",
      "cell_type": "markdown",
      "metadata": {
        "execution": {}
      },
      "source": "## Publish Dashboard\n\nAfter validating the Dashboard interactively, you can publish it and view the changes to your data in real time!",
      "attachments": {}
    },
    {
      "id": "87439e74",
      "cell_type": "markdown",
      "metadata": {
        "execution": {}
      },
      "source": "\u003cdiv id=\"singlestore-footer\" style=\"background-color: rgba(194, 193, 199, 0.25); height:2px; margin-bottom:10px\"\u003e\u003c/div\u003e\n\u003cdiv\u003e\u003cimg src=\"https://raw.githubusercontent.com/singlestore-labs/spaces-notebooks/master/common/images/singlestore-logo-grey.png\" style=\"padding: 0px; margin: 0px; height: 24px\"/\u003e\u003c/div\u003e",
      "attachments": {}
    }
  ],
  "metadata": {
    "kernelspec": {
      "display_name": "Python 3 (ipykernel)",
      "language": "python",
      "name": "python3"
    },
    "language_info": {
      "codemirror_mode": {
        "name": "ipython",
        "version": 3
      },
      "file_extension": ".py",
      "mimeType": "text/x-python",
      "name": "python",
      "nbconvert_exporter": "python",
      "pygments_lexer": "ipython3",
      "version": "3.11.6"
    },
    "jupyterlab": {
      "notebooks": {
        "version_major": 6,
        "version_minor": 4
      }
    },
    "singlestore_connection": {
      "connectionID": "",
      "defaultDatabase": ""
    },
    "singlestore_cell_default_language": "python"
  },
  "nbformat": 4,
  "nbformat_minor": 5
}