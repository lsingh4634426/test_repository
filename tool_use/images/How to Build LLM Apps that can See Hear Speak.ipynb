{
  "cells": [
    {
      "id": "535f54e3",
      "cell_type": "markdown",
      "metadata": {
        "execution": {}
      },
      "source": "\u003cdiv id=\"singlestore-header\" style=\"display: flex; background-color: rgba(210, 255, 153, 0.25); padding: 5px;\"\u003e\n    \u003cdiv id=\"icon-image\" style=\"width: 90px; height: 90px;\"\u003e\n        \u003cimg width=\"100%\" height=\"100%\" src=\"https://raw.githubusercontent.com/singlestore-labs/spaces-notebooks/master/common/images/header-icons/chart-network.png\" /\u003e\n    \u003c/div\u003e\n    \u003cdiv id=\"text\" style=\"padding: 5px; margin-left: 10px;\"\u003e\n        \u003cdiv id=\"badge\" style=\"display: inline-block; background-color: rgba(0, 0, 0, 0.15); border-radius: 4px; padding: 4px 8px; align-items: center; margin-top: 6px; margin-bottom: -2px; font-size: 80%\"\u003eSingleStore Notebooks\u003c/div\u003e\n        \u003ch1 style=\"font-weight: 500; margin: 8px 0 0 4px;\"\u003eHow to Build LLM Apps that can See Hear Speak\u003c/h1\u003e\n    \u003c/div\u003e\n\u003c/div\u003e",
      "attachments": {}
    },
    {
      "id": "d99e79ad",
      "cell_type": "markdown",
      "metadata": {
        "execution": {}
      },
      "source": "\u003cdiv class=\"alert alert-block alert-info\"\u003e\n    \u003cb class=\"fa fa-solid fa-info-circle\"\u003e\u003c/b\u003e\n    \u003cdiv\u003e\n        \u003cp\u003e\u003cb\u003eNote\u003c/b\u003e\u003c/p\u003e\n        \u003cp\u003eThis tutorial is meant for Standard \u0026 Premium Workspaces. You can't run this with a Free Starter Workspace due to restrictions on Storage. Create a Workspace using +group in the left nav \u0026 select Standard for this notebook. Gallery notebooks tagged with \"Starter\" are suitable to run on a Free Starter Workspace \u003c/p\u003e\n    \u003c/div\u003e\n\u003c/div\u003e",
      "attachments": {}
    },
    {
      "id": "121d0992",
      "cell_type": "markdown",
      "metadata": {
        "execution": {}
      },
      "source": "\u003ca name=\"architecture\"\u003e\u003c/a\u003e\n\n# Demo Architecture\n![SingleStore LLM App](https://images.contentstack.io/v3/assets/bltac01ee6daa3a1e14/bltb25c874a947f70f9/65aa3b99573161fd44cc7b7d/singlestore-llm-app.png)",
      "attachments": {}
    },
    {
      "id": "c07c6e65",
      "cell_type": "markdown",
      "metadata": {
        "execution": {}
      },
      "source": "\u003ca name=\"contents\"\u003e\u003c/a\u003e\n# Contents\n- [Demo Architecture](#architecture)\n- [Step 1: SingleStore DDLs](#ddl)\n- [Step 2: Packages and imports](#imports)\n- [Step 3: Ingest from data sources](#ingest)\n- [Step 4: Connect SingleStore to Open AI's LLM with Langchain](#connect_s2)\n- [Step 5: Add Voice Recognition and Speech](#speech)\n- [Step 6: Tying it together with Image data](#image)\n- [Conclusion](#conclusion)",
      "attachments": {}
    },
    {
      "id": "c356065b",
      "cell_type": "markdown",
      "metadata": {
        "execution": {}
      },
      "source": "\u003ca name=\"ddl\"\u003e\u003c/a\u003e\n- [Back to Contents](#contents)\n## Setup SingleStore DDLs",
      "attachments": {}
    },
    {
      "id": "08dc100a",
      "cell_type": "markdown",
      "metadata": {
        "execution": {}
      },
      "source": "Create and use the database llm_webinar",
      "attachments": {}
    },
    {
      "id": "519d7215",
      "cell_type": "code",
      "metadata": {
        "execution": {},
        "language": "python"
      },
      "source": "%%sql\nDROP DATABASE IF EXISTS llm_webinar;\nCREATE DATABASE llm_webinar;",
      "outputs": [],
      "execution_count": 1
    },
    {
      "id": "d6fe21e2",
      "cell_type": "markdown",
      "metadata": {
        "execution": {}
      },
      "source": "\u003cdiv class=\"alert alert-block alert-warning\"\u003e\n    \u003cb class=\"fa fa-solid fa-exclamation-circle\"\u003e\u003c/b\u003e\n    \u003cdiv\u003e\n        \u003cp\u003e\u003cb\u003eAction Required\u003c/b\u003e\u003c/p\u003e\n        \u003cp\u003e Make sure to select a database from the drop-down menu at the top of this notebook. It updates the \u003ctt\u003econnection_url\u003c/tt\u003e  to connect to that database.\u003c/p\u003e\n    \u003c/div\u003e\n\u003c/div\u003e",
      "attachments": {}
    },
    {
      "id": "31a125ed",
      "cell_type": "markdown",
      "metadata": {
        "execution": {}
      },
      "source": "Create tables",
      "attachments": {}
    },
    {
      "id": "38861fba",
      "cell_type": "code",
      "metadata": {
        "execution": {},
        "language": "python"
      },
      "source": "%%sql\nCREATE TABLE `stockTable` (\n    `ticker` varchar(20) CHARACTER SET utf8 COLLATE utf8_general_ci DEFAULT NULL,\n    `created_at` datetime DEFAULT NULL,\n    `open` float DEFAULT NULL,\n    `high` float DEFAULT NULL,\n    `low` float DEFAULT NULL,\n    `close` float DEFAULT NULL,\n    `volume` int(11) DEFAULT NULL,\n    SORT KEY (ticker, created_at desc),\n    SHARD KEY (ticker)\n);\n\nCREATE TABLE newsSentiment (\n    title TEXT CHARACTER SET utf8mb4,\n    url TEXT,\n    time_published DATETIME,\n    authors TEXT,\n    summary TEXT CHARACTER SET utf8mb4,\n    banner_image TEXT,\n    source TEXT,\n    category_within_source TEXT,\n    source_domain TEXT,\n    topic TEXT,\n    topic_relevance_score TEXT,\n    overall_sentiment_score REAL,\n    overall_sentiment_label TEXT,\n    `ticker` varchar(20) CHARACTER SET utf8 COLLATE utf8_general_ci DEFAULT NULL,\n    ticker_relevance_score DECIMAL(10, 6),\n    ticker_sentiment_score DECIMAL(10, 6),\n    ticker_sentiment_label TEXT,\n    SORT KEY (`ticker`,`time_published` DESC),\n    SHARD KEY `__SHARDKEY` (`ticker`,`time_published` DESC),\n    KEY(ticker) USING HASH,\n    KEY(authors) USING HASH,\n    KEY(source) USING HASH,\n    KEY(overall_sentiment_label) USING HASH,\n    KEY(ticker_sentiment_label) USING HASH\n);\n\nCREATE ROWSTORE REFERENCE TABLE companyInfo (\n    ticker VARCHAR(10) PRIMARY KEY,\n    AssetType VARCHAR(50),\n    Name VARCHAR(100),\n    Description TEXT,\n    CIK VARCHAR(10),\n    Exchange VARCHAR(10),\n    Currency VARCHAR(10),\n    Country VARCHAR(50),\n    Sector VARCHAR(50),\n    Industry VARCHAR(250),\n    Address VARCHAR(100),\n    FiscalYearEnd VARCHAR(20),\n    LatestQuarter DATE,\n    MarketCapitalization BIGINT,\n    EBITDA BIGINT,\n    PERatio DECIMAL(10, 2),\n    PEGRatio DECIMAL(10, 3),\n    BookValue DECIMAL(10, 2),\n    DividendPerShare DECIMAL(10, 2),\n    DividendYield DECIMAL(10, 4),\n    EPS DECIMAL(10, 2),\n    RevenuePerShareTTM DECIMAL(10, 2),\n    ProfitMargin DECIMAL(10, 4),\n    OperatingMarginTTM DECIMAL(10, 4),\n    ReturnOnAssetsTTM DECIMAL(10, 4),\n    ReturnOnEquityTTM DECIMAL(10, 4),\n    RevenueTTM BIGINT,\n    GrossProfitTTM BIGINT,\n    DilutedEPSTTM DECIMAL(10, 2),\n    QuarterlyEarningsGrowthYOY DECIMAL(10, 3),\n    QuarterlyRevenueGrowthYOY DECIMAL(10, 3),\n    AnalystTargetPrice DECIMAL(10, 2),\n    TrailingPE DECIMAL(10, 2),\n    ForwardPE DECIMAL(10, 2),\n    PriceToSalesRatioTTM DECIMAL(10, 3),\n    PriceToBookRatio DECIMAL(10, 2),\n    EVToRevenue DECIMAL(10, 3),\n    EVToEBITDA DECIMAL(10, 2),\n    Beta DECIMAL(10, 3),\n    52WeekHigh DECIMAL(10, 2),\n    52WeekLow DECIMAL(10, 2),\n    50DayMovingAverage DECIMAL(10, 2),\n    200DayMovingAverage DECIMAL(10, 2),\n    SharesOutstanding BIGINT,\n    DividendDate DATE,\n    ExDividendDate DATE\n);\n\nCREATE TABLE `embeddings` (\n    `id` bigint(11) NOT NULL AUTO_INCREMENT,\n    `category` varchar(255) CHARACTER SET utf8 COLLATE utf8_general_ci DEFAULT NULL,\n    `question` longtext CHARACTER SET utf8 COLLATE utf8_general_ci,\n    `question_embedding` longblob,\n    `answer` longtext CHARACTER SET utf8 COLLATE utf8_general_ci,\n    `answer_embedding` longblob,\n    `created_at` datetime DEFAULT NULL,\n    UNIQUE KEY `PRIMARY` (`id`) USING HASH,\n    SHARD KEY `__SHARDKEY` (`id`),\n    KEY `category` (`category`) USING HASH,\n    SORT KEY `__UNORDERED` (`created_at` DESC)\n);",
      "outputs": [],
      "execution_count": 2
    },
    {
      "id": "e6c60aa1",
      "cell_type": "code",
      "metadata": {
        "execution": {},
        "language": "python"
      },
      "source": "%%sql\nSHOW TABLES;",
      "outputs": [],
      "execution_count": 3
    },
    {
      "id": "80e9f658",
      "cell_type": "markdown",
      "metadata": {
        "execution": {}
      },
      "source": "\u003ca name=\"imports\"\u003e\u003c/a\u003e\n- [Back to Contents](#contents)\n## Install packages and imports",
      "attachments": {}
    },
    {
      "id": "2d09faaf",
      "cell_type": "code",
      "metadata": {
        "execution": {},
        "language": "python"
      },
      "source": "%pip install --quiet elevenlabs==0.2.27 openai==1.32.0 matplotlib scipy scikit-learn langchain==0.2.12 langchain-openai==0.1.20 langchain-community==0.2.11",
      "outputs": [],
      "execution_count": 4
    },
    {
      "id": "616b3688",
      "cell_type": "code",
      "metadata": {
        "execution": {},
        "language": "python"
      },
      "source": "import datetime\nimport getpass\nimport numpy as np\nimport openai\nimport requests\nimport singlestoredb as s2\nimport time\nfrom datetime import datetime\nfrom datetime import timedelta\nfrom dateutil.relativedelta import relativedelta\nfrom langchain.sql_database import SQLDatabase\nfrom langchain_openai import OpenAI as LangchainOpenAI\nfrom langchain.agents.agent_toolkits import SQLDatabaseToolkit\nfrom langchain.agents import create_sql_agent",
      "outputs": [],
      "execution_count": 5
    },
    {
      "id": "ab290a88",
      "cell_type": "markdown",
      "metadata": {
        "execution": {}
      },
      "source": "### Set API keys",
      "attachments": {}
    },
    {
      "id": "54c6d82b",
      "cell_type": "code",
      "metadata": {
        "execution": {},
        "language": "python"
      },
      "source": "alpha_vantage_apikey = getpass.getpass(\"enter alphavantage apikey here\")\nopenai_apikey = getpass.getpass(\"enter openai apikey here\")\nelevenlabs_apikey = getpass.getpass(\"enter elevenlabs apikey here\")",
      "outputs": [],
      "execution_count": 6
    },
    {
      "id": "e7a9f751",
      "cell_type": "code",
      "metadata": {
        "execution": {},
        "language": "python"
      },
      "source": "from openai import OpenAI\n\nclient = OpenAI(api_key=openai_apikey)\n\ndef get_embeddings(inputs: list[str], model: str = 'text-embedding-ada-002') -\u003e list[str]:\n    \"\"\"Return list of embeddings.\"\"\"\n    return [x.embedding for x in client.embeddings.create(input=inputs, model=model).data]",
      "outputs": [],
      "execution_count": 7
    },
    {
      "id": "8ea524ad",
      "cell_type": "markdown",
      "metadata": {
        "execution": {}
      },
      "source": "\u003ca name=\"ingest\"\u003e\u003c/a\u003e\n- [Back to Contents](#contents)\n## Ingest from data sources",
      "attachments": {}
    },
    {
      "id": "dcbf4cd8",
      "cell_type": "markdown",
      "metadata": {
        "execution": {}
      },
      "source": "### Bring past two months of stock data",
      "attachments": {}
    },
    {
      "id": "aeb4043c",
      "cell_type": "code",
      "metadata": {
        "execution": {},
        "language": "python"
      },
      "source": "# set up connection to SingleStore and the ticker list\ns2_conn = s2.connect(connection_url)\nticker_list = ['TSLA', 'AMZN', 'PLTR']",
      "outputs": [],
      "execution_count": 8
    },
    {
      "id": "0de2b3fc",
      "cell_type": "code",
      "metadata": {
        "execution": {},
        "language": "python"
      },
      "source": "from datetime import datetime\n\ndef get_past_months(num_months):\n    today = datetime.today()\n    months = []\n\n    for months_ago in range(0, num_months):\n        target_date = today - relativedelta(months=months_ago)\n        months.append(target_date.strftime('%Y-%m'))\n\n    return months\n\nnum_months = 2  # Number of months\nyear_month_list = get_past_months(num_months)\nprint(year_month_list)\n\n# pull intraday data for each stock and write to SingleStore\nfor ticker in ticker_list:\n    print(ticker)\n    data_list = []\n    for year_month in year_month_list:\n        print(year_month)\n\n        intraday_price_url = \"https://www.alphavantage.co/query?function=TIME_SERIES_INTRADAY\u0026symbol={}\u0026interval=5min\u0026month={}\u0026outputsize=full\u0026apikey={}\".format(ticker, year_month, alpha_vantage_apikey)\n        r = requests.get(intraday_price_url)\n\n        try:\n            data = r.json()['Time Series (5min)']\n        except:\n            time.sleep(1) # required to not hit API limits\n            continue\n\n        for key in data:\n            document = data[key]\n            document['datetime'] = key\n            document['ticker'] = ticker\n\n            document['open'] = document['1. open']\n            document['high'] = document['2. high']\n            document['low'] = document['3. low']\n            document['close'] = document['4. close']\n            document['volume'] = document['5. volume']\n\n            document['open'] = float(document['open'])\n            document['high'] = float(document['high'])\n            document['low'] = float(document['low'])\n            document['close'] = float(document['close'])\n            document['volume'] = int(document['volume'])\n\n\n            del document['1. open']\n            del document['2. high']\n            del document['3. low']\n            del document['4. close']\n            del document['5. volume']\n\n            data_list += [document]\n\n            # Inside your loop, create the params dictionary with the correct values\n            params = {\n                'datetime': document['datetime'],\n                'ticker': ticker,\n                'open': document['open'],\n                'high': document['high'],\n                'low': document['low'],\n                'close': document['close'],\n                'volume': document['volume']\n            }\n\n            # Construct and execute the SQL statement\n            table_name = 'stockTable'\n            stmt = f\"INSERT INTO {table_name} (created_at, ticker, open, high, low, close, volume) VALUES (%(datetime)s, %(ticker)s, %(open)s, %(high)s, %(low)s, %(close)s, %(volume)s)\"\n\n            with s2_conn.cursor() as cur:\n                cur.execute(stmt, params)\n        # time.sleep(1) # required to not hit API limits",
      "outputs": [],
      "execution_count": 9
    },
    {
      "id": "af7a439b",
      "cell_type": "code",
      "metadata": {
        "execution": {},
        "language": "python"
      },
      "source": "%%sql\nselect count(*) from stockTable",
      "outputs": [],
      "execution_count": 10
    },
    {
      "id": "9d8439de",
      "cell_type": "markdown",
      "metadata": {
        "execution": {}
      },
      "source": "## Bring in Company data",
      "attachments": {}
    },
    {
      "id": "f0ffb567",
      "cell_type": "code",
      "metadata": {
        "execution": {},
        "language": "python"
      },
      "source": "def float_or_none(x):\n    if x is None or x == 'None':\n        return None\n    return float(x)\n\n# pull intraday data for each stock and write to SingleStore\nfor ticker in ticker_list:\n    print(ticker)\n    data_list = []\n    # for year_month in year_month_list:\n\n    company_overview = \"https://www.alphavantage.co/query?function=OVERVIEW\u0026symbol={}\u0026outputsize=full\u0026apikey={}\".format(ticker, alpha_vantage_apikey)\n    r = requests.get(company_overview)\n\n    try:\n        data = r.json()\n    except:\n        time.sleep(3) # required to not hit API limits\n        continue\n\n    if 'CIK' not in data:\n        raise RuntimeError(str(data))\n\n    data['CIK'] = int(data['CIK'])\n    data['MarketCapitalization']= float_or_none(data['MarketCapitalization'])\n    # Assuming data['EBITDA'] is a string containing 'None'\n    ebitda_str = data['EBITDA']\n    if ebitda_str.lower() == 'none':\n        # Handle the case where EBITDA is 'None', for example, you can set it to 0\n        data['EBITDA'] = 0.0\n    else:\n        # Convert the EBITDA string to a float\n        data['EBITDA'] = float_or_none(ebitda_str)\n\n    PERatio_flt = data['PERatio']\n    if PERatio_flt.lower() == 'none':\n        # Handle the case where EVToRevenue is '-'\n        data['PERatio'] = 0.0  # You can use any default value that makes sense\n    else:\n        # Convert the EVToRevenue string to a float\n        data['PERatio'] = float_or_none(PERatio_flt)\n\n    data['PEGRatio']= float_or_none(data['PEGRatio'])\n    data['BookValue']= float_or_none(data['BookValue'])\n    data['DividendPerShare']= float_or_none(data['DividendPerShare'])\n    data['DividendYield']= float_or_none(data['DividendYield'])\n    data['EPS']= float_or_none(data['EPS'])\n    data['RevenuePerShareTTM']= float_or_none(data['RevenuePerShareTTM'])\n    data['ProfitMargin']= float_or_none(data['ProfitMargin'])\n    data['OperatingMarginTTM']= float_or_none(data['OperatingMarginTTM'])\n    data['ReturnOnAssetsTTM']= float_or_none(data['ReturnOnAssetsTTM'])\n    data['ReturnOnEquityTTM']= float_or_none(data['ReturnOnEquityTTM'])\n    data['RevenueTTM']= int(data['RevenueTTM'])\n    data['GrossProfitTTM']= int(data['GrossProfitTTM'])\n    data['DilutedEPSTTM']= float_or_none(data['DilutedEPSTTM'])\n    data['QuarterlyEarningsGrowthYOY']= float_or_none(data['QuarterlyEarningsGrowthYOY'])\n    data['QuarterlyRevenueGrowthYOY']= float_or_none(data['QuarterlyRevenueGrowthYOY'])\n    data['AnalystTargetPrice']= float_or_none(data['AnalystTargetPrice'])\n    # Assuming data['TrailingPE'] is a string containing '-'\n    trailing_pe_str = data['TrailingPE']\n    if trailing_pe_str == '-':\n        # Handle the case where TrailingPE is '-'\n        data['TrailingPE'] = 0.0  # You can use any default value that makes sense\n    else:\n        try:\n            # Attempt to convert the TrailingPE string to a float\n            data['TrailingPE'] = float_or_none(trailing_pe_str)\n        except ValueError:\n            # Handle the case where the conversion fails (e.g., if it contains invalid characters)\n            data['TrailingPE'] = 0.0  # Set to a default value or handle as needed\n\n    data['ForwardPE']= float_or_none(data['ForwardPE'])\n    data['PriceToSalesRatioTTM']= float_or_none(data['PriceToSalesRatioTTM'])\n    # Assuming data['EVToRevenue'] is a string containing '-'\n    PriceToBookRatio_flt = data['PriceToBookRatio']\n    if PriceToBookRatio_flt == '-':\n        # Handle the case where EVToRevenue is '-'\n        data['PriceToBookRatio'] = 0.0  # You can use any default value that makes sense\n    else:\n        # Convert the EVToRevenue string to a float\n        data['PriceToBookRatio'] = float_or_none(PriceToBookRatio_flt)\n\n    # Assuming data['EVToRevenue'] is a string containing '-'\n    ev_to_revenue_str = data['EVToRevenue']\n    if ev_to_revenue_str == '-':\n        # Handle the case where EVToRevenue is '-'\n        data['EVToRevenue'] = 0.0  # You can use any default value that makes sense\n    else:\n        # Convert the EVToRevenue string to a float\n        data['EVToRevenue'] = float_or_none(ev_to_revenue_str)\n\n    # data['EVToEBITDA']= float(data['EVToEBITDA'])\n    # Assuming data['EVToRevenue'] is a string containing '-'\n    ev_to_EBITDA_str = data['EVToEBITDA']\n    if ev_to_revenue_str == '-':\n        # Handle the case where EVToRevenue is '-'\n        data['EVToEBITDA'] = 0.0  # You can use any default value that makes sense\n    else:\n        # Convert the EVToRevenue string to a float\n        data['EVToEBITDA'] = float_or_none(ev_to_EBITDA_str)\n\n    data['Beta']= float_or_none(data['Beta'])\n    data['52WeekHigh']= float_or_none(data['52WeekHigh'])\n    data['52WeekLow']= float_or_none(data['52WeekLow'])\n    data['50DayMovingAverage']= float_or_none(data['50DayMovingAverage'])\n    data['200DayMovingAverage']= float_or_none(data['200DayMovingAverage'])\n    data['SharesOutstanding']= int(data['SharesOutstanding'])\n    # description_embedding = [np.array(x, '\u003cf4') for x in get_embeddings(data[\"Description\"], model=model)]\n    dividend_date_str = data['DividendDate']\n    if dividend_date_str.lower() == 'none':\n        # Handle the case where EBITDA is 'None', for example, you can set it to 0\n        data['DividendDate'] = '9999-12-31'\n    else:\n        # Convert the EBITDA string to a float\n        data['DividendDate'] = str(dividend_date_str)\n\n    exdividend_date_str = data['ExDividendDate']\n    if exdividend_date_str.lower() == 'none':\n        # Handle the case where EBITDA is 'None', for example, you can set it to 0\n        data['ExDividendDate'] = '9999-12-31'\n    else:\n        # Convert the EBITDA string to a float\n        data['ExDividendDate'] = str(exdividend_date_str)\n\n    data_list += [data]\n\n    # Inside your loop, create the params dictionary with the correct values\n    params = {\n                \"Symbol\": data[\"Symbol\"],\n                \"AssetType\": data[\"AssetType\"],\n                \"Name\": data[\"Name\"],\n                \"Description\": data[\"Description\"],\n                \"CIK\": data[\"CIK\"],\n                \"Exchange\": data[\"Exchange\"],\n                \"Currency\": data[\"Currency\"],\n                \"Country\": data[\"Country\"],\n                \"Sector\": data[\"Sector\"],\n                \"Industry\": data[\"Industry\"],\n                \"Address\": data[\"Address\"],\n                \"FiscalYearEnd\": data[\"FiscalYearEnd\"],\n                \"LatestQuarter\": data[\"LatestQuarter\"],\n                \"MarketCapitalization\": data[\"MarketCapitalization\"],\n                \"EBITDA\": data[\"EBITDA\"],\n                \"PERatio\": data[\"PERatio\"],\n                \"PEGRatio\": data[\"PEGRatio\"],\n                \"BookValue\": data[\"BookValue\"],\n                \"DividendPerShare\": data[\"DividendPerShare\"],\n                \"DividendYield\": data[\"DividendYield\"],\n                \"EPS\": data[\"EPS\"],\n                \"RevenuePerShareTTM\": data[\"RevenuePerShareTTM\"],\n                \"ProfitMargin\": data[\"ProfitMargin\"],\n                \"OperatingMarginTTM\": data[\"OperatingMarginTTM\"],\n                \"ReturnOnAssetsTTM\": data[\"ReturnOnAssetsTTM\"],\n                \"ReturnOnEquityTTM\": data[\"ReturnOnEquityTTM\"],\n                \"RevenueTTM\": data[\"RevenueTTM\"],\n                \"GrossProfitTTM\": data[\"GrossProfitTTM\"],\n                \"DilutedEPSTTM\": data[\"DilutedEPSTTM\"],\n                \"QuarterlyEarningsGrowthYOY\": data[\"QuarterlyEarningsGrowthYOY\"],\n                \"QuarterlyRevenueGrowthYOY\": data[\"QuarterlyRevenueGrowthYOY\"],\n                \"AnalystTargetPrice\": data[\"AnalystTargetPrice\"],\n                \"TrailingPE\": data[\"TrailingPE\"],\n                \"ForwardPE\": data[\"ForwardPE\"],\n                \"PriceToSalesRatioTTM\": data[\"PriceToSalesRatioTTM\"],\n                \"PriceToBookRatio\": data[\"PriceToBookRatio\"],\n                \"EVToRevenue\": data[\"EVToRevenue\"],\n                \"EVToEBITDA\": data[\"EVToEBITDA\"],\n                \"Beta\": data[\"Beta\"],\n                \"52WeekHigh\": data[\"52WeekHigh\"],\n                \"52WeekLow\": data[\"52WeekLow\"],\n                \"50DayMovingAverage\": data[\"50DayMovingAverage\"],\n                \"200DayMovingAverage\": data[\"200DayMovingAverage\"],\n                \"SharesOutstanding\": data[\"SharesOutstanding\"],\n                \"DividendDate\": data[\"DividendDate\"],\n                \"ExDividendDate\": data[\"ExDividendDate\"]\n    }\n\n     # Construct and execute the SQL statement\n    table_name = 'companyInfo'\n    stmt = f\"INSERT INTO {table_name} (ticker, AssetType, Name, Description, CIK, Exchange, Currency, Country, Sector, Industry, Address, FiscalYearEnd, LatestQuarter, MarketCapitalization, EBITDA, PERatio, PEGRatio, BookValue, DividendPerShare, DividendYield, EPS, RevenuePerShareTTM, ProfitMargin, OperatingMarginTTM, ReturnOnAssetsTTM, ReturnOnEquityTTM, RevenueTTM, GrossProfitTTM, DilutedEPSTTM, QuarterlyEarningsGrowthYOY, QuarterlyRevenueGrowthYOY, AnalystTargetPrice, TrailingPE, ForwardPE, PriceToSalesRatioTTM, PriceToBookRatio, EVToRevenue, EVToEBITDA, Beta, 52WeekHigh, 52WeekLow, 50DayMovingAverage, 200DayMovingAverage, SharesOutstanding, DividendDate, ExDividendDate) VALUES (%(Symbol)s, %(AssetType)s, %(Name)s, %(Description)s, %(CIK)s, %(Exchange)s, %(Currency)s, %(Country)s, %(Sector)s, %(Industry)s, %(Address)s, %(FiscalYearEnd)s, %(LatestQuarter)s, %(MarketCapitalization)s, %(EBITDA)s, %(PERatio)s, %(PEGRatio)s, %(BookValue)s, %(DividendPerShare)s, %(DividendYield)s, %(EPS)s, %(RevenuePerShareTTM)s, %(ProfitMargin)s, %(OperatingMarginTTM)s, %(ReturnOnAssetsTTM)s, %(ReturnOnEquityTTM)s, %(RevenueTTM)s, %(GrossProfitTTM)s, %(DilutedEPSTTM)s, %(QuarterlyEarningsGrowthYOY)s, %(QuarterlyRevenueGrowthYOY)s, %(AnalystTargetPrice)s, %(TrailingPE)s, %(ForwardPE)s, %(PriceToSalesRatioTTM)s, %(PriceToBookRatio)s, %(EVToRevenue)s, %(EVToEBITDA)s, %(Beta)s, %(52WeekHigh)s, %(52WeekLow)s, %(50DayMovingAverage)s, %(200DayMovingAverage)s, %(SharesOutstanding)s, %(DividendDate)s, %(ExDividendDate)s)\"\n\n# Replace table_name with the actual table name you're using.\n    with s2_conn.cursor() as cur:\n        cur.execute(stmt, params)",
      "outputs": [],
      "execution_count": 11
    },
    {
      "id": "f50c68bb",
      "cell_type": "code",
      "metadata": {
        "execution": {},
        "language": "python"
      },
      "source": "%%sql\nselect * from companyInfo limit 1",
      "outputs": [],
      "execution_count": 12
    },
    {
      "id": "49f2e590",
      "cell_type": "markdown",
      "metadata": {
        "execution": {}
      },
      "source": "## Bring in news sentiment",
      "attachments": {}
    },
    {
      "id": "c9ac2953",
      "cell_type": "code",
      "metadata": {
        "execution": {},
        "language": "python"
      },
      "source": "import datetime\n\n# pull intraday data for each stock and write to Mongo\nfor ticker in ticker_list:\n    print(ticker)\n    data_list = []\n\n    for i in year_month_list:\n        date_object = datetime.datetime.strptime(i, '%Y-%m')\n        print(date_object)\n        output_date = date_object.strftime('%Y%m%d') + \"T0000\"\n\n        # Get the next month from the 'date_object'\n        previous_month_date = date_object + relativedelta(months=-1)\n        previous_month_date = previous_month_date.strftime('%Y%m%d') + \"T0000\"\n\n        # Update 'date_object' for the next iteration\n        date_object = previous_month_date\n\n        # replace the \"demo\" apikey below with your own key from https://www.alphavantage.co/support/#api-key\n        news_and_sentiment = 'https://www.alphavantage.co/query?function=NEWS_SENTIMENT\u0026tickers={}\u0026time_from={}\u0026time_to={}\u0026limit=1000\u0026outputsize=full\u0026apikey={}'.format(ticker, previous_month_date, output_date, alpha_vantage_apikey)\n        r = requests.get(news_and_sentiment)\n\n        try:\n            data = r.json()\n            data = data[\"feed\"]\n        except:\n            time.sleep(2) # required to not hit API limits\n            continue\n\n        for item in data:\n            item['title'] = str(item['title'])\n            item['url'] = str(item['url'])\n            item['time_published'] = datetime.datetime.strptime(str(item['time_published']), \"%Y%m%dT%H%M%S\").strftime(\"%Y-%m-%d %H:%M:%S\")\n\n            if item['authors']:\n                # Check if the 'authors' list is not empty\n                authors_str = str(item['authors'][0])\n            else:\n                # Handle the case where 'authors' is empty\n                authors_str = \"No authors available\"\n\n            item['authors'] = authors_str\n\n            item['summary'] = str(item['summary'])\n            item['banner_image'] = str(item['banner_image'])\n            item['source'] = str(item['source'])\n            item['category_within_source'] = str(item['category_within_source'])\n            item['source_domain'] = str(item['source_domain'])\n            item['topic'] = str(item['topics'][0][\"topic\"])\n            item['topic_relevance_score'] = float(item['topics'][0]['relevance_score'])\n            item['overall_sentiment_score'] = float(item['overall_sentiment_score'])\n            item['overall_sentiment_label'] = str(item['overall_sentiment_label'])\n            item['ticker'] = str(item['ticker_sentiment'][0]['ticker'])\n            item['ticker_relevance_score'] = float(item['ticker_sentiment'][0]['relevance_score'])\n            item['ticker_sentiment_score'] = float(item['ticker_sentiment'][0]['ticker_sentiment_score'])\n            item['ticker_sentiment_label'] = str(item['ticker_sentiment'][0]['ticker_sentiment_label'])\n\n            params= {\n                \"title\": item[\"title\"],\n                \"url\": item[\"url\"],\n                \"time_published\": item[\"time_published\"],\n                \"authors\": item[\"authors\"],\n                \"summary\": item[\"summary\"],\n                \"banner_image\": item[\"banner_image\"],\n                \"source\": item[\"source\"],\n                \"category_within_source\": item[\"category_within_source\"],\n                \"source_domain\": item[\"source_domain\"],\n                \"topic\": item[\"topic\"],\n                \"topic_relevance_score\": item['topic_relevance_score'],\n                'overall_sentiment_score': item['overall_sentiment_score'],\n                'overall_sentiment_label': item['overall_sentiment_label'],\n                'ticker': item['ticker'],\n                'ticker_relevance_score': item['ticker_relevance_score'],\n                'ticker_sentiment_score': item['ticker_sentiment_score'],\n                'ticker_sentiment_label': item['ticker_sentiment_label']\n            }\n            #print(params)\n\n            # Construct and execute the SQL statement\n            table_name = 'newsSentiment'\n            stmt = f\"INSERT INTO {table_name} (title, url, time_published, authors, summary, banner_image, source, category_within_source, source_domain, topic, topic_relevance_score, overall_sentiment_score, overall_sentiment_label, ticker, ticker_relevance_score, ticker_sentiment_score, ticker_sentiment_label) VALUES (%(title)s, %(url)s, %(time_published)s, %(authors)s, %(summary)s, %(banner_image)s, %(source)s, %(category_within_source)s, %(source_domain)s, %(topic)s, %(topic_relevance_score)s, %(overall_sentiment_score)s, %(overall_sentiment_label)s, %(ticker)s, %(ticker_relevance_score)s, %(ticker_sentiment_score)s, %(ticker_sentiment_label)s)\"\n\n            # Replace table_name with the actual table name you're using.\n\n            with s2_conn.cursor() as cur:\n                cur.execute(stmt, params)",
      "outputs": [],
      "execution_count": 13
    },
    {
      "id": "2c4c7797",
      "cell_type": "code",
      "metadata": {
        "execution": {},
        "language": "python"
      },
      "source": "%%sql\nSELECT count(*) Rows_in_newsSentiment FROM newsSentiment",
      "outputs": [],
      "execution_count": 14
    },
    {
      "id": "e2245f1d",
      "cell_type": "markdown",
      "metadata": {
        "execution": {}
      },
      "source": "\u003ca name=\"connect_s2\"\u003e\u003c/a\u003e\n- [Back to Demo Architecture](#architecture)\n## Connect SingleStore to Open AI's LLM with Langchain",
      "attachments": {}
    },
    {
      "id": "7568a580",
      "cell_type": "code",
      "metadata": {
        "execution": {},
        "language": "python"
      },
      "source": "os.environ[\"OPENAI_API_KEY\"] = openai_apikey\nembedding_model = 'text-embedding-ada-002'\ngpt_model = 'gpt-3.5-turbo-16k'\n\n# Create the agent executor\ndb = SQLDatabase.from_uri(connection_url, include_tables=['embeddings', 'companyInfo', 'newsSentiment', 'stockTable'], sample_rows_in_table_info=2)\nllm = LangchainOpenAI(openai_api_key=os.environ[\"OPENAI_API_KEY\"], temperature=0, verbose=True)\ntoolkit = SQLDatabaseToolkit(db=db, llm=llm)\n\nagent_executor = create_sql_agent(\n    llm=LangchainOpenAI(temperature=0),\n    toolkit=toolkit,\n    verbose=True,\n    prefix= '''\n    You are an agent designed to interact with a SQL database called SingleStore. This sometimes has Shard and Sort keys in the table schemas, which you can ignore.\n    \\nGiven an input question, create a syntactically correct MySQL query to run, then look at the results of the query and return the answer.\n    \\n If you are asked about similarity questions, you should use the DOT_PRODUCT function.\n\n    \\nHere are a few examples of how to use the DOT_PRODUCT function:\n    \\nExample 1:\n    Q: how similar are the questions and answers?\n    A: The query used to find this is:\n\n        select question, answer, dot_product(question_embedding, answer_embedding) as similarity from embeddings;\n\n    \\nExample 2:\n    Q: What are the most similar questions in the embeddings table, not including itself?\n    A: The query used to find this answer is:\n\n        SELECT q1.question as question1, q2.question as question2, DOT_PRODUCT(q1.question_embedding, q2.question_embedding) :\u003e float as score\n        FROM embeddings q1, embeddings q2\n        WHERE question1 != question2\n        ORDER BY score DESC LIMIT 5;\n\n    \\nExample 3:\n    Q: In the embeddings table, which rows are from the chatbot?\n    A: The query used to find this answer is:\n\n        SELECT category, question, answer FROM embeddings\n        WHERE category = 'chatbot';\n\n    \\nIf you are asked to describe the database, you should run the query SHOW TABLES\n    \\nUnless the user specifies a specific number of examples they wish to obtain, always limit your query to at most {top_k} results.\n    \\n The question embeddings and answer embeddings are very long, so do not show them unless specifically asked to.\n    \\nYou can order the results by a relevant column to return the most interesting examples in the database.\n    \\nNever query for all the columns from a specific table, only ask for the relevant columns given the question.\n    \\nYou have access to tools for interacting with the database.\\nOnly use the below tools.\n    Only use the information returned by the below tools to construct your final answer.\n    \\nYou MUST double check your query before executing it. If you get an error while executing a query, rewrite the query and try again up to 3 times.\n    \\n\\nDO NOT make any DML statements (INSERT, UPDATE, DELETE, DROP etc.) to the database.\n    \\n\\nIf the question does not seem related to the database, just return \"I don\\'t know\" as the answer.\\n,\n\n    ''',\n    format_instructions='''Use the following format:\\n\n    \\nQuestion: the input question you must answer\n    \\nThought: you should always think about what to do\n    \\nAction: the action to take, should be one of [{tool_names}]\n    \\nAction Input: the input to the action\n    \\nObservation: the result of the action\n    \\nThought: I now know the final answer\n    \\nFinal Answer: the final answer to the original input question\n    \\nSQL Query used to get the Answer: the final sql query used for the final answer'\n    ''',\n    top_k=3,\n    max_iterations=5\n)",
      "outputs": [],
      "execution_count": 15
    },
    {
      "id": "2af745a9",
      "cell_type": "markdown",
      "metadata": {
        "execution": {}
      },
      "source": "### Create function that processes user question with a check in Semantic Cache Layer",
      "attachments": {}
    },
    {
      "id": "4b816df3",
      "cell_type": "code",
      "metadata": {
        "execution": {},
        "language": "python"
      },
      "source": "table_name = 'embeddings'\nsimilarity_threshold = .97\n\ndef process_user_question(question):\n    print(f'\\nQuestion asked: {question}')\n    category = 'chatbot'\n\n    # Get vector embedding from the original question and calculate the elapsed time\n    start_time = time.time()\n    question_embedding= [np.array(x, '\u003cf4') for x in get_embeddings([question], model=embedding_model)]\n    elapsed_time = (time.time() - start_time) * 1000\n    print(f\"Execution time for getting the question embedding: {elapsed_time:.2f} milliseconds\")\n\n    params = {\n              'question_embedding': question_embedding,\n            }\n\n    # Check if embedding is similar to existing questions\n    # If semantic score \u003c similarity_threshold, then run the agent executor\n    # Calculate elapsed time for this step\n\n    stmt = f'select question, answer, dot_product( %(question_embedding)s, question_embedding) :\u003e float as score from embeddings where category=\"chatbot\" order by score desc limit 1;'\n\n\n    with s2_conn.cursor() as cur:\n        start_time = time.time()\n        cur.execute(stmt, params)\n        row = cur.fetchone()\n        elapsed_time = (time.time() - start_time) * 1000\n        print(f\"Execution time for checking existing questions: {elapsed_time:.2f} milliseconds\")\n\n        try:\n            question2, answer, score = row\n            print(f\"\\nClosest Matching row:\\nQuestion: {question2}\\nAnswer: {answer}\\nSimilarity Score: {score}\")\n\n            if score \u003e similarity_threshold:\n                print('Action to take: Using existing answer')\n                return answer\n\n            else:\n                print('Action to take: Running agent_executor')\n                start_time = time.time()\n                answer2 = agent_executor.run(question)\n                elapsed_time = (time.time() - start_time) * 1000\n                print(f\"agent_executor execution time: {elapsed_time:.2f} milliseconds\")\n\n                # Get current time\n                created_at = datetime.now().strftime(\"%Y-%m-%d %H:%M:%S\")\n\n                # Get the answer embedding and calculate the elapsed time\n                start_time = time.time()\n                answer_embedding = [np.array(x, '\u003cf4') for x in get_embeddings([answer2], model=embedding_model)]\n                elapsed_time = (time.time() - start_time) * 1000\n                print(f\"Answer embeddings execution time: {elapsed_time:.2f} milliseconds\")\n\n                params = {'category': category, 'question': question,\n                        'question_embedding': question_embedding,\n                        'answer': answer2, 'answer_embedding': answer_embedding,\n                        'created_at': created_at}\n\n                # Send params details as a row into the SingleStoreDB embeddings table and calculate the elapsed time\n                stmt = f\"INSERT INTO {table_name} (category, question, question_embedding, answer, answer_embedding, created_at) VALUES (%(category)s, \\n%(question)s, \\n%(question_embedding)s, \\n%(answer)s, \\n%(answer_embedding)s, \\n%(created_at)s)\"\n                start_time = time.time()\n\n                with s2_conn.cursor() as cur:\n                    cur.execute(stmt, params)\n\n                elapsed_time = (time.time() - start_time) * 1000\n                print(f\"Insert to SingleStore execution time: {elapsed_time:.2f} milliseconds\")\n\n                return answer2\n\n        # Handle known exceptions then run as normal\n        except:\n            print('No existing rows.  Running agent_executor')\n            start_time = time.time()\n            answer2 = agent_executor.run(question)\n            elapsed_time = (time.time() - start_time) * 1000\n            print(f\"agent_executor execution time: {elapsed_time:.2f} milliseconds\")\n\n            created_at = datetime.now().strftime(\"%Y-%m-%d %H:%M:%S\")\n\n            # Record the start time\n            start_time = time.time()\n\n            answer_embedding = [np.array(x, '\u003cf4') for x in get_embeddings([answer2], model=embedding_model)]\n\n            # Calculate the elapsed time\n            elapsed_time = (time.time() - start_time) * 1000\n            print(f\"Answer embeddings execution time: {elapsed_time:.2f} milliseconds\")\n\n            params = {'category': category, 'question': question,\n                    'question_embedding': question_embedding,\n                    'answer': answer2, 'answer_embedding': answer_embedding,\n                    'created_at': created_at}\n\n            # Send to SingleStoreDB\n            stmt = f\"INSERT INTO {table_name} (category, question, question_embedding, answer, answer_embedding, created_at) VALUES (%(category)s, \\n%(question)s, \\n%(question_embedding)s, \\n%(answer)s, \\n%(answer_embedding)s, \\n%(created_at)s)\"\n\n            # Record the start time\n            start_time = time.time()\n\n            with s2_conn.cursor() as cur:\n                cur.execute(stmt, params)\n\n            # Calculate the elapsed time\n            elapsed_time = (time.time() - start_time) * 1000\n            print(f\"Insert to SingleStore execution time: {elapsed_time:.2f} milliseconds\")\n\n            return answer2",
      "outputs": [],
      "execution_count": 16
    },
    {
      "id": "5768d430",
      "cell_type": "markdown",
      "metadata": {
        "execution": {}
      },
      "source": "### Test on two similar questions",
      "attachments": {}
    },
    {
      "id": "e5cbf7ea",
      "cell_type": "code",
      "metadata": {
        "execution": {},
        "language": "python"
      },
      "source": "from datetime import datetime\n# Two similar questions\nquestion_1 = \"describe the database\"\nquestion_2 = \"describe database\"",
      "outputs": [],
      "execution_count": 17
    },
    {
      "id": "ab4ea454",
      "cell_type": "code",
      "metadata": {
        "execution": {},
        "language": "python"
      },
      "source": "# Question: describe the database\nanswer = process_user_question(question_1)\nprint(f'The answer is: {answer}')",
      "outputs": [],
      "execution_count": 18
    },
    {
      "id": "afae74c5",
      "cell_type": "code",
      "metadata": {
        "execution": {},
        "language": "python"
      },
      "source": "%%sql\nselect id, category, question, answer from embeddings limit 1",
      "outputs": [],
      "execution_count": 19
    },
    {
      "id": "c700fa03",
      "cell_type": "code",
      "metadata": {
        "execution": {},
        "language": "python"
      },
      "source": "# Question: describe database\nanswer = process_user_question(question_2)\nprint(f'The answer is: {answer}')",
      "outputs": [],
      "execution_count": 20
    },
    {
      "id": "052aa690",
      "cell_type": "markdown",
      "metadata": {
        "execution": {}
      },
      "source": "\u003ca name=\"speech\"\u003e\u003c/a\u003e\n- [Back to Contents](#contents)\n## Add Voice Recognition and Speech",
      "attachments": {}
    },
    {
      "id": "380c63f5",
      "cell_type": "markdown",
      "metadata": {
        "execution": {}
      },
      "source": "### Select a voice",
      "attachments": {}
    },
    {
      "id": "fb9f3821",
      "cell_type": "code",
      "metadata": {
        "execution": {},
        "language": "python"
      },
      "source": "from elevenlabs import generate, stream, voices\nfrom elevenlabs import set_api_key\nfrom IPython.display import Audio\nfrom IPython.display import display\nimport requests",
      "outputs": [],
      "execution_count": 21
    },
    {
      "id": "285606e4",
      "cell_type": "code",
      "metadata": {
        "execution": {},
        "language": "python"
      },
      "source": "voices = voices()\nvoices[0]",
      "outputs": [],
      "execution_count": 22
    },
    {
      "id": "25f10364",
      "cell_type": "code",
      "metadata": {
        "execution": {},
        "language": "python"
      },
      "source": "CHUNK_SIZE = 1024\nurl = \"https://api.elevenlabs.io/v1/text-to-speech/21m00Tcm4TlvDq8ikWAM/stream\"\n\nheaders = {\n  \"Accept\": \"audio/mpeg\",\n  \"Content-Type\": \"application/json\",\n  \"xi-api-key\": elevenlabs_apikey\n}\n\ndata = {\n  \"text\": answer,\n  \"model_id\": \"eleven_monolingual_v1\",\n  \"voice_settings\": {\n    \"stability\": 0.5,\n    \"similarity_boost\": 0.5\n  }\n}\n\nresponse = requests.post(url, json=data, headers=headers, stream=True)\n\n# create an audio file\nwith open('output.mp3', 'wb') as f:\n    for chunk in response.iter_content(chunk_size=CHUNK_SIZE):\n        if chunk:\n            f.write(chunk)",
      "outputs": [],
      "execution_count": 23
    },
    {
      "id": "47c6370f",
      "cell_type": "code",
      "metadata": {
        "execution": {},
        "language": "python"
      },
      "source": "!ls",
      "outputs": [],
      "execution_count": 24
    },
    {
      "id": "a9da9a96",
      "cell_type": "code",
      "metadata": {
        "execution": {},
        "language": "python"
      },
      "source": "audio_file = 'output.mp3'\n\naudio = Audio(filename=audio_file, autoplay =True)\ndisplay(audio)",
      "outputs": [],
      "execution_count": 25
    },
    {
      "id": "d8ff9f6a",
      "cell_type": "markdown",
      "metadata": {
        "execution": {}
      },
      "source": "### Transcribe the audio file",
      "attachments": {}
    },
    {
      "id": "1017c4a0",
      "cell_type": "code",
      "metadata": {
        "execution": {},
        "language": "python"
      },
      "source": "openai.api_key = openai_apikey\naudio_file= open(\"output.mp3\", \"rb\")\ntranscript = client.audio.transcriptions.create(model=\"whisper-1\", file=audio_file)\nprint(transcript.text)",
      "outputs": [],
      "execution_count": 26
    },
    {
      "id": "281f78c1",
      "cell_type": "markdown",
      "metadata": {
        "execution": {}
      },
      "source": "\u003ca name=\"image\"\u003e\u003c/a\u003e\n- [Back to Demo Architecture](#architecture)\n## Tying it together with Image data",
      "attachments": {}
    },
    {
      "id": "b19c6cc8",
      "cell_type": "code",
      "metadata": {
        "execution": {},
        "language": "python"
      },
      "source": "# Most recent news article for TSLA\nquestion_3 = \"\"\"What is the most recent news article for Amazon where the topic_relevance_score is greater than 90%?\nInclude the url, time published and banner image.\"\"\"\nanswer = process_user_question(question_3)\nprint(f'The answer is: {answer}')",
      "outputs": [],
      "execution_count": 27
    },
    {
      "id": "d265d569",
      "cell_type": "code",
      "metadata": {
        "execution": {},
        "language": "python"
      },
      "source": "%%sql\nSELECT title, url, time_published, banner_image FROM newsSentiment WHERE ticker = 'AMZN' AND topic_relevance_score \u003e 0.9 ORDER BY time_published DESC LIMIT 3",
      "outputs": [],
      "execution_count": 28
    },
    {
      "id": "c62ced16",
      "cell_type": "markdown",
      "metadata": {
        "execution": {}
      },
      "source": "### Load the image",
      "attachments": {}
    },
    {
      "id": "91f210d3",
      "cell_type": "code",
      "metadata": {
        "execution": {},
        "language": "python"
      },
      "source": "import matplotlib.pyplot as plt\nimport matplotlib.image as mpimg\nfrom io import BytesIO\nbanner_image_url = \"https://staticx-tuner.zacks.com/images/default_article_images/default341.jpg\"\nresponse = requests.get(banner_image_url)\n\nif response.status_code == 200:\n    img = mpimg.imread(BytesIO(response.content), format='JPG')\n    imgplot = plt.imshow(img)\n    plt.show()\nelse:\n    print(f\"Failed to retrieve the image. Status code: {response.status_code}\")",
      "outputs": [],
      "execution_count": 29
    },
    {
      "id": "e6c37c4f",
      "cell_type": "markdown",
      "metadata": {
        "execution": {}
      },
      "source": "### Set up the huggingface transformer",
      "attachments": {}
    },
    {
      "id": "e8fd40fe",
      "cell_type": "code",
      "metadata": {
        "execution": {},
        "language": "python"
      },
      "source": "transformers_version = \"v4.29.0\" #@param [\"main\", \"v4.29.0\"] {allow-input: true}\n\nprint(f\"Setting up everything with transformers version {transformers_version}\")\n\n%pip install --quiet huggingface_hub\u003e=0.14.1 git+https://github.com/huggingface/transformers@$transformers_version pyarrow==12.0.1 diffusers==0.30.0 accelerate==0.33.0 datasets==2.15.0 torch==2.1.0 soundfile==0.12.1 sentencepiece==0.2.0 opencv-contrib-python-headless==4.8.1.78",
      "outputs": [],
      "execution_count": 30
    },
    {
      "id": "b9d51663",
      "cell_type": "code",
      "metadata": {
        "execution": {},
        "language": "python"
      },
      "source": "import IPython\nimport soundfile as sf\n\ndef play_audio(audio):\n    sf.write(\"speech_converted.wav\", audio.numpy(), samplerate=16000)\n    return IPython.display.Audio(\"speech_converted.wav\")\n\nfrom huggingface_hub import notebook_login\nnotebook_login()",
      "outputs": [],
      "execution_count": 31
    },
    {
      "id": "039c453a",
      "cell_type": "code",
      "metadata": {
        "execution": {},
        "language": "python"
      },
      "source": "agent_name = \"StarCoder (HF Token)\" #@param [\"StarCoder (HF Token)\", \"OpenAssistant (HF Token)\", \"OpenAI (API Key)\"]\n\nif agent_name == \"StarCoder (HF Token)\":\n    from transformers.tools import HfAgent\n    agent = HfAgent(\"https://api-inference.huggingface.co/models/bigcode/starcoder\")\n    print(\"StarCoder is initialized 💪\")\n\nelif agent_name == \"OpenAssistant (HF Token)\":\n    from transformers.tools import HfAgent\n    agent = HfAgent(url_endpoint=\"https://api-inference.huggingface.co/models/OpenAssistant/oasst-sft-4-pythia-12b-epoch-3.5\")\n    print(\"OpenAssistant is initialized 💪\")\n\nelif agent_name == \"OpenAI (API Key)\":\n    from transformers.tools import OpenAiAgent\n    pswd = openai_apikey\n    agent = OpenAiAgent(model=\"gpt-3.5-turbo\", api_key=pswd)\n    print(\"OpenAI is initialized 💪\")",
      "outputs": [],
      "execution_count": 32
    },
    {
      "id": "2b88ea99",
      "cell_type": "code",
      "metadata": {
        "execution": {},
        "language": "python"
      },
      "source": "caption = agent.run(\"Can you caption the `image`?\", image=img)",
      "outputs": [],
      "execution_count": 33
    },
    {
      "id": "0701fc7d",
      "cell_type": "code",
      "metadata": {
        "execution": {},
        "language": "python"
      },
      "source": "data = {\n  \"text\": caption,\n  \"model_id\": \"eleven_monolingual_v1\",\n  \"voice_settings\": {\n    \"stability\": 0.5,\n    \"similarity_boost\": 0.5\n  }\n}\n\nresponse = requests.post(url, json=data, headers=headers)\nwith open('output.mp3', 'wb') as f:\n    for chunk in response.iter_content(chunk_size=CHUNK_SIZE):\n        if chunk:\n            f.write(chunk)\n\naudio_file = 'output.mp3'\n\naudio = Audio(filename=audio_file, autoplay =True)\ndisplay(audio)",
      "outputs": [],
      "execution_count": 34
    },
    {
      "id": "4f3cca60",
      "cell_type": "markdown",
      "metadata": {
        "execution": {}
      },
      "source": "\u003ca name=\"conclusion\"\u003e\u003c/a\u003e\n- [Back to Contents](#contents)\n## Conclusion",
      "attachments": {}
    },
    {
      "id": "a80a3042",
      "cell_type": "markdown",
      "metadata": {
        "execution": {}
      },
      "source": "- Handle transactional and analytical queries with your vector data\n- no need to export data out of SingleStore to another vector db\n- Scan vectors fast with exact nearest neighbor. (DOT_PRODUCT, EUCLIDEAN_DISTANCE, and VECTOR_SUB are high-perf functions using single-instruction-multiple-data (SIMD) processor instructions)\n- Ability to stream data directly into SingleStore\n- Use SingleStore as Semantic Cache Layer leveraging the Plancache. No need for a cache layer.\n- Easily scale the workspace for your workload\n- handle reads and writes in parallel\n- Use of external functions.",
      "attachments": {}
    },
    {
      "id": "8dd3f100",
      "cell_type": "markdown",
      "metadata": {
        "execution": {}
      },
      "source": "## Reset Demo",
      "attachments": {}
    },
    {
      "id": "1a791ca7",
      "cell_type": "code",
      "metadata": {
        "execution": {},
        "language": "python"
      },
      "source": "%%sql\nDROP DATABASE llm_webinar;",
      "outputs": [],
      "execution_count": 35
    },
    {
      "id": "ac12af29",
      "cell_type": "markdown",
      "metadata": {
        "execution": {}
      },
      "source": "\u003cdiv id=\"singlestore-footer\" style=\"background-color: rgba(194, 193, 199, 0.25); height:2px; margin-bottom:10px\"\u003e\u003c/div\u003e\n\u003cdiv\u003e\u003cimg src=\"https://raw.githubusercontent.com/singlestore-labs/spaces-notebooks/master/common/images/singlestore-logo-grey.png\" style=\"padding: 0px; margin: 0px; height: 24px\"/\u003e\u003c/div\u003e",
      "attachments": {}
    }
  ],
  "metadata": {
    "kernelspec": {
      "display_name": "Python 3 (ipykernel)",
      "language": "python",
      "name": "python3"
    },
    "language_info": {
      "codemirror_mode": {
        "name": "ipython",
        "version": 3
      },
      "file_extension": ".py",
      "mimeType": "text/x-python",
      "name": "python",
      "nbconvert_exporter": "python",
      "pygments_lexer": "ipython3",
      "version": "3.11.6"
    },
    "jupyterlab": {
      "notebooks": {
        "version_major": 6,
        "version_minor": 4
      }
    },
    "singlestore_connection": {
      "connectionID": "",
      "defaultDatabase": ""
    },
    "singlestore_cell_default_language": "python"
  },
  "nbformat": 4,
  "nbformat_minor": 5
}