{
  "cells": [
    {
      "id": "1ae3a481",
      "cell_type": "markdown",
      "metadata": {
        "execution": {}
      },
      "source": "\u003cdiv id=\"singlestore-header\" style=\"display: flex; background-color: rgba(235, 249, 245, 0.25); padding: 5px;\"\u003e\n    \u003cdiv id=\"icon-image\" style=\"width: 90px; height: 90px;\"\u003e\n        \u003cimg width=\"100%\" height=\"100%\" src=\"https://raw.githubusercontent.com/singlestore-labs/spaces-notebooks/master/common/images/header-icons/browser.png\" /\u003e\n    \u003c/div\u003e\n    \u003cdiv id=\"text\" style=\"padding: 5px; margin-left: 10px;\"\u003e\n        \u003cdiv id=\"badge\" style=\"display: inline-block; background-color: rgba(0, 0, 0, 0.15); border-radius: 4px; padding: 4px 8px; align-items: center; margin-top: 6px; margin-bottom: -2px; font-size: 80%\"\u003eSingleStore Notebooks\u003c/div\u003e\n        \u003ch1 style=\"font-weight: 500; margin: 8px 0 0 4px;\"\u003eRun your first Python UDF\u003c/h1\u003e\n    \u003c/div\u003e\n\u003c/div\u003e",
      "attachments": {}
    },
    {
      "id": "bd0ae268",
      "cell_type": "markdown",
      "metadata": {
        "execution": {}
      },
      "source": "\u003cdiv class=\"alert alert-block alert-warning\"\u003e\n    \u003cb class=\"fa fa-solid fa-exclamation-circle\"\u003e\u003c/b\u003e\n    \u003cdiv\u003e\n        \u003cp\u003e\u003cb\u003eNote\u003c/b\u003e\u003c/p\u003e\n        \u003cp\u003eThis notebook can be run on a Free Starter Workspace. To create a Free Starter Workspace navigate to \u003ctt\u003eStart\u003c/tt\u003e using the left nav. You can also use your existing Standard or Premium workspace with this Notebook.\u003c/p\u003e\n    \u003c/div\u003e\n\u003c/div\u003e",
      "attachments": {}
    },
    {
      "id": "9b6469e0",
      "cell_type": "markdown",
      "metadata": {
        "execution": {}
      },
      "source": "\u003cp\u003eThis feature is currently in Private Preview. Please reach out support@singlestore.com to confirm if this feature can be enabled in your org.\u003c/p\u003e",
      "attachments": {}
    },
    {
      "id": "bcb6e6a7",
      "cell_type": "markdown",
      "metadata": {
        "execution": {}
      },
      "source": "This Jupyter notebook will help you build your first Cloud Function, showcasing how to leverage the ultra-fast queries of SingleStore to build a responsive API server using FastAPI",
      "attachments": {}
    },
    {
      "id": "5776ded1",
      "cell_type": "markdown",
      "metadata": {
        "execution": {}
      },
      "source": "## Create some simple tables\n\nThis setup establishes a basic relational structure to store some items information.",
      "attachments": {}
    },
    {
      "id": "2bbf6a44",
      "cell_type": "code",
      "metadata": {
        "execution": {},
        "language": "python"
      },
      "source": "%%sql\nDROP TABLE IF EXISTS items;\n\nCREATE TABLE IF NOT EXISTS\nitems (\n    id INT PRIMARY KEY,\n    name VARCHAR(255),\n    price FLOAT\n);",
      "outputs": [],
      "execution_count": 1
    },
    {
      "id": "3aace2e9",
      "cell_type": "markdown",
      "metadata": {
        "execution": {}
      },
      "source": "## Insert sample data",
      "attachments": {}
    },
    {
      "id": "0a123cd7",
      "cell_type": "code",
      "metadata": {
        "execution": {},
        "language": "python"
      },
      "source": "%%sql INSERT into reviews (review_id, store_name, review) values\n(\"1\", \"Single Pizza\", \"The staff were very respectful and made thoughtful suggestions. I will definitely go again. 10/10!\"),\n(\"2\", \"Single Pizza\", \"The food was absolutely amazing and the service was fantastic!\"),\n(\"3\", \"Single Pizza\", \"The experience was terrible. The food was cold and the waiter was rude.\"),\n(\"4\", \"Single Pizza\", \"I loved the ambiance and the desserts were out of this world!\"),\n(\"5\", \"Single Pizza\", \"Not worth the price. I expected more based on the reviews\");",
      "outputs": [],
      "execution_count": 2
    },
    {
      "id": "d58c8382",
      "cell_type": "markdown",
      "metadata": {
        "execution": {}
      },
      "source": "## Define FastAPI App\n\nNext, we will be defining a FastAPI app that can insert, query and delete data from your table",
      "attachments": {}
    },
    {
      "id": "1556ad3c",
      "cell_type": "code",
      "metadata": {
        "execution": {},
        "language": "python"
      },
      "source": "!pip install nltk",
      "outputs": [],
      "execution_count": 3
    },
    {
      "id": "f3f3b047",
      "cell_type": "code",
      "metadata": {
        "execution": {},
        "language": "python"
      },
      "source": "app = FastAPI()\n\n# Get all items\n@app.get(\"/items\", response_model=list[Item])\nasync def get_items():\n    def get_items_query():\n        result = execute_query(\"SELECT * FROM items;\")\n        rows = result.fetchall()\n        return [{\"id\": row[0], \"name\": row[1], \"price\": row[2]} for row in rows]\n\n    try:\n        return await run_in_thread(get_items_query)\n    except Exception as e:\n        raise HTTPException(status_code=500, detail=f\"Error fetching all items: {str(e)}\")\n\n# Insert an item\n@app.post(\"/items\", response_model=dict)\nasync def create_item(item: Item):\n    def insert_item_query():\n        result = execute_transaction(f\"INSERT INTO items (id, name, price) VALUES ({item.id}, '{item.name}', {item.price})\")\n        return {\"message\": f\"Item with id {item.id} inserted successfully\"}\n\n    try:\n        return await run_in_thread(insert_item_query)\n    except Exception as e:\n        raise HTTPException(status_code=500, detail=f\"Error while inserting item with id {item.id}: {str(e)}\")\n\n# Get item by id\n@app.get(\"/items/{item_id}\", response_model=Item)\nasync def get_item(item_id: int):\n    def get_item_query():\n        result = execute_query(f\"SELECT * FROM items WHERE id={item_id}\")\n        row = result.fetchone()\n        if not row:\n            raise HTTPException(status_code=404, detail=\"Item not found\")\n        return {\"id\": row[0], \"name\": row[1], \"price\": row[2]}\n\n    try:\n        return await run_in_thread(get_item_query)\n    except HTTPException as e:\n        raise e\n    except Exception as e:\n        raise HTTPException(status_code=500, detail=f\"Error fetching item with id {item_id}: {str(e)}\")\n\n# Delete item by id\n@app.delete(\"/items/{item_id}\", response_model=dict)\nasync def delete_item(item_id: int):\n    def delete_item_query():\n        result = execute_transaction(f\"DELETE FROM items WHERE id={item_id}\")\n        return {\"message\": f\"number of rows deleted: {result.rowcount}\"}\n\n    try:\n        return await run_in_thread(delete_item_query)\n    except Exception as e:\n        raise HTTPException(status_code=500, detail=f\"Error deleting item with id {item_id}: {str(e)}\")",
      "outputs": [],
      "execution_count": 4
    },
    {
      "id": "40e2ad59",
      "cell_type": "markdown",
      "metadata": {
        "execution": {}
      },
      "source": "## Start the FastAPI server\n\nThe link at which the cloud function will be available interactively will be displayed.",
      "attachments": {}
    },
    {
      "id": "ed4b22cd",
      "cell_type": "code",
      "metadata": {
        "execution": {},
        "language": "python"
      },
      "source": "import singlestoredb.apps as apps\nconnection_info = await apps.run_function_app(app)",
      "outputs": [],
      "execution_count": 5
    },
    {
      "id": "b53cd3d1",
      "cell_type": "markdown",
      "metadata": {
        "execution": {}
      },
      "source": "## List all registered UDFs\n\nIn interactive notebooks, the udf function will be suffixed with `_test` to differentiate it from the published version",
      "attachments": {}
    },
    {
      "id": "6008982d",
      "cell_type": "code",
      "metadata": {
        "execution": {},
        "language": "python"
      },
      "source": "%%sql\nSHOW functions",
      "outputs": [],
      "execution_count": 6
    },
    {
      "id": "58560b03",
      "cell_type": "markdown",
      "metadata": {
        "execution": {}
      },
      "source": "## Call the UDF from SQL\n\nYou will now be able to run queries like\n\n```\nSELECT review_id, store_name, review, review_sentiment_test(review) from reviews order by review_id;\n```\nfrom the SQL editor or any other SQL client.\n\nTry it out by opening another notebook, selecting the current Database and running this query in a new cell.",
      "attachments": {}
    },
    {
      "id": "4a825f0d",
      "cell_type": "markdown",
      "metadata": {
        "execution": {}
      },
      "source": "## Publish Cloud Function\n\nAfter validating the Cloud Function interactively, you can publish it and use it as an API server for your data!",
      "attachments": {}
    },
    {
      "id": "b6c75678",
      "cell_type": "markdown",
      "metadata": {
        "execution": {}
      },
      "source": "\u003cdiv id=\"singlestore-footer\" style=\"background-color: rgba(194, 193, 199, 0.25); height:2px; margin-bottom:10px\"\u003e\u003c/div\u003e\n\u003cdiv\u003e\u003cimg src=\"https://raw.githubusercontent.com/singlestore-labs/spaces-notebooks/master/common/images/singlestore-logo-grey.png\" style=\"padding: 0px; margin: 0px; height: 24px\"/\u003e\u003c/div\u003e",
      "attachments": {}
    }
  ],
  "metadata": {
    "kernelspec": {
      "display_name": "Python 3 (ipykernel)",
      "language": "python",
      "name": "python3"
    },
    "language_info": {
      "codemirror_mode": {
        "name": "ipython",
        "version": 3
      },
      "file_extension": ".py",
      "mimeType": "text/x-python",
      "name": "python",
      "nbconvert_exporter": "python",
      "pygments_lexer": "ipython3",
      "version": "3.11.9"
    },
    "jupyterlab": {
      "notebooks": {
        "version_major": 6,
        "version_minor": 4
      }
    },
    "singlestore_connection": {
      "connectionID": "",
      "defaultDatabase": ""
    },
    "singlestore_cell_default_language": "python"
  },
  "nbformat": 4,
  "nbformat_minor": 5
}