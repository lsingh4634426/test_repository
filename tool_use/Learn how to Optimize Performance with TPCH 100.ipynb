{
  "cells": [
    {
      "id": "fa1acf27",
      "cell_type": "markdown",
      "metadata": {
        "execution": {}
      },
      "source": "\u003cdiv id=\"singlestore-header\" style=\"display: flex; background-color: rgba(235, 249, 245, 0.25); padding: 5px;\"\u003e\n    \u003cdiv id=\"icon-image\" style=\"width: 90px; height: 90px;\"\u003e\n        \u003cimg width=\"100%\" height=\"100%\" src=\"https://raw.githubusercontent.com/singlestore-labs/spaces-notebooks/master/common/images/header-icons/database.png\" /\u003e\n    \u003c/div\u003e\n    \u003cdiv id=\"text\" style=\"padding: 5px; margin-left: 10px;\"\u003e\n        \u003cdiv id=\"badge\" style=\"display: inline-block; background-color: rgba(0, 0, 0, 0.15); border-radius: 4px; padding: 4px 8px; align-items: center; margin-top: 6px; margin-bottom: -2px; font-size: 80%\"\u003eSingleStore Notebooks\u003c/div\u003e\n        \u003ch1 style=\"font-weight: 500; margin: 8px 0 0 4px;\"\u003eLearn how to Optimize Performance with TPCH 100\u003c/h1\u003e\n    \u003c/div\u003e\n\u003c/div\u003e",
      "attachments": {}
    },
    {
      "id": "3d9c24bf",
      "cell_type": "markdown",
      "metadata": {
        "execution": {}
      },
      "source": "\u003cdiv class=\"alert alert-block alert-info\"\u003e\n    \u003cb class=\"fa fa-solid fa-info-circle\"\u003e\u003c/b\u003e\n    \u003cdiv\u003e\n        \u003cp\u003e\u003cb\u003eNote\u003c/b\u003e\u003c/p\u003e\n        \u003cp\u003eThis tutorial is meant for Standard \u0026 Premium Workspaces. You can't run this with a Free Starter Workspace due to restrictions on Storage. Create a Workspace using +group in the left nav \u0026 select Standard for this notebook. Gallery notebooks tagged with \"Starter\" are suitable to run on a Free Starter Workspace \u003c/p\u003e\n    \u003c/div\u003e\n\u003c/div\u003e",
      "attachments": {}
    },
    {
      "id": "daf1156b",
      "cell_type": "markdown",
      "metadata": {
        "execution": {}
      },
      "source": "### Context\n\nThis notebook will help you with four core key principles for getting performance out of SingleStoreDB using TPCH Benchmark. SingleStoreDB is a distributed database, so you should think of using shard keys, database partitions, primary keys and indexes for getting the best performance out of it.\n\n##### About database partitions\nThe generalized recommendation for most clusters is to have 4 CPU cores per database partition on each leaf. This means if you had a cluster with 16 cores on each of 4 leaves (64 CPU cores total across all leaf hosts), you would want to have 4 partitions on each leaf (16 partitions throughout the cluster). If you are using a S00 workspace, you will have 2 partitions per database. ***Note*** *that increasing partitions will have additional memory and caching overheads, which can be expensive if you have thousands of tables*\n\n##### About shard keys\nData is distributed across the SingleStoreDB Cloud workspace into a number of partitions on the leaf nodes. The shard key is a collection of the columns in a table that are used to control how the rows of that table are distributed. To determine the partition responsible for a given row, SingleStoreDB Cloud computes a hash from all the columns in the shard key to the partition ID. Therefore, rows with the same shard key will reside on the same partition.\n\n##### About hash indexes\nThey are highly efficient for exact-match lookups (point-reads). Because hash indexes store rows in a sparse array of buckets indexed through a hash function on the relevant columns, queries can quickly retrieve data by examining only the corresponding bucket rather than searching the entire dataset. This enables significant reduction in lookup time and hence, increased performance for specific query types.\n\n**For that tutorial, we recommend using a workspace of size S4 to ingest data faster and also see the difference and gain you can get from a distributed architecture.**",
      "attachments": {}
    },
    {
      "id": "ee4f6399",
      "cell_type": "markdown",
      "metadata": {
        "execution": {}
      },
      "source": "\u003cdiv class=\"alert alert-block alert-info\"\u003e\n    \u003cb class=\"fa fa-solid fa-info-circle\"\u003e\u003c/b\u003e\n    \u003cdiv\u003e\n        \u003cp\u003e\u003cb\u003eNote\u003c/b\u003e\u003c/p\u003e\n        \u003cp\u003eFor that tutorial, we recommend using workspace of size \u003ctt\u003eS4\u003c/tt\u003e to ingest data faster and also see the difference and gain you can get from a distributed architecture.\u003c/p\u003e\n    \u003c/div\u003e\n\u003c/div\u003e",
      "attachments": {}
    },
    {
      "id": "25446e47",
      "cell_type": "markdown",
      "metadata": {
        "execution": {}
      },
      "source": "### Let's first create the unoptimized database",
      "attachments": {}
    },
    {
      "id": "4f043653",
      "cell_type": "code",
      "metadata": {
        "execution": {},
        "language": "python"
      },
      "source": "%%sql\nCREATE DATABASE IF NOT EXISTS s2_tpch_unoptimized\n\n# To create a database with custom partitions use the following syntax: CREATE DATABASE YourDatabaseName PARTITIONS=X;\n# You cannot change after creation the number of partitions",
      "outputs": [],
      "execution_count": 1
    },
    {
      "id": "91210525",
      "cell_type": "markdown",
      "metadata": {
        "execution": {}
      },
      "source": "If using a S00, the database will have 2 partitions, if using S1, it will have 8 partitions",
      "attachments": {}
    },
    {
      "id": "1b8b112f",
      "cell_type": "code",
      "metadata": {
        "execution": {},
        "language": "python"
      },
      "source": "%%sql\nSELECT num_partitions FROM information_schema.DISTRIBUTED_DATABASES WHERE database_name = 's2_tpch_unoptimized';",
      "outputs": [],
      "execution_count": 2
    },
    {
      "id": "18c35c9f",
      "cell_type": "markdown",
      "metadata": {
        "execution": {}
      },
      "source": "##### Let's create all the tables in that database with no index, shard key or primary key",
      "attachments": {}
    },
    {
      "id": "c142577e",
      "cell_type": "markdown",
      "metadata": {
        "execution": {}
      },
      "source": "\u003cdiv class=\"alert alert-block alert-warning\"\u003e\n    \u003cb class=\"fa fa-solid fa-exclamation-circle\"\u003e\u003c/b\u003e\n    \u003cdiv\u003e\n        \u003cp\u003e\u003cb\u003eAction Required\u003c/b\u003e\u003c/p\u003e\n        \u003cp\u003eMake sure to select the \u003ctt\u003es2_tpch_unoptimized\u003c/tt\u003e database from the drop-down menu at the top of this notebook.\n    It updates the \u003ctt\u003econnection_url\u003c/tt\u003e to connect to that database.\u003c/p\u003e\n    \u003c/div\u003e\n\u003c/div\u003e",
      "attachments": {}
    },
    {
      "id": "fb617b23",
      "cell_type": "code",
      "metadata": {
        "execution": {},
        "language": "python"
      },
      "source": "%%sql\nCREATE TABLE IF NOT EXISTS `customer` (\n  `c_custkey` int(11) NOT NULL,\n  `c_name` varchar(25) CHARACTER SET utf8 COLLATE utf8_bin NOT NULL,\n  `c_address` varchar(40) CHARACTER SET utf8 COLLATE utf8_bin NOT NULL,\n  `c_nationkey` int(11) NOT NULL,\n  `c_phone` varchar(15) CHARACTER SET utf8 COLLATE utf8_bin NOT NULL,\n  `c_acctbal` decimal(15,2) NOT NULL,\n  `c_mktsegment` varchar(10) CHARACTER SET utf8 COLLATE utf8_bin NOT NULL,\n  `c_comment` varchar(117) CHARACTER SET utf8 COLLATE utf8_bin NOT NULL\n);\n\nCREATE TABLE IF NOT EXISTS `lineitem` (\n  `l_orderkey` bigint(11) NOT NULL,\n  `l_partkey` int(11) NOT NULL,\n  `l_suppkey` int(11) NOT NULL,\n  `l_linenumber` int(11) NOT NULL,\n  `l_quantity` decimal(15,2) NOT NULL,\n  `l_extendedprice` decimal(15,2) NOT NULL,\n  `l_discount` decimal(15,2) NOT NULL,\n  `l_tax` decimal(15,2) NOT NULL,\n  `l_returnflag` char(1) CHARACTER SET utf8 COLLATE utf8_bin NOT NULL,\n  `l_linestatus` char(1) CHARACTER SET utf8 COLLATE utf8_bin NOT NULL,\n  `l_shipdate` date NOT NULL,\n  `l_commitdate` date NOT NULL,\n  `l_receiptdate` date NOT NULL,\n  `l_shipinstruct` varchar(25) CHARACTER SET utf8 COLLATE utf8_bin NOT NULL,\n  `l_shipmode` varchar(10) CHARACTER SET utf8 COLLATE utf8_bin NOT NULL,\n  `l_comment` varchar(44) CHARACTER SET utf8 COLLATE utf8_bin NOT NULL\n);\n\nCREATE TABLE IF NOT EXISTS `nation` (\n  `n_nationkey` int(11) NOT NULL,\n  `n_name` varchar(25) CHARACTER SET utf8 COLLATE utf8_bin NOT NULL,\n  `n_regionkey` int(11) NOT NULL,\n  `n_comment` varchar(152) CHARACTER SET utf8 COLLATE utf8_bin NOT NULL\n);\n\nCREATE TABLE IF NOT EXISTS `orders` (\n  `o_orderkey` bigint(11) NOT NULL,\n  `o_custkey` int(11) NOT NULL,\n  `o_orderstatus` char(1) CHARACTER SET utf8 COLLATE utf8_bin NOT NULL,\n  `o_totalprice` decimal(15,2) NOT NULL,\n  `o_orderdate` date NOT NULL,\n  `o_orderpriority` varchar(15) CHARACTER SET utf8 COLLATE utf8_bin NOT NULL,\n  `o_clerk` varchar(15) CHARACTER SET utf8 COLLATE utf8_bin NOT NULL,\n  `o_shippriority` int(11) NOT NULL,\n  `o_comment` varchar(79) CHARACTER SET utf8 COLLATE utf8_bin NOT NULL\n);\n\nCREATE TABLE IF NOT EXISTS `part` (\n  `p_partkey` int(11) NOT NULL,\n  `p_name` varchar(55) CHARACTER SET utf8 COLLATE utf8_bin NOT NULL,\n  `p_mfgr` varchar(25) CHARACTER SET utf8 COLLATE utf8_bin NOT NULL,\n  `p_brand` varchar(10) CHARACTER SET utf8 COLLATE utf8_bin NOT NULL,\n  `p_type` varchar(25) CHARACTER SET utf8 COLLATE utf8_bin NOT NULL,\n  `p_size` int(11) NOT NULL,\n  `p_container` varchar(10) CHARACTER SET utf8 COLLATE utf8_bin NOT NULL,\n  `p_retailprice` decimal(15,2) NOT NULL,\n  `p_comment` varchar(23) CHARACTER SET utf8 COLLATE utf8_bin NOT NULL\n);\n\nCREATE TABLE IF NOT EXISTS `partsupp` (\n  `ps_partkey` int(11) NOT NULL,\n  `ps_suppkey` int(11) NOT NULL,\n  `ps_availqty` int(11) NOT NULL,\n  `ps_supplycost` decimal(15,2) NOT NULL,\n  `ps_comment` varchar(199) CHARACTER SET utf8 COLLATE utf8_bin NOT NULL\n);\n\nCREATE TABLE IF NOT EXISTS `region` (\n  `r_regionkey` int(11) NOT NULL,\n  `r_name` varchar(25) CHARACTER SET utf8 COLLATE utf8_bin NOT NULL,\n  `r_comment` varchar(152) CHARACTER SET utf8 COLLATE utf8_bin NOT NULL\n);\n\nCREATE TABLE IF NOT EXISTS `supplier` (\n  `s_suppkey` int(11) NOT NULL,\n  `s_name` varchar(25) CHARACTER SET utf8 COLLATE utf8_bin NOT NULL,\n  `s_address` varchar(40) CHARACTER SET utf8 COLLATE utf8_bin NOT NULL,\n  `s_nationkey` int(11) NOT NULL,\n  `s_phone` varchar(15) CHARACTER SET utf8 COLLATE utf8_bin NOT NULL,\n  `s_acctbal` decimal(15,2) NOT NULL,\n  `s_comment` varchar(101) CHARACTER SET utf8 COLLATE utf8_bin NOT NULL\n);",
      "outputs": [],
      "execution_count": 3
    },
    {
      "id": "27ea8e5d",
      "cell_type": "markdown",
      "metadata": {
        "execution": {}
      },
      "source": "### Now let's create the pipelines and run them to ingest data",
      "attachments": {}
    },
    {
      "id": "dfab1447",
      "cell_type": "code",
      "metadata": {
        "execution": {},
        "language": "python"
      },
      "source": "%%sql\nCREATE PIPELINE IF NOT EXISTS `customer_pipeline`\n    AS LOAD DATA S3 'memsql-tpch-dataset/sf_100/customer'\n    CONFIG '{\\\"region\\\":\\\"us-east-1\\\", \\\"disable_gunzip\\\": false}'\n    BATCH_INTERVAL 2500\n    DISABLE OUT_OF_ORDER OPTIMIZATION\n    DISABLE OFFSETS METADATA GC\n    SKIP DUPLICATE KEY ERRORS\n    INTO TABLE `customer`\n    FIELDS TERMINATED BY '|' ENCLOSED BY '' ESCAPED BY '\\\\'\n    LINES TERMINATED BY '|\\n' STARTING BY '';",
      "outputs": [],
      "execution_count": 4
    },
    {
      "id": "fd13762d",
      "cell_type": "code",
      "metadata": {
        "execution": {},
        "language": "python"
      },
      "source": "%%sql\nCREATE PIPELINE IF NOT EXISTS `lineitem_pipeline`\n    AS LOAD DATA S3 'memsql-tpch-dataset/sf_100/lineitem/lineitem.'\n    CONFIG '{\\\"region\\\":\\\"us-east-1\\\", \\\"disable_gunzip\\\": false}'\n    BATCH_INTERVAL 2500\n    DISABLE OUT_OF_ORDER OPTIMIZATION\n    DISABLE OFFSETS METADATA GC\n    SKIP DUPLICATE KEY ERRORS\n    INTO TABLE `lineitem`\n    FIELDS TERMINATED BY '|' ENCLOSED BY '' ESCAPED BY '\\\\'\n    LINES TERMINATED BY '|\\n' STARTING BY '';",
      "outputs": [],
      "execution_count": 5
    },
    {
      "id": "a3304896",
      "cell_type": "code",
      "metadata": {
        "execution": {},
        "language": "python"
      },
      "source": "%%sql\nCREATE PIPELINE IF NOT EXISTS `nation_pipeline`\n    AS LOAD DATA S3 'memsql-tpch-dataset/sf_100/nation'\n    CONFIG '{\\\"region\\\":\\\"us-east-1\\\", \\\"disable_gunzip\\\": false}'\n    BATCH_INTERVAL 2500\n    DISABLE OUT_OF_ORDER OPTIMIZATION\n    DISABLE OFFSETS METADATA GC\n    SKIP DUPLICATE KEY ERRORS\n    INTO TABLE `nation`\n    FIELDS TERMINATED BY '|' ENCLOSED BY '' ESCAPED BY '\\\\'\n    LINES TERMINATED BY '|\\n' STARTING BY '';",
      "outputs": [],
      "execution_count": 6
    },
    {
      "id": "c8588fdb",
      "cell_type": "code",
      "metadata": {
        "execution": {},
        "language": "python"
      },
      "source": "%%sql\nCREATE PIPELINE IF NOT EXISTS `orders_pipeline`\n    AS LOAD DATA S3 'memsql-tpch-dataset/sf_100/orders'\n    CONFIG '{\\\"region\\\":\\\"us-east-1\\\", \\\"disable_gunzip\\\": false}'\n    BATCH_INTERVAL 2500\n    DISABLE OUT_OF_ORDER OPTIMIZATION\n    DISABLE OFFSETS METADATA GC\n    SKIP DUPLICATE KEY ERRORS\n    INTO TABLE `orders`\n    FIELDS TERMINATED BY '|' ENCLOSED BY '' ESCAPED BY '\\\\'\n    LINES TERMINATED BY '|\\n' STARTING BY '';",
      "outputs": [],
      "execution_count": 7
    },
    {
      "id": "9b99f619",
      "cell_type": "code",
      "metadata": {
        "execution": {},
        "language": "python"
      },
      "source": "%%sql\nCREATE PIPELINE IF NOT EXISTS `partsupp_pipeline`\n    AS LOAD DATA S3 'memsql-tpch-dataset/sf_100/partsupp'\n    CONFIG '{\\\"region\\\":\\\"us-east-1\\\", \\\"disable_gunzip\\\": false}'\n    BATCH_INTERVAL 2500\n    DISABLE OUT_OF_ORDER OPTIMIZATION\n    DISABLE OFFSETS METADATA GC\n    SKIP DUPLICATE KEY ERRORS\n    INTO TABLE `partsupp`\n    FIELDS TERMINATED BY '|' ENCLOSED BY '' ESCAPED BY '\\\\'\n    LINES TERMINATED BY '|\\n' STARTING BY '';",
      "outputs": [],
      "execution_count": 8
    },
    {
      "id": "3d7854cf",
      "cell_type": "code",
      "metadata": {
        "execution": {},
        "language": "python"
      },
      "source": "%%sql\nCREATE PIPELINE IF NOT EXISTS `part_pipeline`\n    AS LOAD DATA S3 'memsql-tpch-dataset/sf_100/part'\n    CONFIG '{\\\"region\\\":\\\"us-east-1\\\", \\\"disable_gunzip\\\": false}'\n    BATCH_INTERVAL 2500\n    DISABLE OUT_OF_ORDER OPTIMIZATION\n    DISABLE OFFSETS METADATA GC\n    SKIP DUPLICATE KEY ERRORS\n    INTO TABLE `part`\n    FIELDS TERMINATED BY '|' ENCLOSED BY '' ESCAPED BY '\\\\'\n    LINES TERMINATED BY '|\\n' STARTING BY '';",
      "outputs": [],
      "execution_count": 9
    },
    {
      "id": "7b8e5f9f",
      "cell_type": "code",
      "metadata": {
        "execution": {},
        "language": "python"
      },
      "source": "%%sql\nCREATE PIPELINE IF NOT EXISTS `region_pipeline`\n    AS LOAD DATA S3 'memsql-tpch-dataset/sf_100/region'\n    CONFIG '{\\\"region\\\":\\\"us-east-1\\\", \\\"disable_gunzip\\\": false}'\n    BATCH_INTERVAL 2500\n    DISABLE OUT_OF_ORDER OPTIMIZATION\n    DISABLE OFFSETS METADATA GC\n    SKIP DUPLICATE KEY ERRORS\n    INTO TABLE `region`\n    FIELDS TERMINATED BY '|' ENCLOSED BY '' ESCAPED BY '\\\\'\n    LINES TERMINATED BY '|\\n' STARTING BY '';",
      "outputs": [],
      "execution_count": 10
    },
    {
      "id": "2d321f80",
      "cell_type": "code",
      "metadata": {
        "execution": {},
        "language": "python"
      },
      "source": "%%sql\nCREATE PIPELINE IF NOT EXISTS `supplier_pipeline`\n    AS LOAD DATA S3 'memsql-tpch-dataset/sf_100/supplier'\n    CONFIG '{\\\"region\\\":\\\"us-east-1\\\", \\\"disable_gunzip\\\": false}'\n    BATCH_INTERVAL 2500\n    DISABLE OUT_OF_ORDER OPTIMIZATION\n    DISABLE OFFSETS METADATA GC\n    SKIP DUPLICATE KEY ERRORS\n    INTO TABLE `supplier`\n    FIELDS TERMINATED BY '|' ENCLOSED BY '' ESCAPED BY '\\\\'\n    LINES TERMINATED BY '|\\n' STARTING BY '';",
      "outputs": [],
      "execution_count": 11
    },
    {
      "id": "263f100c",
      "cell_type": "code",
      "metadata": {
        "execution": {},
        "language": "python"
      },
      "source": "%%sql\nSTART PIPELINE customer_pipeline;\nSTART PIPELINE lineitem_pipeline;\nSTART PIPELINE nation_pipeline;\nSTART PIPELINE orders_pipeline;\nSTART PIPELINE partsupp_pipeline;\nSTART PIPELINE part_pipeline;\nSTART PIPELINE region_pipeline;\nSTART PIPELINE supplier_pipeline;",
      "outputs": [],
      "execution_count": 12
    },
    {
      "id": "8bd4de36",
      "cell_type": "markdown",
      "metadata": {
        "execution": {}
      },
      "source": "#### [Optional Step] Check data ingestion in real-time with Perspective",
      "attachments": {}
    },
    {
      "id": "3437aabc",
      "cell_type": "code",
      "metadata": {
        "execution": {},
        "language": "python"
      },
      "source": "import perspective\nimport threading\nimport random\nimport time\nimport warnings\nfrom datetime import datetime, date\nfrom perspective import Table, PerspectiveWidget\nwarnings.filterwarnings('ignore')",
      "outputs": [],
      "execution_count": 13
    },
    {
      "id": "d475aba6",
      "cell_type": "code",
      "metadata": {
        "execution": {},
        "language": "python"
      },
      "source": "def loop():\n    while mode != 'stop':\n        while mode == 'run':\n            table.update(data_source())\n            time.sleep(1)",
      "outputs": [],
      "execution_count": 14
    },
    {
      "id": "43b76b99",
      "cell_type": "code",
      "metadata": {
        "execution": {},
        "language": "python"
      },
      "source": "def data_source():\n    result = %sql SELECT sum(rows_streamed) AS rows_streamed FROM information_schema.pipelines_batches_summary WHERE database_name = 's2_tpch_unoptimized';\n    result2 = list(result.dicts())\n    return result2\n\nSCHEMA = {\n    \"rows_streamed\": int\n}",
      "outputs": [],
      "execution_count": 15
    },
    {
      "id": "acbae49c",
      "cell_type": "code",
      "metadata": {
        "execution": {},
        "language": "python"
      },
      "source": "mode = 'run'\ntable = perspective.Table(SCHEMA, limit=100)\nthreading.Thread(target=loop).start()",
      "outputs": [],
      "execution_count": 16
    },
    {
      "id": "5631365c",
      "cell_type": "code",
      "metadata": {
        "execution": {},
        "language": "python"
      },
      "source": "perspective.PerspectiveWidget(table,title = \"Track Row Ingestion\",plugin=\"Y Line\",columns=[\"count_rows\"])",
      "outputs": [],
      "execution_count": 17
    },
    {
      "id": "5408d2f6",
      "cell_type": "code",
      "metadata": {
        "execution": {},
        "language": "python"
      },
      "source": "mode = 'stop'",
      "outputs": [],
      "execution_count": 18
    },
    {
      "id": "b5d1dc34",
      "cell_type": "markdown",
      "metadata": {
        "execution": {}
      },
      "source": "### Now, let's see the performance of a few queries",
      "attachments": {}
    },
    {
      "id": "f75b8c5a",
      "cell_type": "code",
      "metadata": {
        "execution": {},
        "language": "python"
      },
      "source": "%%sql\n# TPC-H Query 1: Pricing Summary Report\nSELECT\n    l_returnflag,\n    l_linestatus,\n    SUM(l_quantity) AS sum_qty,\n    SUM(l_extendedprice) AS sum_base_price,\n    SUM(l_extendedprice * (1 - l_discount)) AS sum_disc_price,\n    SUM(l_extendedprice * (1 - l_discount) * (1 + l_tax)) AS sum_charge,\n    AVG(l_quantity) AS avg_qty, AVG(l_extendedprice) AS avg_price,\n    AVG(l_discount) AS avg_disc,\n    COUNT(*) AS count_order\nFROM s2_tpch_unoptimized.lineitem\nWHERE l_shipdate \u003c= DATE('1998-12-01') - INTERVAL '90' DAY\nGROUP BY l_returnflag, l_linestatus\nORDER BY l_returnflag, l_linestatus;",
      "outputs": [],
      "execution_count": 19
    },
    {
      "id": "2b825665",
      "cell_type": "code",
      "metadata": {
        "execution": {},
        "language": "python"
      },
      "source": "%%sql\n# TPC-H Query 4: Order Priority Checking\nSELECT\n    o_orderpriority,\n    COUNT(*) AS order_count\nFROM\n    s2_tpch_unoptimized.orders\nWHERE\n    o_orderdate \u003e= DATE('1993-07-01')\n    AND o_orderdate \u003c DATE('1993-10-01')\n    AND EXISTS (\n        SELECT *\n        FROM s2_tpch_unoptimized.lineitem\n        WHERE l_orderkey = o_orderkey AND l_commitdate \u003c l_receiptdate\n    )\nGROUP BY o_orderpriority\nORDER BY o_orderpriority;",
      "outputs": [],
      "execution_count": 20
    },
    {
      "id": "0117bfa6",
      "cell_type": "code",
      "metadata": {
        "execution": {},
        "language": "python"
      },
      "source": "%%sql\n# TPC-H Query 21: Suppliers Who Kept Orders Waiting\nSELECT\n    s_name,\n    COUNT(*) AS numwait\nFROM\n    s2_tpch_unoptimized.supplier,\n    s2_tpch_unoptimized.lineitem l1,\n    s2_tpch_unoptimized.orders,\n    s2_tpch_unoptimized.nation\nWHERE\n    s_suppkey = l1.l_suppkey\n    AND o_orderkey = l1.l_orderkey\n    AND o_orderstatus = 'F'\n    AND l1.l_receiptdate \u003e l1.l_commitdate\n    AND EXISTS (\n        SELECT\n            *\n        FROM\n            s2_tpch_unoptimized.lineitem l2\n        WHERE\n            l2.l_orderkey = l1.l_orderkey\n            AND l2.l_suppkey \u003c\u003e l1.l_suppkey\n        )\n        AND NOT EXISTS (\n            SELECT\n                *\n            FROM\n                s2_tpch_unoptimized.lineitem l3\n            WHERE\n                l3.l_orderkey = l1.l_orderkey\n                AND l3.l_suppkey \u003c\u003e l1.l_suppkey\n                AND l3.l_receiptdate \u003e l3.l_commitdate\n        )\n        AND s_nationkey = n_nationkey\n        AND n_name = 'EGYPT'\nGROUP BY\n    s_name\nORDER BY\n    numwait DESC,\n    s_name\nLIMIT 100;",
      "outputs": [],
      "execution_count": 21
    },
    {
      "id": "b2c5b8bf",
      "cell_type": "markdown",
      "metadata": {
        "execution": {}
      },
      "source": "### Now, let's first focus on optimizing the performance",
      "attachments": {}
    },
    {
      "id": "336cb7af",
      "cell_type": "code",
      "metadata": {
        "execution": {},
        "language": "python"
      },
      "source": "%%sql\nCREATE DATABASE IF NOT EXISTS s2_tpch_optimized",
      "outputs": [],
      "execution_count": 22
    },
    {
      "id": "b3f50fad",
      "cell_type": "markdown",
      "metadata": {
        "execution": {}
      },
      "source": "\u003cdiv class=\"alert alert-block alert-warning\"\u003e\n    \u003cb class=\"fa fa-solid fa-exclamation-circle\"\u003e\u003c/b\u003e\n    \u003cdiv\u003e\n        \u003cp\u003e\u003cb\u003eAction Required\u003c/b\u003e\u003c/p\u003e\n        \u003cp\u003eMake sure to select the \u003ctt\u003es2_tpch_optimized\u003c/tt\u003e database from the drop-down menu at the top of this notebook.\n    It updates the \u003ctt\u003econnection_url\u003c/tt\u003e to connect to that database.\u003c/p\u003e\n    \u003c/div\u003e\n\u003c/div\u003e",
      "attachments": {}
    },
    {
      "id": "c4abd9bf",
      "cell_type": "markdown",
      "metadata": {
        "execution": {}
      },
      "source": "##### Now, let's create each table with optimized data structure:\n* We create a unique key through primary key. For example **lineitem** table needs both the orderkey and linenumber to identify rows by uniqueness\n* We create a shard key which will distribute data in an efficient way to perform fast join and filtering. For **lineitem** table since we perform joins and calculation based on the orderkey we create a shardkey with orderkey",
      "attachments": {}
    },
    {
      "id": "4e0e2718",
      "cell_type": "code",
      "metadata": {
        "execution": {},
        "language": "python"
      },
      "source": "%%sql\nCREATE TABLE IF NOT EXISTS `lineitem` (\n  `l_orderkey` bigint(11) NOT NULL,\n  `l_partkey` int(11) NOT NULL,\n  `l_suppkey` int(11) NOT NULL,\n  `l_linenumber` int(11) NOT NULL,\n  `l_quantity` decimal(15,2) NOT NULL,\n  `l_extendedprice` decimal(15,2) NOT NULL,\n  `l_discount` decimal(15,2) NOT NULL,\n  `l_tax` decimal(15,2) NOT NULL,\n  `l_returnflag` char(1) CHARACTER SET utf8 COLLATE utf8_bin NOT NULL,\n  `l_linestatus` char(1) CHARACTER SET utf8 COLLATE utf8_bin NOT NULL,\n  `l_shipdate` date NOT NULL,\n  `l_commitdate` date NOT NULL,\n  `l_receiptdate` date NOT NULL,\n  `l_shipinstruct` varchar(25) CHARACTER SET utf8 COLLATE utf8_bin NOT NULL,\n  `l_shipmode` varchar(10) CHARACTER SET utf8 COLLATE utf8_bin NOT NULL,\n  `l_comment` varchar(44) CHARACTER SET utf8 COLLATE utf8_bin NOT NULL,\n  UNIQUE KEY `pk` (`l_orderkey`,`l_linenumber`) USING HASH,\n  SHARD KEY `__SHARDKEY` (`l_orderkey`),\n  KEY `l_orderkey` (`l_orderkey`) USING CLUSTERED COLUMNSTORE\n);\n\nCREATE TABLE IF NOT EXISTS `customer` (\n  `c_custkey` int(11) NOT NULL,\n  `c_name` varchar(25) CHARACTER SET utf8 COLLATE utf8_bin NOT NULL,\n  `c_address` varchar(40) CHARACTER SET utf8 COLLATE utf8_bin NOT NULL,\n  `c_nationkey` int(11) NOT NULL,\n  `c_phone` varchar(15) CHARACTER SET utf8 COLLATE utf8_bin NOT NULL,\n  `c_acctbal` decimal(15,2) NOT NULL,\n  `c_mktsegment` varchar(10) CHARACTER SET utf8 COLLATE utf8_bin NOT NULL,\n  `c_comment` varchar(117) CHARACTER SET utf8 COLLATE utf8_bin NOT NULL,\n  UNIQUE KEY `pk` (`c_custkey`) USING HASH,\n  SHARD KEY `__SHARDKEY` (`c_custkey`),\n  KEY `c_custkey` (`c_custkey`) USING CLUSTERED COLUMNSTORE\n);\n\nCREATE TABLE IF NOT EXISTS `nation` (\n  `n_nationkey` int(11) NOT NULL,\n  `n_name` varchar(25) CHARACTER SET utf8 COLLATE utf8_bin NOT NULL,\n  `n_regionkey` int(11) NOT NULL,\n  `n_comment` varchar(152) CHARACTER SET utf8 COLLATE utf8_bin NOT NULL,\n  UNIQUE KEY `pk` (`n_nationkey`) USING HASH,\n  SHARD KEY `__SHARDKEY` (`n_nationkey`),\n  KEY `n_nationkey` (`n_nationkey`) USING CLUSTERED COLUMNSTORE\n);\n\nCREATE TABLE IF NOT EXISTS `orders` (\n  `o_orderkey` bigint(11) NOT NULL,\n  `o_custkey` int(11) NOT NULL,\n  `o_orderstatus` char(1) CHARACTER SET utf8 COLLATE utf8_bin NOT NULL,\n  `o_totalprice` decimal(15,2) NOT NULL,\n  `o_orderdate` date NOT NULL,\n  `o_orderpriority` varchar(15) CHARACTER SET utf8 COLLATE utf8_bin NOT NULL,\n  `o_clerk` varchar(15) CHARACTER SET utf8 COLLATE utf8_bin NOT NULL,\n  `o_shippriority` int(11) NOT NULL,\n  `o_comment` varchar(79) CHARACTER SET utf8 COLLATE utf8_bin NOT NULL,\n  UNIQUE KEY `pk` (`o_orderkey`) USING HASH,\n  SHARD KEY `__SHARDKEY` (`o_orderkey`),\n  KEY `o_orderkey` (`o_orderkey`) USING CLUSTERED COLUMNSTORE\n);\n\nCREATE TABLE IF NOT EXISTS `part` (\n  `p_partkey` int(11) NOT NULL,\n  `p_name` varchar(55) CHARACTER SET utf8 COLLATE utf8_bin NOT NULL,\n  `p_mfgr` varchar(25) CHARACTER SET utf8 COLLATE utf8_bin NOT NULL,\n  `p_brand` varchar(10) CHARACTER SET utf8 COLLATE utf8_bin NOT NULL,\n  `p_type` varchar(25) CHARACTER SET utf8 COLLATE utf8_bin NOT NULL,\n  `p_size` int(11) NOT NULL,\n  `p_container` varchar(10) CHARACTER SET utf8 COLLATE utf8_bin NOT NULL,\n  `p_retailprice` decimal(15,2) NOT NULL,\n  `p_comment` varchar(23) CHARACTER SET utf8 COLLATE utf8_bin NOT NULL,\n  UNIQUE KEY `pk` (`p_partkey`) USING HASH,\n  SHARD KEY `__SHARDKEY` (`p_partkey`),\n  KEY `p_partkey` (`p_partkey`) USING CLUSTERED COLUMNSTORE\n);\n\nCREATE TABLE IF NOT EXISTS `partsupp` (\n  `ps_partkey` int(11) NOT NULL,\n  `ps_suppkey` int(11) NOT NULL,\n  `ps_availqty` int(11) NOT NULL,\n  `ps_supplycost` decimal(15,2) NOT NULL,\n  `ps_comment` varchar(199) CHARACTER SET utf8 COLLATE utf8_bin NOT NULL,\n  UNIQUE KEY `pk` (`ps_partkey`,`ps_suppkey`) USING HASH,\n  SHARD KEY `__SHARDKEY` (`ps_partkey`),\n  KEY `ps_partkey` (`ps_partkey`,`ps_suppkey`) USING CLUSTERED COLUMNSTORE\n);\n\nCREATE TABLE IF NOT EXISTS `region` (\n  `r_regionkey` int(11) NOT NULL,\n  `r_name` varchar(25) CHARACTER SET utf8 COLLATE utf8_bin NOT NULL,\n  `r_comment` varchar(152) CHARACTER SET utf8 COLLATE utf8_bin NOT NULL,\n  UNIQUE KEY `pk` (`r_regionkey`) USING HASH,\n  SHARD KEY `__SHARDKEY` (`r_regionkey`),\n  KEY `r_regionkey` (`r_regionkey`) USING CLUSTERED COLUMNSTORE\n);\n\nCREATE TABLE IF NOT EXISTS `supplier` (\n  `s_suppkey` int(11) NOT NULL,\n  `s_name` varchar(25) CHARACTER SET utf8 COLLATE utf8_bin NOT NULL,\n  `s_address` varchar(40) CHARACTER SET utf8 COLLATE utf8_bin NOT NULL,\n  `s_nationkey` int(11) NOT NULL,\n  `s_phone` varchar(15) CHARACTER SET utf8 COLLATE utf8_bin NOT NULL,\n  `s_acctbal` decimal(15,2) NOT NULL,\n  `s_comment` varchar(101) CHARACTER SET utf8 COLLATE utf8_bin NOT NULL,\n  UNIQUE KEY `pk` (`s_suppkey`) USING HASH,\n  SHARD KEY `__SHARDKEY` (`s_suppkey`),\n  KEY `s_suppkey` (`s_suppkey`) USING CLUSTERED COLUMNSTORE\n);",
      "outputs": [],
      "execution_count": 23
    },
    {
      "id": "aafed60f",
      "cell_type": "code",
      "metadata": {
        "execution": {},
        "language": "python"
      },
      "source": "%%sql\nINSERT INTO s2_tpch_optimized.nation SELECT * FROM s2_tpch_unoptimized.nation;\nINSERT INTO s2_tpch_optimized.lineitem SELECT * FROM s2_tpch_unoptimized.lineitem;\nINSERT INTO s2_tpch_optimized.customer SELECT * FROM s2_tpch_unoptimized.customer;\nINSERT INTO s2_tpch_optimized.orders SELECT * FROM s2_tpch_unoptimized.orders;\nINSERT INTO s2_tpch_optimized.part SELECT * FROM s2_tpch_unoptimized.part;\nINSERT INTO s2_tpch_optimized.partsupp SELECT * FROM s2_tpch_unoptimized.partsupp;\nINSERT INTO s2_tpch_optimized.region SELECT * FROM s2_tpch_unoptimized.region;\nINSERT INTO s2_tpch_optimized.supplier SELECT * FROM s2_tpch_unoptimized.supplier;",
      "outputs": [],
      "execution_count": 24
    },
    {
      "id": "ad4ce108",
      "cell_type": "code",
      "metadata": {
        "execution": {},
        "language": "python"
      },
      "source": "%%sql\n# TPC-H Query 1: Pricing Summary Report\nSELECT\n    l_returnflag,\n    l_linestatus,\n    SUM(l_quantity) AS sum_qty,\n    SUM(l_extendedprice) AS sum_base_price,\n    SUM(l_extendedprice * (1 - l_discount)) AS sum_disc_price,\n    SUM(l_extendedprice * (1 - l_discount) * (1 + l_tax)) AS sum_charge,\n    AVG(l_quantity) AS avg_qty, AVG(l_extendedprice) AS avg_price,\n    AVG(l_discount) AS avg_disc,\n    COUNT(*) AS count_order\nFROM lineitem\nWHERE l_shipdate \u003c= DATE('1998-12-01') - INTERVAL '90' DAY\nGROUP BY l_returnflag, l_linestatus\nORDER BY l_returnflag, l_linestatus;",
      "outputs": [],
      "execution_count": 25
    },
    {
      "id": "6cefe706",
      "cell_type": "code",
      "metadata": {
        "execution": {},
        "language": "python"
      },
      "source": "%%sql\n# TPC-H Query 4: Order Priority Checking\nSELECT\n    o_orderpriority,\n    COUNT(*) AS order_count\nFROM\n    s2_tpch_optimized.orders\nWHERE\n    o_orderdate \u003e= DATE('1993-07-01')\n    AND o_orderdate \u003c DATE('1993-10-01')\n    AND EXISTS (\n        SELECT *\n        FROM s2_tpch_optimized.lineitem\n        WHERE l_orderkey = o_orderkey AND l_commitdate \u003c l_receiptdate\n    )\nGROUP BY o_orderpriority\nORDER BY o_orderpriority;",
      "outputs": [],
      "execution_count": 26
    },
    {
      "id": "66871245",
      "cell_type": "code",
      "metadata": {
        "execution": {},
        "language": "python"
      },
      "source": "%%sql\n# TPC-H Query 21: Suppliers Who Kept Orders Waiting\nSELECT\n    s_name,\n    COUNT(*) AS numwait\nFROM\n    s2_tpch_optimized.supplier,\n    s2_tpch_optimized.lineitem l1,\n    s2_tpch_optimized.orders,\n    s2_tpch_optimized.nation\nWHERE\n    s_suppkey = l1.l_suppkey\n    AND o_orderkey = l1.l_orderkey\n    AND o_orderstatus = 'F'\n    AND l1.l_receiptdate \u003e l1.l_commitdate\n    AND EXISTS (\n        SELECT\n            *\n        FROM\n            s2_tpch_optimized.lineitem l2\n        WHERE\n            l2.l_orderkey = l1.l_orderkey\n            AND l2.l_suppkey \u003c\u003e l1.l_suppkey\n        )\n        AND NOT EXISTS (\n            SELECT\n                *\n            FROM\n                s2_tpch_optimized.lineitem l3\n            WHERE\n                l3.l_orderkey = l1.l_orderkey\n                AND l3.l_suppkey \u003c\u003e l1.l_suppkey\n                AND l3.l_receiptdate \u003e l3.l_commitdate\n        )\n        AND s_nationkey = n_nationkey\n        AND n_name = 'EGYPT'\nGROUP BY\n    s_name\nORDER BY\n    numwait desc,\n    s_name\nLIMIT 100;",
      "outputs": [],
      "execution_count": 27
    },
    {
      "id": "e6116c9a",
      "cell_type": "markdown",
      "metadata": {
        "execution": {}
      },
      "source": "### Finally, let's do a side by side comparison between the optimized and unoptimized database",
      "attachments": {}
    },
    {
      "id": "6d7f1df9",
      "cell_type": "code",
      "metadata": {
        "execution": {},
        "language": "python"
      },
      "source": "from singlestoredb import create_engine\nimport sqlalchemy as sa\n\ndb_connection_unoptimized = create_engine(database='s2_tpch_unoptimized').connect()\ndb_connection_optimized = create_engine(database='s2_tpch_optimized').connect()",
      "outputs": [],
      "execution_count": 28
    },
    {
      "id": "8e18a35e",
      "cell_type": "markdown",
      "metadata": {
        "execution": {}
      },
      "source": "Here are a few queries that you can test side by side against. Overall you will notice an average of 4x improvement in performance",
      "attachments": {}
    },
    {
      "id": "e706e8ed",
      "cell_type": "code",
      "metadata": {
        "execution": {},
        "language": "python"
      },
      "source": "sql_query4 = sa.text('''\nSELECT\n    o_orderpriority,\n    COUNT(*) AS order_count\nFROM\n    s2_tpch_unoptimized.orders\nWHERE\n    o_orderdate \u003e= DATE('1993-07-01')\n    AND o_orderdate \u003c DATE('1993-10-01')\n    AND EXISTS (\n        SELECT *\n        FROM s2_tpch_unoptimized.lineitem\n        WHERE l_orderkey = o_orderkey AND l_commitdate \u003c l_receiptdate\n    )\nGROUP BY o_orderpriority\nORDER BY o_orderpriority;\n''')",
      "outputs": [],
      "execution_count": 29
    },
    {
      "id": "1bc671a3",
      "cell_type": "code",
      "metadata": {
        "execution": {},
        "language": "python"
      },
      "source": "sql_query21 = sa.text('''\nSELECT\n    s_name,\n    COUNT(*) AS numwait\nFROM\n    supplier,\n    lineitem l1,\n    orders,\n    nation\nWHERE\n    s_suppkey = l1.l_suppkey\n    AND o_orderkey = l1.l_orderkey\n    AND o_orderstatus = 'F'\n    AND l1.l_receiptdate \u003e l1.l_commitdate\n    AND EXISTS (\n        SELECT\n            *\n        FROM\n            lineitem l2\n        WHERE\n            l2.l_orderkey = l1.l_orderkey\n            AND l2.l_suppkey \u003c\u003e l1.l_suppkey\n        )\n        AND NOT EXISTS (\n            SELECT\n                *\n            FROM\n                lineitem l3\n            WHERE\n                l3.l_orderkey = l1.l_orderkey\n                AND l3.l_suppkey \u003c\u003e l1.l_suppkey\n                AND l3.l_receiptdate \u003e l3.l_commitdate\n        )\n        AND s_nationkey = n_nationkey\n        AND n_name = 'EGYPT'\nGROUP BY\n    s_name\nORDER BY\n    numwait desc,\n    s_name\nLIMIT 100;\n''')",
      "outputs": [],
      "execution_count": 30
    },
    {
      "id": "d0e27e11",
      "cell_type": "code",
      "metadata": {
        "execution": {},
        "language": "python"
      },
      "source": "result = db_connection_optimized.execute(sql_query21)",
      "outputs": [],
      "execution_count": 31
    },
    {
      "id": "34309401",
      "cell_type": "code",
      "metadata": {
        "execution": {},
        "language": "python"
      },
      "source": "import time\nimport pandas as pd\nimport plotly.graph_objs as go\n\nnum_iterations = 10\nopt_times = []\n\nfor i in range(num_iterations):\n    opt_start_time = time.time()\n    opt_result = db_connection_optimized.execute(sql_query21)\n    opt_stop_time = time.time()\n    opt_times.append(opt_stop_time - opt_start_time)\n\nunopt_times = []\nfor i in range(num_iterations):\n    unopt_start_time = time.time()\n    unopt_result = db_connection_unoptimized.execute(sql_query21)\n    unopt_stop_time = time.time()\n    unopt_times.append(unopt_stop_time - unopt_start_time)\n\nx_axis = list(range(1, num_iterations + 1))\ndata = {\n    'iteration': x_axis,\n    'opt_times': opt_times,\n    'unopt_times': unopt_times,\n}\ndf = pd.DataFrame.from_dict(data)\n\nfig = go.Figure()\n\n# Adding optimized times to the plot\nfig.add_trace(go.Scatter(x=df['iteration'], y=df['opt_times'], mode='lines+markers', name='Optimized Database'))\n\n# Adding unoptimized times to the plot\nfig.add_trace(go.Scatter(x=df['iteration'], y=df['unopt_times'], mode='lines+markers', name='Unoptimized Database'))\n\n# Update y-axis and x-axis properties\nfig.update_layout(\n    title=\"Execution Time Comparison\",\n    xaxis_title=\"Iteration\",\n    yaxis_title=\"Time in Seconds\",\n    xaxis=dict(tickmode='array', tickvals=list(range(1, num_iterations + 1)))\n)\n\n# Show the plot\nfig.show()",
      "outputs": [],
      "execution_count": 32
    },
    {
      "id": "a4d98441",
      "cell_type": "markdown",
      "metadata": {
        "execution": {}
      },
      "source": "\u003cdiv id=\"singlestore-footer\" style=\"background-color: rgba(194, 193, 199, 0.25); height:2px; margin-bottom:10px\"\u003e\u003c/div\u003e\n\u003cdiv\u003e\u003cimg src=\"https://raw.githubusercontent.com/singlestore-labs/spaces-notebooks/master/common/images/singlestore-logo-grey.png\" style=\"padding: 0px; margin: 0px; height: 24px\"/\u003e\u003c/div\u003e",
      "attachments": {}
    }
  ],
  "metadata": {
    "kernelspec": {
      "display_name": "Python 3 (ipykernel)",
      "language": "python",
      "name": "python3"
    },
    "language_info": {
      "codemirror_mode": {
        "name": "ipython",
        "version": 3
      },
      "file_extension": ".py",
      "mimeType": "text/x-python",
      "name": "python",
      "nbconvert_exporter": "python",
      "pygments_lexer": "ipython3",
      "version": "3.11.9"
    },
    "jupyterlab": {
      "notebooks": {
        "version_major": 6,
        "version_minor": 4
      }
    },
    "singlestore_connection": {
      "connectionID": "",
      "defaultDatabase": ""
    },
    "singlestore_cell_default_language": "python",
    "singlestore_row_limit": 300
  },
  "nbformat": 4,
  "nbformat_minor": 5
}