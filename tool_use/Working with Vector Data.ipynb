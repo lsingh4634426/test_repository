{
  "cells": [
    {
      "id": "3360077f",
      "cell_type": "markdown",
      "metadata": {
        "execution": {}
      },
      "source": "\u003cdiv id=\"singlestore-header\" style=\"display: flex; background-color: rgba(235, 249, 245, 0.25); padding: 5px;\"\u003e\n    \u003cdiv id=\"icon-image\" style=\"width: 90px; height: 90px;\"\u003e\n        \u003cimg width=\"100%\" height=\"100%\" src=\"https://raw.githubusercontent.com/singlestore-labs/spaces-notebooks/master/common/images/header-icons/browser.png\" /\u003e\n    \u003c/div\u003e\n    \u003cdiv id=\"text\" style=\"padding: 5px; margin-left: 10px;\"\u003e\n        \u003cdiv id=\"badge\" style=\"display: inline-block; background-color: rgba(0, 0, 0, 0.15); border-radius: 4px; padding: 4px 8px; align-items: center; margin-top: 6px; margin-bottom: -2px; font-size: 80%\"\u003eSingleStore Notebooks\u003c/div\u003e\n        \u003ch1 style=\"font-weight: 500; margin: 8px 0 0 4px;\"\u003eWorking with Vector Data\u003c/h1\u003e\n    \u003c/div\u003e\n\u003c/div\u003e",
      "attachments": {}
    },
    {
      "id": "fc325bcb",
      "cell_type": "markdown",
      "metadata": {
        "execution": {}
      },
      "source": "\u003cdiv class=\"alert alert-block alert-warning\"\u003e\n    \u003cb class=\"fa fa-solid fa-exclamation-circle\"\u003e\u003c/b\u003e\n    \u003cdiv\u003e\n        \u003cp\u003e\u003cb\u003eNote\u003c/b\u003e\u003c/p\u003e\n        \u003cp\u003eThis notebook can be run on a Free Starter Workspace. To create a Free Starter Workspace navigate to \u003ctt\u003eStart\u003c/tt\u003e using the left nav. You can also use your existing Standard or Premium workspace with this Notebook.\u003c/p\u003e\n    \u003c/div\u003e\n\u003c/div\u003e",
      "attachments": {}
    },
    {
      "id": "be8595c6",
      "cell_type": "markdown",
      "metadata": {
        "execution": {}
      },
      "source": "Using vector embeddings has become popular recently, but getting vector data into your\ndatabase can leave you with a lot of questions. This notebook shows various ways to\nload vectors into SingleStoreDB from Python using the Python client, SQLAlchemy, pandas,\nand the SQL magic commaands. It covers vectors in the form of numpy arrays or Python lists\nof numerics.\n\nWe'll use the following function to reset the vector data table between examples.",
      "attachments": {}
    },
    {
      "id": "d510653d",
      "cell_type": "code",
      "metadata": {
        "execution": {},
        "language": "python"
      },
      "source": "def reset_table():\n    \"\"\"Reset the table for use in the examples below.\"\"\"\n    with s2.connect() as conn:\n        with conn.cursor() as cur:\n            cur.execute('DROP TABLE IF EXISTS vectors;')\n            cur.execute(r'''\n                CREATE TABLE vectors (\n                    vec_f32 BLOB\n                );\n            ''')",
      "outputs": [],
      "execution_count": 1
    },
    {
      "id": "e8e5c551",
      "cell_type": "markdown",
      "metadata": {
        "execution": {}
      },
      "source": "At any time, if you want to see the actual query being sent to the database, you can set the following\nenvironment variable before making the query to the server.",
      "attachments": {}
    },
    {
      "id": "cb254279",
      "cell_type": "code",
      "metadata": {
        "execution": {},
        "language": "python"
      },
      "source": "import os\n\n# os.environ['SINGLESTOREDB_DEBUG_QUERIES'] = '1'",
      "outputs": [],
      "execution_count": 2
    },
    {
      "id": "8ebe9269",
      "cell_type": "markdown",
      "metadata": {
        "execution": {}
      },
      "source": "\u003cdiv class=\"alert alert-block alert-warning\"\u003e\n    \u003cb class=\"fa fa-solid fa-exclamation-circle\"\u003e\u003c/b\u003e\n    \u003cdiv\u003e\n        \u003cp\u003e\u003cb\u003eAction Required\u003c/b\u003e\u003c/p\u003e\n        \u003cp\u003e If you have a Free Starter Workspace deployed already, select the database from drop-down menu at the top of this notebook. It updates the \u003ctt\u003econnection_url\u003c/tt\u003e to connect to that database.\u003c/p\u003e\n    \u003c/div\u003e\n\u003c/div\u003e",
      "attachments": {}
    },
    {
      "id": "a137c9ec",
      "cell_type": "markdown",
      "metadata": {
        "execution": {}
      },
      "source": "Create a database for our examples.",
      "attachments": {}
    },
    {
      "id": "cff6e948",
      "cell_type": "code",
      "metadata": {
        "execution": {},
        "language": "python"
      },
      "source": "shared_tier_check = %sql show variables like 'is_shared_tier'\nif not shared_tier_check or shared_tier_check[0][1] == 'OFF':\n    %sql DROP DATABASE IF EXISTS vector_data;\n    %sql CREATE DATABASE vector_data;",
      "outputs": [],
      "execution_count": 3
    },
    {
      "id": "0082edbf",
      "cell_type": "markdown",
      "metadata": {
        "execution": {}
      },
      "source": "\u003cdiv class=\"alert alert-block alert-warning\"\u003e\n    \u003cb class=\"fa fa-solid fa-exclamation-circle\"\u003e\u003c/b\u003e\n    \u003cdiv\u003e\n        \u003cp\u003e\u003cb\u003eAction Required\u003c/b\u003e\u003c/p\u003e\n        \u003cp\u003eMake sure to select the vector_data database from the drop-down menu at the top of this notebook. It updates the connection_url which is used by the %%sql magic command and SQLAlchemy to make connections to the selected database.\u003c/p\u003e\n    \u003c/div\u003e\n\u003c/div\u003e",
      "attachments": {}
    },
    {
      "id": "ee33fc8b",
      "cell_type": "markdown",
      "metadata": {
        "execution": {}
      },
      "source": "## Generate numpy arrays containing vector data\n\nThe code belowe generates 1,000 rows of 10 random 32-bit float numbers in a numpy array.\nThis data will be used in the following examples.",
      "attachments": {}
    },
    {
      "id": "9e673f32",
      "cell_type": "code",
      "metadata": {
        "execution": {},
        "language": "python"
      },
      "source": "import numpy as np",
      "outputs": [],
      "execution_count": 4
    },
    {
      "id": "a4bcc69a",
      "cell_type": "code",
      "metadata": {
        "execution": {},
        "language": "python"
      },
      "source": "vec_f32 = [np.random.rand(10).astype(np.float32) for _ in range(1000)]\nvec_f32[:3]",
      "outputs": [],
      "execution_count": 5
    },
    {
      "id": "897a7548",
      "cell_type": "markdown",
      "metadata": {
        "execution": {}
      },
      "source": "### Create a Python list of float values from the numpy array\n\nWe will show how to work with both numpy arrays and Python lists in the following examples.\nThis cell creates a list of Python lists of floats equivalent to the numpy arrays above.",
      "attachments": {}
    },
    {
      "id": "e7796c8b",
      "cell_type": "code",
      "metadata": {
        "execution": {},
        "language": "python"
      },
      "source": "vec_f32_list = [list([float(y) for y in x]) for x in vec_f32]\nvec_f32_list[:3]",
      "outputs": [],
      "execution_count": 6
    },
    {
      "id": "61603e2f",
      "cell_type": "markdown",
      "metadata": {
        "execution": {}
      },
      "source": "## Upload and downloading data to SingleStoreDB\n\nIn the following sections, we'll describe how to use the SingleStoreDB Python client, SQLAlchemy, the `%%sql` magic,\nand pandas to upload and download vector data.",
      "attachments": {}
    },
    {
      "id": "be41864b",
      "cell_type": "markdown",
      "metadata": {
        "execution": {}
      },
      "source": "### Using SingleStoreDB Python client",
      "attachments": {}
    },
    {
      "id": "1fb204e1",
      "cell_type": "code",
      "metadata": {
        "execution": {},
        "language": "python"
      },
      "source": "import singlestoredb as s2\n\nconn = s2.connect()\ncursor = conn.cursor()",
      "outputs": [],
      "execution_count": 7
    },
    {
      "id": "661762a8",
      "cell_type": "markdown",
      "metadata": {
        "execution": {}
      },
      "source": "#### Working with numpy arrays",
      "attachments": {}
    },
    {
      "id": "4a965d17",
      "cell_type": "markdown",
      "metadata": {
        "execution": {}
      },
      "source": "The SingleStoreDB Python client supports numpy arrays natively. If a numpy array is passed as a parameter to a query,\nit will be converted to a byte string containing the contents of the array. The data type of the numpy array is\npreserved, so you need to ensure that it is the proper numpy dtype before uploading. You can change the data type\nof a numpy array by using the `astype` method.",
      "attachments": {}
    },
    {
      "id": "aa3823b6",
      "cell_type": "code",
      "metadata": {
        "execution": {},
        "language": "python"
      },
      "source": "reset_table()",
      "outputs": [],
      "execution_count": 8
    },
    {
      "id": "1b719316",
      "cell_type": "markdown",
      "metadata": {
        "execution": {}
      },
      "source": "Recall that `vec_f32` contained numpy arrays of float32 values.",
      "attachments": {}
    },
    {
      "id": "6803d53a",
      "cell_type": "code",
      "metadata": {
        "execution": {},
        "language": "python"
      },
      "source": "vec_f32[:3]",
      "outputs": [],
      "execution_count": 9
    },
    {
      "id": "ec0bbe37",
      "cell_type": "markdown",
      "metadata": {
        "execution": {}
      },
      "source": "The `executemany` method will insert multiple rows of data in a single SQL query.",
      "attachments": {}
    },
    {
      "id": "4aa8a6e7",
      "cell_type": "code",
      "metadata": {
        "execution": {},
        "language": "python"
      },
      "source": "cursor.executemany('INSERT INTO vectors(vec_f32) VALUES (%s)', vec_f32)",
      "outputs": [],
      "execution_count": 10
    },
    {
      "id": "de75eb11",
      "cell_type": "markdown",
      "metadata": {
        "execution": {}
      },
      "source": "To download the vector data from SingleStoreDB, you simple execute a `SELECT` statement. The data is held in\nblob columns, so the result will simply contain byte strings.",
      "attachments": {}
    },
    {
      "id": "c40853f5",
      "cell_type": "code",
      "metadata": {
        "execution": {},
        "language": "python"
      },
      "source": "cursor.execute('SELECT vec_f32 FROM vectors LIMIT 5')",
      "outputs": [],
      "execution_count": 11
    },
    {
      "id": "819ab832",
      "cell_type": "markdown",
      "metadata": {
        "execution": {}
      },
      "source": "Since we want to use the data as numpy arrays, we can \"reconstitute\" the arrays as we read the data using the `np.frombuffer` function.",
      "attachments": {}
    },
    {
      "id": "204ac834",
      "cell_type": "code",
      "metadata": {
        "execution": {},
        "language": "python"
      },
      "source": "out_f32 = [np.frombuffer(x[0], dtype=np.float32) for x in cursor]\nout_f32",
      "outputs": [],
      "execution_count": 12
    },
    {
      "id": "aceed0cb",
      "cell_type": "markdown",
      "metadata": {
        "execution": {}
      },
      "source": "#### Working with Python lists\n\nIt is also possible to upload Python lists without going through a numpy array using the [struct](https://docs.python.org/3/library/struct.html) package. In this method, we convert\nthe floats to a byte string and pass that byte string as the parameter to the `INSERT` statement. The possible format codes are as follows.\nThe little-endian indicator (`\u003c`) should also be used.\n\n* f - float32\n* d - float64\n* b - int8\n* h - int16\n* l - int32\n* q - int64",
      "attachments": {}
    },
    {
      "id": "5118e2c1",
      "cell_type": "code",
      "metadata": {
        "execution": {},
        "language": "python"
      },
      "source": "reset_table()",
      "outputs": [],
      "execution_count": 13
    },
    {
      "id": "bd0686c1",
      "cell_type": "code",
      "metadata": {
        "execution": {},
        "language": "python"
      },
      "source": "import struct\n\n# Construct the format for a vector of 10 32-bit floats, in this case it is '\u003c10f'\nfmt = '\u003c{}f'.format(len(vec_f32_list[0]))\n\nvec_f32_list_bytes = [struct.pack(fmt, *x) for x in vec_f32_list]\nvec_f32_list_bytes[:3]",
      "outputs": [],
      "execution_count": 14
    },
    {
      "id": "1e684f2d",
      "cell_type": "markdown",
      "metadata": {
        "execution": {}
      },
      "source": "##### The `INSERT` and `SELECT` code is the same as for numy arrays",
      "attachments": {}
    },
    {
      "id": "57b00249",
      "cell_type": "code",
      "metadata": {
        "execution": {},
        "language": "python"
      },
      "source": "cursor.executemany('INSERT INTO vectors(vec_f32) VALUES (%s)', vec_f32_list_bytes)",
      "outputs": [],
      "execution_count": 15
    },
    {
      "id": "f87d2f25",
      "cell_type": "code",
      "metadata": {
        "execution": {},
        "language": "python"
      },
      "source": "cursor.execute('SELECT vec_f32 FROM vectors LIMIT 5')",
      "outputs": [],
      "execution_count": 16
    },
    {
      "id": "27af11b3",
      "cell_type": "markdown",
      "metadata": {
        "execution": {}
      },
      "source": "To unpack the rows as Python lists, we use the `struct` package again.",
      "attachments": {}
    },
    {
      "id": "e874b93f",
      "cell_type": "code",
      "metadata": {
        "execution": {},
        "language": "python"
      },
      "source": "out_f32_list = [list(struct.unpack(fmt, x[0])) for x in cursor]\nout_f32_list[:3]",
      "outputs": [],
      "execution_count": 17
    },
    {
      "id": "4bd95c3f",
      "cell_type": "markdown",
      "metadata": {
        "execution": {}
      },
      "source": "### Using SQLAlchemy\n\nIn order to use SingleStoreDB with SQLAlchemy, you need to install the `sqlalchemy-singlestoredb` dialect as follows.\n\n```\npip install sqlalchemy-singlestoredb\n```",
      "attachments": {}
    },
    {
      "id": "b8efd4ff",
      "cell_type": "code",
      "metadata": {
        "execution": {},
        "language": "python"
      },
      "source": "import sqlalchemy as sa\n\neng = sa.create_engine(connection_url)\nconn = eng.connect()",
      "outputs": [],
      "execution_count": 18
    },
    {
      "id": "3571d297",
      "cell_type": "markdown",
      "metadata": {
        "execution": {}
      },
      "source": "The SQLAlchemy method works much like the SingleStoreDB method. However, SQLAlchemy (v2+) requires parameters to be\nin a dictionary, and the substitution syntax is of the form `:var_name` where 'var_name' in the key in the dictionary.",
      "attachments": {}
    },
    {
      "id": "af7ab775",
      "cell_type": "markdown",
      "metadata": {
        "execution": {}
      },
      "source": "#### Working with numpy arrays",
      "attachments": {}
    },
    {
      "id": "eac86f33",
      "cell_type": "code",
      "metadata": {
        "execution": {},
        "language": "python"
      },
      "source": "reset_table()",
      "outputs": [],
      "execution_count": 19
    },
    {
      "id": "1d10b9b3",
      "cell_type": "markdown",
      "metadata": {
        "execution": {}
      },
      "source": "SQLAlchemy requires you to construct the query as a `sa.text` object. Parameters for inserting multple\nrows are in a list of dictionaries.",
      "attachments": {}
    },
    {
      "id": "79903d6c",
      "cell_type": "code",
      "metadata": {
        "execution": {},
        "language": "python"
      },
      "source": "query = sa.text('INSERT INTO vectors(vec_f32) VALUES (:vec_f32)')\nconn.execute(query, [dict(vec_f32=x) for x in vec_f32])",
      "outputs": [],
      "execution_count": 20
    },
    {
      "id": "efe51fac",
      "cell_type": "markdown",
      "metadata": {
        "execution": {}
      },
      "source": "Selecting the data works much as before as well.",
      "attachments": {}
    },
    {
      "id": "7c938e0f",
      "cell_type": "code",
      "metadata": {
        "execution": {},
        "language": "python"
      },
      "source": "result = conn.execute(sa.text('SELECT vec_f32 FROM vectors LIMIT 5'))",
      "outputs": [],
      "execution_count": 21
    },
    {
      "id": "71b25150",
      "cell_type": "markdown",
      "metadata": {
        "execution": {}
      },
      "source": "We can use the `np.frombuffer` function again to convert the byte strings to numpy arrays.",
      "attachments": {}
    },
    {
      "id": "54996a5e",
      "cell_type": "code",
      "metadata": {
        "execution": {},
        "language": "python"
      },
      "source": "out_f32 = [np.frombuffer(x[0], dtype=np.float32) for x in result]\nout_f32",
      "outputs": [],
      "execution_count": 22
    },
    {
      "id": "ed7d05d0",
      "cell_type": "markdown",
      "metadata": {
        "execution": {}
      },
      "source": "#### Working with Python lists\n\nTo upload Python lists of values, you use the `struct` package to construct the byte strings as described in the\n\"Uploading Python Lists\" in the previous section. The rest of the code here stays the same with the exception of\nreplacing `vec_f32` with `vec_f32_list_bytes` as the query parameter for the `INSERT` query.",
      "attachments": {}
    },
    {
      "id": "72fa16ed",
      "cell_type": "code",
      "metadata": {
        "execution": {},
        "language": "python"
      },
      "source": "reset_table()",
      "outputs": [],
      "execution_count": 23
    },
    {
      "id": "38b2a3b9",
      "cell_type": "markdown",
      "metadata": {
        "execution": {}
      },
      "source": "Recall that we create a list of bytes (vector) objects in the previous example. This list of vectors\ncan be passed to the `INSERT` as well as numpy arrays.",
      "attachments": {}
    },
    {
      "id": "a53b2b6e",
      "cell_type": "code",
      "metadata": {
        "execution": {},
        "language": "python"
      },
      "source": "vec_f32_list_bytes[:3]",
      "outputs": [],
      "execution_count": 24
    },
    {
      "id": "fbb57f59",
      "cell_type": "code",
      "metadata": {
        "execution": {},
        "language": "python"
      },
      "source": "query = sa.text('INSERT INTO vectors(vec_f32) VALUES (:vec_f32)')\nconn.execute(query, [dict(vec_f32=x) for x in vec_f32_list_bytes])",
      "outputs": [],
      "execution_count": 25
    },
    {
      "id": "b313ed55",
      "cell_type": "code",
      "metadata": {
        "execution": {},
        "language": "python"
      },
      "source": "result = conn.execute(sa.text('SELECT vec_f32 FROM vectors LIMIT 5'))",
      "outputs": [],
      "execution_count": 26
    },
    {
      "id": "cf84d2e3",
      "cell_type": "markdown",
      "metadata": {
        "execution": {}
      },
      "source": "Unpacking the Python lists works as before as well.",
      "attachments": {}
    },
    {
      "id": "bc631b99",
      "cell_type": "code",
      "metadata": {
        "execution": {},
        "language": "python"
      },
      "source": "out_f32_list = [list(struct.unpack(fmt, x[0])) for x in result]\nout_f32_list[:3]",
      "outputs": [],
      "execution_count": 27
    },
    {
      "id": "b155d866",
      "cell_type": "markdown",
      "metadata": {
        "execution": {}
      },
      "source": "### Using pandas\n\nThe pandas package has utilities for working with databases. The two primary methods / functions are\n`DataFrame.to_sql` which uploads `DataFrame` data to a table, and `pd.read_sql` which downloads\ndata from a table.",
      "attachments": {}
    },
    {
      "id": "baf5fcda",
      "cell_type": "code",
      "metadata": {
        "execution": {},
        "language": "python"
      },
      "source": "reset_table()",
      "outputs": [],
      "execution_count": 28
    },
    {
      "id": "39d002fc",
      "cell_type": "code",
      "metadata": {
        "execution": {},
        "language": "python"
      },
      "source": "import pandas as pd",
      "outputs": [],
      "execution_count": 29
    },
    {
      "id": "c007ade3",
      "cell_type": "markdown",
      "metadata": {
        "execution": {}
      },
      "source": "First, we'll create a pandas `DataFrame` with our numpy arrays.",
      "attachments": {}
    },
    {
      "id": "2960dc61",
      "cell_type": "markdown",
      "metadata": {
        "execution": {}
      },
      "source": "#### Working with numpy arrays",
      "attachments": {}
    },
    {
      "id": "8be6c7de",
      "cell_type": "code",
      "metadata": {
        "execution": {},
        "language": "python"
      },
      "source": "df = pd.DataFrame(dict(vec_f32=pd.Series(vec_f32)))\ndf.head()",
      "outputs": [],
      "execution_count": 30
    },
    {
      "id": "ddd90e18",
      "cell_type": "markdown",
      "metadata": {
        "execution": {}
      },
      "source": "We can use the `to_sql` method of the `DataFrame` to upload the data. Notice that we are using the SQLAlchemy\nconnection we created in the previous section as the `con` parameter.",
      "attachments": {}
    },
    {
      "id": "fb056253",
      "cell_type": "code",
      "metadata": {
        "execution": {},
        "language": "python"
      },
      "source": "df.to_sql('vectors', con=conn, if_exists='append', index=False)",
      "outputs": [],
      "execution_count": 31
    },
    {
      "id": "3f442526",
      "cell_type": "markdown",
      "metadata": {
        "execution": {}
      },
      "source": "To read the data, we use the `read_sql` function. As before, we are getting byte strings back that will need to be\nconverted into numpy arrays.",
      "attachments": {}
    },
    {
      "id": "d1042b11",
      "cell_type": "code",
      "metadata": {
        "execution": {},
        "language": "python"
      },
      "source": "out_df = pd.read_sql('vectors', con=conn)\nout_df.head(3)",
      "outputs": [],
      "execution_count": 32
    },
    {
      "id": "3c1b00d0",
      "cell_type": "markdown",
      "metadata": {
        "execution": {}
      },
      "source": "We apply the `np.frombuffer` function to each element in the `vec_f32` column to reconstruct the numpy array.",
      "attachments": {}
    },
    {
      "id": "4ffcbed9",
      "cell_type": "code",
      "metadata": {
        "execution": {},
        "language": "python"
      },
      "source": "out_df['vec_f32'] = out_df['vec_f32'].apply(lambda x: np.frombuffer(x, dtype=np.float32))",
      "outputs": [],
      "execution_count": 33
    },
    {
      "id": "1c395e87",
      "cell_type": "code",
      "metadata": {
        "execution": {},
        "language": "python"
      },
      "source": "out_df.head(3)",
      "outputs": [],
      "execution_count": 34
    },
    {
      "id": "5bdc0a63",
      "cell_type": "markdown",
      "metadata": {
        "execution": {}
      },
      "source": "#### Working with Python lists\n\nBecause Python lists are not typed arrays like numpy arrays, we have to convert them to bytes before\nuploading them.",
      "attachments": {}
    },
    {
      "id": "30dcb4d6",
      "cell_type": "code",
      "metadata": {
        "execution": {},
        "language": "python"
      },
      "source": "reset_table()",
      "outputs": [],
      "execution_count": 35
    },
    {
      "id": "1795d15b",
      "cell_type": "markdown",
      "metadata": {
        "execution": {}
      },
      "source": "Construct a `DataFrame` using Python lists as the data.",
      "attachments": {}
    },
    {
      "id": "6801590c",
      "cell_type": "code",
      "metadata": {
        "execution": {},
        "language": "python"
      },
      "source": "df = pd.DataFrame(dict(vec_f32=vec_f32_list))\ndf.head(3)",
      "outputs": [],
      "execution_count": 36
    },
    {
      "id": "fd1dde1a",
      "cell_type": "markdown",
      "metadata": {
        "execution": {}
      },
      "source": "Note that we are using our `fmt` value from a previous section to convert the Python lists\nto bytes using `struct.pack`.",
      "attachments": {}
    },
    {
      "id": "9032ca0d",
      "cell_type": "code",
      "metadata": {
        "execution": {},
        "language": "python"
      },
      "source": "fmt",
      "outputs": [],
      "execution_count": 37
    },
    {
      "id": "e3a201cf",
      "cell_type": "code",
      "metadata": {
        "execution": {},
        "language": "python"
      },
      "source": "df['vec_f32'] = df['vec_f32'].apply(lambda x: struct.pack(fmt, *x))",
      "outputs": [],
      "execution_count": 38
    },
    {
      "id": "39870bf8",
      "cell_type": "code",
      "metadata": {
        "execution": {},
        "language": "python"
      },
      "source": "df['vec_f32'].head(3)",
      "outputs": [],
      "execution_count": 39
    },
    {
      "id": "8cfe7184",
      "cell_type": "markdown",
      "metadata": {
        "execution": {}
      },
      "source": "Use the `to_sql` method to upload the `DataFrame`.",
      "attachments": {}
    },
    {
      "id": "730f4fb0",
      "cell_type": "code",
      "metadata": {
        "execution": {},
        "language": "python"
      },
      "source": "df.to_sql('vectors', con=conn, if_exists='append', index=False)",
      "outputs": [],
      "execution_count": 40
    },
    {
      "id": "6fb53006",
      "cell_type": "code",
      "metadata": {
        "execution": {},
        "language": "python"
      },
      "source": "out_df = pd.read_sql('vectors', con=conn)\nout_df.head(3)",
      "outputs": [],
      "execution_count": 41
    },
    {
      "id": "635e86c5",
      "cell_type": "markdown",
      "metadata": {
        "execution": {}
      },
      "source": "We now have to convert the byte strings back to Python lists.",
      "attachments": {}
    },
    {
      "id": "56830c9e",
      "cell_type": "code",
      "metadata": {
        "execution": {},
        "language": "python"
      },
      "source": "out_df['vec_f32'] = out_df['vec_f32'].apply(lambda x: list(struct.unpack(fmt, x)))",
      "outputs": [],
      "execution_count": 42
    },
    {
      "id": "5ab374a5",
      "cell_type": "code",
      "metadata": {
        "execution": {},
        "language": "python"
      },
      "source": "out_df.head(3)",
      "outputs": [],
      "execution_count": 43
    },
    {
      "id": "4e511cf8",
      "cell_type": "markdown",
      "metadata": {
        "execution": {}
      },
      "source": "### Using the `%%sql` / `%sql` magic commands\n\nWhile the SQL magic commands are convenient for invoking basic SQL commands, they aren't quite as good\nfor complex queries that insert data. The primary issue is that you must construct the query as a string\nand ensure that all of your data is properly escaped. We'll demonstrate some basics here, but the\nmethods described in the previous sections are likely to work better.",
      "attachments": {}
    },
    {
      "id": "934a4e48",
      "cell_type": "code",
      "metadata": {
        "execution": {},
        "language": "python"
      },
      "source": "reset_table()",
      "outputs": [],
      "execution_count": 44
    },
    {
      "id": "fbd5e5f3",
      "cell_type": "markdown",
      "metadata": {
        "execution": {}
      },
      "source": "#### Working with numpy arrays or Python lists\n\nThe SQL magic commands do not do any of the automatic conversions of data to query parameters, so this must be done\nmanually before creating the query. This is done the same way whether the source is numpy arrays or Python lists.\nIn either case, you must convert the objects to byte strings as we have in the previous sections, then convert that\nbyte string into a hex literal that can be used in the query.",
      "attachments": {}
    },
    {
      "id": "420aa346",
      "cell_type": "code",
      "metadata": {
        "execution": {},
        "language": "python"
      },
      "source": "# Convert an element of the numpy array to a hex string\nvec_f32[0].tobytes().hex()",
      "outputs": [],
      "execution_count": 45
    },
    {
      "id": "9b7b6edd",
      "cell_type": "code",
      "metadata": {
        "execution": {},
        "language": "python"
      },
      "source": "# Convert an element of the Python list to a hex string\nstruct.pack(fmt, *vec_f32_list[0]).hex()",
      "outputs": [],
      "execution_count": 46
    },
    {
      "id": "09fed577",
      "cell_type": "markdown",
      "metadata": {
        "execution": {}
      },
      "source": "To construct the query string for the `%%sql` command, we need to build the entire list of values to insert\nin a separate step. We'll insert the `X` at the beginning of the string to indicate a hex literal to\nSingleStoreDB. We'll also add the parentheses around the value for inserting multiple rows of data using\nthe `INSERT` statement.",
      "attachments": {}
    },
    {
      "id": "9354ce86",
      "cell_type": "code",
      "metadata": {
        "execution": {},
        "language": "python"
      },
      "source": "params = [\"(X'{}')\".format(x.tobytes().hex()) for x in vec_f32]\nparams[:3]",
      "outputs": [],
      "execution_count": 47
    },
    {
      "id": "953fe4bb",
      "cell_type": "code",
      "metadata": {
        "execution": {},
        "language": "python"
      },
      "source": "%%sql\nINSERT INTO vectors(vec_f32) VALUES {{ ','.join(params) }}",
      "outputs": [],
      "execution_count": 48
    },
    {
      "id": "896d16f5",
      "cell_type": "markdown",
      "metadata": {
        "execution": {}
      },
      "source": "We can now select the data.",
      "attachments": {}
    },
    {
      "id": "e864790d",
      "cell_type": "code",
      "metadata": {
        "execution": {},
        "language": "python"
      },
      "source": "%%sql out \u003c\u003c\nSELECT * FROM vectors LIMIT 5",
      "outputs": [],
      "execution_count": 49
    },
    {
      "id": "884c0468",
      "cell_type": "code",
      "metadata": {
        "execution": {},
        "language": "python"
      },
      "source": "out",
      "outputs": [],
      "execution_count": 50
    },
    {
      "id": "552f374d",
      "cell_type": "markdown",
      "metadata": {
        "execution": {}
      },
      "source": "At this point, there is nothing we can do with SQL magic commands to convert the data back into numpy arrays or Python\nlists. We need to drop to Python for that.",
      "attachments": {}
    },
    {
      "id": "f2d95030",
      "cell_type": "code",
      "metadata": {
        "execution": {},
        "language": "python"
      },
      "source": "out_df = pd.DataFrame(out)",
      "outputs": [],
      "execution_count": 51
    },
    {
      "id": "c04ef18a",
      "cell_type": "code",
      "metadata": {
        "execution": {},
        "language": "python"
      },
      "source": "out_df['vec_f32'] = out_df['vec_f32'].apply(lambda x: np.frombuffer(x, dtype=np.float32))",
      "outputs": [],
      "execution_count": 52
    },
    {
      "id": "8e58a2fd",
      "cell_type": "code",
      "metadata": {
        "execution": {},
        "language": "python"
      },
      "source": "out_df.head(3)",
      "outputs": [],
      "execution_count": 53
    },
    {
      "id": "739f94cb",
      "cell_type": "markdown",
      "metadata": {
        "execution": {}
      },
      "source": "### Using JSON\n\nIt is also possible to use JSON to create vectors, however, this method require serializing and deserializing JSON on either\nend which isn't quite a efficient as the techniques above. It also requires using the `JSON_ARRAY_PACK` and `JSON_ARRAY_UNPACK`\nfunctions in your queries to go back and forth between the vector bytes and JSON. Here is an example of inserting the\nPython list of floats.",
      "attachments": {}
    },
    {
      "id": "71f38575",
      "cell_type": "code",
      "metadata": {
        "execution": {},
        "language": "python"
      },
      "source": "import json",
      "outputs": [],
      "execution_count": 54
    },
    {
      "id": "71af63b7",
      "cell_type": "code",
      "metadata": {
        "execution": {},
        "language": "python"
      },
      "source": "params = ['(JSON_ARRAY_PACK(\"{}\"))'.format(json.dumps(x)) for x in vec_f32_list]\nparams[:3]",
      "outputs": [],
      "execution_count": 55
    },
    {
      "id": "e648cb2c",
      "cell_type": "code",
      "metadata": {
        "execution": {},
        "language": "python"
      },
      "source": "%%sql\nINSERT INTO vectors(vec_f32) VALUES {{ ','.join(params) }}",
      "outputs": [],
      "execution_count": 56
    },
    {
      "id": "e912c1bb",
      "cell_type": "markdown",
      "metadata": {
        "execution": {}
      },
      "source": "If you use the `JSON_ARRAY_UNPACK` function in your `SELECT` statement, you can download the data as JSON.",
      "attachments": {}
    },
    {
      "id": "3a6ce7d0",
      "cell_type": "code",
      "metadata": {
        "execution": {},
        "language": "python"
      },
      "source": "%%sql out \u003c\u003c\nSELECT JSON_ARRAY_UNPACK(vec_f32) AS 'vec_f32' FROM vectors LIMIT 5",
      "outputs": [],
      "execution_count": 57
    },
    {
      "id": "f573f194",
      "cell_type": "code",
      "metadata": {
        "execution": {},
        "language": "python"
      },
      "source": "out = pd.DataFrame(out)\nout",
      "outputs": [],
      "execution_count": 58
    },
    {
      "id": "9061e7dc",
      "cell_type": "code",
      "metadata": {
        "execution": {},
        "language": "python"
      },
      "source": "out['vec_f32'][0]",
      "outputs": [],
      "execution_count": 59
    },
    {
      "id": "76599526",
      "cell_type": "markdown",
      "metadata": {
        "execution": {}
      },
      "source": "Notice that since the data type of the column in the `SELECT` is JSON, it automatically gets converted to a Python list\nin the client.",
      "attachments": {}
    },
    {
      "id": "3a9c06c8",
      "cell_type": "code",
      "metadata": {
        "execution": {},
        "language": "python"
      },
      "source": "type(out['vec_f32'][0])",
      "outputs": [],
      "execution_count": 60
    },
    {
      "id": "c0fc8b03",
      "cell_type": "markdown",
      "metadata": {
        "execution": {}
      },
      "source": "## Conclusion\n\nAs you can see, there are various interfaces available for uploading and downloading vector data. Depending on\nwhich Python framework you are using and what format your data is in, you can pick and choose which\nmethods work for your use-case.",
      "attachments": {}
    },
    {
      "id": "a311f8cc",
      "cell_type": "markdown",
      "metadata": {
        "execution": {}
      },
      "source": "\u003cdiv class=\"alert alert-block alert-warning\"\u003e\n    \u003cb class=\"fa fa-solid fa-exclamation-circle\"\u003e\u003c/b\u003e\n    \u003cdiv\u003e\n        \u003cp\u003e\u003cb\u003eAction Required\u003c/b\u003e\u003c/p\u003e\n        \u003cp\u003e If you created a new database in your Standard or Premium Workspace, you can drop the database by running the cell below. Note: this will not drop your database for Free Starter Workspaces. To drop a Free Starter Workspace, terminate the Workspace using the UI. \u003c/p\u003e\n    \u003c/div\u003e\n\u003c/div\u003e",
      "attachments": {}
    },
    {
      "id": "f7c9d491",
      "cell_type": "code",
      "metadata": {
        "execution": {},
        "language": "python"
      },
      "source": "shared_tier_check = %sql show variables like 'is_shared_tier'\nif not shared_tier_check or shared_tier_check[0][1] == 'OFF':\n    %sql DROP DATABASE IF EXISTS vector_data;",
      "outputs": [],
      "execution_count": 61
    },
    {
      "id": "26f664c5",
      "cell_type": "markdown",
      "metadata": {
        "execution": {}
      },
      "source": "\u003cdiv id=\"singlestore-footer\" style=\"background-color: rgba(194, 193, 199, 0.25); height:2px; margin-bottom:10px\"\u003e\u003c/div\u003e\n\u003cdiv\u003e\u003cimg src=\"https://raw.githubusercontent.com/singlestore-labs/spaces-notebooks/master/common/images/singlestore-logo-grey.png\" style=\"padding: 0px; margin: 0px; height: 24px\"/\u003e\u003c/div\u003e",
      "attachments": {}
    }
  ],
  "metadata": {
    "kernelspec": {
      "display_name": "Python 3 (ipykernel)",
      "language": "python",
      "name": "python3"
    },
    "language_info": {
      "codemirror_mode": {
        "name": "ipython",
        "version": 3
      },
      "file_extension": ".py",
      "mimeType": "text/x-python",
      "name": "python",
      "nbconvert_exporter": "python",
      "pygments_lexer": "ipython3",
      "version": "3.11.9"
    },
    "singlestore_connection": {
      "connectionID": "",
      "defaultDatabase": ""
    },
    "singlestore_cell_default_language": "python",
    "singlestore_row_limit": 300
  },
  "nbformat": 4,
  "nbformat_minor": 5
}