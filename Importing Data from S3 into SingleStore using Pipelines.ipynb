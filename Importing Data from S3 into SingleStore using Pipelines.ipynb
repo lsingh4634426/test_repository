{
  "cells": [
    {
      "id": "c55dedcc",
      "cell_type": "markdown",
      "metadata": {
        "execution": {}
      },
      "source": "\u003cdiv id=\"singlestore-header\" style=\"display: flex; background-color: rgba(235, 249, 245, 0.25); padding: 5px;\"\u003e\n    \u003cdiv id=\"icon-image\" style=\"width: 90px; height: 90px;\"\u003e\n        \u003cimg width=\"100%\" height=\"100%\" src=\"https://raw.githubusercontent.com/singlestore-labs/spaces-notebooks/master/common/images/header-icons/database.png\" /\u003e\n    \u003c/div\u003e\n    \u003cdiv id=\"text\" style=\"padding: 5px; margin-left: 10px;\"\u003e\n        \u003cdiv id=\"badge\" style=\"display: inline-block; background-color: rgba(0, 0, 0, 0.15); border-radius: 4px; padding: 4px 8px; align-items: center; margin-top: 6px; margin-bottom: -2px; font-size: 80%\"\u003eSingleStore Notebooks\u003c/div\u003e\n        \u003ch1 style=\"font-weight: 500; margin: 8px 0 0 4px;\"\u003eImporting Data from S3 into SingleStore using Pipelines\u003c/h1\u003e\n    \u003c/div\u003e\n\u003c/div\u003e",
      "attachments": {}
    },
    {
      "id": "e8bf6bf1",
      "cell_type": "markdown",
      "metadata": {
        "execution": {}
      },
      "source": "\u003cdiv class=\"alert alert-block alert-warning\"\u003e\n    \u003cb class=\"fa fa-solid fa-exclamation-circle\"\u003e\u003c/b\u003e\n    \u003cdiv\u003e\n        \u003cp\u003e\u003cb\u003eNote\u003c/b\u003e\u003c/p\u003e\n        \u003cp\u003eThis notebook can be run on a Free Starter Workspace. To create a Free Starter Workspace navigate to \u003ctt\u003eStart\u003c/tt\u003e using the left nav. You can also use your existing Standard or Premium workspace with this Notebook.\u003c/p\u003e\n    \u003c/div\u003e\n\u003c/div\u003e",
      "attachments": {}
    },
    {
      "id": "4b3c156d",
      "cell_type": "markdown",
      "metadata": {
        "execution": {}
      },
      "source": "\u003cdiv class=\"alert alert-block alert-warning\"\u003e\n    \u003cb class=\"fa fa-solid fa-exclamation-circle\"\u003e\u003c/b\u003e\n    \u003cdiv\u003e\n        \u003cp\u003e\u003cb\u003eInput Credentials\u003c/b\u003e\u003c/p\u003e\n        \u003cp\u003eDefine the \u003cb\u003eURL\u003c/b\u003e, \u003cb\u003eREGION\u003c/b\u003e, \u003cb\u003eACCESS_KEY\u003c/b\u003e, and \u003cb\u003eSECRET_ACCESS_KEY\u003c/b\u003e variables below for integration, replacing the placeholder values with your own.\u003c/p\u003e\n    \u003c/div\u003e\n\u003c/div\u003e",
      "attachments": {}
    },
    {
      "id": "80939f42",
      "cell_type": "code",
      "metadata": {
        "execution": {},
        "language": "python"
      },
      "source": "URL = 's3://your-bucket-name/your-data-file.csv'\nREGION = 'your-region'\nACCESS_KEY = 'access_key_id'\nSECRET_ACCESS_KEY = 'access_secret_key'",
      "outputs": [],
      "execution_count": 1
    },
    {
      "id": "64fdd646",
      "cell_type": "markdown",
      "metadata": {
        "execution": {}
      },
      "source": "This notebook demonstrates how to create a sample table in SingleStore, set up a pipeline to import data from an Amazon S3 bucket, and run queries on the imported data. It is designed for users who want to integrate S3 data with SingleStore and explore the capabilities of pipelines for efficient data ingestion.",
      "attachments": {}
    },
    {
      "id": "85c97bbb",
      "cell_type": "markdown",
      "metadata": {
        "execution": {}
      },
      "source": "\u003ch3\u003ePipeline Flow Illustration\u003c/h3\u003e",
      "attachments": {}
    },
    {
      "id": "7b97f983",
      "cell_type": "markdown",
      "metadata": {
        "execution": {}
      },
      "source": "\u003cimg src=https://singlestoreloaddata.s3.ap-south-1.amazonaws.com/images/LoadDataCSV.png width=\"100%\" hight=\"50%\"/\u003e",
      "attachments": {}
    },
    {
      "id": "d1ea9458",
      "cell_type": "markdown",
      "metadata": {
        "execution": {}
      },
      "source": "##  Creating Table in SingleStore\n\nStart by creating a table that will hold the data imported from S3.",
      "attachments": {}
    },
    {
      "id": "66eb1b49",
      "cell_type": "code",
      "metadata": {
        "execution": {},
        "language": "python"
      },
      "source": "%%sql\n/* Feel free to change table name and schema */\n\nCREATE TABLE IF NOT EXISTS my_table (\n    id INT,\n    name VARCHAR(255),\n    age INT,\n    address TEXT,\n    created_at TIMESTAMP\n);",
      "outputs": [],
      "execution_count": 2
    },
    {
      "id": "3704a19a",
      "cell_type": "markdown",
      "metadata": {
        "execution": {}
      },
      "source": "## Create a Pipeline to Import Data from S3\n\nYou'll need to create a pipeline that pulls data from an S3 bucket into this table. This example assumes you have a CSV file in your S3 bucket.\n\n\u003ci\u003eEnsure that:\nYou have access to the S3 bucket.\nProper IAM roles or access keys are configured in SingleStore.\nThe CSV file has a structure that matches the table schema.\u003c/i\u003e",
      "attachments": {}
    },
    {
      "id": "83a75641",
      "cell_type": "markdown",
      "metadata": {
        "execution": {}
      },
      "source": "Using these identifiers and keys, execute the following statement.",
      "attachments": {}
    },
    {
      "id": "e88495e2",
      "cell_type": "code",
      "metadata": {
        "execution": {},
        "language": "python"
      },
      "source": "%%sql\nCREATE PIPELINE s3_import_pipeline\nAS LOAD DATA S3 '{{URL}}'\nCONFIG '{\\\"REGION\\\":\\\"{{REGION}}\\\"}'\nCREDENTIALS '{\\\"AWS_ACCESS_KEY_ID\\\": \\\"{{ACCESS_KEY}}\\\",\n               \\\"AWS_SECRET_ACCESS_KEY\\\": \\\"{{SECRET_ACCESS_KEY}}\\\"}'\nINTO TABLE my_table\nFIELDS TERMINATED BY ',' OPTIONALLY ENCLOSED BY '\\\"'\nLINES TERMINATED BY '\\n'\nIGNORE 1 lines;",
      "outputs": [],
      "execution_count": 3
    },
    {
      "id": "08781117",
      "cell_type": "markdown",
      "metadata": {
        "execution": {}
      },
      "source": "## Start the Pipeline\n\nTo start the pipeline and begin importing the data from the S3 bucket:",
      "attachments": {}
    },
    {
      "id": "adb89dc1",
      "cell_type": "code",
      "metadata": {
        "execution": {},
        "language": "python"
      },
      "source": "%%sql\nSTART PIPELINE s3_import_pipeline;",
      "outputs": [],
      "execution_count": 4
    },
    {
      "id": "15275805",
      "cell_type": "markdown",
      "metadata": {
        "execution": {}
      },
      "source": "## Select Data from the Table\n\nOnce the data has been imported, you can run a query to select it:",
      "attachments": {}
    },
    {
      "id": "f2855248",
      "cell_type": "code",
      "metadata": {
        "execution": {},
        "language": "python"
      },
      "source": "%%sql\nSELECT * FROM my_table LIMIT 10;",
      "outputs": [],
      "execution_count": 5
    },
    {
      "id": "ea34b089",
      "cell_type": "markdown",
      "metadata": {
        "execution": {}
      },
      "source": "### Check if all data of the data is loaded",
      "attachments": {}
    },
    {
      "id": "4e9023e8",
      "cell_type": "code",
      "metadata": {
        "execution": {},
        "language": "python"
      },
      "source": "%%sql\nSELECT count(*) FROM my_table",
      "outputs": [],
      "execution_count": 6
    },
    {
      "id": "236cb111",
      "cell_type": "markdown",
      "metadata": {
        "execution": {}
      },
      "source": "## Conclusion\n\nWe have shown how to insert data from a Amazon S3 using `Pipelines` to SingleStoreDB. These techniques should enable you to\nintegrate your Amazon S3 with SingleStoreDB.",
      "attachments": {}
    },
    {
      "id": "6d195418",
      "cell_type": "markdown",
      "metadata": {
        "execution": {}
      },
      "source": "## Clean up\n\nRemove the '#' to uncomment and execute the queries below to clean up the pipeline and table created.",
      "attachments": {}
    },
    {
      "id": "8eafa43e",
      "cell_type": "markdown",
      "metadata": {
        "execution": {}
      },
      "source": "#### Drop Pipeline",
      "attachments": {}
    },
    {
      "id": "451e80c9",
      "cell_type": "code",
      "metadata": {
        "execution": {},
        "language": "python"
      },
      "source": "%%sql\n#STOP PIPELINE s3_import_pipeline;\n\n#DROP PIPELINE s3_import_pipeline;",
      "outputs": [],
      "execution_count": 7
    },
    {
      "id": "ae825668",
      "cell_type": "markdown",
      "metadata": {
        "execution": {}
      },
      "source": "#### Drop Data",
      "attachments": {}
    },
    {
      "id": "3c4b631d",
      "cell_type": "code",
      "metadata": {
        "execution": {},
        "language": "python"
      },
      "source": "%%sql\n#DROP TABLE my_table;",
      "outputs": [],
      "execution_count": 8
    },
    {
      "id": "89365517",
      "cell_type": "markdown",
      "metadata": {
        "execution": {}
      },
      "source": "\u003cdiv id=\"singlestore-footer\" style=\"background-color: rgba(194, 193, 199, 0.25); height:2px; margin-bottom:10px\"\u003e\u003c/div\u003e\n\u003cdiv\u003e\u003cimg src=\"https://raw.githubusercontent.com/singlestore-labs/spaces-notebooks/master/common/images/singlestore-logo-grey.png\" style=\"padding: 0px; margin: 0px; height: 24px\"/\u003e\u003c/div\u003e",
      "attachments": {}
    }
  ],
  "metadata": {
    "kernelspec": {
      "display_name": "Python 3 (ipykernel)",
      "language": "python",
      "name": "python3"
    },
    "language_info": {
      "codemirror_mode": {
        "name": "ipython",
        "version": 3
      },
      "file_extension": ".py",
      "mimeType": "text/x-python",
      "name": "python",
      "nbconvert_exporter": "python",
      "pygments_lexer": "ipython3",
      "version": "3.11.9"
    },
    "jupyterlab": {
      "notebooks": {
        "version_major": 6,
        "version_minor": 4
      }
    },
    "singlestore_connection": {
      "connectionID": "",
      "defaultDatabase": ""
    },
    "singlestore_cell_default_language": "python",
    "singlestore_row_limit": 300
  },
  "nbformat": 4,
  "nbformat_minor": 5
}