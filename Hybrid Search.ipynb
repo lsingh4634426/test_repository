{
  "cells": [
    {
      "id": "a2a96f4c",
      "cell_type": "markdown",
      "metadata": {
        "execution": {}
      },
      "source": "\u003cdiv id=\"singlestore-header\" style=\"display: flex; background-color: rgba(209, 153, 255, 0.25); padding: 5px;\"\u003e\n    \u003cdiv id=\"icon-image\" style=\"width: 90px; height: 90px;\"\u003e\n        \u003cimg width=\"100%\" height=\"100%\" src=\"https://raw.githubusercontent.com/singlestore-labs/spaces-notebooks/master/common/images/header-icons/vector-circle.png\" /\u003e\n    \u003c/div\u003e\n    \u003cdiv id=\"text\" style=\"padding: 5px; margin-left: 10px;\"\u003e\n        \u003cdiv id=\"badge\" style=\"display: inline-block; background-color: rgba(0, 0, 0, 0.15); border-radius: 4px; padding: 4px 8px; align-items: center; margin-top: 6px; margin-bottom: -2px; font-size: 80%\"\u003eSingleStore Notebooks\u003c/div\u003e\n        \u003ch1 style=\"font-weight: 500; margin: 8px 0 0 4px;\"\u003eHybrid Search\u003c/h1\u003e\n    \u003c/div\u003e\n\u003c/div\u003e",
      "attachments": {}
    },
    {
      "id": "f35c3f82",
      "cell_type": "markdown",
      "metadata": {
        "execution": {}
      },
      "source": "\u003cdiv class=\"alert alert-block alert-warning\"\u003e\n    \u003cb class=\"fa fa-solid fa-exclamation-circle\"\u003e\u003c/b\u003e\n    \u003cdiv\u003e\n        \u003cp\u003e\u003cb\u003eNote\u003c/b\u003e\u003c/p\u003e\n        \u003cp\u003eThis notebook can be run on a Free Starter Workspace. To create a Free Starter Workspace navigate to \u003ctt\u003eStart\u003c/tt\u003e using the left nav. You can also use your existing Standard or Premium workspace with this Notebook.\u003c/p\u003e\n    \u003c/div\u003e\n\u003c/div\u003e",
      "attachments": {}
    },
    {
      "id": "9e8ce0c7",
      "cell_type": "markdown",
      "metadata": {
        "execution": {}
      },
      "source": "*Source*: [OpenAI Cookbook](https://github.com/openai/openai-cookbook/blob/main/examples/data/AG_news_samples.csv)\n\nHybrid search integrates both keyword-based search and semantic search in order to combine the strengths of both and provide users with a more comprehensive and efficient search experience. This notebook is an example on how to perform hybrid search with SingleStore's database and notebooks.",
      "attachments": {}
    },
    {
      "id": "9f22dab7",
      "cell_type": "markdown",
      "metadata": {
        "execution": {}
      },
      "source": "## Setup\nLet's first download the libraries necessary.",
      "attachments": {}
    },
    {
      "id": "dc770da1",
      "cell_type": "code",
      "metadata": {
        "execution": {},
        "language": "python"
      },
      "source": "%pip install wget openai==1.3.3 --quiet",
      "outputs": [],
      "execution_count": 1
    },
    {
      "id": "55e30fcc",
      "cell_type": "code",
      "metadata": {
        "execution": {},
        "language": "python"
      },
      "source": "import json\nimport os\nimport pandas as pd\nimport wget",
      "outputs": [],
      "execution_count": 2
    },
    {
      "id": "86b0043d",
      "cell_type": "code",
      "metadata": {
        "execution": {},
        "language": "python"
      },
      "source": "# Import the library for vectorizing the data (Up to 2 minutes)\n%pip install sentence-transformers --quiet\n\nfrom sentence_transformers import SentenceTransformer\n\nmodel = SentenceTransformer('flax-sentence-embeddings/all_datasets_v3_mpnet-base')",
      "outputs": [],
      "execution_count": 3
    },
    {
      "id": "c7555935",
      "cell_type": "markdown",
      "metadata": {
        "execution": {}
      },
      "source": "## Import data from CSV file\nThis csv file holds the title, summary, and category of approximately 2000 news articles.",
      "attachments": {}
    },
    {
      "id": "92958292",
      "cell_type": "code",
      "metadata": {
        "execution": {},
        "language": "python"
      },
      "source": "# download reviews csv file\ncvs_file_path = 'https://raw.githubusercontent.com/openai/openai-cookbook/main/examples/data/AG_news_samples.csv'\nfile_path = 'AG_news_samples.csv'\n\nif not os.path.exists(file_path):\n    wget.download(cvs_file_path, file_path)\n    print('File downloaded successfully.')\nelse:\n    print('File already exists in the local file system.')",
      "outputs": [],
      "execution_count": 4
    },
    {
      "id": "511a4442",
      "cell_type": "code",
      "metadata": {
        "execution": {},
        "language": "python"
      },
      "source": "df = pd.read_csv('AG_news_samples.csv')\ndf",
      "outputs": [],
      "execution_count": 5
    },
    {
      "id": "dcd21c17",
      "cell_type": "code",
      "metadata": {
        "execution": {},
        "language": "python"
      },
      "source": "data = df.to_dict(orient='records')\ndata[0]",
      "outputs": [],
      "execution_count": 6
    },
    {
      "id": "56fb72ee",
      "cell_type": "markdown",
      "metadata": {
        "execution": {}
      },
      "source": "\u003cdiv class=\"alert alert-block alert-warning\"\u003e\n    \u003cb class=\"fa fa-solid fa-exclamation-circle\"\u003e\u003c/b\u003e\n    \u003cdiv\u003e\n        \u003cp\u003e\u003cb\u003eAction Required\u003c/b\u003e\u003c/p\u003e\n        \u003cp\u003e If you have a Free Starter Workspace deployed already, select the database from drop-down menu at the top of this notebook. It updates the \u003ctt\u003econnection_url\u003c/tt\u003e to connect to that database.\u003c/p\u003e\n    \u003c/div\u003e\n\u003c/div\u003e",
      "attachments": {}
    },
    {
      "id": "a654b253",
      "cell_type": "markdown",
      "metadata": {
        "execution": {}
      },
      "source": "## Set up the database",
      "attachments": {}
    },
    {
      "id": "44d411f6",
      "cell_type": "markdown",
      "metadata": {
        "execution": {}
      },
      "source": "Set up the SingleStoreDB database which will hold your data.",
      "attachments": {}
    },
    {
      "id": "e9855387",
      "cell_type": "code",
      "metadata": {
        "execution": {},
        "language": "python"
      },
      "source": "shared_tier_check = %sql show variables like 'is_shared_tier'\nif not shared_tier_check or shared_tier_check[0][1] == 'OFF':\n    %sql DROP DATABASE IF EXISTS news;\n    %sql CREATE DATABASE news;",
      "outputs": [],
      "execution_count": 7
    },
    {
      "id": "bef0be6c",
      "cell_type": "markdown",
      "metadata": {
        "execution": {}
      },
      "source": "\u003cdiv class=\"alert alert-block alert-warning\"\u003e\n    \u003cb class=\"fa fa-solid fa-exclamation-circle\"\u003e\u003c/b\u003e\n    \u003cdiv\u003e\n        \u003cp\u003e\u003cb\u003eAction Required\u003c/b\u003e\u003c/p\u003e\n        \u003cp\u003e Make sure to select a database from the drop-down menu at the top of this notebook. It updates the \u003ctt\u003econnection_url\u003c/tt\u003e  to connect to that database.\u003c/p\u003e\n    \u003c/div\u003e\n\u003c/div\u003e",
      "attachments": {}
    },
    {
      "id": "1b68c84c",
      "cell_type": "code",
      "metadata": {
        "execution": {},
        "language": "python"
      },
      "source": "%%sql\nDROP TABLE IF EXISTS news_articles;\nCREATE TABLE IF NOT EXISTS news_articles /* Creating table for sample data. */(\n    title TEXT,\n    description TEXT,\n    genre TEXT,\n    embedding BLOB,\n    FULLTEXT (title, description)\n);",
      "outputs": [],
      "execution_count": 8
    },
    {
      "id": "4b2d785a",
      "cell_type": "markdown",
      "metadata": {
        "execution": {}
      },
      "source": "### Get embeddings for every row based on the description column",
      "attachments": {}
    },
    {
      "id": "18b369bf",
      "cell_type": "code",
      "metadata": {
        "execution": {},
        "language": "python"
      },
      "source": "# Will take around 3.5 minutes to get embeddings for all 2000 rows\n\ndescriptions = [row['description'] for row in data]\nall_embeddings = model.encode(descriptions)\nall_embeddings.shape",
      "outputs": [],
      "execution_count": 9
    },
    {
      "id": "e06caac5",
      "cell_type": "markdown",
      "metadata": {
        "execution": {}
      },
      "source": "Merge embedding values into `data` rows.",
      "attachments": {}
    },
    {
      "id": "7a86156d",
      "cell_type": "code",
      "metadata": {
        "execution": {},
        "language": "python"
      },
      "source": "for row, embedding in zip(data, all_embeddings):\n    row['embedding'] = embedding",
      "outputs": [],
      "execution_count": 10
    },
    {
      "id": "1699c28f",
      "cell_type": "markdown",
      "metadata": {
        "execution": {}
      },
      "source": "Here's an example of one row of the combined data.",
      "attachments": {}
    },
    {
      "id": "0797c747",
      "cell_type": "code",
      "metadata": {
        "execution": {},
        "language": "python"
      },
      "source": "data[0]",
      "outputs": [],
      "execution_count": 11
    },
    {
      "id": "00650aeb",
      "cell_type": "markdown",
      "metadata": {
        "execution": {}
      },
      "source": "### Populate the database",
      "attachments": {}
    },
    {
      "id": "e08bcee3",
      "cell_type": "code",
      "metadata": {
        "execution": {},
        "language": "python"
      },
      "source": "%sql TRUNCATE TABLE news_articles;\n\nimport sqlalchemy as sa\nfrom singlestoredb import create_engine\n\n# Use create_table from singlestoredb since it uses the notebook connection URL\nconn = create_engine().connect()\n\nstatement = sa.text('''\n        INSERT INTO news.news_articles (\n            title,\n            description,\n            genre,\n            embedding\n        )\n        VALUES (\n            :title,\n            :description,\n            :label,\n            :embedding\n        )\n    ''')\n\nconn.execute(statement, data)",
      "outputs": [],
      "execution_count": 12
    },
    {
      "id": "6ba8ae2e",
      "cell_type": "markdown",
      "metadata": {
        "execution": {}
      },
      "source": "## Semantic search",
      "attachments": {}
    },
    {
      "id": "ffd38ab8",
      "cell_type": "markdown",
      "metadata": {
        "execution": {}
      },
      "source": "### Connect to OpenAI",
      "attachments": {}
    },
    {
      "id": "bfb585b7",
      "cell_type": "code",
      "metadata": {
        "execution": {},
        "language": "python"
      },
      "source": "import openai\n\nEMBEDDING_MODEL = 'text-embedding-ada-002'\nGPT_MODEL = 'gpt-3.5-turbo'",
      "outputs": [],
      "execution_count": 13
    },
    {
      "id": "f40ceb13",
      "cell_type": "code",
      "metadata": {
        "execution": {},
        "language": "python"
      },
      "source": "import getpass\n\nopenai.api_key = getpass.getpass('OpenAI API Key: ')",
      "outputs": [],
      "execution_count": 14
    },
    {
      "id": "a14ec4a9",
      "cell_type": "markdown",
      "metadata": {
        "execution": {}
      },
      "source": "### Run semantic search and get scores",
      "attachments": {}
    },
    {
      "id": "18283d3b",
      "cell_type": "code",
      "metadata": {
        "execution": {},
        "language": "python"
      },
      "source": "search_query = 'Articles about Aussie captures'\nsearch_embedding = model.encode(search_query)\n\n# Create the SQL statement.\nquery_statement = sa.text('''\n    SELECT\n        title,\n        description,\n        genre,\n        DOT_PRODUCT(embedding, :embedding) AS score\n    FROM news.news_articles\n    ORDER BY score DESC\n    LIMIT 10\n    ''')\n\n# Execute the SQL statement.\nresults = pd.DataFrame(conn.execute(query_statement, dict(embedding=search_embedding)))\nresults",
      "outputs": [],
      "execution_count": 15
    },
    {
      "id": "3e56cfa5",
      "cell_type": "markdown",
      "metadata": {
        "execution": {}
      },
      "source": "## Hybrid search",
      "attachments": {}
    },
    {
      "id": "56e6d068",
      "cell_type": "markdown",
      "metadata": {
        "execution": {}
      },
      "source": "This search finds the average of the score gotten from the semantic search and the score gotten from the key-word search and sorts the news articles by this combined score to perform an effective hybrid search.",
      "attachments": {}
    },
    {
      "id": "1f1534f7",
      "cell_type": "code",
      "metadata": {
        "execution": {},
        "language": "python"
      },
      "source": "hyb_query = 'Articles about Aussie captures'\nhyb_embedding = model.encode(hyb_query)\n\n# Create the SQL statement.\nhyb_statement = sa.text('''\n    SELECT\n        title,\n        description,\n        genre,\n        DOT_PRODUCT(embedding, :embedding) AS semantic_score,\n        MATCH(title, description) AGAINST (:query) AS keyword_score,\n        (semantic_score + keyword_score) / 2 AS combined_score\n    FROM news.news_articles\n    ORDER BY combined_score DESC\n    LIMIT 10\n    ''')\n\n# Execute the SQL statement.\nhyb_results = pd.DataFrame(conn.execute(hyb_statement, dict(embedding=hyb_embedding, query=hyb_query)))\nhyb_results",
      "outputs": [],
      "execution_count": 16
    },
    {
      "id": "6a7ac35e",
      "cell_type": "markdown",
      "metadata": {
        "execution": {}
      },
      "source": "## Clean up",
      "attachments": {}
    },
    {
      "id": "c9b12932",
      "cell_type": "markdown",
      "metadata": {
        "execution": {}
      },
      "source": "\u003cdiv class=\"alert alert-block alert-warning\"\u003e\n    \u003cb class=\"fa fa-solid fa-exclamation-circle\"\u003e\u003c/b\u003e\n    \u003cdiv\u003e\n        \u003cp\u003e\u003cb\u003eAction Required\u003c/b\u003e\u003c/p\u003e\n        \u003cp\u003e If you created a new database in your Standard or Premium Workspace, you can drop the database by running the cell below. Note: this will not drop your database for Free Starter Workspaces. To drop a Free Starter Workspace, terminate the Workspace using the UI. \u003c/p\u003e\n    \u003c/div\u003e\n\u003c/div\u003e",
      "attachments": {}
    },
    {
      "id": "80682ad8",
      "cell_type": "code",
      "metadata": {
        "execution": {},
        "language": "python"
      },
      "source": "shared_tier_check = %sql show variables like 'is_shared_tier'\nif not shared_tier_check or shared_tier_check[0][1] == 'OFF':\n    %sql DROP DATABASE IF EXISTS news;",
      "outputs": [],
      "execution_count": 17
    },
    {
      "id": "410115cf",
      "cell_type": "markdown",
      "metadata": {
        "execution": {}
      },
      "source": "\u003cdiv id=\"singlestore-footer\" style=\"background-color: rgba(194, 193, 199, 0.25); height:2px; margin-bottom:10px\"\u003e\u003c/div\u003e\n\u003cdiv\u003e\u003cimg src=\"https://raw.githubusercontent.com/singlestore-labs/spaces-notebooks/master/common/images/singlestore-logo-grey.png\" style=\"padding: 0px; margin: 0px; height: 24px\"/\u003e\u003c/div\u003e",
      "attachments": {}
    }
  ],
  "metadata": {
    "kernelspec": {
      "display_name": "Python 3 (ipykernel)",
      "language": "python",
      "name": "python3"
    },
    "language_info": {
      "codemirror_mode": {
        "name": "ipython",
        "version": 3
      },
      "file_extension": ".py",
      "mimeType": "text/x-python",
      "name": "python",
      "nbconvert_exporter": "python",
      "pygments_lexer": "ipython3",
      "version": "3.11.6"
    },
    "jupyterlab": {
      "notebooks": {
        "version_major": 6,
        "version_minor": 4
      }
    },
    "singlestore_connection": {
      "connectionID": "",
      "defaultDatabase": ""
    },
    "singlestore_cell_default_language": "python"
  },
  "nbformat": 4,
  "nbformat_minor": 5
}