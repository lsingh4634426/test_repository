{
  "cells": [
    {
      "id": "0ec251f1",
      "cell_type": "markdown",
      "metadata": {
        "execution": {}
      },
      "source": "\u003cdiv id=\"singlestore-header\" style=\"display: flex; background-color: rgba(209, 153, 255, 0.25); padding: 5px;\"\u003e\n    \u003cdiv id=\"icon-image\" style=\"width: 90px; height: 90px;\"\u003e\n        \u003cimg width=\"100%\" height=\"100%\" src=\"https://raw.githubusercontent.com/singlestore-labs/spaces-notebooks/master/common/images/header-icons/vector-circle.png\" /\u003e\n    \u003c/div\u003e\n    \u003cdiv id=\"text\" style=\"padding: 5px; margin-left: 10px;\"\u003e\n        \u003cdiv id=\"badge\" style=\"display: inline-block; background-color: rgba(0, 0, 0, 0.15); border-radius: 4px; padding: 4px 8px; align-items: center; margin-top: 6px; margin-bottom: -2px; font-size: 80%\"\u003eSingleStore Notebooks\u003c/div\u003e\n        \u003ch1 style=\"font-weight: 500; margin: 8px 0 0 4px;\"\u003eRepresenting Unstructured Data as Vectors\u003c/h1\u003e\n    \u003c/div\u003e\n\u003c/div\u003e",
      "attachments": {}
    },
    {
      "id": "565b961f",
      "cell_type": "markdown",
      "metadata": {
        "execution": {}
      },
      "source": "## Representing Unstructured Data as Vectors\nVisualizing these vectors and measuring the distance between these vectors using various methods such as Manhattan Distance, Euclidean Distance, Cosine Distance \u0026 Dot Product",
      "attachments": {}
    },
    {
      "id": "7ac857fe",
      "cell_type": "markdown",
      "metadata": {
        "execution": {}
      },
      "source": "Let's take an example of two pets and visualize them in a 3D space. We will try to find the Manhattan Distance, Euclidean Distance, Cosine Distance \u0026 Dot Product between these two pets.",
      "attachments": {}
    },
    {
      "id": "916063d3",
      "cell_type": "markdown",
      "metadata": {
        "execution": {}
      },
      "source": "Hypothetically consider these vectors for to represent dog and cat.\ndog = [5, 30, 2]\ncat = [3, 25, 4]",
      "attachments": {}
    },
    {
      "id": "bbae7661",
      "cell_type": "markdown",
      "metadata": {
        "execution": {}
      },
      "source": "### Install the libraries required",
      "attachments": {}
    },
    {
      "id": "386e29fc",
      "cell_type": "code",
      "metadata": {
        "execution": {},
        "language": "python"
      },
      "source": "!pip install numpy matplotlib --quiet",
      "outputs": [],
      "execution_count": 1
    },
    {
      "id": "7207d8e9",
      "cell_type": "markdown",
      "metadata": {
        "execution": {}
      },
      "source": "### Import the libraries",
      "attachments": {}
    },
    {
      "id": "8d9089b4",
      "cell_type": "code",
      "metadata": {
        "execution": {},
        "language": "python"
      },
      "source": "import matplotlib.pyplot as plt\nimport numpy as np",
      "outputs": [],
      "execution_count": 2
    },
    {
      "id": "ea181a08",
      "cell_type": "code",
      "metadata": {
        "execution": {},
        "language": "python"
      },
      "source": "from mpl_toolkits.mplot3d import Axes3D\n\n# Example pets attributes: [weight, height, age]\n# These are hypothetical numbers for illustration purposes\ndog = [5, 30, 2]\ncat = [3, 25, 4]\n\nfig = plt.figure()\nax = fig.add_subplot(111, projection='3d')\n\n# Plotting the pets\nax.scatter(dog[0], dog[1], dog[2], label=\"Dog\", c='blue')\nax.scatter(cat[0], cat[1], cat[2], label=\"Cat\", c='green')\n\n# Drawing lines from the origin to the points\nax.quiver(0, 0, 0, dog[0], dog[1], dog[2], color='blue', arrow_length_ratio=0.1)\nax.quiver(0, 0, 0, cat[0], cat[1], cat[2], color='green', arrow_length_ratio=0.1)\n\n# Labeling the axes\nax.set_xlabel('Weight (kg)')\nax.set_ylabel('Height (cm)')\nax.set_zlabel('Age (years)')\n\n# Setting the limits for better visualization\nax.set_xlim(0, 10)\nax.set_ylim(0, 40)\nax.set_zlim(0, 5)\n\n# Adding legend and title\nax.legend()\nax.set_title('3D Representation of Pets')\n\nplt.show()",
      "outputs": [],
      "execution_count": 3
    },
    {
      "id": "988ef57c",
      "cell_type": "markdown",
      "metadata": {
        "execution": {}
      },
      "source": "### Manhattan Distance",
      "attachments": {}
    },
    {
      "id": "7252eade",
      "cell_type": "markdown",
      "metadata": {
        "execution": {}
      },
      "source": "Manhattan distance is like calculating the total distance you would travel between two points (dog and cat here) if you could only move in straight lines",
      "attachments": {}
    },
    {
      "id": "5bddfc07",
      "cell_type": "code",
      "metadata": {
        "execution": {},
        "language": "python"
      },
      "source": "L1 = [abs(dog[i] - cat[i]) for i in range(len(dog))]\nsum(L1)",
      "outputs": [],
      "execution_count": 4
    },
    {
      "id": "5ab22a1e",
      "cell_type": "markdown",
      "metadata": {
        "execution": {}
      },
      "source": "### Euclidean Distance",
      "attachments": {}
    },
    {
      "id": "f5bcdc90",
      "cell_type": "markdown",
      "metadata": {
        "execution": {}
      },
      "source": "Euclidean distance is like the straight-line distance between two points, as if you could draw a straight line from one point to another, not limited by any paths or grids, similar to how a bird would fly directly between two locations.",
      "attachments": {}
    },
    {
      "id": "ec15b420",
      "cell_type": "code",
      "metadata": {
        "execution": {},
        "language": "python"
      },
      "source": "L2 = [(dog[i] - cat[i])**2 for i in range(len(dog))]\n\nL2 = np.sqrt(np.array(L2).sum())\nL2",
      "outputs": [],
      "execution_count": 5
    },
    {
      "id": "6591546d",
      "cell_type": "markdown",
      "metadata": {
        "execution": {}
      },
      "source": "### Cosine Distance",
      "attachments": {}
    },
    {
      "id": "3d04c0e3",
      "cell_type": "markdown",
      "metadata": {
        "execution": {}
      },
      "source": "Cosine distance is a measure of orientation rather than actual distance; it's like comparing the directions in which two arrows are pointing, regardless of how long the arrows are or where they are located.",
      "attachments": {}
    },
    {
      "id": "5bd73484",
      "cell_type": "code",
      "metadata": {
        "execution": {},
        "language": "python"
      },
      "source": "cosine = np.dot(dog, cat) / (np.linalg.norm(dog) * np.linalg.norm(cat))\ncosine",
      "outputs": [],
      "execution_count": 6
    },
    {
      "id": "315867e3",
      "cell_type": "markdown",
      "metadata": {
        "execution": {}
      },
      "source": "### Dot Product",
      "attachments": {}
    },
    {
      "id": "68b952bf",
      "cell_type": "markdown",
      "metadata": {
        "execution": {}
      },
      "source": "The dot product is like measuring how much one vector goes in the same direction as another. It's like comparing two arrows and seeing how much one arrow points in the same direction as the other.",
      "attachments": {}
    },
    {
      "id": "8cdea606",
      "cell_type": "code",
      "metadata": {
        "execution": {},
        "language": "python"
      },
      "source": "np.dot(dog,cat)",
      "outputs": [],
      "execution_count": 7
    },
    {
      "id": "da390400",
      "cell_type": "markdown",
      "metadata": {
        "execution": {}
      },
      "source": "\u003cdiv id=\"singlestore-footer\" style=\"background-color: rgba(194, 193, 199, 0.25); height:2px; margin-bottom:10px\"\u003e\u003c/div\u003e\n\u003cdiv\u003e\u003cimg src=\"https://raw.githubusercontent.com/singlestore-labs/spaces-notebooks/master/common/images/singlestore-logo-grey.png\" style=\"padding: 0px; margin: 0px; height: 24px\"/\u003e\u003c/div\u003e",
      "attachments": {}
    }
  ],
  "metadata": {
    "kernelspec": {
      "display_name": "Python 3 (ipykernel)",
      "language": "python",
      "name": "python3"
    },
    "language_info": {
      "codemirror_mode": {
        "name": "ipython",
        "version": 3
      },
      "file_extension": ".py",
      "mimeType": "text/x-python",
      "name": "python",
      "nbconvert_exporter": "python",
      "pygments_lexer": "ipython3",
      "version": "3.11.9"
    },
    "jupyterlab": {
      "notebooks": {
        "version_major": 6,
        "version_minor": 4
      }
    },
    "singlestore_connection": {
      "connectionID": "",
      "defaultDatabase": ""
    },
    "singlestore_cell_default_language": "python",
    "singlestore_row_limit": 300
  },
  "nbformat": 4,
  "nbformat_minor": 5
}