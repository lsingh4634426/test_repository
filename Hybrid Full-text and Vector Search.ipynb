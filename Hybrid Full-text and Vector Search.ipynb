{
  "cells": [
    {
      "id": "0a4a9f89",
      "cell_type": "markdown",
      "metadata": {
        "execution": {}
      },
      "source": "\u003cdiv id=\"singlestore-header\" style=\"display: flex; background-color: rgba(209, 153, 255, 0.25); padding: 5px;\"\u003e\n    \u003cdiv id=\"icon-image\" style=\"width: 90px; height: 90px;\"\u003e\n        \u003cimg width=\"100%\" height=\"100%\" src=\"https://raw.githubusercontent.com/singlestore-labs/spaces-notebooks/master/common/images/header-icons/vector-circle.png\" /\u003e\n    \u003c/div\u003e\n    \u003cdiv id=\"text\" style=\"padding: 5px; margin-left: 10px;\"\u003e\n        \u003cdiv id=\"badge\" style=\"display: inline-block; background-color: rgba(0, 0, 0, 0.15); border-radius: 4px; padding: 4px 8px; align-items: center; margin-top: 6px; margin-bottom: -2px; font-size: 80%\"\u003eSingleStore Notebooks\u003c/div\u003e\n        \u003ch1 style=\"font-weight: 500; margin: 8px 0 0 4px;\"\u003eHybrid Full-text and Vector Search\u003c/h1\u003e\n    \u003c/div\u003e\n\u003c/div\u003e",
      "attachments": {}
    },
    {
      "id": "da7a85db",
      "cell_type": "markdown",
      "metadata": {
        "execution": {}
      },
      "source": "\u003cdiv class=\"alert alert-block alert-warning\"\u003e\n    \u003cb class=\"fa fa-solid fa-exclamation-circle\"\u003e\u003c/b\u003e\n    \u003cdiv\u003e\n        \u003cp\u003e\u003cb\u003eNote\u003c/b\u003e\u003c/p\u003e\n        \u003cp\u003eThis notebook can be run on a Free Starter Workspace. To create a Free Starter Workspace navigate to \u003ctt\u003eStart\u003c/tt\u003e using the left nav. You can also use your existing Standard or Premium workspace with this Notebook.\u003c/p\u003e\n    \u003c/div\u003e\n\u003c/div\u003e",
      "attachments": {}
    },
    {
      "id": "2230b2eb",
      "cell_type": "markdown",
      "metadata": {
        "execution": {}
      },
      "source": "## What's in this notebook:\n\n1. Create and use a database.\n2. Create a table and load data.\n3. Create a full-text and a vector index.\n4. Similarity search.\n5. Hybrid search.\n6. Clean up.\n\n## Questions?\n\nReach out to us through our [forum](https://www.singlestore.com/forum).",
      "attachments": {}
    },
    {
      "id": "e92213aa",
      "cell_type": "markdown",
      "metadata": {
        "execution": {}
      },
      "source": "## 1. Create and use a database.",
      "attachments": {}
    },
    {
      "id": "89109515",
      "cell_type": "markdown",
      "metadata": {
        "execution": {}
      },
      "source": "To use this notebook, you need to have an active workspace and have selected a database to use. Please select a database using the dropdown above.",
      "attachments": {}
    },
    {
      "id": "9c2f4767",
      "cell_type": "markdown",
      "metadata": {
        "execution": {}
      },
      "source": "## 2. Create a table and load data.",
      "attachments": {}
    },
    {
      "id": "5e21580b",
      "cell_type": "markdown",
      "metadata": {
        "execution": {}
      },
      "source": "This example uses a dataset of Wikipedia articles about video games. The dataset contains approximately 41,000 vectors based on 1,800 articles from Wikipedia. The data set is available under the Creative Commons Attribution-ShareAlike License 4.0. Refer to [Hybrid Search and Re-ranking](https://docs.singlestore.com/cloud/vectors/hybrid-search/) for more details on this example and information about hybrid search over vectors.",
      "attachments": {}
    },
    {
      "id": "0b2486d3",
      "cell_type": "markdown",
      "metadata": {
        "execution": {}
      },
      "source": "Create a table to hold the video games data using the SQL below. This table stores the text of the paragraphs and stores the vectors created for those paragraphs using the [Vector Type](https://docs.singlestore.com/cloud/vectors/vector-type/).",
      "attachments": {}
    },
    {
      "id": "81933449",
      "cell_type": "code",
      "metadata": {
        "execution": {},
        "language": "python"
      },
      "source": "%%sql\nCREATE TABLE video_games(\nid BIGINT(20),\nurl TEXT DEFAULT NULL,\nparagraph TEXT DEFAULT NULL,\nv VECTOR(1536) NOT NULL,\nSHARD KEY(id), KEY(id) USING HASH\n);",
      "outputs": [],
      "execution_count": 1
    },
    {
      "id": "e00df72a",
      "cell_type": "markdown",
      "metadata": {
        "execution": {}
      },
      "source": "Create and run the following pipeline using the \u003ccode\u003e[CREATE PIPELINE](https://docs.singlestore.com/cloud/reference/create-pipeline/)\u003c/code\u003e command to load data into the \u003ccode\u003evideo_games\u003c/code\u003e table. The \u003ccode\u003eCREATE PIPELINE\u003c/code\u003e command may take around 30 seconds to run.",
      "attachments": {}
    },
    {
      "id": "3fbf7fdd",
      "cell_type": "code",
      "metadata": {
        "execution": {},
        "language": "python"
      },
      "source": "%%sql\n-- since the bucket is open, you can leave the credentials clause as-is\nCREATE OR REPLACE PIPELINE wiki_pipeline AS\nload data S3\n's3://wikipedia-video-game-data/video-game-embeddings(1).csv'\nconfig '{\"region\":\"us-west-1\"}'\ncredentials '{\"aws_access_key_id\": \"\", \"aws_secret_access_key\": \"\"}'\nSKIP DUPLICATE KEY ERRORS\nINTO TABLE video_games\nFORMAT csv\nFIELDS TERMINATED BY ','\nENCLOSED BY '\"'\nLINES TERMINATED BY '\\r\\n';\n\nSTART PIPELINE wiki_pipeline FOREGROUND;",
      "outputs": [],
      "execution_count": 2
    },
    {
      "id": "59459056",
      "cell_type": "markdown",
      "metadata": {
        "execution": {}
      },
      "source": "Verify the data was loaded using the query below. \u003cp\u003e Wait for the pipeline to finish before running the \u003ccode\u003eCOUNT\u003c/code\u003e query.",
      "attachments": {}
    },
    {
      "id": "83bda5b0",
      "cell_type": "code",
      "metadata": {
        "execution": {},
        "language": "python"
      },
      "source": "%%sql\nSELECT COUNT(*)\nFROM video_games;",
      "outputs": [],
      "execution_count": 3
    },
    {
      "id": "894ab109",
      "cell_type": "markdown",
      "metadata": {
        "execution": {}
      },
      "source": "There should be 40,027 rows in the \u003ccode\u003evideo_games\u003c/code\u003e table when the \u003ccode\u003ePIPELINE\u003c/code\u003e is finished.",
      "attachments": {}
    },
    {
      "id": "5bdeb5e5",
      "cell_type": "markdown",
      "metadata": {
        "execution": {}
      },
      "source": "## 3. Create a full-text and a vector index.",
      "attachments": {}
    },
    {
      "id": "068c8415",
      "cell_type": "markdown",
      "metadata": {
        "execution": {}
      },
      "source": "Use the following SQL to create full-text and vector indexes on the \u003ccode\u003evideo_games\u003c/code\u003e table. Indexes can improve query performance on large vector data sets. Refer to [Vector Indexing](https://docs.singlestore.com/cloud/vectors/vector-indexing) for more information on vector indexes and \u003ccode\u003e[CREATE TABLE](https://docs.singlestore.com/studio-redir/create-table/)\u003c/code) for more information on full-text indexes.",
      "attachments": {}
    },
    {
      "id": "42ef6454",
      "cell_type": "code",
      "metadata": {
        "execution": {},
        "language": "python"
      },
      "source": "%%sql\nALTER TABLE video_games ADD FULLTEXT ft_para(paragraph);\n\nALTER TABLE video_games ADD VECTOR INDEX ivf_v(v)\n   INDEX_OPTIONS '{\"index_type\":\"IVF_FLAT\"}';",
      "outputs": [],
      "execution_count": 4
    },
    {
      "id": "cf077539",
      "cell_type": "markdown",
      "metadata": {
        "execution": {}
      },
      "source": "Optionally optimize the table for best performance.\u003cp\u003e Wait for the \u003ccode\u003eALTER TABLE\u003c/code\u003e commands to finish before running the \u003ccode\u003eOPTIMIZE\u003c/code\u003e command.",
      "attachments": {}
    },
    {
      "id": "ad07912c",
      "cell_type": "code",
      "metadata": {
        "execution": {},
        "language": "python"
      },
      "source": "%%sql\nOPTIMIZE TABLE video_games FULL;",
      "outputs": [],
      "execution_count": 5
    },
    {
      "id": "164c2cf0",
      "cell_type": "markdown",
      "metadata": {
        "execution": {}
      },
      "source": "## 4. Similarity search.\n\nSimilarity search finds a set of vectors that are most similar to a query vector. This example finds vectors representing paragraphs that are similar to a vector about the Mario Kart Game. The vector for the first paragraph about Mario Kart as our query vector. This is a good semantic query vector for Mario Kart.\n\nTo find the most similar vectors in a query vector, use an \u003ccode\u003eORDER BY… LIMIT…\u003c/code\u003e query. The \u003ccode\u003eORDER BY\u003c/code\u003e command will arrange the vectors by their similarity score produced by a vector similarity function, with the closest matches at the top.\n\nThe SQL below finds three paragraphs that are the most similar to the first paragraph about Mario Kart, a semantic similarity search for information about Mario Kart.",
      "attachments": {}
    },
    {
      "id": "54acdc4b",
      "cell_type": "code",
      "metadata": {
        "execution": {},
        "language": "python"
      },
      "source": "%%sql\nSET @v_mario_kart = (SELECT v FROM video_games\n         WHERE URL = \"https://en.wikipedia.org/wiki/Super_Mario_Kart\"\n         ORDER BY id LIMIT 1);\n\nSELECT id, paragraph, v \u003c*\u003e @v_mario_kart AS SCORE\nFROM video_games\nORDER BY score DESC\nLIMIT 3;",
      "outputs": [],
      "execution_count": 6
    },
    {
      "id": "637a88b9",
      "cell_type": "markdown",
      "metadata": {
        "execution": {}
      },
      "source": "## 5. Hybrid search.\n\nHybrid Search combines multiple search methods in one query and blends full-text search (which finds keyword matches) and vector search (which finds semantic matches) allowing search results to be (re-)ranked by a score that combines full-text and vector rankings.",
      "attachments": {}
    },
    {
      "id": "33a0455f",
      "cell_type": "code",
      "metadata": {
        "execution": {},
        "language": "python"
      },
      "source": "%%sql\nSET @v_mario_kart = (SELECT v FROM video_games\n         WHERE URL = \"https://en.wikipedia.org/wiki/Super_Mario_Kart\"\n         ORDER BY id LIMIT 1);\n\nWITH fts AS (\n SELECT id, paragraph,\n   MATCH(paragraph) AGAINST(\"mario kart\") AS SCORE\n FROM video_games\n WHERE MATCH(paragraph) AGAINST(\"mario kart\")\n ORDER BY SCORE desc\n LIMIT 200\n),\nvs AS (\n SELECT id, paragraph, v \u003c*\u003e @v_mario_kart AS SCORE\n FROM video_games\n ORDER BY score DESC\n LIMIT 200\n)\nSELECT vs.id, SUBSTRING(vs.paragraph,0,25),\n     FORMAT(IFNULL(fts.score, 0) * .3\n            + IFNULL(vs.score, 0) * .7, 4) AS score,\n     FORMAT(fts.score, 4) AS fts_s,\n     FORMAT(vs.score, 4) AS vs_s\nFROM fts FULL OUTER JOIN vs ON fts.id = vs.id\nORDER BY score DESC\nLIMIT 5;",
      "outputs": [],
      "execution_count": 7
    },
    {
      "id": "f9539b11",
      "cell_type": "markdown",
      "metadata": {
        "execution": {}
      },
      "source": "## 6. Clean up.",
      "attachments": {}
    },
    {
      "id": "cbd6de3f",
      "cell_type": "markdown",
      "metadata": {
        "execution": {}
      },
      "source": "The command below will drop the table created as part of this notebook. Dropping this table will allow you to rerun the notebook from the beginning.",
      "attachments": {}
    },
    {
      "id": "4c842df6",
      "cell_type": "code",
      "metadata": {
        "execution": {},
        "language": "python"
      },
      "source": "%%sql\nDROP PIPELINE wiki_pipeline;\n\nDROP TABLE video_games;",
      "outputs": [],
      "execution_count": 8
    },
    {
      "id": "1093f40b",
      "cell_type": "markdown",
      "metadata": {
        "execution": {}
      },
      "source": "\u003cdiv id=\"singlestore-footer\" style=\"background-color: rgba(194, 193, 199, 0.25); height:2px; margin-bottom:10px\"\u003e\u003c/div\u003e\n\u003cdiv\u003e\u003cimg src=\"https://raw.githubusercontent.com/singlestore-labs/spaces-notebooks/master/common/images/singlestore-logo-grey.png\" style=\"padding: 0px; margin: 0px; height: 24px\"/\u003e\u003c/div\u003e",
      "attachments": {}
    }
  ],
  "metadata": {
    "kernelspec": {
      "display_name": "Python 3 (ipykernel)",
      "language": "python",
      "name": "python3"
    },
    "language_info": {
      "codemirror_mode": {
        "name": "ipython",
        "version": 3
      },
      "file_extension": ".py",
      "mimeType": "text/x-python",
      "name": "python",
      "nbconvert_exporter": "python",
      "pygments_lexer": "ipython3",
      "version": "3.11.6"
    },
    "jupyterlab": {
      "notebooks": {
        "version_major": 6,
        "version_minor": 4
      }
    },
    "singlestore_connection": {
      "connectionID": "",
      "defaultDatabase": ""
    },
    "singlestore_cell_default_language": "python"
  },
  "nbformat": 4,
  "nbformat_minor": 5
}