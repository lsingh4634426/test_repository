{
  "cells": [
    {
      "id": "ff22f714",
      "cell_type": "markdown",
      "metadata": {
        "execution": {}
      },
      "source": "\u003cdiv id=\"singlestore-header\" style=\"display: flex; background-color: rgba(235, 249, 245, 0.25); padding: 5px;\"\u003e\n    \u003cdiv id=\"icon-image\" style=\"width: 90px; height: 90px;\"\u003e\n        \u003cimg width=\"100%\" height=\"100%\" src=\"https://raw.githubusercontent.com/singlestore-labs/spaces-notebooks/master/common/images/header-icons/database.png\" /\u003e\n    \u003c/div\u003e\n    \u003cdiv id=\"text\" style=\"padding: 5px; margin-left: 10px;\"\u003e\n        \u003cdiv id=\"badge\" style=\"display: inline-block; background-color: rgba(0, 0, 0, 0.15); border-radius: 4px; padding: 4px 8px; align-items: center; margin-top: 6px; margin-bottom: -2px; font-size: 80%\"\u003eSingleStore Notebooks\u003c/div\u003e\n        \u003ch1 style=\"font-weight: 500; margin: 8px 0 0 4px;\"\u003eReal-Time Event Monitoring Dataset From Kafka\u003c/h1\u003e\n    \u003c/div\u003e\n\u003c/div\u003e",
      "attachments": {}
    },
    {
      "id": "2f0bf08d",
      "cell_type": "markdown",
      "metadata": {
        "execution": {}
      },
      "source": "\u003cdiv class=\"alert alert-block alert-warning\"\u003e\n    \u003cb class=\"fa fa-solid fa-exclamation-circle\"\u003e\u003c/b\u003e\n    \u003cdiv\u003e\n        \u003cp\u003e\u003cb\u003eNote\u003c/b\u003e\u003c/p\u003e\n        \u003cp\u003eThis notebook can be run on a Free Starter Workspace. To create a Free Starter Workspace navigate to \u003ctt\u003eStart\u003c/tt\u003e using the left nav. You can also use your existing Standard or Premium workspace with this Notebook.\u003c/p\u003e\n    \u003c/div\u003e\n\u003c/div\u003e",
      "attachments": {}
    },
    {
      "id": "ab96a8ca",
      "cell_type": "markdown",
      "metadata": {
        "execution": {}
      },
      "source": "### Introduction",
      "attachments": {}
    },
    {
      "id": "f3b8d443",
      "cell_type": "markdown",
      "metadata": {
        "execution": {}
      },
      "source": "The Real-Time Event Monitoring use case illustrates how to leverage Singlestore's capabilities to process and analyze streaming data from a Kafka data source. This demo showcases the ability to ingest real-time events, such as application logs or user activities, and perform immediate analysis to gain actionable insights. By working through this example, new users will learn how to set up a Kafka data pipeline, ingest streaming data into Singlestore, and execute real-time queries to monitor event types, user activity patterns, and detect anomalies. This use case highlights the power of Singlestore in providing timely and relevant information for decision-making in dynamic environments.",
      "attachments": {}
    },
    {
      "id": "1a480b1e",
      "cell_type": "markdown",
      "metadata": {
        "execution": {}
      },
      "source": "\u003cimg src=https://singlestoreloaddata.s3.ap-south-1.amazonaws.com/images/LoadDataKafka.png width=\"100%\" hight=\"50%\"/\u003e",
      "attachments": {}
    },
    {
      "id": "06f4bfee",
      "cell_type": "markdown",
      "metadata": {
        "execution": {}
      },
      "source": "## How to use this notebook",
      "attachments": {}
    },
    {
      "id": "e2cbadb4",
      "cell_type": "markdown",
      "metadata": {
        "execution": {}
      },
      "source": "\u003cimg src=https://singlestoreloaddata.s3.ap-south-1.amazonaws.com/images/notebookuse.gif width=\"75%\" hight=\"50%\"/\u003e",
      "attachments": {}
    },
    {
      "id": "4d1294c0",
      "cell_type": "markdown",
      "metadata": {
        "execution": {}
      },
      "source": "## Create a database (You can skip this Step if you are using Free Starter Tier)\n\nWe need to create a database to work with in the following examples.",
      "attachments": {}
    },
    {
      "id": "fa6b62ca",
      "cell_type": "code",
      "metadata": {
        "execution": {},
        "language": "python"
      },
      "source": "shared_tier_check = %sql show variables like 'is_shared_tier'\nif not shared_tier_check or shared_tier_check[0][1] == 'OFF':\n    %sql DROP DATABASE IF EXISTS EventAnalysis;\n    %sql CREATE DATABASE EventAnalysis;",
      "outputs": [],
      "execution_count": 1
    },
    {
      "id": "10135797",
      "cell_type": "markdown",
      "metadata": {
        "execution": {}
      },
      "source": "\u003cdiv class=\"alert alert-block alert-warning\"\u003e\n    \u003cb class=\"fa fa-solid fa-exclamation-circle\"\u003e\u003c/b\u003e\n    \u003cdiv\u003e\n        \u003cp\u003e\u003cb\u003eAction Required\u003c/b\u003e\u003c/p\u003e\n        \u003cp\u003e If you have a Free Starter Workspace deployed already, select the database from drop-down menu at the top of this notebook. It updates the \u003ctt\u003econnection_url\u003c/tt\u003e to connect to that database.\u003c/p\u003e\n    \u003c/div\u003e\n\u003c/div\u003e",
      "attachments": {}
    },
    {
      "id": "31257823",
      "cell_type": "markdown",
      "metadata": {
        "execution": {}
      },
      "source": "### Create Table",
      "attachments": {}
    },
    {
      "id": "312d1254",
      "cell_type": "code",
      "metadata": {
        "execution": {},
        "language": "python"
      },
      "source": "%%sql\nCREATE TABLE IF NOT EXISTS eventsdata /* Creating table for sample data. */ (\n  `user_id` varchar(120) DEFAULT NULL,\n  `event_name` varchar(128) CHARACTER SET utf8 COLLATE utf8_general_ci DEFAULT NULL,\n  `advertiser` varchar(128) CHARACTER SET utf8 COLLATE utf8_general_ci DEFAULT NULL,\n  `campaign` varchar(110) DEFAULT NULL,\n  `gender` varchar(128) CHARACTER SET utf8 COLLATE utf8_general_ci DEFAULT NULL,\n  `income` varchar(128) CHARACTER SET utf8 COLLATE utf8_general_ci DEFAULT NULL,\n  `page_url` varchar(512) CHARACTER SET utf8 COLLATE utf8_general_ci DEFAULT NULL,\n  `region` varchar(128) CHARACTER SET utf8 COLLATE utf8_general_ci DEFAULT NULL,\n  `country` varchar(128) CHARACTER SET utf8 COLLATE utf8_general_ci DEFAULT NULL\n)",
      "outputs": [],
      "execution_count": 2
    },
    {
      "id": "441a552a",
      "cell_type": "markdown",
      "metadata": {
        "execution": {}
      },
      "source": "### Load Data using Pipeline",
      "attachments": {}
    },
    {
      "id": "afe53130",
      "cell_type": "code",
      "metadata": {
        "execution": {},
        "language": "python"
      },
      "source": "%%sql\n\nCREATE PIPELINE IF NOT EXISTS eventsdata /* Creating pipeline for sample data. */\nAS LOAD DATA KAFKA 'public-kafka.memcompute.com:9092/ad_events'\nENABLE OUT_OF_ORDER OPTIMIZATION\nDISABLE OFFSETS METADATA GC\nINTO TABLE `eventsdata`\nFIELDS TERMINATED BY '\\t' ENCLOSED BY '' ESCAPED BY '\\\\'\nLINES TERMINATED BY '\\n' STARTING BY ''\n(\n    `events`.`user_id`,\n    `events`.`event_name`,\n    `events`.`advertiser`,\n    `events`.`campaign`,\n    `events`.`gender`,\n    `events`.`income`,\n    `events`.`page_url`,\n    `events`.`region`,\n    `events`.`country`\n);\n\nSTART PIPELINE `eventsdata`;",
      "outputs": [],
      "execution_count": 3
    },
    {
      "id": "a4a75baf",
      "cell_type": "code",
      "metadata": {
        "execution": {},
        "language": "python"
      },
      "source": "%%sql\nSELECT COUNT(*) FROM `eventsdata`",
      "outputs": [],
      "execution_count": 4
    },
    {
      "id": "1b2d7ce0",
      "cell_type": "markdown",
      "metadata": {
        "execution": {}
      },
      "source": "### Sample Queries",
      "attachments": {}
    },
    {
      "id": "ca0c5167",
      "cell_type": "markdown",
      "metadata": {
        "execution": {}
      },
      "source": "Events by Region",
      "attachments": {}
    },
    {
      "id": "d70933bf",
      "cell_type": "code",
      "metadata": {
        "execution": {},
        "language": "python"
      },
      "source": "%%sql\nSELECT events.country\nAS `events.country`,\nCOUNT(events.country) AS 'events.countofevents'\nFROM eventsdata AS events\nGROUP BY 1 ORDER BY 2 DESC LIMIT 5;",
      "outputs": [],
      "execution_count": 5
    },
    {
      "id": "c5eba926",
      "cell_type": "markdown",
      "metadata": {
        "execution": {}
      },
      "source": "Events by Top 5 Advertisers",
      "attachments": {}
    },
    {
      "id": "656e5d4d",
      "cell_type": "code",
      "metadata": {
        "execution": {},
        "language": "python"
      },
      "source": "%%sql\nSELECT\n    events.advertiser AS `events.advertiser`,\n    COUNT(*) AS `events.count`\nFROM eventsdata AS events\nWHERE\n    (events.advertiser LIKE '%Subway%' OR events.advertiser LIKE '%McDonalds%' OR events.advertiser LIKE '%Starbucks%' OR events.advertiser LIKE '%Dollar General%' OR events.advertiser LIKE '%YUM! Brands%')\nGROUP BY 1\nORDER BY 2 DESC;",
      "outputs": [],
      "execution_count": 6
    },
    {
      "id": "80935d1d",
      "cell_type": "markdown",
      "metadata": {
        "execution": {}
      },
      "source": "Ad visitors by gender and income",
      "attachments": {}
    },
    {
      "id": "63f0dffa",
      "cell_type": "code",
      "metadata": {
        "execution": {},
        "language": "python"
      },
      "source": "%%sql\nSELECT * FROM (\nSELECT *, DENSE_RANK() OVER (ORDER BY z___min_rank) as z___pivot_row_rank, RANK() OVER (PARTITION BY z__pivot_col_rank ORDER BY z___min_rank) as z__pivot_col_ordering, CASE WHEN z___min_rank = z___rank THEN 1 ELSE 0 END AS z__is_highest_ranked_cell FROM (\nSELECT *, MIN(z___rank) OVER (PARTITION BY `events.income`) as z___min_rank FROM (\nSELECT *, RANK() OVER (ORDER BY CASE WHEN z__pivot_col_rank=1 THEN (CASE WHEN `events.count` IS NOT NULL THEN 0 ELSE 1 END) ELSE 2 END, CASE WHEN z__pivot_col_rank=1 THEN `events.count` ELSE NULL END DESC, `events.count` DESC, z__pivot_col_rank, `events.income`) AS z___rank FROM (\nSELECT *, DENSE_RANK() OVER (ORDER BY CASE WHEN `events.gender` IS NULL THEN 1 ELSE 0 END, `events.gender`) AS z__pivot_col_rank FROM (\nSELECT\n    events.gender AS `events.gender`,\n    events.income AS `events.income`,\n    COUNT(*) AS `events.count`\nFROM eventsdata AS events\nWHERE\n    (events.income \u003c\u003e 'unknown' OR events.income IS NULL)\nGROUP BY 1,2) ww\n) bb WHERE z__pivot_col_rank \u003c= 16384\n) aa\n) xx\n) zz\nWHERE (z__pivot_col_rank \u003c= 50 OR z__is_highest_ranked_cell = 1) AND (z___pivot_row_rank \u003c= 500 OR z__pivot_col_ordering = 1) ORDER BY z___pivot_row_rank;",
      "outputs": [],
      "execution_count": 7
    },
    {
      "id": "a5cd4fd8",
      "cell_type": "markdown",
      "metadata": {
        "execution": {}
      },
      "source": "Pipeline will keep pushing data from the kafka topic. Once your data is loaded you can stop the pipeline using below command",
      "attachments": {}
    },
    {
      "id": "fc3b6e08",
      "cell_type": "code",
      "metadata": {
        "execution": {},
        "language": "python"
      },
      "source": "%%sql\nSTOP PIPELINE eventsdata",
      "outputs": [],
      "execution_count": 8
    },
    {
      "id": "35bb1878",
      "cell_type": "markdown",
      "metadata": {
        "execution": {}
      },
      "source": "## Conclusion\n\n\nWe have shown how to connect to Kafka using `Pipelines` and insert data into SinglestoreDB. These techniques should enable you to\nintegrate your Kafka topics with SingleStoreDB.",
      "attachments": {}
    },
    {
      "id": "d22016b4",
      "cell_type": "markdown",
      "metadata": {
        "execution": {}
      },
      "source": "## Clean up\n\nRemove the '#' to uncomment and execute the queries below to clean up the pipeline and table created.",
      "attachments": {}
    },
    {
      "id": "675359fc",
      "cell_type": "markdown",
      "metadata": {
        "execution": {}
      },
      "source": "Drop the pipeline using below command",
      "attachments": {}
    },
    {
      "id": "d8bca715",
      "cell_type": "code",
      "metadata": {
        "execution": {},
        "language": "python"
      },
      "source": "%%sql\n#DROP PIPELINE eventsdata",
      "outputs": [],
      "execution_count": 9
    },
    {
      "id": "620ae66e",
      "cell_type": "code",
      "metadata": {
        "execution": {},
        "language": "python"
      },
      "source": "#shared_tier_check = %sql show variables like 'is_shared_tier'\n#if not shared_tier_check or shared_tier_check[0][1] == 'OFF':\n#    %sql DROP DATABASE IF EXISTS EventAnalysis;\n#else:\n#    %sql DROP TABLE eventsdata;",
      "outputs": [],
      "execution_count": 10
    },
    {
      "id": "6ad494a5",
      "cell_type": "markdown",
      "metadata": {
        "execution": {}
      },
      "source": "\u003cdiv id=\"singlestore-footer\" style=\"background-color: rgba(194, 193, 199, 0.25); height:2px; margin-bottom:10px\"\u003e\u003c/div\u003e\n\u003cdiv\u003e\u003cimg src=\"https://raw.githubusercontent.com/singlestore-labs/spaces-notebooks/master/common/images/singlestore-logo-grey.png\" style=\"padding: 0px; margin: 0px; height: 24px\"/\u003e\u003c/div\u003e",
      "attachments": {}
    }
  ],
  "metadata": {
    "kernelspec": {
      "display_name": "Python 3 (ipykernel)",
      "language": "python",
      "name": "python3"
    },
    "language_info": {
      "codemirror_mode": {
        "name": "ipython",
        "version": 3
      },
      "file_extension": ".py",
      "mimeType": "text/x-python",
      "name": "python",
      "nbconvert_exporter": "python",
      "pygments_lexer": "ipython3",
      "version": "3.11.6"
    },
    "jupyterlab": {
      "notebooks": {
        "version_major": 6,
        "version_minor": 4
      }
    },
    "singlestore_connection": {
      "connectionID": "",
      "defaultDatabase": ""
    },
    "singlestore_cell_default_language": "python"
  },
  "nbformat": 4,
  "nbformat_minor": 5
}