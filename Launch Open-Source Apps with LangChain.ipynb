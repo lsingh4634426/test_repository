{
  "cells": [
    {
      "id": "37ed22b4",
      "cell_type": "markdown",
      "metadata": {
        "execution": {}
      },
      "source": "\u003cdiv id=\"singlestore-header\" style=\"display: flex; background-color: rgba(209, 153, 255, 0.25); padding: 5px;\"\u003e\n    \u003cdiv id=\"icon-image\" style=\"width: 90px; height: 90px;\"\u003e\n        \u003cimg width=\"100%\" height=\"100%\" src=\"https://raw.githubusercontent.com/singlestore-labs/spaces-notebooks/master/common/images/header-icons/vector-circle.png\" /\u003e\n    \u003c/div\u003e\n    \u003cdiv id=\"text\" style=\"padding: 5px; margin-left: 10px;\"\u003e\n        \u003cdiv id=\"badge\" style=\"display: inline-block; background-color: rgba(0, 0, 0, 0.15); border-radius: 4px; padding: 4px 8px; align-items: center; margin-top: 6px; margin-bottom: -2px; font-size: 80%\"\u003eSingleStore Notebooks\u003c/div\u003e\n        \u003ch1 style=\"font-weight: 500; margin: 8px 0 0 4px;\"\u003eLaunch Open-Source Apps with LangChain\u003c/h1\u003e\n    \u003c/div\u003e\n\u003c/div\u003e",
      "attachments": {}
    },
    {
      "id": "b2e2f099",
      "cell_type": "code",
      "metadata": {
        "execution": {},
        "language": "python"
      },
      "source": "%%writefile requirements.txt\nlangchain==0.0.339\nopenai==1.3.3\npdf2image==1.17.0\npdfminer==20191125\npdfminer.six==20221105\npillow_heif==0.13.1\ntabulate==0.9.0\ntiktoken==0.5.1\nunstructured==0.11.0\nopencv-contrib-python-headless==4.8.1.78\nunstructured.pytesseract==0.3.12\nunstructured.inference==0.7.15",
      "outputs": [],
      "execution_count": 1
    },
    {
      "id": "bda628ff",
      "cell_type": "code",
      "metadata": {
        "execution": {},
        "language": "python"
      },
      "source": "%conda install -y --quiet poppler tesseract",
      "outputs": [],
      "execution_count": 2
    },
    {
      "id": "5ddcf19c",
      "cell_type": "code",
      "metadata": {
        "execution": {},
        "language": "python"
      },
      "source": "%pip install -r requirements.txt --quiet",
      "outputs": [],
      "execution_count": 3
    },
    {
      "id": "e51258bd",
      "cell_type": "code",
      "metadata": {
        "execution": {},
        "language": "python"
      },
      "source": "import nltk\nnltk.download('punkt_tab')\nnltk.download('averaged_perceptron_tagger_eng')",
      "outputs": [],
      "execution_count": 4
    },
    {
      "id": "04c9106d",
      "cell_type": "code",
      "metadata": {
        "execution": {},
        "language": "python"
      },
      "source": "from langchain.document_loaders import OnlinePDFLoader\n\nloader = OnlinePDFLoader(\"http://leavcom.com/pdf/DBpdf.pdf\")\n\ndata = loader.load()",
      "outputs": [],
      "execution_count": 5
    },
    {
      "id": "d47825e1",
      "cell_type": "code",
      "metadata": {
        "execution": {},
        "language": "python"
      },
      "source": "from langchain.text_splitter import RecursiveCharacterTextSplitter\n\nprint (f\"You have {len(data)} document(s) in your data\")\nprint (f\"There are {len(data[0].page_content)} characters in your document\")",
      "outputs": [],
      "execution_count": 6
    },
    {
      "id": "d9ea31be",
      "cell_type": "code",
      "metadata": {
        "execution": {},
        "language": "python"
      },
      "source": "text_splitter = RecursiveCharacterTextSplitter(chunk_size=2000, chunk_overlap=0)\ntexts = text_splitter.split_documents(data)\n\nprint (f\"You have {len(texts)} pages\")",
      "outputs": [],
      "execution_count": 7
    },
    {
      "id": "248f5664",
      "cell_type": "code",
      "metadata": {
        "execution": {},
        "language": "python"
      },
      "source": "%%sql\nDROP DATABASE IF EXISTS pdf_db;\nCREATE DATABASE IF NOT EXISTS pdf_db;",
      "outputs": [],
      "execution_count": 8
    },
    {
      "id": "8f867e9b",
      "cell_type": "markdown",
      "metadata": {
        "execution": {}
      },
      "source": "\u003cdiv class=\"alert alert-block alert-warning\"\u003e\n    \u003cb class=\"fa fa-solid fa-exclamation-circle\"\u003e\u003c/b\u003e\n    \u003cdiv\u003e\n        \u003cp\u003e\u003cb\u003eAction Required\u003c/b\u003e\u003c/p\u003e\n        \u003cp\u003eMake sure to select the \u003ctt\u003epdf_db\u003c/tt\u003e database from the drop-down menu at the top of this notebook. It updates the \u003ctt\u003econnection_url\u003c/tt\u003e to connect to that database.\u003c/p\u003e\n    \u003c/div\u003e\n\u003c/div\u003e",
      "attachments": {}
    },
    {
      "id": "ec83a39e",
      "cell_type": "code",
      "metadata": {
        "execution": {},
        "language": "python"
      },
      "source": "%%sql\nDROP TABLE IF EXISTS pdf_docs1;\nCREATE TABLE IF NOT EXISTS pdf_docs1 (\n    id INT PRIMARY KEY,\n    content TEXT CHARACTER SET utf8mb4 COLLATE utf8mb4_general_ci,\n    vector BLOB\n);",
      "outputs": [],
      "execution_count": 9
    },
    {
      "id": "bc9922c9",
      "cell_type": "code",
      "metadata": {
        "execution": {},
        "language": "python"
      },
      "source": "import os\nimport getpass\n\nos.environ[\"OPENAI_API_KEY\"] = getpass.getpass(\"OpenAI API Key:\")",
      "outputs": [],
      "execution_count": 10
    },
    {
      "id": "067cb1db",
      "cell_type": "code",
      "metadata": {
        "execution": {},
        "language": "python"
      },
      "source": "import json\nimport sqlalchemy as sa\nfrom langchain.embeddings import OpenAIEmbeddings\nfrom singlestoredb import create_engine\n\nconn = create_engine().connect()\n\nembedder = OpenAIEmbeddings()\n\n# Fetch all embeddings in one call\nembeddings = embedder.embed_documents([doc.page_content for doc in texts])\n\n# Build query parameters\nparams = []\nfor i, (text_content, embedding) in enumerate(zip(texts, embeddings)):\n    params.append(dict(id=i+1, content=text_content, vector=json.dumps(embedding)))\n\nstmt = sa.text(\"\"\"\n    INSERT INTO pdf_docs1 (\n        id,\n        content,\n        vector\n    )\n    VALUES (\n        :id,\n        :content,\n        JSON_ARRAY_PACK_F32(:vector)\n    )\n\"\"\")\n\nconn.execute(stmt, params)",
      "outputs": [],
      "execution_count": 11
    },
    {
      "id": "954fdab4",
      "cell_type": "code",
      "metadata": {
        "execution": {},
        "language": "python"
      },
      "source": "%%sql\nSELECT JSON_ARRAY_UNPACK_F32(vector) as vector\nFROM pdf_docs1\nLIMIT 1;",
      "outputs": [],
      "execution_count": 12
    },
    {
      "id": "41b9e67a",
      "cell_type": "code",
      "metadata": {
        "execution": {},
        "language": "python"
      },
      "source": "query_text = \"Will object-oriented databases be commercially successful?\"\n\nquery_embedding = embedder.embed_documents([query_text])[0]\n\nstmt = sa.text(\"\"\"\n    SELECT\n        content,\n        DOT_PRODUCT_F32(JSON_ARRAY_PACK_F32(:embedding), vector) AS score\n    FROM pdf_docs1\n    ORDER BY score DESC\n    LIMIT 1\n\"\"\")\n\nresults = conn.execute(stmt, dict(embedding=json.dumps(query_embedding)))\n\nfor row in results:\n    print(row[0])",
      "outputs": [],
      "execution_count": 13
    },
    {
      "id": "2859d902",
      "cell_type": "code",
      "metadata": {
        "execution": {},
        "language": "python"
      },
      "source": "import openai\n\nclient = openai.OpenAI()\n\nprompt = f\"The user asked: {query_text}. The most similar text from the document is: {row[0]}\"\n\nresponse = client.chat.completions.create(\n    model=\"gpt-3.5-turbo\",\n    messages=[\n        {\"role\": \"system\", \"content\": \"You are a helpful assistant.\"},\n        {\"role\": \"user\", \"content\": prompt}\n    ]\n)\n\nprint(response.choices[0].message.content)",
      "outputs": [],
      "execution_count": 14
    },
    {
      "id": "2b032231",
      "cell_type": "markdown",
      "metadata": {
        "execution": {}
      },
      "source": "## Clean up",
      "attachments": {}
    },
    {
      "id": "e7942064",
      "cell_type": "code",
      "metadata": {
        "execution": {},
        "language": "python"
      },
      "source": "%%sql\nDROP DATABASE IF EXISTS pdf_db",
      "outputs": [],
      "execution_count": 15
    },
    {
      "id": "fc7092b3",
      "cell_type": "markdown",
      "metadata": {
        "execution": {}
      },
      "source": "\u003cdiv id=\"singlestore-footer\" style=\"background-color: rgba(194, 193, 199, 0.25); height:2px; margin-bottom:10px\"\u003e\u003c/div\u003e\n\u003cdiv\u003e\u003cimg src=\"https://raw.githubusercontent.com/singlestore-labs/spaces-notebooks/master/common/images/singlestore-logo-grey.png\" style=\"padding: 0px; margin: 0px; height: 24px\"/\u003e\u003c/div\u003e",
      "attachments": {}
    }
  ],
  "metadata": {
    "kernelspec": {
      "display_name": "Python 3 (ipykernel)",
      "language": "python",
      "name": "python3"
    },
    "language_info": {
      "codemirror_mode": {
        "name": "ipython",
        "version": 3
      },
      "file_extension": ".py",
      "mimeType": "text/x-python",
      "name": "python",
      "nbconvert_exporter": "python",
      "pygments_lexer": "ipython3",
      "version": "3.11.9"
    },
    "jupyterlab": {
      "notebooks": {
        "version_major": 6,
        "version_minor": 4
      }
    },
    "singlestore_connection": {
      "connectionID": "",
      "defaultDatabase": ""
    },
    "singlestore_cell_default_language": "python",
    "singlestore_row_limit": 300
  },
  "nbformat": 4,
  "nbformat_minor": 5
}