{
  "cells": [
    {
      "id": "9b385acd",
      "cell_type": "markdown",
      "metadata": {
        "execution": {}
      },
      "source": "\u003cdiv id=\"singlestore-header\" style=\"display: flex; background-color: rgba(235, 249, 245, 0.25); padding: 5px;\"\u003e\n    \u003cdiv id=\"icon-image\" style=\"width: 90px; height: 90px;\"\u003e\n        \u003cimg width=\"100%\" height=\"100%\" src=\"https://raw.githubusercontent.com/singlestore-labs/spaces-notebooks/master/common/images/header-icons/browser.png\" /\u003e\n    \u003c/div\u003e\n    \u003cdiv id=\"text\" style=\"padding: 5px; margin-left: 10px;\"\u003e\n        \u003cdiv id=\"badge\" style=\"display: inline-block; background-color: rgba(0, 0, 0, 0.15); border-radius: 4px; padding: 4px 8px; align-items: center; margin-top: 6px; margin-bottom: -2px; font-size: 80%\"\u003eSingleStore Notebooks\u003c/div\u003e\n        \u003ch1 style=\"font-weight: 500; margin: 8px 0 0 4px;\"\u003eGetting Started with DataFrames in SingleStoreDB\u003c/h1\u003e\n    \u003c/div\u003e\n\u003c/div\u003e",
      "attachments": {}
    },
    {
      "id": "6fafac22",
      "cell_type": "markdown",
      "metadata": {
        "execution": {}
      },
      "source": "\u003cdiv class=\"alert alert-block alert-warning\"\u003e\n    \u003cb class=\"fa fa-solid fa-exclamation-circle\"\u003e\u003c/b\u003e\n    \u003cdiv\u003e\n        \u003cp\u003e\u003cb\u003eNote\u003c/b\u003e\u003c/p\u003e\n        \u003cp\u003eThis notebook can be run on a Free Starter Workspace. To create a Free Starter Workspace navigate to \u003ctt\u003eStart\u003c/tt\u003e using the left nav. You can also use your existing Standard or Premium workspace with this Notebook.\u003c/p\u003e\n    \u003c/div\u003e\n\u003c/div\u003e",
      "attachments": {}
    },
    {
      "id": "3ea0fdf6",
      "cell_type": "markdown",
      "metadata": {
        "execution": {}
      },
      "source": "SingleStoreDB supports a backend for the [Ibis](https://ibis-project.org) to\ncreate a pandas `DataFrame`-like experience while use the power of a distributed database on the\nbackend. When interacting with Ibis objects, expressions are built of the operations rather\nthan executing them instantly. Once you reach the point where you want to see the results of\nthe operations, you call the `.execute()` method which constructs a SQL query and submits it\nto the SingleStoreDB server. The results then come back as a local pandas `DataFrame` or `Series`.\nThe entire workflow gives the feel of working with pandas `DataFrames` while giving you the\nability to work with much larger data sets.\n\nIn the SingleStore Cloud environment, all of the needed Python packages are already installed.\nTo run this notebook outside of that environment, you will need to install:\n\n```\npip install 'singlestoredb[dataframe]'\n```\n\nThe above will install the SingleStoreDB Python client, the SingleStoreDB SQLAlchemy dialect,\nand the SingleStoreDB Ibis backend.",
      "attachments": {}
    },
    {
      "id": "5fc0397a",
      "cell_type": "code",
      "metadata": {
        "execution": {},
        "language": "python"
      },
      "source": "import ibis\nimport pandas as pd",
      "outputs": [],
      "execution_count": 1
    },
    {
      "id": "b2c3a3b1",
      "cell_type": "markdown",
      "metadata": {
        "execution": {}
      },
      "source": "We'll set up a few options to make the notebook nicer to use, including the display width of DataFrames and enabling the interactive features\nof the Ibis package. The primary purpose of the `interactive` option is so that you don't have to manually run the `execute` method on expressions\nto see the results. In our notebook, the `execute` method will be called implicitly each time an Ibis expression is rendered by the notebook.",
      "attachments": {}
    },
    {
      "id": "3dc5336b",
      "cell_type": "code",
      "metadata": {
        "execution": {},
        "language": "python"
      },
      "source": "pd.options.display.max_colwidth = 120\nibis.options.verbose = False\nibis.options.interactive = True",
      "outputs": [],
      "execution_count": 2
    },
    {
      "id": "58cad317",
      "cell_type": "markdown",
      "metadata": {
        "execution": {}
      },
      "source": "\u003cdiv class=\"alert alert-block alert-warning\"\u003e\n    \u003cb class=\"fa fa-solid fa-exclamation-circle\"\u003e\u003c/b\u003e\n    \u003cdiv\u003e\n        \u003cp\u003e\u003cb\u003eAction Required\u003c/b\u003e\u003c/p\u003e\n        \u003cp\u003e If you have a Free Starter Workspace deployed already, select the database from drop-down menu at the top of this notebook. It updates the \u003ctt\u003econnection_url\u003c/tt\u003e to connect to that database.\u003c/p\u003e\n    \u003c/div\u003e\n\u003c/div\u003e",
      "attachments": {}
    },
    {
      "id": "d829370b",
      "cell_type": "markdown",
      "metadata": {
        "execution": {}
      },
      "source": "## Create a database\nIf you have a Standard or Premium workspace deployment, you can create a new database to run this notebook. Running the cell below to create the new database in your existing workspace. Note: this will NOT create a new database in your Free Starter Workspace.",
      "attachments": {}
    },
    {
      "id": "87d224f6",
      "cell_type": "code",
      "metadata": {
        "execution": {},
        "language": "python"
      },
      "source": "shared_tier_check = %sql show variables like 'is_shared_tier'\nif not shared_tier_check or shared_tier_check[0][1] == 'OFF':\n    %sql DROP DATABASE IF EXISTS ibis_getting_started;\n    %sql CREATE DATABASE ibis_getting_started;",
      "outputs": [],
      "execution_count": 3
    },
    {
      "id": "e4421df5",
      "cell_type": "markdown",
      "metadata": {
        "execution": {}
      },
      "source": "\u003cdiv class=\"alert alert-block alert-warning\"\u003e\n    \u003cb class=\"fa fa-solid fa-exclamation-circle\"\u003e\u003c/b\u003e\n    \u003cdiv\u003e\n        \u003cp\u003e\u003cb\u003eAction Required\u003c/b\u003e\u003c/p\u003e\n        \u003cp\u003e Make sure to select a database from the drop-down menu at the top of this notebook. It updates the \u003ctt\u003econnection_url\u003c/tt\u003e  to connect to that database.\u003c/p\u003e\n    \u003c/div\u003e\n\u003c/div\u003e",
      "attachments": {}
    },
    {
      "id": "af9134d0",
      "cell_type": "markdown",
      "metadata": {
        "execution": {}
      },
      "source": "## Make a connection using Ibis\n\nConnections to Ibis are made through the `ibis.singlestoredb` method. The connection parameters can be given using either the suggested Python DB-API\nparameters (i.e., host=, user=, port=, etc.) or as a SQLAlchemy URL (e.g., user:password@host:port/database). In this case, we are getting the username and password from the environment variable `SINGLESTOREDB_URL` which is supplied by the\nSingleStore notebook environment.",
      "attachments": {}
    },
    {
      "id": "987c0ae5",
      "cell_type": "code",
      "metadata": {
        "execution": {},
        "language": "python"
      },
      "source": "conn = ibis.singlestoredb.connect()",
      "outputs": [],
      "execution_count": 4
    },
    {
      "id": "fad43ca2",
      "cell_type": "markdown",
      "metadata": {
        "execution": {}
      },
      "source": "## Phone review data example\n\nOur first example will use customer review data for phones. It includes information such as a reviewer name, the text of the review, a short summary\nof the review, a numeric rating from 1 to 5, and the date of the review. We'll first read the data into a local pandas DataFrame to do some\ncleanup, then upload it to the database to demonstrate the SingleStoreDB package capabilities",
      "attachments": {}
    },
    {
      "id": "0c7611ec",
      "cell_type": "markdown",
      "metadata": {
        "execution": {}
      },
      "source": "### Read sample data into pandas DataFrame\n\nWe will read the data for this example directly from a Github repository using a URL in the `pd.read_csv` function.\nThe result will be a pandas `DataFrame`. We will upload the data to the server in a later step.",
      "attachments": {}
    },
    {
      "id": "dff813f8",
      "cell_type": "code",
      "metadata": {
        "execution": {},
        "language": "python"
      },
      "source": "phones_df = pd.read_csv('https://raw.githubusercontent.com/singlestore-labs/ibis-singlestoredb/main/examples/phones.csv')\nphones_df.head(3)",
      "outputs": [],
      "execution_count": 5
    },
    {
      "id": "649d0833",
      "cell_type": "markdown",
      "metadata": {
        "execution": {}
      },
      "source": "We can see the column types using the `info` method. As you can see, there are two date columns, neither of which is in a convenient\nformat for use as a date. We'll first create an actual datetime column from those and drop the original columns.",
      "attachments": {}
    },
    {
      "id": "b3648d5d",
      "cell_type": "code",
      "metadata": {
        "execution": {},
        "language": "python"
      },
      "source": "phones_df.info()",
      "outputs": [],
      "execution_count": 6
    },
    {
      "id": "e6c78524",
      "cell_type": "markdown",
      "metadata": {
        "execution": {}
      },
      "source": "### Upload the data to the server\n\nNow that we have some data to work with, we can upload it to the server using the `create_table` method. This method allows you to upload\ndata from a local `DataFrame` or materialize a table from an Ibis table expression.",
      "attachments": {}
    },
    {
      "id": "7c5acaff",
      "cell_type": "code",
      "metadata": {
        "execution": {},
        "language": "python"
      },
      "source": "conn.create_table?",
      "outputs": [],
      "execution_count": 7
    },
    {
      "id": "6aeed052",
      "cell_type": "markdown",
      "metadata": {
        "execution": {}
      },
      "source": "The code below will create the table in the server from the given `DataFrame`. The data types for the database table will be inferred from\nthe `DataFrame` data types. The `overwrite=True` is merely used here in case you run the notebook code multiple times against the same\ndatabase. It will cause an existing `phones` table to be overwritten if it already exists.",
      "attachments": {}
    },
    {
      "id": "e8b8be08",
      "cell_type": "code",
      "metadata": {
        "execution": {},
        "language": "python"
      },
      "source": "phones_tbl = conn.create_table('phones', phones_df, overwrite=True)\nphones_tbl.head(3)",
      "outputs": [],
      "execution_count": 8
    },
    {
      "id": "525c58af",
      "cell_type": "markdown",
      "metadata": {
        "execution": {}
      },
      "source": "We can get information about the table in the server by using the `info` method, just as you would with a local pandas `DataFrame`.",
      "attachments": {}
    },
    {
      "id": "b00b87b2",
      "cell_type": "code",
      "metadata": {
        "execution": {},
        "language": "python"
      },
      "source": "phones_tbl.info()",
      "outputs": [],
      "execution_count": 9
    },
    {
      "id": "cd7b0e0c",
      "cell_type": "markdown",
      "metadata": {
        "execution": {}
      },
      "source": "Here is the `CREATE TABLE` statement resulting from the data upload step. The `show` attribute of the connection gives access to all of\nthe `SHOW` commands in the database such as `functions`, `create_function`, `status`, `databases`, and so on.",
      "attachments": {}
    },
    {
      "id": "d512fd95",
      "cell_type": "code",
      "metadata": {
        "execution": {},
        "language": "python"
      },
      "source": "ct = conn.show.create_table('phones')\nct",
      "outputs": [],
      "execution_count": 10
    },
    {
      "id": "2bb21d51",
      "cell_type": "markdown",
      "metadata": {
        "execution": {}
      },
      "source": "To print this a nicer way, we'll just display the `CreateTable` column of the first result row.",
      "attachments": {}
    },
    {
      "id": "b38bc988",
      "cell_type": "code",
      "metadata": {
        "execution": {},
        "language": "python"
      },
      "source": "print(ct[0]['CreateTable'])",
      "outputs": [],
      "execution_count": 11
    },
    {
      "id": "2d930373",
      "cell_type": "markdown",
      "metadata": {
        "execution": {}
      },
      "source": "### Convert review date / time columns\n\nThis data set has a less than optimal way of storing the dates of the reviews. It has two columns that contain the same information and the review time, and neither\nof them is convenient to work with. Let's create a new column that contains the date in a timestamp column. To do that, we simply cast the\nexisting `unixReviewTime` column to a timestamp type. We'll also use the `name` method to assign a name to the resulting column expression.",
      "attachments": {}
    },
    {
      "id": "a36d71e1",
      "cell_type": "code",
      "metadata": {
        "execution": {},
        "language": "python"
      },
      "source": "date = phones_tbl.unixReviewTime.cast('timestamp').name('date')\ndate",
      "outputs": [],
      "execution_count": 12
    },
    {
      "id": "9fb2a0ce",
      "cell_type": "markdown",
      "metadata": {
        "execution": {}
      },
      "source": "The `overall` rating column was uploaded as floating point data, but it only contains integers. Let's cast that to an integer.",
      "attachments": {}
    },
    {
      "id": "be53735f",
      "cell_type": "code",
      "metadata": {
        "execution": {},
        "language": "python"
      },
      "source": "overall = phones_tbl.overall.cast('int').name('overall')\noverall",
      "outputs": [],
      "execution_count": 13
    },
    {
      "id": "0f0b1996",
      "cell_type": "markdown",
      "metadata": {
        "execution": {}
      },
      "source": "Now that we have our two processed columns, we can remove the old columns we don't need anymore and insert our\nnew columns expressions with the cleaned data.",
      "attachments": {}
    },
    {
      "id": "52fd0c29",
      "cell_type": "code",
      "metadata": {
        "execution": {},
        "language": "python"
      },
      "source": "columns = [x for x in phones_tbl.columns if 'Time' not in x and x != 'overall'] + [overall, date]",
      "outputs": [],
      "execution_count": 14
    },
    {
      "id": "b4d4118b",
      "cell_type": "code",
      "metadata": {
        "execution": {},
        "language": "python"
      },
      "source": "phones_tbl = phones_tbl[columns]\nphones_tbl",
      "outputs": [],
      "execution_count": 15
    },
    {
      "id": "f35fc27e",
      "cell_type": "markdown",
      "metadata": {
        "execution": {}
      },
      "source": "The `phones_tbl` object now contains both references to actual columns in the `phones` table as well as computed expressions.\nIt can be thought of as a client-side view object, but still works the same way as our original table. We can use the `info`\nmethod to show the schema information.",
      "attachments": {}
    },
    {
      "id": "4b7afa41",
      "cell_type": "code",
      "metadata": {
        "execution": {},
        "language": "python"
      },
      "source": "phones_tbl.info()",
      "outputs": [],
      "execution_count": 16
    },
    {
      "id": "a2e72875",
      "cell_type": "markdown",
      "metadata": {
        "execution": {}
      },
      "source": "It's also possible to access the schema information for traversing progamatically using the `schema` method of the table.",
      "attachments": {}
    },
    {
      "id": "c2e4095b",
      "cell_type": "code",
      "metadata": {
        "execution": {},
        "language": "python"
      },
      "source": "phones_tbl.schema()",
      "outputs": [],
      "execution_count": 17
    },
    {
      "id": "5f6f19b5",
      "cell_type": "markdown",
      "metadata": {
        "execution": {}
      },
      "source": "Here are the public methods / attributes of the `Schema` object.",
      "attachments": {}
    },
    {
      "id": "389c9b13",
      "cell_type": "code",
      "metadata": {
        "execution": {},
        "language": "python"
      },
      "source": "for name in dir(phones_tbl.schema()):\n    if not name.startswith('_'):\n        print(name)",
      "outputs": [],
      "execution_count": 18
    },
    {
      "id": "6fa3f354",
      "cell_type": "markdown",
      "metadata": {
        "execution": {}
      },
      "source": "### Create a table from a table expression\n\nAs mentioned earlier, the `create_table` method can be used to create tables in the database from Ibis table\nexpressions. That means that we can materialize our new table into the database if we so desire. This simply\nselects data from an expression into a new table, no work is being done on the client side.",
      "attachments": {}
    },
    {
      "id": "db2e7d54",
      "cell_type": "code",
      "metadata": {
        "execution": {},
        "language": "python"
      },
      "source": "tbl_2 = conn.create_table('phones2', phones_tbl, overwrite=True)\ntbl_2",
      "outputs": [],
      "execution_count": 19
    },
    {
      "id": "531b6443",
      "cell_type": "code",
      "metadata": {
        "execution": {},
        "language": "python"
      },
      "source": "conn.show.tables()",
      "outputs": [],
      "execution_count": 20
    },
    {
      "id": "ebe7534f",
      "cell_type": "code",
      "metadata": {
        "execution": {},
        "language": "python"
      },
      "source": "tbl_2.info()",
      "outputs": [],
      "execution_count": 21
    },
    {
      "id": "6de6f891",
      "cell_type": "code",
      "metadata": {
        "execution": {},
        "language": "python"
      },
      "source": "conn.show.create_table('phones2')",
      "outputs": [],
      "execution_count": 22
    },
    {
      "id": "2f5fbeb8",
      "cell_type": "markdown",
      "metadata": {
        "execution": {}
      },
      "source": "Tables can also be dropped using the `drop_table` method.",
      "attachments": {}
    },
    {
      "id": "cf322021",
      "cell_type": "code",
      "metadata": {
        "execution": {},
        "language": "python"
      },
      "source": "conn.drop_table('phones2')",
      "outputs": [],
      "execution_count": 23
    },
    {
      "id": "0548af81",
      "cell_type": "markdown",
      "metadata": {
        "execution": {}
      },
      "source": "### DataFrame operations",
      "attachments": {}
    },
    {
      "id": "884017da",
      "cell_type": "markdown",
      "metadata": {
        "execution": {}
      },
      "source": "Now that we have a table in the database and a `DataFrame`-like obect connected to it, let's do some operations with the data. For this example,\nwe'll enable the `verbose` option in Ibis. This will display the SQL code that is sent to the server when evaluating the expression. In this\nexample, we are building a sentence from various columns in the data table. We are using the reviewer name (which is capitalized), the summary,\nand the overall rating (which is cast to a string). All of these are concatenated together using the `+` as you normally would when\nconcatenating strings in Python.",
      "attachments": {}
    },
    {
      "id": "a3ecabb9",
      "cell_type": "code",
      "metadata": {
        "execution": {},
        "language": "python"
      },
      "source": "# Enable display of SQL that is executed in the background\nibis.options.verbose = True\n\ntexpr = (phones_tbl.reviewerName.capitalize() + \\\n         ' says \"' + \\\n         phones_tbl.summary + \\\n         '\" and gives it ' + \\\n         phones_tbl.overall.cast('string') + \\\n         ' stars.').name('Review Summary')\ntexpr",
      "outputs": [],
      "execution_count": 24
    },
    {
      "id": "83eba3be",
      "cell_type": "markdown",
      "metadata": {
        "execution": {}
      },
      "source": "As you can see from the SQL output above, the sentence is constructed using `concat` in the query. Capitalization is done using `ucase` and `substring`.\nThe `:param_#` portions are used by Ibis to inject literal Python values from the expression. And, you'll see that the result table contains a column\nof string values that are the result of the expression.",
      "attachments": {}
    },
    {
      "id": "2bddebd6",
      "cell_type": "markdown",
      "metadata": {
        "execution": {}
      },
      "source": "#### String operations\n\nThere are many string operations available in Ibis. Many of them correspond to operations on pandas DataFrames and / or Python string methods.\nThe code below prints a list of all methods on string columns.",
      "attachments": {}
    },
    {
      "id": "debf5ef0",
      "cell_type": "code",
      "metadata": {
        "execution": {},
        "language": "python"
      },
      "source": "for x in dir(texpr):\n    if not x.startswith('_'):\n        print(x)",
      "outputs": [],
      "execution_count": 25
    },
    {
      "id": "ef514099",
      "cell_type": "markdown",
      "metadata": {
        "execution": {}
      },
      "source": "#### Operations on other column types\n\nOther data types have different methods that can be called. For example, this is the list of methods on date/time columns.",
      "attachments": {}
    },
    {
      "id": "9907aaf4",
      "cell_type": "code",
      "metadata": {
        "execution": {},
        "language": "python"
      },
      "source": "for x in dir(phones_tbl.date):\n    if not x.startswith('_'):\n        print(x)",
      "outputs": [],
      "execution_count": 26
    },
    {
      "id": "a9953c32",
      "cell_type": "markdown",
      "metadata": {
        "execution": {}
      },
      "source": "Here are the methods for numeric columns.",
      "attachments": {}
    },
    {
      "id": "1b5ff980",
      "cell_type": "code",
      "metadata": {
        "execution": {},
        "language": "python"
      },
      "source": "for x in dir(phones_tbl.overall):\n    if not x.startswith('_'):\n        print(x)",
      "outputs": [],
      "execution_count": 27
    },
    {
      "id": "ec9d3104",
      "cell_type": "code",
      "metadata": {
        "execution": {},
        "language": "python"
      },
      "source": "ibis.options.verbose = False",
      "outputs": [],
      "execution_count": 28
    },
    {
      "id": "443328f1",
      "cell_type": "markdown",
      "metadata": {
        "execution": {}
      },
      "source": "### Filter reviews containing \"iphone 4\"\n\nNow that we've seen how to construct expressions that can be used in the database, let's use that expression for use in further queries.\nThe expression below takes the result of our previous expression, lower-cases it, then checks for the occurrence of the substring\n\"iphone 4\". This will return a column of booleans which can be used to filter our original table, just like with a pandas DataFrame.",
      "attachments": {}
    },
    {
      "id": "749719b2",
      "cell_type": "code",
      "metadata": {
        "execution": {},
        "language": "python"
      },
      "source": "has_iphone_4 = texpr.lower().contains('iphone 4').name('Has iPhone 4')\nhas_iphone_4",
      "outputs": [],
      "execution_count": 29
    },
    {
      "id": "2eef6d94",
      "cell_type": "markdown",
      "metadata": {
        "execution": {}
      },
      "source": "First, let's use the filter expression to see how many of our generated sentences contain \"iphone 4\". We do this by using our previous\nexpression as an indexing expression to our original table object (e.g., `tbl[filter-expr]`). This will return only the rows where\nthe filter expression was `True`. We can then count the number of rows using the `count` method.",
      "attachments": {}
    },
    {
      "id": "cedfd906",
      "cell_type": "code",
      "metadata": {
        "execution": {},
        "language": "python"
      },
      "source": "phones_tbl[has_iphone_4].count()",
      "outputs": [],
      "execution_count": 30
    },
    {
      "id": "cb30666b",
      "cell_type": "markdown",
      "metadata": {
        "execution": {}
      },
      "source": "Now we can print selected columns from the filtered table. We can also sort them according to the `overall` column as shown below.",
      "attachments": {}
    },
    {
      "id": "50abc49c",
      "cell_type": "code",
      "metadata": {
        "execution": {},
        "language": "python"
      },
      "source": "phones_tbl[has_iphone_4]['reviewerName', 'helpful', 'overall'].order_by(ibis.desc('overall'))",
      "outputs": [],
      "execution_count": 31
    },
    {
      "id": "d0944d81",
      "cell_type": "markdown",
      "metadata": {
        "execution": {}
      },
      "source": "## Conclusion\n\nSo far we've uploaded data to the database using `create_table` and a local `DataFrame`, we've constructed Python expressions that get translated\nto SQL and executed on the server, used those expressions in filtering operations, and selected columns from and sorted the results of\nthe filtering operation. This covers a small number of the abilities of the table and column objects created by Ibis. For additional methods\non the various types, see the [Ibis documentation](https://ibis-project.orghttps://ibis-project.org).",
      "attachments": {}
    },
    {
      "id": "a775fe56",
      "cell_type": "markdown",
      "metadata": {
        "execution": {}
      },
      "source": "\u003cdiv class=\"alert alert-block alert-warning\"\u003e\n    \u003cb class=\"fa fa-solid fa-exclamation-circle\"\u003e\u003c/b\u003e\n    \u003cdiv\u003e\n        \u003cp\u003e\u003cb\u003eAction Required\u003c/b\u003e\u003c/p\u003e\n        \u003cp\u003e If you created a new database in your Standard or Premium Workspace, you can drop the database by running the cell below. Note: this will not drop your database for Free Starter Workspaces. To drop a Free Starter Workspace, terminate the Workspace using the UI. \u003c/p\u003e\n    \u003c/div\u003e\n\u003c/div\u003e",
      "attachments": {}
    },
    {
      "id": "c9fa396a",
      "cell_type": "code",
      "metadata": {
        "execution": {},
        "language": "python"
      },
      "source": "shared_tier_check = %sql show variables like 'is_shared_tier'\nif not shared_tier_check or shared_tier_check[0][1] == 'OFF':\n    %sql DROP DATABASE IF EXISTS ibis_getting_started;",
      "outputs": [],
      "execution_count": 32
    },
    {
      "id": "b0a782b4",
      "cell_type": "markdown",
      "metadata": {
        "execution": {}
      },
      "source": "\u003cdiv id=\"singlestore-footer\" style=\"background-color: rgba(194, 193, 199, 0.25); height:2px; margin-bottom:10px\"\u003e\u003c/div\u003e\n\u003cdiv\u003e\u003cimg src=\"https://raw.githubusercontent.com/singlestore-labs/spaces-notebooks/master/common/images/singlestore-logo-grey.png\" style=\"padding: 0px; margin: 0px; height: 24px\"/\u003e\u003c/div\u003e",
      "attachments": {}
    }
  ],
  "metadata": {
    "kernelspec": {
      "display_name": "Python 3 (ipykernel)",
      "language": "python",
      "name": "python3"
    },
    "language_info": {
      "codemirror_mode": {
        "name": "ipython",
        "version": 3
      },
      "file_extension": ".py",
      "mimeType": "text/x-python",
      "name": "python",
      "nbconvert_exporter": "python",
      "pygments_lexer": "ipython3",
      "version": "3.11.4"
    },
    "singlestore_connection": {
      "connectionID": "",
      "defaultDatabase": ""
    },
    "singlestore_cell_default_language": "python"
  },
  "nbformat": 4,
  "nbformat_minor": 5
}