{
  "cells": [
    {
      "id": "e66c936c",
      "cell_type": "markdown",
      "metadata": {
        "execution": {}
      },
      "source": "\u003cdiv id=\"singlestore-header\" style=\"display: flex; background-color: rgba(209, 153, 255, 0.25); padding: 5px;\"\u003e\n    \u003cdiv id=\"icon-image\" style=\"width: 90px; height: 90px;\"\u003e\n        \u003cimg width=\"100%\" height=\"100%\" src=\"https://raw.githubusercontent.com/singlestore-labs/spaces-notebooks/master/common/images/header-icons/notes.png\" /\u003e\n    \u003c/div\u003e\n    \u003cdiv id=\"text\" style=\"padding: 5px; margin-left: 10px;\"\u003e\n        \u003cdiv id=\"badge\" style=\"display: inline-block; background-color: rgba(0, 0, 0, 0.15); border-radius: 4px; padding: 4px 8px; align-items: center; margin-top: 6px; margin-bottom: -2px; font-size: 80%\"\u003eSingleStore Notebooks\u003c/div\u003e\n        \u003ch1 style=\"font-weight: 500; margin: 8px 0 0 4px;\"\u003eBasic Query Examples\u003c/h1\u003e\n    \u003c/div\u003e\n\u003c/div\u003e",
      "attachments": {}
    },
    {
      "id": "0b6723be",
      "cell_type": "markdown",
      "metadata": {
        "execution": {}
      },
      "source": "\u003cdiv class=\"alert alert-block alert-warning\"\u003e\n    \u003cb class=\"fa fa-solid fa-exclamation-circle\"\u003e\u003c/b\u003e\n    \u003cdiv\u003e\n        \u003cp\u003e\u003cb\u003eNote\u003c/b\u003e\u003c/p\u003e\n        \u003cp\u003eThis notebook can be run on a Free Starter Workspace. To create a Free Starter Workspace navigate to \u003ctt\u003eStart\u003c/tt\u003e using the left nav. You can also use your existing Standard or Premium workspace with this Notebook.\u003c/p\u003e\n    \u003c/div\u003e\n\u003c/div\u003e",
      "attachments": {}
    },
    {
      "id": "4cfe69c9",
      "cell_type": "markdown",
      "metadata": {
        "execution": {}
      },
      "source": "\u003ctable style=\"border: 0; border-spacing: 0; width: 100%; background-color: #03010D\"\u003e\u003ctr\u003e\n    \u003ctd style=\"padding: 0; margin: 0; background-color: #03010D; width: 33%; text-align: center\"\u003e\u003cimg src=\"https://raw.githubusercontent.com/singlestore-labs/spaces-notebooks/master/common/images/singlestore-logo-vertical.png\" style=\"height: 200px;\"/\u003e\u003c/td\u003e\n    \u003ctd style=\"padding: 0; margin: 0; width: 66%; background-color: #03010D; text-align: right\"\u003e\u003cimg src=\"https://raw.githubusercontent.com/singlestore-labs/spaces-notebooks/master/common/images/singlestore-jupyter.png\" style=\"height: 250px\"/\u003e\u003c/td\u003e\n\u003c/tr\u003e\u003c/table\u003e",
      "attachments": {}
    },
    {
      "id": "9bdcbdbd",
      "cell_type": "markdown",
      "metadata": {
        "execution": {}
      },
      "source": "This notebook demonstrates how to run queries on SingleStore through a series of examples. For simplicity, the sample data in these examples is limited to 10 rows or less per table, which is much smaller than typical workloads. The examples cover various database operations, including index scans, full-table scans, joins, and aggregations.",
      "attachments": {}
    },
    {
      "id": "40050891",
      "cell_type": "markdown",
      "metadata": {
        "execution": {}
      },
      "source": "## 1. Create a Workspace\nTo create a workspace, refer to the [Creating and Using Workspaces](https://docs.singlestore.com/cloud/getting-started-with-singlestore-helios/about-workspaces/creating-and-using-workspaces/).",
      "attachments": {}
    },
    {
      "id": "8551a58b",
      "cell_type": "markdown",
      "metadata": {
        "execution": {}
      },
      "source": "## 2. Create the Database\nSelect the workspace in your notebook, and create a database.",
      "attachments": {}
    },
    {
      "id": "bcc93142",
      "cell_type": "code",
      "metadata": {
        "execution": {},
        "language": "python"
      },
      "source": "%%sql\nCREATE DATABASE memsql_example;\nUSE memsql_example;",
      "outputs": [],
      "execution_count": 1
    },
    {
      "id": "c63daae9",
      "cell_type": "markdown",
      "metadata": {
        "execution": {}
      },
      "source": "## 3. Create the tables\nCreate the tables named departments, employees, and salaries.",
      "attachments": {}
    },
    {
      "id": "9afac7f0",
      "cell_type": "code",
      "metadata": {
        "execution": {},
        "language": "python"
      },
      "source": "%%sql\nCREATE TABLE departments /* Creating table for sample data. */(\n  id int,\n  name varchar(255),\n  PRIMARY KEY (id)\n);\n\nCREATE TABLE employees /* Creating table for sample data. */(\n  id int,\n  deptId int,\n  managerId int,\n  name varchar(255),\n  hireDate date,\n  state char(2),\n  PRIMARY KEY (id)\n);\n\nCREATE TABLE salaries /* Creating table for sample data. */(\n  employeeId int,\n  salary int,\n  PRIMARY KEY (employeeId)\n);",
      "outputs": [],
      "execution_count": 2
    },
    {
      "id": "e3310d6d",
      "cell_type": "markdown",
      "metadata": {
        "execution": {}
      },
      "source": "## 4. Populate the tables\nInsert the data into the tables.",
      "attachments": {}
    },
    {
      "id": "c29bfd9b",
      "cell_type": "code",
      "metadata": {
        "execution": {},
        "language": "python"
      },
      "source": "%%sql\nINSERT INTO departments (id, name) VALUES\n  (1, 'Marketing'), (2, 'Finance'), (3, 'Sales'), (4, 'Customer Service');\n\nINSERT INTO employees (id, deptId, managerId, name, hireDate, state) VALUES\n  (1, 2, NULL, \"Karly Steele\", \"2011-08-25\", \"NY\"),\n  (2, 1, 1, \"Rhona Nichols\", \"2008-09-11\", \"TX\"),\n  (3, 4, 2, \"Hedda Kent\", \"2005-10-27\", \"TX\"),\n  (4, 2, 1, \"Orli Strong\", \"2001-07-01\", \"NY\"),\n  (5, 1, 1, \"Leonard Haynes\", \"2011-05-30\", \"MS\"),\n  (6, 1, 5, \"Colette Payne\", \"2002-10-22\", \"MS\"),\n  (7, 3, 4, \"Cooper Hatfield\", \"2010-08-19\", \"NY\"),\n  (8, 2, 4, \"Timothy Battle\", \"2001-01-21\", \"NY\"),\n  (9, 3, 1, \"Doris Munoz\", \"2008-10-22\", \"NY\"),\n  (10, 4, 2, \"Alea Wiggins\", \"2007-08-21\", \"TX\");\n\nINSERT INTO salaries (employeeId, salary) VALUES\n  (1, 885219), (2, 451519), (3, 288905), (4, 904312), (5, 919124),\n  (6, 101538), (7, 355077), (8, 900436), (9, 41557), (10, 556263);",
      "outputs": [],
      "execution_count": 3
    },
    {
      "id": "ecce36d9",
      "cell_type": "markdown",
      "metadata": {
        "execution": {}
      },
      "source": "## 5. Let's Query!",
      "attachments": {}
    },
    {
      "id": "05434143",
      "cell_type": "markdown",
      "metadata": {
        "execution": {}
      },
      "source": "### The SELECT statement\nAsk how many rows are in the employees table.",
      "attachments": {}
    },
    {
      "id": "110813ed",
      "cell_type": "code",
      "metadata": {
        "execution": {},
        "language": "python"
      },
      "source": "%%sql\nSELECT COUNT(*) from employees;",
      "outputs": [],
      "execution_count": 4
    },
    {
      "id": "7094c248",
      "cell_type": "markdown",
      "metadata": {
        "execution": {}
      },
      "source": "### The ORDER BY clause\nList the ID and the name of each employee.",
      "attachments": {}
    },
    {
      "id": "47233824",
      "cell_type": "code",
      "metadata": {
        "execution": {},
        "language": "python"
      },
      "source": "%%sql\nSELECT id, name FROM employees ORDER BY id;",
      "outputs": [],
      "execution_count": 5
    },
    {
      "id": "7df73edf",
      "cell_type": "markdown",
      "metadata": {
        "execution": {}
      },
      "source": "### The WHERE clause\nList the employees that work in Texas.",
      "attachments": {}
    },
    {
      "id": "60034c4d",
      "cell_type": "code",
      "metadata": {
        "execution": {},
        "language": "python"
      },
      "source": "%%sql\nSELECT id, name FROM employees WHERE state = 'TX' ORDER BY id;",
      "outputs": [],
      "execution_count": 6
    },
    {
      "id": "811da905",
      "cell_type": "markdown",
      "metadata": {
        "execution": {}
      },
      "source": "You can use the same above query by replacing **state = 'NY'** to list the employees that work in New York.",
      "attachments": {}
    },
    {
      "id": "bcb3d03d",
      "cell_type": "code",
      "metadata": {
        "execution": {},
        "language": "python"
      },
      "source": "%%sql\nSELECT id, name FROM employees WHERE state = 'NY' ORDER BY id;",
      "outputs": [],
      "execution_count": 7
    },
    {
      "id": "158a598c",
      "cell_type": "markdown",
      "metadata": {
        "execution": {}
      },
      "source": "List the employees hired before 2002.",
      "attachments": {}
    },
    {
      "id": "7aae35da",
      "cell_type": "code",
      "metadata": {
        "execution": {},
        "language": "python"
      },
      "source": "%%sql\nSELECT id, name, hireDate\n  FROM employees\n  WHERE hireDate \u003c '2002-01-01'\n  ORDER BY id;",
      "outputs": [],
      "execution_count": 8
    },
    {
      "id": "73ebb059",
      "cell_type": "markdown",
      "metadata": {
        "execution": {}
      },
      "source": "List employees and their departments.",
      "attachments": {}
    },
    {
      "id": "58fe3b95",
      "cell_type": "code",
      "metadata": {
        "execution": {},
        "language": "python"
      },
      "source": "%%sql\nSELECT e.name, d.name department FROM\n  employees e, departments d\n  WHERE e.deptId = d.id\n  ORDER BY name;",
      "outputs": [],
      "execution_count": 9
    },
    {
      "id": "c4aeb361",
      "cell_type": "markdown",
      "metadata": {
        "execution": {}
      },
      "source": "### The COUNT function\nList the number of employees in each state.",
      "attachments": {}
    },
    {
      "id": "629c27c4",
      "cell_type": "code",
      "metadata": {
        "execution": {},
        "language": "python"
      },
      "source": "%%sql\nSELECT state, COUNT(*)\n  from employees\n  group by state\n  ORDER BY state;",
      "outputs": [],
      "execution_count": 10
    },
    {
      "id": "ded11200",
      "cell_type": "markdown",
      "metadata": {
        "execution": {}
      },
      "source": "### The MAX function\nHighest salary amongst all employees.",
      "attachments": {}
    },
    {
      "id": "d047479f",
      "cell_type": "code",
      "metadata": {
        "execution": {},
        "language": "python"
      },
      "source": "%%sql\nSELECT MAX(salary) FROM salaries;",
      "outputs": [],
      "execution_count": 11
    },
    {
      "id": "a7012ca0",
      "cell_type": "markdown",
      "metadata": {
        "execution": {}
      },
      "source": "### The Subqueries\nEmployee with the highest salary.",
      "attachments": {}
    },
    {
      "id": "8c2a5493",
      "cell_type": "code",
      "metadata": {
        "execution": {},
        "language": "python"
      },
      "source": "%%sql\nSELECT e.name, s.salary\n  FROM employees e, salaries s\n  WHERE e.id = s.employeeId and\n    s.salary = (SELECT MAX(salary) FROM salaries);",
      "outputs": [],
      "execution_count": 12
    },
    {
      "id": "9e91ec52",
      "cell_type": "markdown",
      "metadata": {
        "execution": {}
      },
      "source": "### The AVG function\nAverage salary of employees in each state.",
      "attachments": {}
    },
    {
      "id": "db4faa72",
      "cell_type": "code",
      "metadata": {
        "execution": {},
        "language": "python"
      },
      "source": "%%sql\nSELECT e.state, AVG(salary)\n  FROM employees e\n  JOIN salaries s on e.id = s.employeeId\n  GROUP BY e.state\n  ORDER BY e.state;",
      "outputs": [],
      "execution_count": 13
    },
    {
      "id": "12d85cec",
      "cell_type": "markdown",
      "metadata": {
        "execution": {}
      },
      "source": "### The IN operator\nList of managers.",
      "attachments": {}
    },
    {
      "id": "0a414332",
      "cell_type": "code",
      "metadata": {
        "execution": {},
        "language": "python"
      },
      "source": "%%sql\nSELECT name\n  FROM employees\n  WHERE id IN (SELECT managerId FROM employees)\n  ORDER BY name;",
      "outputs": [],
      "execution_count": 14
    },
    {
      "id": "c9b0f7f6",
      "cell_type": "markdown",
      "metadata": {
        "execution": {}
      },
      "source": "### The NOT IN operator\nList of non-managers.",
      "attachments": {}
    },
    {
      "id": "d02b4c74",
      "cell_type": "code",
      "metadata": {
        "execution": {},
        "language": "python"
      },
      "source": "%%sql\nSELECT name\n  FROM employees\n  WHERE id NOT IN (SELECT managerId FROM employees)\n  ORDER BY name;",
      "outputs": [],
      "execution_count": 15
    },
    {
      "id": "f1b4df30",
      "cell_type": "markdown",
      "metadata": {
        "execution": {}
      },
      "source": "### The Joins\nNumber of employees reporting to each manager.",
      "attachments": {}
    },
    {
      "id": "360fb1fd",
      "cell_type": "code",
      "metadata": {
        "execution": {},
        "language": "python"
      },
      "source": "%%sql\nSELECT m.name, COUNT(*) count\n  FROM employees m\n  JOIN employees e ON m.id = e.managerId\n  GROUP BY m.id\n  ORDER BY count DESC;",
      "outputs": [],
      "execution_count": 16
    },
    {
      "id": "bed134b6",
      "cell_type": "markdown",
      "metadata": {
        "execution": {}
      },
      "source": "Number of employees reporting to each employee.",
      "attachments": {}
    },
    {
      "id": "a8fb1c38",
      "cell_type": "code",
      "metadata": {
        "execution": {},
        "language": "python"
      },
      "source": "%%sql\nSELECT m.name, COUNT(e.id) count\n  FROM employees m\n  LEFT JOIN employees e ON m.id = e.managerId\n  GROUP BY m.id\n  ORDER BY count desc;",
      "outputs": [],
      "execution_count": 17
    },
    {
      "id": "b1e9e462",
      "cell_type": "markdown",
      "metadata": {
        "execution": {}
      },
      "source": "Manager of each employee.",
      "attachments": {}
    },
    {
      "id": "3844b6f3",
      "cell_type": "code",
      "metadata": {
        "execution": {},
        "language": "python"
      },
      "source": "%%sql\nSELECT e.name employee_name, m.name manager_name\n  FROM employees e\n  LEFT JOIN employees m ON e.managerId = m.id\n  ORDER BY manager_name;",
      "outputs": [],
      "execution_count": 18
    },
    {
      "id": "f04ab919",
      "cell_type": "markdown",
      "metadata": {
        "execution": {}
      },
      "source": "Total salary of the employees reporting to each manager.",
      "attachments": {}
    },
    {
      "id": "6893f63d",
      "cell_type": "code",
      "metadata": {
        "execution": {},
        "language": "python"
      },
      "source": "%%sql\nSELECT m.name, sum(salary)\n  FROM employees m\n  JOIN employees e ON m.id = e.managerId\n  JOIN salaries s ON s.employeeId = e.id\n  GROUP BY m.id\n  ORDER BY SUM(salary) DESC;",
      "outputs": [],
      "execution_count": 19
    },
    {
      "id": "c060083c",
      "cell_type": "markdown",
      "metadata": {
        "execution": {}
      },
      "source": "Employees in the finance department earning more than their manager.",
      "attachments": {}
    },
    {
      "id": "64a8fe23",
      "cell_type": "code",
      "metadata": {
        "execution": {},
        "language": "python"
      },
      "source": "%%sql\n%%sql\nSELECT e.name employee_name, se.salary employee_salary, m.name manager_name, sm.salary manager_salary\nFROM employees e\nJOIN salaries se ON e.id = se.employeeId\nJOIN employees m ON m.id = e.managerId\nJOIN salaries sm ON sm.employeeId = m.id\nJOIN departments d ON d.id = e.deptId\nWHERE d.name = 'Finance'\n  AND sm.salary \u003c se.salary\nORDER BY employee_salary, manager_salary;",
      "outputs": [],
      "execution_count": 20
    },
    {
      "id": "c4a4cb1b",
      "cell_type": "markdown",
      "metadata": {
        "execution": {}
      },
      "source": "**Learn more about SingleStore notebooks [here](https://docs.singlestore.com/managed-service/en/developer-resources/notebooks.html).**",
      "attachments": {}
    },
    {
      "id": "fa4013d3",
      "cell_type": "markdown",
      "metadata": {
        "execution": {}
      },
      "source": "\u003cdiv id=\"singlestore-footer\" style=\"background-color: rgba(194, 193, 199, 0.25); height:2px; margin-bottom:10px\"\u003e\u003c/div\u003e\n\u003cdiv\u003e\u003cimg src=\"https://raw.githubusercontent.com/singlestore-labs/spaces-notebooks/master/common/images/singlestore-logo-grey.png\" style=\"padding: 0px; margin: 0px; height: 24px\"/\u003e\u003c/div\u003e",
      "attachments": {}
    }
  ],
  "metadata": {
    "kernelspec": {
      "display_name": "Python 3 (ipykernel)",
      "language": "python",
      "name": "python3"
    },
    "language_info": {
      "codemirror_mode": {
        "name": "ipython",
        "version": 3
      },
      "file_extension": ".py",
      "mimeType": "text/x-python",
      "name": "python",
      "nbconvert_exporter": "python",
      "pygments_lexer": "ipython3",
      "version": "3.11.9"
    },
    "jupyterlab": {
      "notebooks": {
        "version_major": 6,
        "version_minor": 4
      }
    },
    "singlestore_connection": {
      "connectionID": "",
      "defaultDatabase": ""
    },
    "singlestore_cell_default_language": "python",
    "singlestore_row_limit": 300
  },
  "nbformat": 4,
  "nbformat_minor": 5
}