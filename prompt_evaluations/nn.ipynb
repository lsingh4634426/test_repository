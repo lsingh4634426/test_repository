{
  "cells": [
    {
      "id": "1ae3a481",
      "cell_type": "markdown",
      "metadata": {},
      "source": "\u003cdiv id=\"singlestore-header\" style=\"display: flex; background-color: rgba(235, 249, 245, 0.25); padding: 5px;\"\u003e\n    \u003cdiv id=\"icon-image\" style=\"width: 90px; height: 90px;\"\u003e\n        \u003cimg width=\"100%\" height=\"100%\" src=\"https://raw.githubusercontent.com/singlestore-labs/spaces-notebooks/master/common/images/header-icons/browser.png\" /\u003e\n    \u003c/div\u003e\n    \u003cdiv id=\"text\" style=\"padding: 5px; margin-left: 10px;\"\u003e\n        \u003cdiv id=\"badge\" style=\"display: inline-block; background-color: rgba(0, 0, 0, 0.15); border-radius: 4px; padding: 4px 8px; align-items: center; margin-top: 6px; margin-bottom: -2px; font-size: 80%\"\u003eSingleStore Notebooks\u003c/div\u003e\n        \u003ch1 style=\"font-weight: 500; margin: 8px 0 0 4px;\"\u003eRun your first Python UDF\u003c/h1\u003e\n    \u003c/div\u003e\n\u003c/div\u003e",
      "attachments": {}
    },
    {
      "id": "bd0ae268",
      "cell_type": "markdown",
      "metadata": {},
      "source": "\u003cdiv class=\"alert alert-block alert-warning\"\u003e\n    \u003cb class=\"fa fa-solid fa-exclamation-circle\"\u003e\u003c/b\u003e\n    \u003cdiv\u003e\n        \u003cp\u003e\u003cb\u003eNote\u003c/b\u003e\u003c/p\u003e\n        \u003cp\u003eThis notebook can be run on a Free Starter Workspace. To create a Free Starter Workspace navigate to \u003ctt\u003eStart\u003c/tt\u003e using the left nav. You can also use your existing Standard or Premium workspace with this Notebook.\u003c/p\u003e\n    \u003c/div\u003e\n\u003c/div\u003e",
      "attachments": {}
    },
    {
      "id": "9b6469e0",
      "cell_type": "markdown",
      "metadata": {},
      "source": "\u003cp\u003eThis feature is currently in Private Preview. Please reach out support@singlestore.com to confirm if this feature can be enabled in your org.\u003c/p\u003e",
      "attachments": {}
    },
    {
      "id": "bcb6e6a7",
      "cell_type": "markdown",
      "metadata": {},
      "source": "This Jupyter notebook will help you build your first Python UDF using Notebooks, registering it with your database and calling it as part of SQL query.",
      "attachments": {}
    },
    {
      "id": "5776ded1",
      "cell_type": "markdown",
      "metadata": {},
      "source": "## Create some simple tables\n\nThis setup establishes a basic relational structure to store some reviews for restaurants. Ensure you have selected a database.",
      "attachments": {}
    },
    {
      "id": "2bbf6a44",
      "cell_type": "code",
      "metadata": {
        "language": "python"
      },
      "source": "%%sql\nDROP TABLE IF EXISTS reviews;\n\nCREATE TABLE IF NOT EXISTS\nreviews (\n    review_id INT PRIMARY KEY,\n    store_name VARCHAR(255) NOT NULL,\n    review TEXT NOT NULL\n);",
      "outputs": [],
      "execution_count": 1
    },
    {
      "id": "3aace2e9",
      "cell_type": "markdown",
      "metadata": {},
      "source": "## Insert sample data",
      "attachments": {}
    },
    {
      "id": "0a123cd7",
      "cell_type": "code",
      "metadata": {
        "language": "python"
      },
      "source": "%%sql INSERT into reviews (review_id, store_name, review) values\n(\"1\", \"Single Pizza\", \"The staff were very respectful and made thoughtful suggestions. I will definitely go again. 10/10!\"),\n(\"2\", \"Single Pizza\", \"The food was absolutely amazing and the service was fantastic!\"),\n(\"3\", \"Single Pizza\", \"The experience was terrible. The food was cold and the waiter was rude.\"),\n(\"4\", \"Single Pizza\", \"I loved the ambiance and the desserts were out of this world!\"),\n(\"5\", \"Single Pizza\", \"Not worth the price. I expected more based on the reviews\");",
      "outputs": [],
      "execution_count": 2
    },
    {
      "id": "d58c8382",
      "cell_type": "markdown",
      "metadata": {},
      "source": "## Define Python UDF functions\n\nNext, we will be Python UDF function using the `@udf` annotation. We will be using the `VADER` model of `nltk` library to perform sentiment analysis on the review text.",
      "attachments": {}
    },
    {
      "id": "1556ad3c",
      "cell_type": "code",
      "metadata": {
        "language": "python"
      },
      "source": "!pip install nltk",
      "outputs": [],
      "execution_count": 3
    },
    {
      "id": "f3f3b047",
      "cell_type": "code",
      "metadata": {
        "language": "python"
      },
      "source": "from singlestoredb.functions import udf\nimport nltk\nfrom nltk.sentiment import SentimentIntensityAnalyzer\n\nnltk.download('vader_lexicon')\nsia = SentimentIntensityAnalyzer()\n\n@udf\ndef review_sentiment(review: str) -\u003e str:\n    print(\"review:\" + review)\n    scores = sia.polarity_scores(review)\n    sentiment = (\n        \"Positive\" if scores['compound'] \u003e 0.05 else\n        \"Negative\" if scores['compound'] \u003c -0.05 else\n        \"Neutral\"\n    )\n    print(\"sentiment:\" + sentiment)\n    return sentiment",
      "outputs": [],
      "execution_count": 4
    },
    {
      "id": "40e2ad59",
      "cell_type": "markdown",
      "metadata": {},
      "source": "## Start the Python UDF server\n\nThis will start the server as well as register all the functions annotated with `@udf` as external user defined functions on your selected database.",
      "attachments": {}
    },
    {
      "id": "ed4b22cd",
      "cell_type": "code",
      "metadata": {
        "language": "python"
      },
      "source": "import singlestoredb.apps as apps\nconnection_info = await apps.run_udf_app(replace_existing=True)",
      "outputs": [],
      "execution_count": 5
    },
    {
      "id": "b53cd3d1",
      "cell_type": "markdown",
      "metadata": {},
      "source": "## List all registered UDFs\n\nIn interactive notebooks, the udf function will be suffixed with `_test` to differentiate it from the published version",
      "attachments": {}
    },
    {
      "id": "6008982d",
      "cell_type": "code",
      "metadata": {
        "language": "python"
      },
      "source": "%%sql\nSHOW functions",
      "outputs": [],
      "execution_count": 6
    },
    {
      "id": "58560b03",
      "cell_type": "markdown",
      "metadata": {},
      "source": "## Call the UDF from SQL\n\nYou will now be able to run queries like\n\n```\nSELECT review_id, store_name, review, review_sentiment_test(review) from reviews order by review_id;\n```\nfrom the SQL editor or any other SQL client.\n\nTry it out by opening another notebook, selecting the current Database and running this query in a new cell.",
      "attachments": {}
    },
    {
      "id": "4a825f0d",
      "cell_type": "markdown",
      "metadata": {},
      "source": "## Publish Python UDF\n\nAfter validating the Python UDF interactively, you can publish it and access it like\n\n```\n%%sql\nSELECT review_id, store_name, review, review_sentiment(review) from reviews order by review_id\n```\n\nenriching your data exploration experience seamlessly!",
      "attachments": {}
    },
    {
      "id": "b6c75678",
      "cell_type": "markdown",
      "metadata": {},
      "source": "\u003cdiv id=\"singlestore-footer\" style=\"background-color: rgba(194, 193, 199, 0.25); height:2px; margin-bottom:10px\"\u003e\u003c/div\u003e\n\u003cdiv\u003e\u003cimg src=\"https://raw.githubusercontent.com/singlestore-labs/spaces-notebooks/master/common/images/singlestore-logo-grey.png\" style=\"padding: 0px; margin: 0px; height: 24px\"/\u003e\u003c/div\u003e",
      "attachments": {}
    }
  ],
  "metadata": {
    "kernelspec": {
      "display_name": "Python 3 (ipykernel)",
      "language": "python",
      "name": "python3"
    },
    "language_info": {
      "codemirror_mode": {
        "name": "ipython",
        "version": 3
      },
      "file_extension": ".py",
      "mimeType": "text/x-python",
      "name": "python",
      "nbconvert_exporter": "python",
      "pygments_lexer": "ipython3",
      "version": "3.11.9"
    },
    "jupyterlab": {
      "notebooks": {
        "version_major": 6,
        "version_minor": 4
      }
    },
    "singlestore_connection": {
      "connectionID": "",
      "defaultDatabase": ""
    },
    "singlestore_cell_default_language": "python",
    "singlestore_row_limit": 300
  },
  "nbformat": 4,
  "nbformat_minor": 5
}