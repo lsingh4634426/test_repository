{
  "cells": [
    {
      "id": "9c00b945",
      "cell_type": "markdown",
      "metadata": {
        "execution": {}
      },
      "source": "\u003cdiv id=\"singlestore-header\" style=\"display: flex; background-color: rgba(235, 249, 245, 0.25); padding: 5px;\"\u003e\n    \u003cdiv id=\"icon-image\" style=\"width: 90px; height: 90px;\"\u003e\n        \u003cimg width=\"100%\" height=\"100%\" src=\"https://raw.githubusercontent.com/singlestore-labs/spaces-notebooks/master/common/images/header-icons/database.png\" /\u003e\n    \u003c/div\u003e\n    \u003cdiv id=\"text\" style=\"padding: 5px; margin-left: 10px;\"\u003e\n        \u003cdiv id=\"badge\" style=\"display: inline-block; background-color: rgba(0, 0, 0, 0.15); border-radius: 4px; padding: 4px 8px; align-items: center; margin-top: 6px; margin-bottom: -2px; font-size: 80%\"\u003eSingleStore Notebooks\u003c/div\u003e\n        \u003ch1 style=\"font-weight: 500; margin: 8px 0 0 4px;\"\u003eAutomatically warm up your disk after resuming workspace\u003c/h1\u003e\n    \u003c/div\u003e\n\u003c/div\u003e",
      "attachments": {}
    },
    {
      "id": "bd2b3254",
      "cell_type": "markdown",
      "metadata": {
        "execution": {}
      },
      "source": "## Step 0. Import libraries \u0026 create connection to database",
      "attachments": {}
    },
    {
      "id": "27973c95",
      "cell_type": "code",
      "metadata": {
        "execution": {},
        "language": "python"
      },
      "source": "import pandas as pd\nimport singlestoredb as s2\ns2_conn = s2.connect()\ns2_cur = s2_conn.cursor()",
      "outputs": [],
      "execution_count": 1
    },
    {
      "id": "46be6948",
      "cell_type": "markdown",
      "metadata": {
        "execution": {}
      },
      "source": "## Step 1. Specify which database you want to cache",
      "attachments": {}
    },
    {
      "id": "9590c72f",
      "cell_type": "code",
      "metadata": {
        "execution": {},
        "language": "python"
      },
      "source": "database_name = input('Enter database name:')",
      "outputs": [],
      "execution_count": 2
    },
    {
      "id": "9d80057f",
      "cell_type": "markdown",
      "metadata": {
        "execution": {}
      },
      "source": "## Step 2. Get a list of the columnstore table names in your database",
      "attachments": {}
    },
    {
      "id": "bd63ec02",
      "cell_type": "code",
      "metadata": {
        "execution": {},
        "language": "python"
      },
      "source": "query = \"\"\"SELECT table_name FROM information_schema.tables WHERE table_schema = '{}' AND table_type = 'BASE TABLE' AND storage_type = 'COLUMNSTORE';\"\"\".format(database_name)\nresult = s2_cur.execute(query)\nresult_df = pd.DataFrame(list(s2_cur))\nlist_of_tables = result_df[[0]].values",
      "outputs": [],
      "execution_count": 3
    },
    {
      "id": "c6f080b3",
      "cell_type": "markdown",
      "metadata": {
        "execution": {}
      },
      "source": "## Step 3. Cache columnar files",
      "attachments": {}
    },
    {
      "id": "af25d90b",
      "cell_type": "code",
      "metadata": {
        "execution": {},
        "language": "python"
      },
      "source": "# get queries to warm up columm files\ncolumn_queries_df = pd.DataFrame()\n\nfor table_name in list_of_tables:\n    query = \"\"\" WITH t1 AS (SELECT c.column_name, c.ordinal_position, MAX(c.ordinal_position) OVER (ORDER BY c.ordinal_position DESC) AS last_row FROM information_schema.columns c JOIN information_schema.tables t ON c.table_catalog = t.table_catalog AND c.table_schema = t.table_schema AND c.table_name = t.table_name WHERE c.table_schema = '{0}' AND c.table_name = '{1}') SELECT CASE WHEN ordinal_position = 1 AND ordinal_position = last_row THEN CONCAT('SELECT ', 'AVG(LENGTH(`',column_name,'`)) FROM ', '{1}') WHEN ordinal_position = 1 and ordinal_position != last_row THEN CONCAT('SELECT ', 'AVG(LENGTH(`',column_name,'`)),') WHEN ordinal_position != last_row THEN CONCAT('AVG(LENGTH(`',column_name,'`)),') ELSE CONCAT('AVG(LENGTH(`',column_name,'`)) FROM ', '{1}') END AS query_text FROM t1 ORDER BY ordinal_position; \"\"\".format(database_name, table_name[0])\n    result = s2_cur.execute(query)\n    result_df = pd.DataFrame(list(s2_cur))\n    result_df['table_name'] = table_name[0]\n    column_queries_df = pd.concat([column_queries_df, result_df], axis=0)\n\ncolumn_queries_df.rename(columns = {0:'query_text'}, inplace = True)\nfinal_column_df = column_queries_df.groupby('table_name')['query_text'].apply(' '.join).reset_index()\nfinal_column_df['query_text'] = final_column_df['query_text'].astype(str) + ';'\n\n# run column file warm up queries\nfor query in final_column_df[['query_text']].values:\n    s2_cur.execute(\"\"\" {} \"\"\".format(query[0]))",
      "outputs": [],
      "execution_count": 4
    },
    {
      "id": "3295c1ab",
      "cell_type": "markdown",
      "metadata": {
        "execution": {}
      },
      "source": "## Step 4. Cache index files",
      "attachments": {}
    },
    {
      "id": "1bf9836c",
      "cell_type": "code",
      "metadata": {
        "execution": {},
        "language": "python"
      },
      "source": "# get queries to warm up index files\nindex_queries_df = pd.DataFrame()\n\nfor table_name in list_of_tables:\n    query = \"\"\" SELECT DISTINCT CONCAT(\"OPTIMIZE TABLE \", table_name, \" WARM BLOB CACHE FOR INDEX \", \"`\", index_name, \"`\", \";\") FROM information_schema.statistics WHERE TABLE_SCHEMA = '{}' AND index_type = 'COLUMNSTORE HASH' AND table_name = '{}'; \"\"\".format(database_name, table_name[0])\n    result = s2_cur.execute(query)\n    result_df = pd.DataFrame(list(s2_cur))\n    index_queries_df = pd.concat([index_queries_df, result_df], axis=0)\n\n# run index file warm up queries\nfor query in index_queries_df.values:\n    s2_cur.execute(\"\"\" {} \"\"\".format(query[0]))",
      "outputs": [],
      "execution_count": 5
    },
    {
      "id": "3921cac6",
      "cell_type": "markdown",
      "metadata": {
        "execution": {}
      },
      "source": "\u003cdiv id=\"singlestore-footer\" style=\"background-color: rgba(194, 193, 199, 0.25); height:2px; margin-bottom:10px\"\u003e\u003c/div\u003e\n\u003cdiv\u003e\u003cimg src=\"https://raw.githubusercontent.com/singlestore-labs/spaces-notebooks/master/common/images/singlestore-logo-grey.png\" style=\"padding: 0px; margin: 0px; height: 24px\"/\u003e\u003c/div\u003e",
      "attachments": {}
    }
  ],
  "metadata": {
    "kernelspec": {
      "display_name": "Python 3 (ipykernel)",
      "language": "python",
      "name": "python3"
    },
    "language_info": {
      "codemirror_mode": {
        "name": "ipython",
        "version": 3
      },
      "file_extension": ".py",
      "mimeType": "text/x-python",
      "name": "python",
      "nbconvert_exporter": "python",
      "pygments_lexer": "ipython3",
      "version": "3.11.9"
    },
    "jupyterlab": {
      "notebooks": {
        "version_major": 6,
        "version_minor": 4
      }
    },
    "singlestore_connection": {
      "connectionID": "",
      "defaultDatabase": ""
    },
    "singlestore_cell_default_language": "python",
    "singlestore_row_limit": 300
  },
  "nbformat": 4,
  "nbformat_minor": 5
}