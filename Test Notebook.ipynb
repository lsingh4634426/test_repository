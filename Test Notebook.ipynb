{
  "cells": [
    {
      "id": "dbd8a673",
      "cell_type": "markdown",
      "metadata": {},
      "source": "\u003cdiv id=\"singlestore-header\" style=\"display: flex; background-color: rgba(209, 153, 255, 0.25); padding: 5px;\"\u003e\n    \u003cdiv id=\"icon-image\" style=\"width: 90px; height: 90px;\"\u003e\n        \u003cimg width=\"100%\" height=\"100%\" src=\"https://raw.githubusercontent.com/singlestore-labs/spaces-notebooks/master/common/images/header-icons/notes.png\" /\u003e\n    \u003c/div\u003e\n    \u003cdiv id=\"text\" style=\"padding: 5px; margin-left: 10px;\"\u003e\n        \u003cdiv id=\"badge\" style=\"display: inline-block; background-color: rgba(0, 0, 0, 0.15); border-radius: 4px; padding: 4px 8px; align-items: center; margin-top: 6px; margin-bottom: -2px; font-size: 80%\"\u003eSingleStore Notebooks\u003c/div\u003e\n        \u003ch1 style=\"font-weight: 500; margin: 8px 0 0 4px;\"\u003eSingleStoreDB Notebook Basics\u003c/h1\u003e\n    \u003c/div\u003e\n\u003c/div\u003e",
      "attachments": {}
    },
    {
      "id": "0fa91f4b",
      "cell_type": "markdown",
      "metadata": {},
      "source": "\u003cdiv class=\"alert alert-block alert-warning\"\u003e\n    \u003cb class=\"fa fa-solid fa-exclamation-circle\"\u003e\u003c/b\u003e\n    \u003cdiv\u003e\n        \u003cp\u003e\u003cb\u003eNote\u003c/b\u003e\u003c/p\u003e\n        \u003cp\u003eThis notebook can be run on a Free Starter Workspace. To create a Free Starter Workspace navigate to \u003ctt\u003eStart\u003c/tt\u003e using the left nav. You can also use your existing Standard or Premium workspace with this Notebook.\u003c/p\u003e\n    \u003c/div\u003e\n\u003c/div\u003e",
      "attachments": {}
    },
    {
      "id": "db0cac5d",
      "cell_type": "markdown",
      "metadata": {},
      "source": "Prototyping applications or analyzing datasets using notebooks in SingleStoreDB Cloud follows the same general principles as developing with a Jupyter Notebook. SingleStoreDB Cloud supports internal and external datasources. Internal datasources are databases that exist within your workspace. An external datasource could be an AWS S3 bucket for example. In this Notebook we cover:\n\n1. Connecting to a SingleStoreDB instance\n2. Connecting to an external datasource including firewall Settings\n3. Using SQL in a cell\n4. Using Python in a cell\n5. Using both SQL \u0026 Python\n6. Installing Libraries\n7. Using Magic Commands\n\n*To learn more about working with SingleStoreDB notebooks check out our [docs](https://docs.singlestore.com/managed-service/en/developer-resources/notebooks.html)!*",
      "attachments": {}
    },
    {
      "id": "838c4af9",
      "cell_type": "markdown",
      "metadata": {},
      "source": "## 1. Connecting to SingleStoreDB\n\nOnce you select a workspace, you can access all of the databases attached to that workspace. You cannot connect to databases that are not attached to the workspace you are using.",
      "attachments": {}
    },
    {
      "id": "c6c8e0cc",
      "cell_type": "markdown",
      "metadata": {},
      "source": "First select a workspace and the `information_schema` database from the drop-down menu at the top of this notebook.\n\n\u003cimg src=https://raw.githubusercontent.com/singlestore-labs/spaces-notebooks/master/notebooks/notebook-basics/images/select-workspace-and-database.png style=\"width: 500px; border: 1px solid darkorchid\"/\u003e",
      "attachments": {}
    },
    {
      "id": "58c80276",
      "cell_type": "markdown",
      "metadata": {},
      "source": "With the database selected, the `connection_url` variable in the Python enviroment is now updated with that information\nand we can use the `%%sql` magic command to query the selected database.",
      "attachments": {}
    },
    {
      "id": "8e3ec961",
      "cell_type": "code",
      "metadata": {
        "language": "python"
      },
      "source": "%%sql\nSELECT * FROM users\n    LIMIT 3;",
      "outputs": [],
      "execution_count": 1
    },
    {
      "id": "48a4bc93",
      "cell_type": "markdown",
      "metadata": {},
      "source": "When running SQL commands against a different database explicitly, you can specify the database in your\nSQL code with the `USE` command:",
      "attachments": {}
    },
    {
      "id": "8963691b",
      "cell_type": "code",
      "metadata": {
        "language": "python"
      },
      "source": "%%sql\nUSE information_schema;\n\nSELECT * FROM users\n    LIMIT 3;",
      "outputs": [],
      "execution_count": 2
    },
    {
      "id": "7ef362b7",
      "cell_type": "markdown",
      "metadata": {},
      "source": "Alternatively, you can specify the database prefix on the table in the query itself.",
      "attachments": {}
    },
    {
      "id": "9ed182ae",
      "cell_type": "code",
      "metadata": {
        "language": "python"
      },
      "source": "%%sql\nSELECT * FROM information_schema.users\n    LIMIT 3;",
      "outputs": [],
      "execution_count": 3
    },
    {
      "id": "55dace8c",
      "cell_type": "markdown",
      "metadata": {},
      "source": "## Connecting with SQLAlchemy",
      "attachments": {}
    },
    {
      "id": "aa8da56d",
      "cell_type": "markdown",
      "metadata": {},
      "source": "You can also connect to your SingleStoreDB datasource using Python and SQLAlchemy. As mentioned above,\nthe `connection_url` variable is automatically populated by the notebook environment when selecting a\ndatabase in the drop-down menu at the top of the notebook.",
      "attachments": {}
    },
    {
      "id": "fe56aaa8",
      "cell_type": "code",
      "metadata": {
        "language": "python"
      },
      "source": "import sqlalchemy as sa\n\nsa_conn = sa.create_engine(connection_url).connect()",
      "outputs": [],
      "execution_count": 4
    },
    {
      "id": "c19e3f2a",
      "cell_type": "markdown",
      "metadata": {},
      "source": "You can also explicitly define a URL using the individual connection components.",
      "attachments": {}
    },
    {
      "id": "d47acc43",
      "cell_type": "code",
      "metadata": {
        "language": "python"
      },
      "source": "database_name = \"information_schema\"\n\nconnection_url2 = f\"singlestoredb://{connection_user}:{connection_password}@{connection_host}:{connection_port}/{database_name}\"\n\nurl_conn = sa.create_engine(connection_url2).connect()",
      "outputs": [],
      "execution_count": 5
    },
    {
      "id": "7d6b11a3",
      "cell_type": "markdown",
      "metadata": {},
      "source": "In addition, the SingleStoreDB Python package includes a wrapper `create_engine` function that\nuses the `SINGLESTOREDB_URL` without having to specify `connection_url`.",
      "attachments": {}
    },
    {
      "id": "66cd56df",
      "cell_type": "code",
      "metadata": {
        "language": "python"
      },
      "source": "import singlestoredb as s2\n\nconn = s2.create_engine().connect()",
      "outputs": [],
      "execution_count": 6
    },
    {
      "id": "ddb8077e",
      "cell_type": "markdown",
      "metadata": {},
      "source": "Using `conn`, we can run our queries much like the `%%sql` command.",
      "attachments": {}
    },
    {
      "id": "e73dcf45",
      "cell_type": "code",
      "metadata": {
        "language": "python"
      },
      "source": "query1 = sa.text('SELECT * FROM users LIMIT 3;')\n\nfor row in conn.execute(query1):\n    print(row)",
      "outputs": [],
      "execution_count": 7
    },
    {
      "id": "275448eb",
      "cell_type": "markdown",
      "metadata": {},
      "source": "# 2. Connecting to an external datasource\n\nYou can securely connect to external endpoints from your SingleStoreDB notebooks. By default, connections are limited to SingleStoreDB databases; however, you can enable and disable connections to other external endpoints via the allowlist. To add or remove endpoints from the allowlist:\n\n1. Select Edit Firewall at the top-left of this notebook.\n\n\u003cimg src=\"https://raw.githubusercontent.com/singlestore-labs/spaces-notebooks/master/notebooks/notebook-basics/images/edit-firewall.png\" style=\"width: 200px; border: 1px solid darkorchid\"\u003e\n\n2. Select Edit to add new endpoints:\n\n\u003cimg src=\"https://raw.githubusercontent.com/singlestore-labs/spaces-notebooks/master/notebooks/notebook-basics/images/new-endpoints.png\" style=\"width: 350px; border: 1px solid darkorchid\"\u003e\n\n3. In the Edit Allowlist dialog, you can add a Fully Qualified Domain Name (FQDN) or select from a list of suggested FQDNs (for example `pypi.org` or `github.com`). You can provide wildcard access to an endpoint by using the `*` character. For example, to access an AWS S3 endpoints, you can use the following syntax:  `*.s3.*.amazonaws.com`\n4. Select Save.\n\n\u003cimg src=\"https://raw.githubusercontent.com/singlestore-labs/spaces-notebooks/master/notebooks/notebook-basics/images/connect-to-an-external-datasource.png\" style=\"width: 500px; border: 1px solid darkorchid\"\u003e",
      "attachments": {}
    },
    {
      "id": "6bdc2d33",
      "cell_type": "markdown",
      "metadata": {},
      "source": "# 3. Using SQL\nThe default language for SingleStoreDB Cloud notebooks is Python. However, the `%%sql` magic command can be used to\nsubmit SQL code for an entire cell.",
      "attachments": {}
    },
    {
      "id": "2da087fa",
      "cell_type": "code",
      "metadata": {
        "language": "python"
      },
      "source": "%%sql\nSELECT * FROM users\n    LIMIT 3;",
      "outputs": [],
      "execution_count": 8
    },
    {
      "id": "7288ccc8",
      "cell_type": "markdown",
      "metadata": {},
      "source": "By default, the results are displayed as a table. We can also store the result in a variable for use later in the\nnotebook. The following code includes the `result1 \u003c\u003c` syntax which indicates that the output of the SQL code\nshould be stored in the `result` variable in the Python environment.",
      "attachments": {}
    },
    {
      "id": "4cc6a000",
      "cell_type": "code",
      "metadata": {
        "language": "python"
      },
      "source": "%%sql result1 \u003c\u003c\nSELECT * FROM users\n    LIMIT 3;",
      "outputs": [],
      "execution_count": 9
    },
    {
      "id": "903cf8ba",
      "cell_type": "markdown",
      "metadata": {},
      "source": "We now have access to the `result` variable and can convert it to a DataFrame!",
      "attachments": {}
    },
    {
      "id": "1db6bdc7",
      "cell_type": "code",
      "metadata": {
        "language": "python"
      },
      "source": "import pandas as pd\n\ndf = pd.DataFrame(result1)\ndf",
      "outputs": [],
      "execution_count": 10
    },
    {
      "id": "490f1e09",
      "cell_type": "markdown",
      "metadata": {},
      "source": "## 4. Using Python in a code cell\n\nBy default, Python is the language for code cells. In the cell below, we are using a SQLAlchemy connection to execute\nthe same query as the previous example. The result of this query can be converted into a DataFrame in the same manner\nas above",
      "attachments": {}
    },
    {
      "id": "81e5c76f",
      "cell_type": "code",
      "metadata": {
        "language": "python"
      },
      "source": "result = conn.execute(sa.text('SELECT * FROM users LIMIT 3;'))\n\ndf = pd.DataFrame(result)\ndf",
      "outputs": [],
      "execution_count": 11
    },
    {
      "id": "916e3660",
      "cell_type": "markdown",
      "metadata": {},
      "source": "## 5. Using both SQL \u0026 Python in a code cell\n\nWe can use a single line of SQL within a Python cell using a single `%sql` call. Below we combine SQL and\nPython in the same cell to capture the output in the `result` variable. We then convert it to a DataFrame\nas in previous examples.",
      "attachments": {}
    },
    {
      "id": "b62d2cf7",
      "cell_type": "code",
      "metadata": {
        "language": "python"
      },
      "source": "result = %sql SELECT * FROM users LIMIT 3;\n\ndf = pd.DataFrame(result)\ndf",
      "outputs": [],
      "execution_count": 12
    },
    {
      "id": "40b48421",
      "cell_type": "markdown",
      "metadata": {},
      "source": "## 6. Preinstalled libraries\n\nBy default, a SingleStoreDB notebook has a large number of preinstalled libraries. Run the cell below to see what libraries are already installed!",
      "attachments": {}
    },
    {
      "id": "b67782b8",
      "cell_type": "code",
      "metadata": {
        "language": "python"
      },
      "source": "!pip list",
      "outputs": [],
      "execution_count": 13
    },
    {
      "id": "c91a8510",
      "cell_type": "markdown",
      "metadata": {},
      "source": "Our notebooks support libraries available from https://pypi.org/. For example, run the cell below to install the [Kaggle open dataset library](https://pypi.org/project/opendatasets/) to install the `opendatasets` package.",
      "attachments": {}
    },
    {
      "id": "8e6f739e",
      "cell_type": "code",
      "metadata": {
        "language": "python"
      },
      "source": "!pip3 install opendatasets",
      "outputs": [],
      "execution_count": 14
    },
    {
      "id": "cae98979",
      "cell_type": "markdown",
      "metadata": {},
      "source": "You can even upgrade versions of a preinstalled library. Run the cell below to get the new version of Plotly.",
      "attachments": {}
    },
    {
      "id": "2c3430fc",
      "cell_type": "code",
      "metadata": {
        "language": "python"
      },
      "source": "!pip3 install plotly --upgrade",
      "outputs": [],
      "execution_count": 15
    },
    {
      "id": "81bc2f91",
      "cell_type": "markdown",
      "metadata": {},
      "source": "## 7. Magic commands\n\nMagic commands in Jupyter Notebook are special commands that allow you to perform various tasks that are not part of the standard Python language. We have demonstrated two of the included magic commands already: `%%sql` for submitting entire cells of\nSQL code and `%sql` for submitting a single query in the context of a Python code cell.\n\nThere are many other magic commands as well for everything from file system access to debugging your Python code.\nFor information about teh full list of magic commands available, run the code cell below.",
      "attachments": {}
    },
    {
      "id": "eb96981b",
      "cell_type": "code",
      "metadata": {
        "language": "python"
      },
      "source": "%quickref",
      "outputs": [],
      "execution_count": 16
    },
    {
      "id": "02550a95",
      "cell_type": "markdown",
      "metadata": {},
      "source": "**Learn more about SingleStoreDB notebooks [here](https://docs.singlestore.com/managed-service/en/developer-resources/notebooks.html) and get started with your first notebook!**",
      "attachments": {}
    },
    {
      "id": "b71125bc",
      "cell_type": "markdown",
      "metadata": {},
      "source": "\u003cdiv id=\"singlestore-footer\" style=\"background-color: rgba(194, 193, 199, 0.25); height:2px; margin-bottom:10px\"\u003e\u003c/div\u003e\n\u003cdiv\u003e\u003cimg src=\"https://raw.githubusercontent.com/singlestore-labs/spaces-notebooks/master/common/images/singlestore-logo-grey.png\" style=\"padding: 0px; margin: 0px; height: 24px\"/\u003e\u003c/div\u003e",
      "attachments": {}
    }
  ],
  "metadata": {
    "kernelspec": {
      "display_name": "Python 3 (ipykernel)",
      "language": "python",
      "name": "python3"
    },
    "language_info": {
      "codemirror_mode": {
        "name": "ipython",
        "version": 3
      },
      "file_extension": ".py",
      "mimeType": "text/x-python",
      "name": "python",
      "nbconvert_exporter": "python",
      "pygments_lexer": "ipython3",
      "version": "3.11.9"
    },
    "singlestore_connection": {
      "connectionID": "",
      "defaultDatabase": ""
    },
    "singlestore_cell_default_language": "python",
    "singlestore_row_limit": 300
  },
  "nbformat": 4,
  "nbformat_minor": 5
}