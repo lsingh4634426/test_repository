{
  "cells": [
    {
      "id": "71947763-ce7c-49d4-bb58-305e5b833cff",
      "cell_type": "markdown",
      "metadata": {
        "execution": {}
      },
      "source": "\u003cdiv id=\"singlestore-header\" style=\"display: flex; background-color: rgba(124, 195, 235, 0.25); padding: 5px;\"\u003e\n    \u003cdiv id=\"icon-image\" style=\"width: 90px; height: 90px;\"\u003e\n        \u003cimg width=\"100%\" height=\"100%\" src=\"https://raw.githubusercontent.com/singlestore-labs/spaces-notebooks/master/common/images/header-icons/link.png\" /\u003e\n    \u003c/div\u003e\n    \u003cdiv id=\"text\" style=\"padding: 5px; margin-left: 10px;\"\u003e\n        \u003cdiv id=\"badge\" style=\"display: inline-block; background-color: rgba(0, 0, 0, 0.15); border-radius: 4px; padding: 4px 8px; align-items: center; margin-top: 6px; margin-bottom: -2px; font-size: 80%\"\u003eSingleStore Notebooks\u003c/div\u003e\n        \u003ch1 style=\"font-weight: 500; margin: 8px 0 0 4px;\"\u003eNotebook Style Guide\u003c/h1\u003e\n    \u003c/div\u003e\n\u003c/div\u003e",
      "attachments": {}
    },
    {
      "id": "c12aee39-de02-4812-bcea-7d1d6bd26bf7",
      "cell_type": "markdown",
      "metadata": {
        "execution": {}
      },
      "source": "This notebook describes the requirements for example notebooks that are to be included\nin the [spaces-notebooks](https://github.com/singlestore-labs/spaces-notebooks/) Github\nrepository.",
      "attachments": {}
    },
    {
      "id": "5ea576f9-ccc4-42fb-9915-0914366fb19e",
      "cell_type": "markdown",
      "metadata": {
        "execution": {}
      },
      "source": "## Files and directory structure\n\nNotebooks are stored in the `notebooks` directory in the \n[spaces-notebooks](https://github.com/singlestore-labs/spaces-notebooks) Github repo.\nEach sub-directory in the `notebooks` folder corresponds to a single notebook example.\nThe directory names in the `notebooks` folder must be in kebab case (i.e., all lower-case,\nwith hyphen delimiters). \n\nThe example directory must contain two files:\n* `notebook.ipynb`\n* `meta.toml`\n\n### The example notebook file\n\nThe `notebook.ipynb` file is the Jupyter notebook file itself. There can be only one\nnotebook file in a directory.\n\n### Metadata about the notebook\n\nThe `meta.toml` file contains metadata about the notebook. It must contain the three attributes\nin the `meta` section:\n```toml\n[meta]\ntitle=\"Title of My Notebook\"\ndescription=\"One or two sentence description of the notebook.\"\nicon=\"icon-name\"\n```\n\nThe `title` field is the title of the notebook. The `description` is a short, one or two\nsentence description about the notebook. The `icon` is a design element that includes an\nimage related to the notebook content (see the next section about available icons).\nThe icon and title will be combined to create a standardized header for each notebook.\n\n### Creating the header and footer\n\nThe notebook headers and footers are generated automatically by the `resources/nb-check.py`\ntool in the `spaces-notebook` repository. This utility will clear all outputs from a notebook,\nremove metadata that should not be persisted between runs, and add a header and footer to\nthe notebook. It can be run manually as follows:\n```sh\nresources/nb-check.py notebooks/path-to-notebook/notebook.ipynb\n```\n\nThe repository also uses pre-commit checks to run this utility. It is recommended that you\ninstall the pre-commit tool so that it runs before you attempt to commit code.\n```sh\n# Install the pre-commit Python package (only needed once)\npip3 install pre-commit\n\n# Run this command in the repository clone (only needed once)\npre-commit install\n```\n\nWith that installed, you can run the following in your clone at any time to run the checks.\n```sh\npre-commit run --all-files\n```\n\n\u003cdiv class=\"alert alert-block alert-warning\"\u003e\n    \u003cb class=\"fa fa-solid fa-exclamation-circle\"\u003e\u003c/b\u003e\n    \u003cdiv\u003e\n        \u003cp\u003e\u003cb\u003eWarning\u003c/b\u003e\u003c/p\u003e\n        \u003cp\u003eDo not add any additional information to the header / footer after they have been inserted.\n        Any additional content will be removed the next time the pre-commit check is run.\u003c/p\u003e\n    \u003c/div\u003e\n\u003c/div\u003e\n\n### Additional files\n\nYou are allowed to add additional files and directories to the notebook example folder \nsuch as a `data`, `images`, or `bin` folder for supplementary content.\n\n### Additional metadata\n\nIn addition to `title`, `description`, and `icon`, there are other supported metadata fields\nas described in the following sections.\n\n#### `tags`\n\nThe `tags` field is a list where you can insert short slugs of information about the notebook.\nThese will be displayed in the notebook galleries and may be used to filter and sort notebooks.\n\nTags must be all lower-case and contain only letters. Examples of tags are:\n* beginner\n* advanced\n* openai\n* vectordb\n* kai\n* mongodb\n\nIt is a good idea to look over other notebook tags to see if one has already been created so that\nthere aren't near duplicates like `mongo` and `mongodb`. An example of `tags` in the `meta.toml`\nfile looks like:\n```toml\ntags=[\"openai\", \"beginner\"]\n```\n\n#### `destinations`\n\nThe `destinations` field indicates where the notebook should be displayed in various UIs.\nCurrently, the only destination available is \"spaces\". If no destinations field exists,\nthe notebook will not be displayed in any UIs; it will only be available from the Github repo.\n```toml\ndestinations=[\"spaces\"]\n```",
      "attachments": {}
    },
    {
      "id": "6e041476-ad7d-45e5-8215-a692b0849810",
      "cell_type": "markdown",
      "metadata": {
        "execution": {}
      },
      "source": "## Notebook header and footer\n\nThe notebook headers and footers use a standard look for consistency. The header contains the \ntitle of the notebook and an icon representing the topic. The icons and their corresponding\nheader background color can be seen by running the code below.\n\nAfter selecting a notebook title and icon, they should be added to the `meta.toml` file\nas described in the previous section.\n\n```toml\n[meta]\ntitle=\"Title of My Notebook\"\ndescription=\"Description of notebook.\"\nicon=\"arrows-spin\"\n```\n\nWith this information in place, you can run the pre-commit program to automatically insert\nthe header and footer to the notebook.\n```sh\npre-commit run --all-files\n```",
      "attachments": {}
    },
    {
      "id": "889df2d6-ba9d-43b4-8a33-dc8eef0b182d",
      "cell_type": "markdown",
      "metadata": {
        "execution": {}
      },
      "source": "### Generate sample headers with icons",
      "attachments": {}
    },
    {
      "id": "b9df3e59-dcd6-4afc-9311-23e64d7d8db0",
      "cell_type": "code",
      "metadata": {
        "execution": {},
        "language": "python",
        "tags": []
      },
      "source": "!pip install pillow --quiet",
      "outputs": [],
      "execution_count": 7
    },
    {
      "id": "f9223698-6dea-4c18-b5f8-9c838f40eaf9",
      "cell_type": "code",
      "metadata": {
        "execution": {},
        "language": "python",
        "tags": []
      },
      "source": "from IPython.display import HTML\nfrom PIL import Image\nimport requests\nfrom urllib.request import urlopen\n\nbgcolors = {\n    (0, 0, 0): 'rgba(0, 0, 0, 0)',\n    (255, 167, 103): 'rgba(255, 167, 103, 0.25)',\n    (124, 195, 235): 'rgba(124, 195, 235, 0.25)',\n    (210, 255, 153): 'rgba(210, 255, 153, 0.25)',\n    (255, 224, 129): 'rgba(255, 224, 129, 0.25)',\n    (235, 249, 245): 'rgba(235, 249, 245, 0.25)',\n    (255, 182, 176): 'rgba(255, 182, 176, 0.25)',\n    (209, 153, 255): 'rgba(209, 153, 255, 0.25)',\n    (255, 230, 148): 'rgba(255, 224, 129, 0.25)',\n    (242, 250, 255): 'rgba(242, 250, 255, 0.25)',\n}\n\nheader_icons_url = 'https://api.github.com/repos/singlestore-labs/spaces-notebooks/contents/common/images/header-icons'\n\nhtml = ['\u003ccenter\u003e\u003ctable\u003e']\nfor i, item in enumerate(requests.get(header_icons_url).json()):\n    img = Image.open(urlopen(item['download_url']))\n    bgcolor = bgcolors[img.crop((0, 0, 1, 1)).getcolors()[0][1][:3]]\n    if i % 2 == 0:\n        if i != 0:\n            html.append('\u003c/tr\u003e')\n        html.append(f'\u003ctr\u003e')\n    html.append(f'\u003ctd style=\"width: 90px; background-color: {bgcolor}\"\u003e')\n    html.append(f'\u003ca href=\"{item[\"download_url\"]}\"\u003e')\n    html.append(f'\u003cimg title=\"{item[\"download_url\"]}\" src=\"{item[\"download_url\"]}\"\u003e')\n    html.append('\u003c/a\u003e')\n    html.append('\u003c/td\u003e')\n    html.append(f'\u003ctd style=\"text-align: left; background-color: {bgcolor}; font-size: 120%; padding-left: 60px; padding-right: 60px\"\u003e')\n    html.append(f'\u003cspan\u003e{item[\"download_url\"].split(\".\")[-2].split(\"/\")[-1]}\u003c/span\u003e')\n    html.append('\u003c/td\u003e')\nhtml.append('\u003c/tr\u003e')\nhtml.append('\u003c/table\u003e\u003c/center\u003e')\n\nHTML(''.join(html))",
      "outputs": [],
      "execution_count": 8
    },
    {
      "id": "a0c4d94d-104f-4b5a-b946-8fcf317c7fee",
      "cell_type": "markdown",
      "metadata": {
        "execution": {}
      },
      "source": "## Sections\n\nSections within a notebook should use the second level heading (i.e., line starting with `##`) since the notebook\nheader uses the first level heading. \n\n### Section numbering\n\nSections can optionally be numbered if you wish to make the steps appear\nmore sequential. If section numbers are used, they should contain the number (starting with 1) followed by a period as follows:\n\n    1. The first section\n    \n    2. The second section\n    \n### Capitalization\n\nExcept for the notebook header, section titles should only capitalize the first letter and any proper \nnames within the title (e.g., XML, JSON, SingleStore).",
      "attachments": {}
    },
    {
      "id": "f1720a29-5fbf-4933-bc13-89556ec7b68b",
      "cell_type": "markdown",
      "metadata": {
        "execution": {}
      },
      "source": "## Notes, warnings, and errors\n\nThe following blocks demonstrate the markup for notes, warnings, and errors that need to stand out from normal text.\nThey are rendered to match the formatting using in the SingleStore Cloud portal. Note that the rendering of these blocks\nwill look different in a local Jupyter or Github installation because there are additional CSS rules that get applied\nin the SingleStore Cloud portal.",
      "attachments": {}
    },
    {
      "id": "b271c522-0178-4b12-b2d1-44d0862b89ac",
      "cell_type": "markdown",
      "metadata": {
        "execution": {}
      },
      "source": "\u003cdiv class=\"alert alert-block alert-success\"\u003e\n    \u003cb class=\"fa fa-solid fa-check-circle\"\u003e\u003c/b\u003e\n    \u003cdiv\u003e\n        \u003cp\u003e\u003cb\u003eSuccess\u003c/b\u003e\u003c/p\u003e\n        \u003cp\u003eMake sure to select the \u003ctt\u003egetting_started_notebook\u003c/tt\u003e database from the drop-down menu at the top of this notebook.\n        It updates the \u003ctt\u003econnection_url\u003c/tt\u003e to connect to that database.\u003c/p\u003e\n    \u003c/div\u003e\n\u003c/div\u003e",
      "attachments": {}
    },
    {
      "id": "485a9fd2-bd3f-48f7-acd9-2e6f5ca46ff2",
      "cell_type": "markdown",
      "metadata": {
        "execution": {}
      },
      "source": "\u003cdiv class=\"alert alert-block alert-info\"\u003e\n    \u003cb class=\"fa fa-solid fa-info-circle\"\u003e\u003c/b\u003e\n    \u003cdiv\u003e\n        \u003cp\u003e\u003cb\u003eNote\u003c/b\u003e\u003c/p\u003e\n        \u003cp\u003eMake sure to select the \u003ctt\u003egetting_started_notebook\u003c/tt\u003e database from the drop-down menu at the top of this notebook.\n        It updates the \u003ctt\u003econnection_url\u003c/tt\u003e to connect to that database.\u003c/p\u003e\n    \u003c/div\u003e\n\u003c/div\u003e",
      "attachments": {}
    },
    {
      "id": "9dabeba6-b80f-4583-b7ed-45a1b5383a6e",
      "cell_type": "markdown",
      "metadata": {
        "execution": {}
      },
      "source": "\u003cdiv class=\"alert alert-block alert-warning\"\u003e\n    \u003cb class=\"fa fa-solid fa-exclamation-circle\"\u003e\u003c/b\u003e\n    \u003cdiv\u003e\n        \u003cp\u003e\u003cb\u003eAction Required\u003c/b\u003e\u003c/p\u003e\n        \u003cp\u003eMake sure to select the \u003ctt\u003egetting_started_notebook\u003c/tt\u003e database from the drop-down menu at the top of this notebook.\n    It updates the \u003ctt\u003econnection_url\u003c/tt\u003e to connect to that database.\u003c/p\u003e\n    \u003c/div\u003e\n\u003c/div\u003e",
      "attachments": {}
    },
    {
      "id": "d2c446be-c58a-4229-8139-b42a0fdf4428",
      "cell_type": "markdown",
      "metadata": {
        "execution": {}
      },
      "source": "\u003cdiv class=\"alert alert-block alert-danger\"\u003e\n    \u003cb class=\"fa fa-solid fa-exclamation-triangle\"\u003e\u003c/b\u003e\n    \u003cdiv\u003e\n        \u003cp\u003e\u003cb\u003eError\u003c/b\u003e\u003c/p\u003e\n        \u003cp\u003eMake sure to select the \u003ctt\u003egetting_started_notebook\u003c/tt\u003e database from the drop-down menu at the top of this notebook.\n        It updates the \u003ctt\u003econnection_url\u003c/tt\u003e to connect to that database.\u003c/p\u003e\n    \u003c/div\u003e\n\u003c/div\u003e",
      "attachments": {}
    },
    {
      "id": "580ec204-c07b-49af-b941-739525e41265",
      "cell_type": "markdown",
      "metadata": {
        "execution": {}
      },
      "source": "## Python code\n\nPython code must follow the \u003ca href=\"https://pep8.org\"\u003ePEP 8\u003c/a\u003e style guide. While the entire spec is rather \ndaunting, a short summary of the main points can be found \u003ca href=\"https://tandysony.com/2018/02/14/pep-8.html\"\u003ehere\u003c/a\u003e.\nKey things to note are that class names should be in `CapWords`, functions and variables are in `snake_case`, constants\nare in all-uppercase `SNAKE_CASE`, indentation is always 4 spaces (no tabs).\n\n### Type annotations\n\nType annotations should be used in functions and methods. This gives the code a more professional look and also helps\nreaders to understand the code better.\n\n### Docstrings\n\nAll classes and functions should be documented including the parameters. Since notebooks are more commonly used by \ndata scientists who also use numpy and pandas, the format chosen for docstrings is \n\u003ca href=\"https://numpydoc.readthedocs.io/en/latest/format.html\"\u003enumpydoc\u003c/a\u003e. An example of a function documented with\nnumpydoc is shown below.",
      "attachments": {}
    },
    {
      "id": "655ce2e3-6210-48ea-a8c8-b253fa66e827",
      "cell_type": "code",
      "metadata": {
        "execution": {},
        "language": "python"
      },
      "source": "def my_function(txt: str, times: int, sep: str = ', ') -\u003e str:\n    \"\"\"\n    Repeat the string `txt` the number of times given in `times`.\n    \n    Parameters\n    ----------\n    txt : str\n        The string to repeat\n    times : int\n        The number of times to repeat the string\n    sep : str, optional\n        The separator to use between repeats\n        \n    Notes\n    -----\n    The separator string may be an empty string if you want a \n    string with no delimiters.\n        \n    Returns\n    -------\n    str\n    \n    \"\"\"\n    return sep.join([txt] * times)",
      "outputs": [],
      "execution_count": 3
    },
    {
      "id": "d1ee6105-5e3c-4026-bdf0-7b4813a0ed8d",
      "cell_type": "markdown",
      "metadata": {
        "execution": {}
      },
      "source": "## Plotting\n\nWhen using plots from packages such as matplotlib, plotly, or bokeh, you should not change the style or theme used.\nThe notebooks environment selects a style based on the current light / dark theme selected. Hard-coding a style\ninto an example will break that capability.",
      "attachments": {}
    },
    {
      "id": "e07c5013-da30-4397-b45b-dc782a6ef912",
      "cell_type": "markdown",
      "metadata": {
        "execution": {}
      },
      "source": "## Code snippets\n\nThis section is here to make copying and pasting of the notes, warnings, etc. easier.\n\n### Success box\n\n```html\n\u003cdiv class=\"alert alert-block alert-success\"\u003e\n    \u003cb class=\"fa fa-solid fa-check-circle\"\u003e\u003c/b\u003e\n    \u003cdiv\u003e\n        \u003cp\u003e\u003cb\u003eSuccess\u003c/b\u003e\u003c/p\u003e\n        \u003cp\u003eINSERT_TEXT\u003c/p\u003e\n    \u003c/div\u003e\n\u003c/div\u003e\n```\n\n### Note box\n\n```html\n\u003cdiv class=\"alert alert-block alert-info\"\u003e\n    \u003cb class=\"fa fa-solid fa-info-circle\"\u003e\u003c/b\u003e\n    \u003cdiv\u003e\n        \u003cp\u003e\u003cb\u003eNote\u003c/b\u003e\u003c/p\u003e\n        \u003cp\u003eINSERT_TEXT\u003c/p\u003e\n    \u003c/div\u003e\n\u003c/div\u003e\n```\n\n### Warning box\n\n```html\n\u003cdiv class=\"alert alert-block alert-warning\"\u003e\n    \u003cb class=\"fa fa-solid fa-exclamation-circle\"\u003e\u003c/b\u003e\n    \u003cdiv\u003e\n        \u003cp\u003e\u003cb\u003eAction Required\u003c/b\u003e\u003c/p\u003e\n        \u003cp\u003eINSERT_TEXT\u003c/p\u003e\n    \u003c/div\u003e\n\u003c/div\u003e\n```\n\n### Error box\n\n```html\n\u003cdiv class=\"alert alert-block alert-danger\"\u003e\n    \u003cb class=\"fa fa-solid fa-exclamation-triangle\"\u003e\u003c/b\u003e\n    \u003cdiv\u003e\n        \u003cp\u003e\u003cb\u003eError\u003c/b\u003e\u003c/p\u003e\n        \u003cp\u003eINSERT_TEXT\u003c/p\u003e\n    \u003c/div\u003e\n\u003c/div\u003e\n```",
      "attachments": {}
    },
    {
      "id": "ab8d2d15-192b-412b-8145-3cd665263b33",
      "cell_type": "markdown",
      "metadata": {
        "execution": {},
        "tags": []
      },
      "source": "\u003cdiv id=\"singlestore-footer\" style=\"background-color: rgba(194, 193, 199, 0.25); height:2px; margin-bottom:10px\"\u003e\u003c/div\u003e\n    \u003cdiv\u003e\u003cimg src=\"https://raw.githubusercontent.com/singlestore-labs/spaces-notebooks/master/common/images/singlestore-logo-grey.png\" style=\"padding: 0px; margin: 0px; height: 24px\"/\u003e\u003c/div\u003e\n\u003c/div\u003e",
      "attachments": {}
    }
  ],
  "metadata": {
    "kernelspec": {
      "display_name": "Python 3 (ipykernel)",
      "language": "python",
      "name": "python3"
    },
    "language_info": {
      "codemirror_mode": {
        "name": "ipython",
        "version": 3
      },
      "file_extension": ".py",
      "mimeType": "text/x-python",
      "name": "python",
      "nbconvert_exporter": "python",
      "pygments_lexer": "ipython3",
      "version": "3.11.9"
    },
    "singlestore_connection": {
      "connectionID": "",
      "defaultDatabase": ""
    },
    "singlestore_cell_default_language": "python",
    "singlestore_row_limit": 300
  },
  "nbformat": 4,
  "nbformat_minor": 5
}