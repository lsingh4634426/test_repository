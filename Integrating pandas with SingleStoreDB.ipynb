{
  "cells": [
    {
      "id": "077e8941",
      "cell_type": "markdown",
      "metadata": {
        "execution": {}
      },
      "source": "\u003cdiv id=\"singlestore-header\" style=\"display: flex; background-color: rgba(235, 249, 245, 0.25); padding: 5px;\"\u003e\n    \u003cdiv id=\"icon-image\" style=\"width: 90px; height: 90px;\"\u003e\n        \u003cimg width=\"100%\" height=\"100%\" src=\"https://raw.githubusercontent.com/singlestore-labs/spaces-notebooks/master/common/images/header-icons/database.png\" /\u003e\n    \u003c/div\u003e\n    \u003cdiv id=\"text\" style=\"padding: 5px; margin-left: 10px;\"\u003e\n        \u003cdiv id=\"badge\" style=\"display: inline-block; background-color: rgba(0, 0, 0, 0.15); border-radius: 4px; padding: 4px 8px; align-items: center; margin-top: 6px; margin-bottom: -2px; font-size: 80%\"\u003eSingleStore Notebooks\u003c/div\u003e\n        \u003ch1 style=\"font-weight: 500; margin: 8px 0 0 4px;\"\u003eIntegrating pandas with SingleStoreDB\u003c/h1\u003e\n    \u003c/div\u003e\n\u003c/div\u003e",
      "attachments": {}
    },
    {
      "id": "b66a3e48",
      "cell_type": "markdown",
      "metadata": {
        "execution": {}
      },
      "source": "\u003cdiv class=\"alert alert-block alert-warning\"\u003e\n    \u003cb class=\"fa fa-solid fa-exclamation-circle\"\u003e\u003c/b\u003e\n    \u003cdiv\u003e\n        \u003cp\u003e\u003cb\u003eNote\u003c/b\u003e\u003c/p\u003e\n        \u003cp\u003eThis notebook can be run on a Free Starter Workspace. To create a Free Starter Workspace navigate to \u003ctt\u003eStart\u003c/tt\u003e using the left nav. You can also use your existing Standard or Premium workspace with this Notebook.\u003c/p\u003e\n    \u003c/div\u003e\n\u003c/div\u003e",
      "attachments": {}
    },
    {
      "id": "91ae5c41",
      "cell_type": "markdown",
      "metadata": {
        "execution": {}
      },
      "source": "This notebook will show how to move data from a pandas `DataFrame` into SingleStoreDB as well\nas downloading a SingleStoreDB query to a pandas `DataFrame`. It should be noted that this\nis only intended for relatively small data sets and to do processing that can't otherwise\nbe done in SingleStoreDB itself. Moving data to the client for processing should only be done\nwhen there is no other alternative in the database.",
      "attachments": {}
    },
    {
      "id": "c93d6c92",
      "cell_type": "code",
      "metadata": {
        "execution": {},
        "language": "python"
      },
      "source": "import ibis\nimport pandas as pd\nimport singlestoredb as s2\nimport sqlalchemy as sa",
      "outputs": [],
      "execution_count": 1
    },
    {
      "id": "a5969592",
      "cell_type": "markdown",
      "metadata": {
        "execution": {}
      },
      "source": "\u003cdiv class=\"alert alert-block alert-warning\"\u003e\n    \u003cb class=\"fa fa-solid fa-exclamation-circle\"\u003e\u003c/b\u003e\n    \u003cdiv\u003e\n        \u003cp\u003e\u003cb\u003eAction Required\u003c/b\u003e\u003c/p\u003e\n        \u003cp\u003e If you have a Free Starter Workspace deployed already, select the database from drop-down menu at the top of this notebook. It updates the \u003ctt\u003econnection_url\u003c/tt\u003e to connect to that database.\u003c/p\u003e\n    \u003c/div\u003e\n\u003c/div\u003e",
      "attachments": {}
    },
    {
      "id": "996e4e71",
      "cell_type": "markdown",
      "metadata": {
        "execution": {}
      },
      "source": "## Create a database\n\nWe need to create a database to work with in the following examples.",
      "attachments": {}
    },
    {
      "id": "e4ad8232",
      "cell_type": "code",
      "metadata": {
        "execution": {},
        "language": "python"
      },
      "source": "shared_tier_check = %sql show variables like 'is_shared_tier'\nif not shared_tier_check or shared_tier_check[0][1] == 'OFF':\n    %sql DROP DATABASE IF EXISTS pandas_integration;\n    %sql CREATE DATABASE pandas_integration;",
      "outputs": [],
      "execution_count": 2
    },
    {
      "id": "6ce6ab53",
      "cell_type": "markdown",
      "metadata": {
        "execution": {}
      },
      "source": "\u003cdiv class=\"alert alert-block alert-warning\"\u003e\n    \u003cb class=\"fa fa-solid fa-exclamation-circle\"\u003e\u003c/b\u003e\n    \u003cdiv\u003e\n        \u003cp\u003e\u003cb\u003eAction Required\u003c/b\u003e\u003c/p\u003e\n        \u003cp\u003eMake sure to select the \u003ctt\u003epandas_integration\u003c/tt\u003e database from the drop-down menu at the top of this notebook.\n        It updates the \u003ctt\u003econnection_url\u003c/tt\u003e to connect to that database.\u003c/p\u003e\n    \u003c/div\u003e\n\u003c/div\u003e",
      "attachments": {}
    },
    {
      "id": "3be5a003",
      "cell_type": "markdown",
      "metadata": {
        "execution": {}
      },
      "source": "## Database connections\n\nIn the notebooks environment, the connection string for the currently selected database is kept\nin the `connection_url` variable as well as the `SINGLESTOREDB_URL` environment variable.\nThe connection variables are accessed automatically within the SingleStoreDB Python packages\nso that you do not need connection parameters when connecting.\n\nIn the following sections, we will connect to SingleStoreDB using each of the packages and demonstrate\ntechniques for moving data between pandas and SingleStoreDB.",
      "attachments": {}
    },
    {
      "id": "7207b236",
      "cell_type": "markdown",
      "metadata": {
        "execution": {}
      },
      "source": "## The Iris data set\n\nWe'll be using the Iris data set for the following examples. This data set includes five columns: `sepal_length`,\n`sepal_width`, `petal_length`, `petal_width` and `class`.",
      "attachments": {}
    },
    {
      "id": "f752e994",
      "cell_type": "code",
      "metadata": {
        "execution": {},
        "language": "python"
      },
      "source": "iris = pd.read_csv('https://raw.githubusercontent.com/singlestore-labs/spaces-notebooks/master/notebooks/integrating-with-pandas/data/iris.csv')\niris",
      "outputs": [],
      "execution_count": 3
    },
    {
      "id": "eb65b562",
      "cell_type": "markdown",
      "metadata": {
        "execution": {}
      },
      "source": "As you can see below, the first four columns are floats and the last column is a string\n(represented as an `object` in `DataFrame`s).",
      "attachments": {}
    },
    {
      "id": "a88d4199",
      "cell_type": "code",
      "metadata": {
        "execution": {},
        "language": "python"
      },
      "source": "iris.info()",
      "outputs": [],
      "execution_count": 4
    },
    {
      "id": "ad1429cf",
      "cell_type": "markdown",
      "metadata": {
        "execution": {}
      },
      "source": "## Moving data between SingleStoreDB and pandas `DataFrame`s\n\nMoving data from pandas `DataFrame`s to SingleStoreDB tables can be done in various ways from Python and even\nfrom each of the packages described here. This reference is to show the best techniques when using each\npackage.\n\nIt should be noted that moving data back-and-forth between pandas and SingleStoreDB should only be done when\nabsolutely needed since this can be a major bottleneck when working with and analyzing data. The hope is that\nthe features of SingleStoreDB are sufficient enough to alleviate the need to do much processing (if any) on\nthe client machine.",
      "attachments": {}
    },
    {
      "id": "93bdb639",
      "cell_type": "markdown",
      "metadata": {
        "execution": {}
      },
      "source": "### SingleStoreDB Python\n\nThe core library is the SingleStoreDB Python package. This is the package that all other SingleStoreDB\npackages are built on. To connect, simply call the `connect` function.",
      "attachments": {}
    },
    {
      "id": "81f49c90",
      "cell_type": "code",
      "metadata": {
        "execution": {},
        "language": "python"
      },
      "source": "s2_conn = s2.connect()",
      "outputs": [],
      "execution_count": 5
    },
    {
      "id": "4ba44e4c",
      "cell_type": "markdown",
      "metadata": {
        "execution": {}
      },
      "source": "Since the core library is a fairly low-level interface to SingleStoreDB, most operations are done simply by sending\nSQL code.",
      "attachments": {}
    },
    {
      "id": "7d1e729f",
      "cell_type": "markdown",
      "metadata": {
        "execution": {}
      },
      "source": "#### Creating a table\n\nBecause we are using a low-level driver, creating a table is just done using SQL code. We'll use the information\nabout the data set above to construct a `CREATE TABLE` statement.",
      "attachments": {}
    },
    {
      "id": "23e9fccd",
      "cell_type": "code",
      "metadata": {
        "execution": {},
        "language": "python"
      },
      "source": "s2_cur = s2_conn.cursor()\ns2_cur.execute(r'''\n    CREATE TABLE IF NOT EXISTS iris (\n        sepal_length DOUBLE,\n        sepal_width DOUBLE,\n        petal_length DOUBLE,\n        petal_width DOUBLE,\n        class TEXT\n    )\n''')",
      "outputs": [],
      "execution_count": 6
    },
    {
      "id": "87533afe",
      "cell_type": "markdown",
      "metadata": {
        "execution": {}
      },
      "source": "#### Upload the data from a `DataFrame`\n\nNow that we have a table, we can populate it with data from the `DataFrame`. Again, we will use\nSQL statements to do this. The Python client can execute single SQL statements using the\n`execute` method as used above, but since we are uploading multiple rows of data it is better\nto use the `executemany` method since it is optimized for this purpose.",
      "attachments": {}
    },
    {
      "id": "0e10f6c9",
      "cell_type": "code",
      "metadata": {
        "execution": {},
        "language": "python"
      },
      "source": "# Construct the list of column names\ncols = ', '.join(f'`{x}`' for x in iris.columns)\n\n# Construct a list of value placeholders for the INSERT statement\nvalues = ', '.join(['%s'] * len(iris.columns))\n\n# Get data as a list of tuples (not including the index)\ndata = list(iris.itertuples(index=False))\n\n# Execute the INSERT statement\ns2_cur.executemany(f'INSERT INTO iris({cols}) VALUES ({values})', data)",
      "outputs": [],
      "execution_count": 7
    },
    {
      "id": "07f5462c",
      "cell_type": "markdown",
      "metadata": {
        "execution": {}
      },
      "source": "We can select a sample of the rows to see that the data is now in SingleStoreDB.",
      "attachments": {}
    },
    {
      "id": "84cb68a6",
      "cell_type": "code",
      "metadata": {
        "execution": {},
        "language": "python"
      },
      "source": "s2_cur.execute('SELECT * FROM iris LIMIT 10')\nfor row in s2_cur:\n    print(row)",
      "outputs": [],
      "execution_count": 8
    },
    {
      "id": "1c1169c4",
      "cell_type": "markdown",
      "metadata": {
        "execution": {}
      },
      "source": "#### Downloading the data to a `DataFrame`\n\nWe can download the data to a pandas `DataFrame` simply by selecting all columns of data,\nfetching all of the rows, and passing them to the `DataFrame` constructor.",
      "attachments": {}
    },
    {
      "id": "95418be9",
      "cell_type": "code",
      "metadata": {
        "execution": {},
        "language": "python"
      },
      "source": "s2_cur.execute('SELECT * FROM iris')\n\n# Use the `description` attribute to get the column names\nnames = [x[0] for x in s2_cur.description]\n\ns2_iris_df = pd.DataFrame(list(s2_cur), columns=names)\ns2_iris_df",
      "outputs": [],
      "execution_count": 9
    },
    {
      "id": "639e4ac8",
      "cell_type": "code",
      "metadata": {
        "execution": {},
        "language": "python"
      },
      "source": "s2_iris_df.info()",
      "outputs": [],
      "execution_count": 10
    },
    {
      "id": "6d6c7516",
      "cell_type": "markdown",
      "metadata": {
        "execution": {}
      },
      "source": "Now that we have demonstrated uploading and downloading data from a pandas `DataFrame` using the\nSingleStoreDB Python client, we can drop the table and move on to SQLAlchemy.",
      "attachments": {}
    },
    {
      "id": "e21589b8",
      "cell_type": "code",
      "metadata": {
        "execution": {},
        "language": "python"
      },
      "source": "s2_cur.execute('DROP TABLE IF EXISTS iris')",
      "outputs": [],
      "execution_count": 11
    },
    {
      "id": "29f17ae8",
      "cell_type": "markdown",
      "metadata": {
        "execution": {}
      },
      "source": "### SQLAlchemy\n\nIn addition to the core Python library, you can use SQLAlchemy to connect to SingleStoreDB. Typically, when\nusing SQLAlchemy, you would use the SQLAlchemy `create_engine` function to create an engine, then call `connect`\non the engine to create connections from a pool. The SingleStoreDB Python package also has a `create_engine`\nfunction that does the same thing, however, it extends the default ability by allow you to use the\n`SINGLESTOREDB_URL` environment variable as the connection string so that no parameters are needed for\n`create_engine` when used in the notebooks environment.",
      "attachments": {}
    },
    {
      "id": "01474892",
      "cell_type": "code",
      "metadata": {
        "execution": {},
        "language": "python"
      },
      "source": "sa_eng = s2.create_engine()\nsa_conn = sa_eng.connect()",
      "outputs": [],
      "execution_count": 12
    },
    {
      "id": "29da1422",
      "cell_type": "markdown",
      "metadata": {
        "execution": {}
      },
      "source": "#### Uploading the data from a `DataFrame`\n\nUploading data from a `DataFrame` using SQLAlchemy is much easier than the lower-level Python library.\nThe pandas library itself has the ability to communicate with SingleStoreDB using a SQLAlchemy connection.\nIn this case, the `DataFrame` can create the table and populate it in one step using the `to_sql` method.\nThe `to_sql` method has various options to modify its behavior [documented on the pandas web site](https://pandas.pydata.org/pandas-docs/stable/reference/api/pandas.DataFrame.to_sql.html).",
      "attachments": {}
    },
    {
      "id": "0cde99aa",
      "cell_type": "code",
      "metadata": {
        "execution": {},
        "language": "python"
      },
      "source": "iris.to_sql('iris', con=sa_conn, index=False, if_exists='replace')",
      "outputs": [],
      "execution_count": 13
    },
    {
      "id": "152cdb79",
      "cell_type": "markdown",
      "metadata": {
        "execution": {}
      },
      "source": "We can verify the data is in SingleStoreDB with a simple `SELECT` statement.",
      "attachments": {}
    },
    {
      "id": "8b6d0dcd",
      "cell_type": "code",
      "metadata": {
        "execution": {},
        "language": "python"
      },
      "source": "for row in sa_conn.execute(sa.text('SELECT * FROM iris LIMIT 10')):\n    print(row)",
      "outputs": [],
      "execution_count": 14
    },
    {
      "id": "f052d204",
      "cell_type": "markdown",
      "metadata": {
        "execution": {}
      },
      "source": "It is also possible to use SQLAlchemy expressions to query the table rather than raw SQL strings.",
      "attachments": {}
    },
    {
      "id": "d26c240a",
      "cell_type": "code",
      "metadata": {
        "execution": {},
        "language": "python"
      },
      "source": "# Create a metadata object for the database\nif sa.__version__.startswith('1'):\n    db = sa.MetaData(bind=sa_eng)\n    sa.MetaData.reflect(db)\nelse:\n    db = sa.MetaData()\n    db.reflect(bind=sa_eng)\n\n# Get the iris table from reflected data\nsa_iris = db.tables['iris']\n\n# Query the iris table\nquery = sa.select(sa_iris).limit(10)\n\n# Print results\nfor row in sa_conn.execute(query):\n    print(row)",
      "outputs": [],
      "execution_count": 15
    },
    {
      "id": "ec8c09ec",
      "cell_type": "markdown",
      "metadata": {
        "execution": {}
      },
      "source": "#### Downloading the data to a `DataFrame`\n\nDownloading data to a pandas `DataFrame` is very simple. The result of the `execute` method can\nbe passed directly to the pandas `DataFrame` constructor.",
      "attachments": {}
    },
    {
      "id": "6c3a786f",
      "cell_type": "code",
      "metadata": {
        "execution": {},
        "language": "python"
      },
      "source": "# Reset query to not include the limit\nquery = sa.select(sa_iris)\n\nsa_iris_df = pd.DataFrame(sa_conn.execute(query))\nsa_iris_df",
      "outputs": [],
      "execution_count": 16
    },
    {
      "id": "dd9018f4",
      "cell_type": "code",
      "metadata": {
        "execution": {},
        "language": "python"
      },
      "source": "sa_iris_df.info()",
      "outputs": [],
      "execution_count": 17
    },
    {
      "id": "40831a8d",
      "cell_type": "markdown",
      "metadata": {
        "execution": {}
      },
      "source": "It is also possible to use `pd.read_sql` to bookend the use of `df.to_sql`.",
      "attachments": {}
    },
    {
      "id": "9a647b1a",
      "cell_type": "code",
      "metadata": {
        "execution": {},
        "language": "python"
      },
      "source": "sa_iris_df = pd.read_sql(query, con=sa_conn)\nsa_iris_df",
      "outputs": [],
      "execution_count": 18
    },
    {
      "id": "d7f11bcf",
      "cell_type": "markdown",
      "metadata": {
        "execution": {}
      },
      "source": "Now that we have demonstrated using SQLAlchemy to upload and download pandas `DataFrames` we can drop\nthe table and move on to Ibis.",
      "attachments": {}
    },
    {
      "id": "d70972af",
      "cell_type": "code",
      "metadata": {
        "execution": {},
        "language": "python"
      },
      "source": "sa_iris.drop(bind=sa_eng)",
      "outputs": [],
      "execution_count": 19
    },
    {
      "id": "f32118fe",
      "cell_type": "markdown",
      "metadata": {
        "execution": {}
      },
      "source": "### Ibis (SingleStoreDB DataFrame)\n\nThe Ibis package allows you to treat tables in SingleStoreDB as `DataFrames`. The `DataFrame` expressions\nare used to build lazy expressions which generate SQL statements that get submitted to SingleStoreDB\nonly when you want to see the results of a query. Ibis using SQLAlchemy connections behind-the-scenes.",
      "attachments": {}
    },
    {
      "id": "4adac2b3",
      "cell_type": "code",
      "metadata": {
        "execution": {},
        "language": "python"
      },
      "source": "ibis_conn = ibis.singlestoredb.connect()",
      "outputs": [],
      "execution_count": 20
    },
    {
      "id": "6e6ca747",
      "cell_type": "markdown",
      "metadata": {
        "execution": {}
      },
      "source": "#### Uploading the data from a `DataFrame`\n\nIbis is intended for tight integration with pandas, so it is no surprise that uploading a\npandas `DataFrame` with Ibis is straight-forward.\n\nIf you are not familiar with Ibis, you may notice the `execute` call at the end of this cell.\nIbis creates expressions in memory on the client machine until a view of the data is\nexplicitly asked for. Once you explicitly ask for a query to be executed, it then generates\nand submits the SQL code for the expression behind-the-scenes.\n\nIn this case, the `ibis_iris` object is a `DataFrame`-like object that is lazily constructing\nthe requested expression until `execute` is called on it. In the case of this example, uploading\nand downloading",
      "attachments": {}
    },
    {
      "id": "c863ae1f",
      "cell_type": "code",
      "metadata": {
        "execution": {},
        "language": "python"
      },
      "source": "ibis_iris = ibis_conn.create_table('iris', iris, overwrite=True)\nibis_iris.limit(10).execute()",
      "outputs": [],
      "execution_count": 21
    },
    {
      "id": "47893242",
      "cell_type": "markdown",
      "metadata": {
        "execution": {}
      },
      "source": "It is also possible to insert the data from a `DataFrame` into an existing table using the `insert` method\nof the connection.",
      "attachments": {}
    },
    {
      "id": "9ca1c807",
      "cell_type": "code",
      "metadata": {
        "execution": {},
        "language": "python"
      },
      "source": "ibis_conn.insert('iris', iris)",
      "outputs": [],
      "execution_count": 22
    },
    {
      "id": "8f262819",
      "cell_type": "markdown",
      "metadata": {
        "execution": {}
      },
      "source": "You'll see that we now have 300 rows since we've inserted the data twice.",
      "attachments": {}
    },
    {
      "id": "1eb12dfb",
      "cell_type": "code",
      "metadata": {
        "execution": {},
        "language": "python"
      },
      "source": "ibis_iris.count().execute()",
      "outputs": [],
      "execution_count": 23
    },
    {
      "id": "b4dc87a4",
      "cell_type": "markdown",
      "metadata": {
        "execution": {}
      },
      "source": "One way to see the SQL that gets submitted during `execute` is to compile the expression\nand print it. Ibis also has a options to display SQL queries as they are submitted.",
      "attachments": {}
    },
    {
      "id": "8bb66f21",
      "cell_type": "code",
      "metadata": {
        "execution": {},
        "language": "python"
      },
      "source": "print(ibis_iris.compile())",
      "outputs": [],
      "execution_count": 24
    },
    {
      "id": "8df50578",
      "cell_type": "markdown",
      "metadata": {
        "execution": {}
      },
      "source": "The information about the table can be retrieved much like in a local pandas `DataFrame`.",
      "attachments": {}
    },
    {
      "id": "5f07644b",
      "cell_type": "code",
      "metadata": {
        "execution": {},
        "language": "python"
      },
      "source": "ibis_iris.info().execute()",
      "outputs": [],
      "execution_count": 25
    },
    {
      "id": "af4a40bb",
      "cell_type": "markdown",
      "metadata": {
        "execution": {}
      },
      "source": "#### Downloading the data from a `DataFrame`\n\nThe output from evaluating Ibis expressions returns a `DataFrame`, so we have already demonstrated\ndownloading data, but here is the code again.",
      "attachments": {}
    },
    {
      "id": "50b54dd8",
      "cell_type": "code",
      "metadata": {
        "execution": {},
        "language": "python"
      },
      "source": "ibis_iris_df = ibis_iris.execute()\nibis_iris_df",
      "outputs": [],
      "execution_count": 26
    },
    {
      "id": "9e3fc598",
      "cell_type": "markdown",
      "metadata": {
        "execution": {}
      },
      "source": "Ibis `Table`s also have a `to_pandas` method.",
      "attachments": {}
    },
    {
      "id": "c09411e6",
      "cell_type": "code",
      "metadata": {
        "execution": {},
        "language": "python"
      },
      "source": "ibis_iris.to_pandas()",
      "outputs": [],
      "execution_count": 27
    },
    {
      "id": "097435fc",
      "cell_type": "markdown",
      "metadata": {
        "execution": {}
      },
      "source": "If you do not have an Ibis object reference to a table already, you can get one using the `table` method\nor `tables` attribute of the Ibis connection.",
      "attachments": {}
    },
    {
      "id": "3c48ca90",
      "cell_type": "code",
      "metadata": {
        "execution": {},
        "language": "python"
      },
      "source": "# Use this version if the table name is not a valid Python variable name\nibis_iris = ibis_conn.table('iris')\n\n# This form can be used if the table name is a valid Python variable name\nibis_iris = ibis_conn.tables.iris",
      "outputs": [],
      "execution_count": 28
    },
    {
      "id": "e1c8a0c1",
      "cell_type": "code",
      "metadata": {
        "execution": {},
        "language": "python"
      },
      "source": "ibis_iris.limit(10).execute()",
      "outputs": [],
      "execution_count": 29
    },
    {
      "id": "16c307d7",
      "cell_type": "markdown",
      "metadata": {
        "execution": {}
      },
      "source": "We have demonstrated both uploading and downloading pandas `DataFrames` using Ibis, so\nwe can drop the table now.",
      "attachments": {}
    },
    {
      "id": "ba397ac3",
      "cell_type": "code",
      "metadata": {
        "execution": {},
        "language": "python"
      },
      "source": "ibis_conn.drop_table('iris')",
      "outputs": [],
      "execution_count": 30
    },
    {
      "id": "7c3a31cc",
      "cell_type": "markdown",
      "metadata": {
        "execution": {}
      },
      "source": "### `%%sql` and `%sql` magic commands\n\nThe IPython interpreter can be extended with \"magic\" commands. The SingleStore Cloud notebook environment\nuses the [JupySQL](https://jupysql.ploomber.io/en/latest/quick-start.html) plugin for the `%sql`, `%%sql`,\nand `%sqlplot` commands. These work in conjunction with SQLAlchemy to allow you to type SQL code in\nthe notebook cells. They also have ways of integrating with pandas. The notebook environment automatically\nsets up the connection string for use in these commands.",
      "attachments": {}
    },
    {
      "id": "8667929d",
      "cell_type": "markdown",
      "metadata": {
        "execution": {}
      },
      "source": "#### Creating a table\n\nCreating a table with the `%%sql` command is done simply by submitting the `CREATE TABLE` statement.",
      "attachments": {}
    },
    {
      "id": "138f111b",
      "cell_type": "code",
      "metadata": {
        "execution": {},
        "language": "python"
      },
      "source": "%%sql\nDROP TABLE IF EXISTS iris;\nCREATE TABLE IF NOT EXISTS iris (\n    sepal_length DOUBLE,\n    sepal_width DOUBLE,\n    petal_length DOUBLE,\n    petal_width DOUBLE,\n    class TEXT\n);",
      "outputs": [],
      "execution_count": 31
    },
    {
      "id": "baa7f8a7",
      "cell_type": "markdown",
      "metadata": {
        "execution": {}
      },
      "source": "#### Uploading the data from a `DataFrame`\n\nThe `%sql` command has options that allow you to upload data from a `DataFrame`. The `--persist` option\nwill create a table in the database and upload the data. The `--append` option will append data to an\nexisting table. In this case, the name used for the `DataFrame` variable is used for the table name\nin SingleStoreDB.",
      "attachments": {}
    },
    {
      "id": "d03da00a",
      "cell_type": "code",
      "metadata": {
        "execution": {},
        "language": "python"
      },
      "source": "%sql --append --no-index iris",
      "outputs": [],
      "execution_count": 32
    },
    {
      "id": "db454011",
      "cell_type": "code",
      "metadata": {
        "execution": {},
        "language": "python"
      },
      "source": "%%sql\nSELECT * FROM iris LIMIT 10;",
      "outputs": [],
      "execution_count": 33
    },
    {
      "id": "db91e707",
      "cell_type": "markdown",
      "metadata": {
        "execution": {}
      },
      "source": "#### Downloading the data from a `DataFrame`\n\nThere are a few ways of getting data from SingleStoreDB into a `DataFrame` using the SQL magic commands.\nThe first is to use the `%sql` command and convert the result manually.",
      "attachments": {}
    },
    {
      "id": "0bba558a",
      "cell_type": "code",
      "metadata": {
        "execution": {},
        "language": "python"
      },
      "source": "out = %sql SELECT * FROM iris\nsql_iris_df = out.DataFrame()\nsql_iris_df",
      "outputs": [],
      "execution_count": 34
    },
    {
      "id": "19adfd90",
      "cell_type": "markdown",
      "metadata": {
        "execution": {}
      },
      "source": "You can also pass the result of the query to the `DataFrame` constructor.",
      "attachments": {}
    },
    {
      "id": "36eabe0c",
      "cell_type": "code",
      "metadata": {
        "execution": {},
        "language": "python"
      },
      "source": "sql_iris_df = pd.DataFrame(out)\nsql_iris_df",
      "outputs": [],
      "execution_count": 35
    },
    {
      "id": "6656b59a",
      "cell_type": "markdown",
      "metadata": {
        "execution": {}
      },
      "source": "Finally, the output of the `%%sql` command can be stored to a variable which can then be\nconverted to a `DataFrame` in the same manner as above.",
      "attachments": {}
    },
    {
      "id": "5da05c62",
      "cell_type": "code",
      "metadata": {
        "execution": {},
        "language": "python"
      },
      "source": "%%sql result \u003c\u003c\nSELECT * FROM iris;",
      "outputs": [],
      "execution_count": 36
    },
    {
      "id": "35f51470",
      "cell_type": "code",
      "metadata": {
        "execution": {},
        "language": "python"
      },
      "source": "sql_iris_df = pd.DataFrame(result)\nsql_iris_df",
      "outputs": [],
      "execution_count": 37
    },
    {
      "id": "782ec035",
      "cell_type": "markdown",
      "metadata": {
        "execution": {}
      },
      "source": "##### Automatically return pandas `DataFrame`s\n\nThe other option for getting `DataFrame`s as the result of the SQL magic commands is to enable\nthe `SqlMagic.autopandas` option. This will cause all results from SQL magic commands to be\nconverted to `DataFrame`s without any intervention.",
      "attachments": {}
    },
    {
      "id": "57227c30",
      "cell_type": "code",
      "metadata": {
        "execution": {},
        "language": "python"
      },
      "source": "%config SqlMagic.autopandas = True",
      "outputs": [],
      "execution_count": 38
    },
    {
      "id": "e12fdd61",
      "cell_type": "code",
      "metadata": {
        "execution": {},
        "language": "python"
      },
      "source": "out = %sql SELECT * FROM iris\nout",
      "outputs": [],
      "execution_count": 39
    },
    {
      "id": "c7d03adf",
      "cell_type": "code",
      "metadata": {
        "execution": {},
        "language": "python"
      },
      "source": "type(out)",
      "outputs": [],
      "execution_count": 40
    },
    {
      "id": "061b6939",
      "cell_type": "markdown",
      "metadata": {
        "execution": {}
      },
      "source": "Now that we have demonstrated uploading and downloading of `DataFrame`s using the SQL magic commands,\nwe can reset the configuration options and drop the table.",
      "attachments": {}
    },
    {
      "id": "0f8f59c5",
      "cell_type": "code",
      "metadata": {
        "execution": {},
        "language": "python"
      },
      "source": "%config SqlMagic.autopandas = False\n%sql DROP TABLE IF EXISTS iris",
      "outputs": [],
      "execution_count": 41
    },
    {
      "id": "b081f241",
      "cell_type": "markdown",
      "metadata": {
        "execution": {}
      },
      "source": "## Conclusion\n\n\u003cdiv class=\"alert alert-block alert-warning\"\u003e\n    \u003cb class=\"fa fa-solid fa-exclamation-circle\"\u003e\u003c/b\u003e\n    \u003cdiv\u003e\n        \u003cp\u003e\u003cb\u003eAction Required\u003c/b\u003e\u003c/p\u003e\n        \u003cp\u003e If you created a new database in your Standard or Premium Workspace, you can drop the database by running the cell below. Note: this will not drop your database for Free Starter Workspaces. To drop a Free Starter Workspace, terminate the Workspace using the UI. \u003c/p\u003e\n    \u003c/div\u003e\n\u003c/div\u003e\n\nWe have shown how to upload and download data from a pandas `DataFrame` to and from SingleStoreDB\nusing the SingleStoreDB Python client, SQLAlchemy, and Ibis. These techniques should enable you to\nintegrate your pandas workflows with SingleStoreDB.",
      "attachments": {}
    },
    {
      "id": "24af14ce",
      "cell_type": "code",
      "metadata": {
        "execution": {},
        "language": "python"
      },
      "source": "shared_tier_check = %sql show variables like 'is_shared_tier'\nif not shared_tier_check or shared_tier_check[0][1] == 'OFF':\n    %sql DROP DATABASE IF EXISTS pandas_integration;",
      "outputs": [],
      "execution_count": 42
    },
    {
      "id": "1931035f",
      "cell_type": "markdown",
      "metadata": {
        "execution": {}
      },
      "source": "\u003cdiv id=\"singlestore-footer\" style=\"background-color: rgba(194, 193, 199, 0.25); height:2px; margin-bottom:10px\"\u003e\u003c/div\u003e\n\u003cdiv\u003e\u003cimg src=\"https://raw.githubusercontent.com/singlestore-labs/spaces-notebooks/master/common/images/singlestore-logo-grey.png\" style=\"padding: 0px; margin: 0px; height: 24px\"/\u003e\u003c/div\u003e",
      "attachments": {}
    }
  ],
  "metadata": {
    "kernelspec": {
      "display_name": "Python 3 (ipykernel)",
      "language": "python",
      "name": "python3"
    },
    "language_info": {
      "codemirror_mode": {
        "name": "ipython",
        "version": 3
      },
      "file_extension": ".py",
      "mimeType": "text/x-python",
      "name": "python",
      "nbconvert_exporter": "python",
      "pygments_lexer": "ipython3",
      "version": "3.11.4"
    },
    "jupyterlab": {
      "notebooks": {
        "version_major": 6,
        "version_minor": 4
      }
    },
    "singlestore_connection": {
      "connectionID": "",
      "defaultDatabase": ""
    },
    "singlestore_cell_default_language": "python"
  },
  "nbformat": 4,
  "nbformat_minor": 5
}