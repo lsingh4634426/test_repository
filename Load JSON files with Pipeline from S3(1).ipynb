{
  "cells": [
    {
      "id": "0a372889",
      "cell_type": "markdown",
      "metadata": {
        "execution": {}
      },
      "source": "\u003cdiv id=\"singlestore-header\" style=\"display: flex; background-color: rgba(210, 255, 153, 0.25); padding: 5px;\"\u003e\n    \u003cdiv id=\"icon-image\" style=\"width: 90px; height: 90px;\"\u003e\n        \u003cimg width=\"100%\" height=\"100%\" src=\"https://raw.githubusercontent.com/singlestore-labs/spaces-notebooks/master/common/images/header-icons/chart-network.png\" /\u003e\n    \u003c/div\u003e\n    \u003cdiv id=\"text\" style=\"padding: 5px; margin-left: 10px;\"\u003e\n        \u003cdiv id=\"badge\" style=\"display: inline-block; background-color: rgba(0, 0, 0, 0.15); border-radius: 4px; padding: 4px 8px; align-items: center; margin-top: 6px; margin-bottom: -2px; font-size: 80%\"\u003eSingleStore Notebooks\u003c/div\u003e\n        \u003ch1 style=\"font-weight: 500; margin: 8px 0 0 4px;\"\u003eLoad JSON files with Pipeline from S3\u003c/h1\u003e\n    \u003c/div\u003e\n\u003c/div\u003e",
      "attachments": {}
    },
    {
      "id": "48097b9a",
      "cell_type": "markdown",
      "metadata": {
        "execution": {}
      },
      "source": "\u003cdiv class=\"alert alert-block alert-info\"\u003e\n    \u003cb class=\"fa fa-solid fa-info-circle\"\u003e\u003c/b\u003e\n    \u003cdiv\u003e\n        \u003cp\u003e\u003cb\u003eNote\u003c/b\u003e\u003c/p\u003e\n        \u003cp\u003eThis tutorial is meant for Standard \u0026 Premium Workspaces. You can't run this with a Free Starter Workspace due to restrictions on Storage. Create a Workspace using +group in the left nav \u0026 select Standard for this notebook. Gallery notebooks tagged with \"Starter\" are suitable to run on a Free Starter Workspace \u003c/p\u003e\n    \u003c/div\u003e\n\u003c/div\u003e",
      "attachments": {}
    },
    {
      "id": "ddbcac99",
      "cell_type": "markdown",
      "metadata": {
        "execution": {}
      },
      "source": "This notebook helps you navigate through different scenarios data ingestion of JSON files from an AWS S3 location:\n* Ingest JSON files in AWS S3 using wildcards with pre-defined schema\n* Ingest JSON files in AWS S3 using wildcards into a JSON column",
      "attachments": {}
    },
    {
      "id": "3592227a",
      "cell_type": "markdown",
      "metadata": {
        "execution": {}
      },
      "source": "## Create a Pipeline from JSON files in AWS S3 using wildcards",
      "attachments": {}
    },
    {
      "id": "23ad18c2",
      "cell_type": "markdown",
      "metadata": {
        "execution": {}
      },
      "source": "In this example, we want to create a pipeline from two JSON files called **actors1.json** and **actors2.json** stored in an AWS S3 bucket called singlestoredb and a folder called **actors**. This bucket is located in **us-east-1**.",
      "attachments": {}
    },
    {
      "id": "551b8612",
      "cell_type": "markdown",
      "metadata": {
        "execution": {}
      },
      "source": "Each file has the following shape with nested objects and arrays:\n```json\n{\n  \"Actors\": [\n    {\n      \"name\": \"Tom Cruise\",\n      \"age\": 56,\n      \"Born At\": \"Syracuse, NY\",\n      \"Birthdate\": \"July 3, 1962\",\n      \"photo\": \"https://jsonformatter.org/img/tom-cruise.jpg\",\n      \"wife\": null,\n      \"weight\": 67.5,\n      \"hasChildren\": true,\n      \"hasGreyHair\": false,\n      \"children\": [\n        \"Suri\",\n        \"Isabella Jane\",\n        \"Connor\"\n      ]\n    },\n    {\n      \"name\": \"Robert Downey Jr.\",\n      \"age\": 53,\n      \"Born At\": \"New York City, NY\",\n      \"Birthdate\": \"April 4, 1965\",\n      \"photo\": \"https://jsonformatter.org/img/Robert-Downey-Jr.jpg\",\n      \"wife\": \"Susan Downey\",\n      \"weight\": 77.1,\n      \"hasChildren\": true,\n      \"hasGreyHair\": false,\n      \"children\": [\n        \"Indio Falconer\",\n        \"Avri Roel\",\n        \"Exton Elias\"\n      ]\n    }\n  ]\n}\n```",
      "attachments": {}
    },
    {
      "id": "ac9ed17a",
      "cell_type": "markdown",
      "metadata": {
        "execution": {}
      },
      "source": "### Create a Table",
      "attachments": {}
    },
    {
      "id": "5f0e4e06",
      "cell_type": "markdown",
      "metadata": {
        "execution": {}
      },
      "source": "We first create a table called **actors** in the database **demo_database**",
      "attachments": {}
    },
    {
      "id": "2857e33b",
      "cell_type": "code",
      "metadata": {
        "execution": {},
        "language": "python"
      },
      "source": "%%sql\nCREATE DATABASE IF NOT EXISTS demo_database;",
      "outputs": [],
      "execution_count": 1
    },
    {
      "id": "5a236dfe",
      "cell_type": "markdown",
      "metadata": {
        "execution": {}
      },
      "source": "\u003cdiv class=\"alert alert-block alert-warning\"\u003e\n    \u003cb class=\"fa fa-solid fa-exclamation-circle\"\u003e\u003c/b\u003e\n    \u003cdiv\u003e\n        \u003cp\u003e\u003cb\u003eAction Required\u003c/b\u003e\u003c/p\u003e\n        \u003cp\u003eMake sure to select the \u003ctt\u003edemo_database\u003c/tt\u003e database from the drop-down menu at the top of this notebook. It updates the \u003ctt\u003econnection_url\u003c/tt\u003e to connect to that database.\u003c/p\u003e\n    \u003c/div\u003e\n\u003c/div\u003e",
      "attachments": {}
    },
    {
      "id": "4a17a738",
      "cell_type": "code",
      "metadata": {
        "execution": {},
        "language": "python"
      },
      "source": "%%sql\nCREATE TABLE IF NOT EXISTS demo_database.actors (\n    name text CHARACTER SET utf8 COLLATE utf8_general_ci NOT NULL,\n    age int NOT NULL,\n    born_at text CHARACTER SET utf8 COLLATE utf8_general_ci NOT NULL,\n    Birthdate text CHARACTER SET utf8 COLLATE utf8_general_ci NOT NULL,\n    photo text CHARACTER SET utf8 COLLATE utf8_general_ci NOT NULL,\n    wife text CHARACTER SET utf8 COLLATE utf8_general_ci,\n    weight float NOT NULL,\n    haschildren boolean,\n    hasGreyHair boolean,\n    children  JSON COLLATE utf8_bin NOT NULL,\n    SHARD KEY ()\n);",
      "outputs": [],
      "execution_count": 2
    },
    {
      "id": "8c07ad3e",
      "cell_type": "markdown",
      "metadata": {
        "execution": {}
      },
      "source": "### Create a pipeline",
      "attachments": {}
    },
    {
      "id": "f6d82cb6",
      "cell_type": "markdown",
      "metadata": {
        "execution": {}
      },
      "source": "We then create a pipeline called **actors** in the database **demo_database**. Since those files are small, batch_interval is not as important and the maximum partitions per batch is only 1. For faster performance, we recommend increasing the maximum partitions per batch.\nNote, that since the bucket is publcly accessible, you do not need to provide access key and secret.",
      "attachments": {}
    },
    {
      "id": "d49f0edb",
      "cell_type": "code",
      "metadata": {
        "execution": {},
        "language": "python"
      },
      "source": "%%sql\nCREATE PIPELINE if not exists demo_database.actors\n    AS LOAD DATA S3 'studiotutorials/sample_dataset/json_files/wildcard_demo/*.json'\n    CONFIG '{ \\\"region\\\": \\\"us-east-1\\\" }'\n    /*\n    CREDENTIALS '{\"aws_access_key_id\": \"\u003cKey to Enter\u003e\",\n                  \"aws_secret_access_key\": \"\u003cKey to Enter\u003e\"}'\n    */\n    BATCH_INTERVAL 2500\n    MAX_PARTITIONS_PER_BATCH 1\n    DISABLE OUT_OF_ORDER OPTIMIZATION\n    DISABLE OFFSETS METADATA GC\n    SKIP DUPLICATE KEY ERRORS\n    INTO TABLE `actors`\n    FORMAT JSON\n    (\n        actors.name \u003c- name,\n        actors.age \u003c- age,\n        actors.born_at \u003c- `Born At`,\n        actors.Birthdate \u003c- Birthdate,\n        actors.photo \u003c- photo,\n        actors.wife \u003c- wife,\n        actors.weight \u003c- weight,\n        actors.haschildren \u003c- hasChildren,\n        actors.hasGreyHair \u003c- hasGreyHair,\n        actors.children \u003c- children\n    );",
      "outputs": [],
      "execution_count": 3
    },
    {
      "id": "1fbca46b",
      "cell_type": "markdown",
      "metadata": {
        "execution": {}
      },
      "source": "### Start and monitor the pipeline",
      "attachments": {}
    },
    {
      "id": "cbd877bb",
      "cell_type": "code",
      "metadata": {
        "execution": {},
        "language": "python"
      },
      "source": "%%sql\nSTART PIPELINE demo_database.actors;",
      "outputs": [],
      "execution_count": 4
    },
    {
      "id": "908565d2",
      "cell_type": "markdown",
      "metadata": {
        "execution": {}
      },
      "source": "If there is no error or warning, you should see no error message.",
      "attachments": {}
    },
    {
      "id": "a747d67c",
      "cell_type": "code",
      "metadata": {
        "execution": {},
        "language": "python"
      },
      "source": "%%sql\nSELECT * FROM information_schema.pipelines_errors\n    WHERE pipeline_name = 'actors' ;",
      "outputs": [],
      "execution_count": 5
    },
    {
      "id": "3f92a9a1",
      "cell_type": "markdown",
      "metadata": {
        "execution": {}
      },
      "source": "### Query the table",
      "attachments": {}
    },
    {
      "id": "7147748d",
      "cell_type": "code",
      "metadata": {
        "execution": {},
        "language": "python"
      },
      "source": "%%sql\nSELECT * FROM demo_database.actors;",
      "outputs": [],
      "execution_count": 6
    },
    {
      "id": "9aafc5e0",
      "cell_type": "markdown",
      "metadata": {
        "execution": {}
      },
      "source": "### Cleanup ressources",
      "attachments": {}
    },
    {
      "id": "a0ebee1a",
      "cell_type": "code",
      "metadata": {
        "execution": {},
        "language": "python"
      },
      "source": "%%sql\nDROP PIPELINE IF EXISTS demo_database.actors;\nDROP TABLE IF EXISTS demo_database.actors;",
      "outputs": [],
      "execution_count": 7
    },
    {
      "id": "328b6f8e",
      "cell_type": "markdown",
      "metadata": {
        "execution": {}
      },
      "source": "## Ingest JSON files in AWS S3 using wildcards into a JSON column",
      "attachments": {}
    },
    {
      "id": "ff1def80",
      "cell_type": "markdown",
      "metadata": {
        "execution": {}
      },
      "source": "As the schema of your files might change, you might want to keep flexibility in ingesting the data into one JSON column that we name **json_data**. the table we create is named **actors_json**.",
      "attachments": {}
    },
    {
      "id": "11b48867",
      "cell_type": "markdown",
      "metadata": {
        "execution": {}
      },
      "source": "### Create Table",
      "attachments": {}
    },
    {
      "id": "e8d86472",
      "cell_type": "code",
      "metadata": {
        "execution": {},
        "language": "python"
      },
      "source": "%%sql\nCREATE TABLE IF NOT EXISTS demo_database.actors_json (\n    json_data JSON NOT NULL,\n    SHARD KEY ()\n);",
      "outputs": [],
      "execution_count": 8
    },
    {
      "id": "7bcf7671",
      "cell_type": "markdown",
      "metadata": {
        "execution": {}
      },
      "source": "### Create a pipeline",
      "attachments": {}
    },
    {
      "id": "d359933e",
      "cell_type": "code",
      "metadata": {
        "execution": {},
        "language": "python"
      },
      "source": "%%sql\nCREATE PIPELINE IF NOT EXISTS demo_database.actors_json\n    AS LOAD DATA S3 'studiotutorials/sample_dataset/json_files/wildcard_demo/*.json'\n    CONFIG '{ \\\"region\\\": \\\"us-east-1\\\" }'\n    /*\n    CREDENTIALS '{\"aws_access_key_id\": \"\u003cKey to Enter\u003e\",\n                  \"aws_secret_access_key\": \"\u003cKey to Enter\u003e\"}'\n    */\n    BATCH_INTERVAL 2500\n    MAX_PARTITIONS_PER_BATCH 1\n    DISABLE OUT_OF_ORDER OPTIMIZATION\n    DISABLE OFFSETS METADATA GC\n    SKIP DUPLICATE KEY ERRORS\n    INTO TABLE `actors_json`\n    FORMAT JSON\n    (json_data \u003c- %);",
      "outputs": [],
      "execution_count": 9
    },
    {
      "id": "04353f3a",
      "cell_type": "markdown",
      "metadata": {
        "execution": {}
      },
      "source": "### Start and monitor pipeline",
      "attachments": {}
    },
    {
      "id": "37b78fc2",
      "cell_type": "code",
      "metadata": {
        "execution": {},
        "language": "python"
      },
      "source": "%%sql\nSTART PIPELINE demo_database.actors_json;",
      "outputs": [],
      "execution_count": 10
    },
    {
      "id": "8ac661c1",
      "cell_type": "code",
      "metadata": {
        "execution": {},
        "language": "python"
      },
      "source": "%%sql\n# Monitor and see if there is any error or warning\nSELECT * FROM information_schema.pipelines_errors\n    WHERE pipeline_name = 'actors_json' ;",
      "outputs": [],
      "execution_count": 11
    },
    {
      "id": "080d9cb6",
      "cell_type": "markdown",
      "metadata": {
        "execution": {}
      },
      "source": "### Query the table",
      "attachments": {}
    },
    {
      "id": "390b84af",
      "cell_type": "code",
      "metadata": {
        "execution": {},
        "language": "python"
      },
      "source": "%%sql\nSELECT * FROM demo_database.actors_json",
      "outputs": [],
      "execution_count": 12
    },
    {
      "id": "ed556ee9",
      "cell_type": "markdown",
      "metadata": {
        "execution": {}
      },
      "source": "### Cleanup ressources",
      "attachments": {}
    },
    {
      "id": "c2dd1608",
      "cell_type": "code",
      "metadata": {
        "execution": {},
        "language": "python"
      },
      "source": "%%sql\nDROP DATABASE IF EXISTS demo_database;",
      "outputs": [],
      "execution_count": 13
    },
    {
      "id": "b217d2f0",
      "cell_type": "markdown",
      "metadata": {
        "execution": {}
      },
      "source": "\u003cdiv id=\"singlestore-footer\" style=\"background-color: rgba(194, 193, 199, 0.25); height:2px; margin-bottom:10px\"\u003e\u003c/div\u003e\n\u003cdiv\u003e\u003cimg src=\"https://raw.githubusercontent.com/singlestore-labs/spaces-notebooks/master/common/images/singlestore-logo-grey.png\" style=\"padding: 0px; margin: 0px; height: 24px\"/\u003e\u003c/div\u003e",
      "attachments": {}
    }
  ],
  "metadata": {
    "kernelspec": {
      "display_name": "Python 3 (ipykernel)",
      "language": "python",
      "name": "python3"
    },
    "language_info": {
      "codemirror_mode": {
        "name": "ipython",
        "version": 3
      },
      "file_extension": ".py",
      "mimeType": "text/x-python",
      "name": "python",
      "nbconvert_exporter": "python",
      "pygments_lexer": "ipython3",
      "version": "3.11.9"
    },
    "jupyterlab": {
      "notebooks": {
        "version_major": 6,
        "version_minor": 4
      }
    },
    "singlestore_connection": {
      "connectionID": "",
      "defaultDatabase": ""
    },
    "singlestore_cell_default_language": "python",
    "singlestore_row_limit": 300
  },
  "nbformat": 4,
  "nbformat_minor": 5
}