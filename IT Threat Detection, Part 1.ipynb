{
  "cells": [
    {
      "id": "16f985a0",
      "cell_type": "markdown",
      "metadata": {
        "execution": {}
      },
      "source": "\u003cdiv id=\"singlestore-header\" style=\"display: flex; background-color: rgba(235, 249, 245, 0.25); padding: 5px;\"\u003e\n    \u003cdiv id=\"icon-image\" style=\"width: 90px; height: 90px;\"\u003e\n        \u003cimg width=\"100%\" height=\"100%\" src=\"https://raw.githubusercontent.com/singlestore-labs/spaces-notebooks/master/common/images/header-icons/browser.png\" /\u003e\n    \u003c/div\u003e\n    \u003cdiv id=\"text\" style=\"padding: 5px; margin-left: 10px;\"\u003e\n        \u003cdiv id=\"badge\" style=\"display: inline-block; background-color: rgba(0, 0, 0, 0.15); border-radius: 4px; padding: 4px 8px; align-items: center; margin-top: 6px; margin-bottom: -2px; font-size: 80%\"\u003eSingleStore Notebooks\u003c/div\u003e\n        \u003ch1 style=\"font-weight: 500; margin: 8px 0 0 4px;\"\u003eIT Threat Detection, Part 1\u003c/h1\u003e\n    \u003c/div\u003e\n\u003c/div\u003e",
      "attachments": {}
    },
    {
      "id": "612751b7",
      "cell_type": "markdown",
      "metadata": {
        "execution": {}
      },
      "source": "\u003cdiv class=\"alert alert-block alert-info\"\u003e\n    \u003cb class=\"fa fa-solid fa-info-circle\"\u003e\u003c/b\u003e\n    \u003cdiv\u003e\n        \u003cp\u003e\u003cb\u003eNote\u003c/b\u003e\u003c/p\u003e\n        \u003cp\u003eThis tutorial is meant for Standard \u0026 Premium Workspaces. You can't run this with a Free Starter Workspace due to restrictions on Storage. Create a Workspace using +group in the left nav \u0026 select Standard for this notebook. Gallery notebooks tagged with \"Starter\" are suitable to run on a Free Starter Workspace \u003c/p\u003e\n    \u003c/div\u003e\n\u003c/div\u003e",
      "attachments": {}
    },
    {
      "id": "6914882f",
      "cell_type": "markdown",
      "metadata": {
        "execution": {}
      },
      "source": "This notebook demonstrates the application of SingleStoreDB's similarity search to create a system for identifying infrequent occurrences, a common requirement in fields such as cybersecurity and fraud detection where only a small percentage of events are potentially malicious.\n\nIn this instance, we aim to construct a network intrusion detection system. These systems continuously monitor incoming and outgoing network traffic, generating alerts when potential threats are detected. We'll utilize a combination of a deep learning model and similarity search to identify and classify network intrusion traffic.\n\nOur initial step involves a dataset of labeled traffic events, distinguishing between benign and malicious events, by transforming them into vector embeddings. These vector embeddings serve as comprehensive mathematical representations of network traffic events. SingleStoreDB's built-in similarity-search algorithms allow us to measure the similarity between different network events. To generate these embeddings, we'll leverage a deep learning model based on recent academic research.\n\nSubsequently, we'll apply this dataset to search for the most similar matches when presented with new, unseen network events. We'll retrieve these matches along with their corresponding labels. This process enables us to classify the unseen events as either **benign** or **malicious** by propagating the labels of the matched events. It's essential to note that intrusion detection is a complex classification task, primarily because malicious events occur infrequently. The similarity search service plays a crucial role in identifying relevant historical labeled events, thus enabling the identification of these rare events while maintaining a low rate of false alarms.\n\n## Install Dependencies",
      "attachments": {}
    },
    {
      "id": "452a7616",
      "cell_type": "code",
      "metadata": {
        "execution": {},
        "language": "python"
      },
      "source": "!pip install tensorflow keras==2.15.0 --quiet",
      "outputs": [],
      "execution_count": 1
    },
    {
      "id": "eba059ba",
      "cell_type": "code",
      "metadata": {
        "execution": {},
        "language": "python"
      },
      "source": "import os\nos.environ['TF_CPP_MIN_LOG_LEVEL'] = '3'\n\nimport pandas as pd\nimport tensorflow.keras.backend as K\nfrom tensorflow import keras\nfrom tensorflow.keras.models import Model",
      "outputs": [],
      "execution_count": 2
    },
    {
      "id": "82d925f1",
      "cell_type": "markdown",
      "metadata": {
        "execution": {}
      },
      "source": "We'll define a Python context manager called `clear_memory()` using the **contextlib** module. This context manager will be used to clear memory by running Python's garbage collector (`gc.collect()`) after a block of code is executed.",
      "attachments": {}
    },
    {
      "id": "e6104311",
      "cell_type": "code",
      "metadata": {
        "execution": {},
        "language": "python"
      },
      "source": "import contextlib\nimport gc\n\n@contextlib.contextmanager\ndef clear_memory():\n    try:\n        yield\n    finally:\n        gc.collect()",
      "outputs": [],
      "execution_count": 3
    },
    {
      "id": "ab2099e8",
      "cell_type": "markdown",
      "metadata": {
        "execution": {}
      },
      "source": "We'll will incorporate portions of code from [research work](https://github.com/Colorado-Mesa-University-Cybersecurity/DeepLearning-IDS). To begin, we'll clone the repository required for data preparation.",
      "attachments": {}
    },
    {
      "id": "87b0d80a",
      "cell_type": "code",
      "metadata": {
        "execution": {},
        "language": "python"
      },
      "source": "!git clone -q https://github.com/Colorado-Mesa-University-Cybersecurity/DeepLearning-IDS.git",
      "outputs": [],
      "execution_count": 4
    },
    {
      "id": "9fa8527f",
      "cell_type": "markdown",
      "metadata": {
        "execution": {}
      },
      "source": "## Data Preparation\n\nThe datasets we'll utilize comprise two types of network traffic:\n\n1. Benign (normal)\n2. Malicious (attack)\n\nstemming from various network attacks. Our focus will be solely on web-based attacks. These web attacks fall into three common categories:\n\n1. Cross-site scripting (BruteForce-XSS)\n2. SQL-Injection (SQL-Injection)\n3. Brute force attempts on administrative and user passwords (BruteForce-Web)\n\nThe original data was collected over a span of two days.\n\n### Download Data\n\nWe'll proceed by downloading data for two specific dates:\n\n1. February 22, 2018\n2. February 23, 2018\n\nThese files will be retrieved and saved to the current directory. Our intention is to use one of these dates for training and generating vectors, while the other will be reserved for testing purposes.",
      "attachments": {}
    },
    {
      "id": "74172c31",
      "cell_type": "code",
      "metadata": {
        "execution": {},
        "language": "python"
      },
      "source": "!wget \"https://cse-cic-ids2018.s3.ca-central-1.amazonaws.com/Processed%20Traffic%20Data%20for%20ML%20Algorithms/Thursday-22-02-2018_TrafficForML_CICFlowMeter.csv\" -q --show-progress\n!wget \"https://cse-cic-ids2018.s3.ca-central-1.amazonaws.com/Processed%20Traffic%20Data%20for%20ML%20Algorithms/Friday-23-02-2018_TrafficForML_CICFlowMeter.csv\" -q --show-progress",
      "outputs": [],
      "execution_count": 5
    },
    {
      "id": "3fd974ac",
      "cell_type": "markdown",
      "metadata": {
        "execution": {}
      },
      "source": "### Review Data",
      "attachments": {}
    },
    {
      "id": "af906dd8",
      "cell_type": "code",
      "metadata": {
        "execution": {},
        "language": "python"
      },
      "source": "with clear_memory():\n    data = pd.read_csv('Friday-23-02-2018_TrafficForML_CICFlowMeter.csv')\n\ndata.Label.value_counts()",
      "outputs": [],
      "execution_count": 6
    },
    {
      "id": "d7bdde5b",
      "cell_type": "markdown",
      "metadata": {
        "execution": {}
      },
      "source": "### Clean Data\n\nWe'll run a cleanup script from the previously downloaded GitHub repo.",
      "attachments": {}
    },
    {
      "id": "4a202100",
      "cell_type": "code",
      "metadata": {
        "execution": {},
        "language": "python"
      },
      "source": "!python DeepLearning-IDS/data_cleanup.py \"Friday-23-02-2018_TrafficForML_CICFlowMeter.csv\" \"result23022018\"",
      "outputs": [],
      "execution_count": 7
    },
    {
      "id": "26dfb70a",
      "cell_type": "markdown",
      "metadata": {
        "execution": {}
      },
      "source": "We'll now review the cleaned data from the previous step.",
      "attachments": {}
    },
    {
      "id": "8022583d",
      "cell_type": "code",
      "metadata": {
        "execution": {},
        "language": "python"
      },
      "source": "with clear_memory():\n    data_23_cleaned = pd.read_csv('result23022018.csv')\n\ndata_23_cleaned.head()",
      "outputs": [],
      "execution_count": 8
    },
    {
      "id": "3318ae80",
      "cell_type": "code",
      "metadata": {
        "execution": {},
        "language": "python"
      },
      "source": "data_23_cleaned.Label.value_counts()",
      "outputs": [],
      "execution_count": 9
    },
    {
      "id": "28259b48",
      "cell_type": "markdown",
      "metadata": {
        "execution": {}
      },
      "source": "## Load Model\n\nIn this section, we'll load a pre-trained model that has been trained on data collected from the same date.\n\nThere are slight modifications to the original model, specifically, altering the number of classes. Initially, the model was designed to classify into four categories:\n\n1. Benign\n2. BruteForce-Web\n3. BruteForce-XSS\n4. SQL-Injection\n\nOur modified model has been adjusted to classify into just two categories:\n\n1. Benign\n2. Attack\n\n\u003cdiv class=\"alert alert-block alert-warning\"\u003e\n    \u003cb class=\"fa fa-solid fa-exclamation-circle\"\u003e\u003c/b\u003e\n    \u003cdiv\u003e\n        \u003cp\u003e\u003cb\u003eAction Required\u003c/b\u003e\u003c/p\u003e\n        \u003cp\u003eThe ZIP file is hosted on a Google Drive.\u003c/p\u003e\n        \u003cp\u003eUsing the \u003cb\u003eEdit Firewall\u003c/b\u003e button in the top right, add the following to the SingleStoreDB Cloud notebook firewall, one-by-one:\n            \u003cul style=\"list-style: none;\"\u003e\n                \u003cli\u003e\u003cb\u003edrive.google.com\u003c/b\u003e\u003c/li\u003e\n                \u003cli\u003e\u003cb\u003e*.googleapis.com\u003c/b\u003e\u003c/li\u003e\n                \u003cli\u003e\u003cb\u003e*.googleusercontent.com\u003c/b\u003e\u003c/li\u003e\n            \u003c/ul\u003e\n        \u003c/p\u003e\n    \u003c/div\u003e\n\u003c/div\u003e",
      "attachments": {}
    },
    {
      "id": "9b4a2044",
      "cell_type": "code",
      "metadata": {
        "execution": {},
        "language": "python"
      },
      "source": "!wget -q -O it_threat_model.zip \"https://drive.google.com/uc?export=download\u0026id=1ahr5dYlhuxS56M6helUFI0yIxxIoFk9o\"\n!unzip -q it_threat_model.zip",
      "outputs": [],
      "execution_count": 10
    },
    {
      "id": "c835db10",
      "cell_type": "code",
      "metadata": {
        "execution": {},
        "language": "python"
      },
      "source": "with clear_memory():\n    model = keras.models.load_model('it_threat_model')\n\nmodel.summary()",
      "outputs": [],
      "execution_count": 11
    },
    {
      "id": "bcf6f626",
      "cell_type": "code",
      "metadata": {
        "execution": {},
        "language": "python"
      },
      "source": "with clear_memory():\n    # Use the first layer\n    layer_name = 'dense'\n    intermediate_layer_model = Model(\n        inputs = model.input,\n        outputs = model.get_layer(layer_name).output\n    )",
      "outputs": [],
      "execution_count": 12
    },
    {
      "id": "38c9b80e",
      "cell_type": "markdown",
      "metadata": {
        "execution": {}
      },
      "source": "## Upload Data to SingleStoreDB\n\n### Prepare Data\nWe'll use a method for defining item IDs that aligns with the event's label.",
      "attachments": {}
    },
    {
      "id": "061b15ef",
      "cell_type": "code",
      "metadata": {
        "execution": {},
        "language": "python"
      },
      "source": "from tqdm import tqdm\nitems_to_upload = []\n\nwith clear_memory():\n    model_res = intermediate_layer_model.predict(K.constant(data_23_cleaned.iloc[:,:-1]))\n\n    for i, res in tqdm(zip(data_23_cleaned.iterrows(), model_res), total = len(model_res)):\n        benign_or_attack = i[1]['Label'][:3]\n        items_to_upload.append((benign_or_attack + '_' + str(i[0]), res.tolist()))",
      "outputs": [],
      "execution_count": 13
    },
    {
      "id": "f739e1d9",
      "cell_type": "markdown",
      "metadata": {
        "execution": {}
      },
      "source": "We'll store the data in a Pandas DataFrame.",
      "attachments": {}
    },
    {
      "id": "79591196",
      "cell_type": "code",
      "metadata": {
        "execution": {},
        "language": "python"
      },
      "source": "with clear_memory():\n    df = pd.DataFrame(items_to_upload, columns=['ID', 'Model_Results'])\n\ndf.head()",
      "outputs": [],
      "execution_count": 14
    },
    {
      "id": "1de5e52c",
      "cell_type": "markdown",
      "metadata": {
        "execution": {}
      },
      "source": "Now we'll convert the vectors to a binary format, ready to store in SingleStoreDB.",
      "attachments": {}
    },
    {
      "id": "bc09c903",
      "cell_type": "code",
      "metadata": {
        "execution": {},
        "language": "python"
      },
      "source": "import struct\n\ndef data_to_binary(data: list[float]):\n    format_string = 'f' * len(data)\n    return struct.pack(format_string, *data)\n\nwith clear_memory():\n    df['Model_Results'] = df['Model_Results'].apply(data_to_binary)",
      "outputs": [],
      "execution_count": 15
    },
    {
      "id": "18e498c2",
      "cell_type": "markdown",
      "metadata": {
        "execution": {}
      },
      "source": "We'll check the DataFrame.",
      "attachments": {}
    },
    {
      "id": "33ffbd2c",
      "cell_type": "code",
      "metadata": {
        "execution": {},
        "language": "python"
      },
      "source": "df.head()",
      "outputs": [],
      "execution_count": 16
    },
    {
      "id": "b0d4da4a",
      "cell_type": "markdown",
      "metadata": {
        "execution": {}
      },
      "source": "### Create Database and Table",
      "attachments": {}
    },
    {
      "id": "9446c98b",
      "cell_type": "code",
      "metadata": {
        "execution": {},
        "language": "python"
      },
      "source": "%%sql\nDROP DATABASE IF EXISTS siem_log_kafka_demo;\n\nCREATE DATABASE IF NOT EXISTS siem_log_kafka_demo;\n\nUSE siem_log_kafka_demo;\n\nDROP TABLE IF EXISTS model_results_demo;\n\nCREATE TABLE IF NOT EXISTS model_results (\n    id TEXT,\n    Model_Results BLOB\n);",
      "outputs": [],
      "execution_count": 17
    },
    {
      "id": "60cd440c",
      "cell_type": "markdown",
      "metadata": {
        "execution": {}
      },
      "source": "### Get Connection Details\n\n\u003cdiv class=\"alert alert-block alert-warning\"\u003e\n    \u003cb class=\"fa fa-solid fa-exclamation-circle\"\u003e\u003c/b\u003e\n    \u003cdiv\u003e\n        \u003cp\u003e\u003cb\u003eAction Required\u003c/b\u003e\u003c/p\u003e\n        \u003cp\u003eSelect the database from the drop-down menu at the top of this notebook. It updates the \u003cb\u003econnection_url\u003c/b\u003e which is used by SQLAlchemy to make connections to the selected database.\u003c/p\u003e\n    \u003c/div\u003e\n\u003c/div\u003e",
      "attachments": {}
    },
    {
      "id": "e505621d",
      "cell_type": "code",
      "metadata": {
        "execution": {},
        "language": "python"
      },
      "source": "from sqlalchemy import *\n\ndb_connection = create_engine(connection_url)",
      "outputs": [],
      "execution_count": 18
    },
    {
      "id": "8c15b5f7",
      "cell_type": "markdown",
      "metadata": {
        "execution": {}
      },
      "source": "### Store DataFrame",
      "attachments": {}
    },
    {
      "id": "ffda3c99",
      "cell_type": "code",
      "metadata": {
        "execution": {},
        "language": "python"
      },
      "source": "with clear_memory():\n    df.to_sql(\n        'model_results',\n        con = db_connection,\n        if_exists = 'append',\n        index = False,\n        chunksize = 1000\n    )",
      "outputs": [],
      "execution_count": 19
    },
    {
      "id": "78c6998c",
      "cell_type": "markdown",
      "metadata": {
        "execution": {}
      },
      "source": "### Check Stored Data",
      "attachments": {}
    },
    {
      "id": "ae793e88",
      "cell_type": "code",
      "metadata": {
        "execution": {},
        "language": "python"
      },
      "source": "%%sql\nUSE siem_log_kafka_demo;\n\nSELECT ID, JSON_ARRAY_UNPACK(Model_Results) AS Model_Results\nFROM model_results\nLIMIT 1;",
      "outputs": [],
      "execution_count": 20
    },
    {
      "id": "739a625c",
      "cell_type": "markdown",
      "metadata": {
        "execution": {}
      },
      "source": "\u003cdiv id=\"singlestore-footer\" style=\"background-color: rgba(194, 193, 199, 0.25); height:2px; margin-bottom:10px\"\u003e\u003c/div\u003e\n\u003cdiv\u003e\u003cimg src=\"https://raw.githubusercontent.com/singlestore-labs/spaces-notebooks/master/common/images/singlestore-logo-grey.png\" style=\"padding: 0px; margin: 0px; height: 24px\"/\u003e\u003c/div\u003e",
      "attachments": {}
    }
  ],
  "metadata": {
    "kernelspec": {
      "display_name": "Python 3 (ipykernel)",
      "language": "python",
      "name": "python3"
    },
    "language_info": {
      "codemirror_mode": {
        "name": "ipython",
        "version": 3
      },
      "file_extension": ".py",
      "mimeType": "text/x-python",
      "name": "python",
      "nbconvert_exporter": "python",
      "pygments_lexer": "ipython3",
      "version": "3.11.9"
    },
    "singlestore_connection": {
      "connectionID": "",
      "defaultDatabase": ""
    },
    "singlestore_cell_default_language": "python",
    "singlestore_row_limit": 300
  },
  "nbformat": 4,
  "nbformat_minor": 5
}