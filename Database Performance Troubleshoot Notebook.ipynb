{
  "cells": [
    {
      "id": "cefe3aab",
      "cell_type": "markdown",
      "metadata": {
        "execution": {}
      },
      "source": "\u003cdiv id=\"singlestore-header\" style=\"display: flex; background-color: rgba(235, 249, 245, 0.25); padding: 5px;\"\u003e\n    \u003cdiv id=\"icon-image\" style=\"width: 90px; height: 90px;\"\u003e\n        \u003cimg width=\"100%\" height=\"100%\" src=\"https://raw.githubusercontent.com/singlestore-labs/spaces-notebooks/master/common/images/header-icons/database.png\" /\u003e\n    \u003c/div\u003e\n    \u003cdiv id=\"text\" style=\"padding: 5px; margin-left: 10px;\"\u003e\n        \u003cdiv id=\"badge\" style=\"display: inline-block; background-color: rgba(0, 0, 0, 0.15); border-radius: 4px; padding: 4px 8px; align-items: center; margin-top: 6px; margin-bottom: -2px; font-size: 80%\"\u003eSingleStore Notebooks\u003c/div\u003e\n        \u003ch1 style=\"font-weight: 500; margin: 8px 0 0 4px;\"\u003eDatabase Performance Troubleshoot Notebook\u003c/h1\u003e\n    \u003c/div\u003e\n\u003c/div\u003e",
      "attachments": {}
    },
    {
      "id": "db5556b1",
      "cell_type": "markdown",
      "metadata": {
        "execution": {}
      },
      "source": "\u003ctable style=\"border: 0; border-spacing: 0; width: 100%; background-color: #03010D\"\u003e\u003ctr\u003e\n    \u003ctd style=\"padding: 0; margin: 0; background-color: #03010D; width: 33%; text-align: center\"\u003e\u003cimg src=\"https://raw.githubusercontent.com/singlestore-labs/spaces-notebooks/master/common/images/singlestore-logo-vertical.png\" style=\"height: 200px;\"/\u003e\u003c/td\u003e\n    \u003ctd style=\"padding: 0; margin: 0; width: 66%; background-color: #03010D; text-align: right\"\u003e\u003cimg src=\"https://raw.githubusercontent.com/singlestore-labs/spaces-notebooks/master/common/images/singlestore-jupyter.png\" style=\"height: 250px\"/\u003e\u003c/td\u003e\n\u003c/tr\u003e\u003c/table\u003e",
      "attachments": {}
    },
    {
      "id": "91bea727",
      "cell_type": "markdown",
      "metadata": {
        "execution": {}
      },
      "source": "### Pre-requisites\n\nWe will need below parameters to proceed.\n\n\n\n\u003col type=\"A\"\u003e\n    \u003cli\u003eSingleStore Management API KEY. Follow this \u003ca href=\"https://docs.singlestore.com/cloud/reference/management-api/\"\u003elink\u003c/a\u003e for API Key \u003c/li\u003e\n    \u003cli\u003eDirectory Path of Stage Area ( Target location to upload archive )\u003c/li\u003e\n    \u003cli\u003eURL to download csv file\u003c/li\u003e\n    \u003cli\u003eURL of result template directory\u003c/li\u003e\n\u003c/ol\u003e\n\n\u003cp\u003e\n    Note: You may use the\n    \u003cul\u003e\n        \u003cli\u003e\u003ca href=\"https://github.com/singlestore-labs/spaces-notebooks/tree/master/notebooks/performance-troubleshooting/assets/DB_PERFORMANCE_TROUBLESHOOT_QUERIES.csv\"\u003eDB_PERFORMANCE_TROUBLESHOOT_QUERIES.csv\u003c/a\u003e as template to add up your queries.\u003c/li\u003e\n    \u003cli\u003e\u003ca href=\"https://github.com/singlestore-labs/spaces-notebooks/tree/master/notebooks/performance-troubleshooting/assets/templates\"\u003etemplates\u003c/a\u003e as templates  for results\u003c/li\u003e\n    \u003c/ul\u003e\n\u003c/p\u003e\n\u003cp\u003e\n    For simplicity of demo, here we are using a public accessible URL, you have to adapt access pattern to suit your needs.\n\u003c/p\u003e\n\nCSV File structure\n\n\u003ctable class=\"table is-bordered is-narrow\"\u003e\n\u003cth\u003e\n     \u003ctd\u003eQueryID\u003c/td\u003e\n     \u003ctd\u003eQueryName\u003c/td\u003e\n     \u003ctd\u003eQueryTxt\u003c/td\u003e\n\u003c/th\u003e\n\u003c/table\u003e",
      "attachments": {}
    },
    {
      "id": "82a212c2",
      "cell_type": "markdown",
      "metadata": {
        "execution": {}
      },
      "source": "\n## Intro\n\n\u003cp class=\"has-text-justified\"\u003e\n    Introducing a powerful Python script designed to ease performance analysis tasks for database management.\n\u003c/p\u003e\n\n\u003col\u003e\n    \u003cli\u003eThis script loads query information from csv file exposed on public URL\u003c/li\u003e\n    \u003cli\u003eExecutes SQL queries against selected database\u003c/li\u003e\n    \u003cli\u003eExports results to searchable html tables and uploads archive of generated html files with index into stage area\u003c/li\u003e\n    \u003cli\u003eHandles Stage Area operations using singlestore python client which uses SingleStore Management API\u003c/li\u003e\n    \u003cli\u003eSimplifying complex tasks, this script is essential for streamlining workflows for administrators and developers alike\u003c/li\u003e\n\u003c/ol\u003e\n\n\n## What you will learn in this notebook:\n\n1. How to read a csv and load data into pandas dataframes[Python] Download DB_PERFORMANCE_TROUBLESHOOT_QUERIES.csv file from url\n2. Execute queries and export result into html files [Python]\n4. Use of SingleStore client for db operations and stage area [Python]\n\n\n## What benefits do you get out of using the notebook.\n\n1. User will be able to run most used performance checks\n2. Results are exported into HTML for better view\n3. Along with analysis of known scenarios, script also provides background and possible actions to take\n\n\n\n## Questions?\n\nReach out to us through our [forum](https://www.singlestore.com/forum).",
      "attachments": {}
    },
    {
      "id": "91dd88cd",
      "cell_type": "markdown",
      "metadata": {
        "execution": {}
      },
      "source": "### Install Libraries",
      "attachments": {}
    },
    {
      "id": "4bd011c8",
      "cell_type": "code",
      "metadata": {
        "execution": {},
        "language": "python"
      },
      "source": "pip install openpyxl jsonpath_ng sql_metadata",
      "outputs": [],
      "execution_count": 1
    },
    {
      "id": "1dc32168",
      "cell_type": "markdown",
      "metadata": {
        "execution": {}
      },
      "source": "### Imports",
      "attachments": {}
    },
    {
      "id": "930821f1",
      "cell_type": "code",
      "metadata": {
        "execution": {},
        "language": "python"
      },
      "source": "import io\nimport logging\nimport os\nimport shutil\nimport tarfile\nimport time\nimport json\nimport re\nimport os\nimport csv\n\nimport pandas as pd\nimport singlestoredb as s2\n\nfrom pathlib import Path\nfrom urllib.request import urlopen\nfrom jsonpath_ng import parse\nfrom sql_metadata import Parser\nfrom urllib.error import HTTPError\nfrom datetime import datetime\nfrom openpyxl import Workbook\n\nfrom IPython.display import display, HTML",
      "outputs": [],
      "execution_count": 2
    },
    {
      "id": "95b46f1a",
      "cell_type": "markdown",
      "metadata": {
        "execution": {}
      },
      "source": "### Variables",
      "attachments": {}
    },
    {
      "id": "0d4f5ed2",
      "cell_type": "code",
      "metadata": {
        "execution": {},
        "language": "python"
      },
      "source": "query_data_url = \"https://raw.githubusercontent.com/singlestore-labs/spaces-notebooks/master/notebooks/performance-troubleshooting/assets/DB_PERFORMANCE_TROUBLESHOOT_QUERIES.csv\"\ntemplate_url_base = \"https://raw.githubusercontent.com/singlestore-labs/spaces-notebooks/master/notebooks/performance-troubleshooting/assets/templates/\"\n\nstage_folder_path = 'DBPERF-REPORT'\n\nmy_timestamp = datetime.now().strftime(\"%Y-%m-%d_%H-%M-%S\")\nlocal_output_dir_suffix = '_' + my_timestamp + '_PERF_REPORT'\n\nempty_result_table = '\u003cp class=\"mb-3 mt-3\" style=\"text-align:center;color:blue;\"\u003eNo Matching Records Found\u003c/p\u003e'\nresult_table_html_classes = 'table table-striped table-bordered table-responsive my-2 px-2'\n\nWORKGROUP_ID = os.getenv('SINGLESTOREDB_WORKSPACE_GROUP')\n\nHEADERS = [\"PLAN_ID\", \"DATABASE_NAME\", \"SQL_QUERY\",\"SUGGESTION\",\"CMP_EXP\",\n           \"LEFT_TABLE\", \"LEFT_COLUMN\", \"LEFT_TYPE\", \"LEFT_TABLE_ROW_COUNT\",\n           \"RIGHT_TABLE\", \"RIGHT_COLUMN\", \"RIGHT_TYPE\", \"RIGHT_TABLE_ROW_COUNT\" ]\n\ns2_workgroup_stage = None\ns2_workspace_name = None\n\nrow_count_parser = parse(\"$.*.rowcount\")\ntable_row_count_cache = {}\n\nMISMATCH_DATATYPE_ROWCOUNT_COMP_QUERY = \"\"\"\nWITH mismatched_comp\n     AS (SELECT plan_id,\n                database_name,\n                table_col AS mis_cmp\n         FROM   information_schema.plancache\n                cross join TABLE(JSON_TO_ARRAY(\n                                 plan_info :: type_mismatched_comparisons)\n                           ) HAVING plan_warnings like '%%Comparisons between mismatched datatypes%%' ),\n     mismatche_cmp_2\n     AS (SELECT plan_id,\n                database_name,\n                mis_cmp ::$ comparison_expression AS cmp_exp,\n                mis_cmp ::$ left_type             AS left_type,\n                mis_cmp ::$ right_type            AS right_type\n         FROM   mismatched_comp),\n     plan_tbl_row_counts\n     AS (SELECT plan_id,\n                database_name,\n                optimizer_notes ::$ table_row_counts AS tbl_row_counts,\n                query_text\n         FROM   information_schema.plancache)\nSELECT m2.plan_id as PLAN_ID,\n       m2.database_name as DATABASE_NAME ,\n       m2.cmp_exp as CMP_EXP,\n       m2.left_type as LEFT_TYPE,\n       m2.right_type as RIGHT_TYPE,\n       p2.tbl_row_counts as TBL_ROW_COUNTS,\n       p2.query_text AS SQL_QUERY\nFROM   mismatche_cmp_2 m2,\n       plan_tbl_row_counts p2\nWHERE  m2.plan_id = p2.plan_id\n       AND m2.database_name = p2.database_name ;\n\"\"\"",
      "outputs": [],
      "execution_count": 3
    },
    {
      "id": "ca1df734",
      "cell_type": "markdown",
      "metadata": {
        "execution": {}
      },
      "source": "### Log Control",
      "attachments": {}
    },
    {
      "id": "8d5dab52",
      "cell_type": "code",
      "metadata": {
        "execution": {},
        "language": "python"
      },
      "source": "def set_logging_enabled(enabled):\n    \"\"\"\n    Set the logging level based on the enabled flag.\n\n    Parameters\n    ----------\n    enabled : bool\n        True to enable logging, False to disable it.\n    \"\"\"\n    if enabled:\n        logging.getLogger().setLevel(logging.INFO)\n    else:\n        logging.getLogger().setLevel(logging.CRITICAL)\n\nset_logging_enabled(False)",
      "outputs": [],
      "execution_count": 4
    },
    {
      "id": "ef3f42af",
      "cell_type": "markdown",
      "metadata": {
        "execution": {}
      },
      "source": "**Note** To enable logs\n\n - Modify 'set_logging_enabled(False)' to 'set_logging_enabled(True)' in code below",
      "attachments": {}
    },
    {
      "id": "5cf480ad",
      "cell_type": "markdown",
      "metadata": {
        "execution": {}
      },
      "source": "### Functions to display various alerts",
      "attachments": {}
    },
    {
      "id": "53d4642c",
      "cell_type": "code",
      "metadata": {
        "execution": {},
        "language": "python"
      },
      "source": "def show_warn(warn_msg):\n    \"\"\"\n    Display a warning message in a formatted HTML alert box.\n\n    Parameters\n    ----------\n    warn_msg : str\n        The warning message to display.\n    \"\"\"\n    display(HTML(f'''\u003cdiv class=\"alert alert-block alert-warning\"\u003e\n    \u003cb class=\"fa fa-solid fa-exclamation-circle\"\u003e\u003c/b\u003e\n    \u003cdiv\u003e\n        \u003cp\u003e\u003cb\u003eAction Required\u003c/b\u003e\u003c/p\u003e\n        \u003cp\u003e{warn_msg}\u003c/p\u003e\n    \u003c/div\u003e\n\u003c/div\u003e'''))\n\n\ndef show_error(error_msg):\n    \"\"\"\n    Display an error message in a formatted HTML alert box.\n\n    Parameters\n    ----------\n    error_msg : str\n        The error message to display.\n    \"\"\"\n    display(HTML(f'''\u003cdiv class=\"alert alert-block alert-danger\"\u003e\n    \u003cb class=\"fa fa-solid fa-exclamation-triangle\"\u003e\u003c/b\u003e\n    \u003cdiv\u003e\n        \u003cp\u003e\u003cb\u003eError\u003c/b\u003e\u003c/p\u003e\n        \u003cp\u003e{error_msg}\u003c/p\u003e\n    \u003c/div\u003e\n\u003c/div\u003e'''))\n\n\ndef show_success(success_msg):\n    \"\"\"\n    Display a success message in a formatted HTML alert box.\n\n    Parameters\n    ----------\n    success_msg : str\n        The success message to display.\n    \"\"\"\n    display(HTML(f'''\u003cdiv class=\"alert alert-block alert-success\"\u003e\n    \u003cb class=\"fa fa-solid fa-check-circle\"\u003e\u003c/b\u003e\n    \u003cdiv\u003e\n        \u003cp\u003e\u003cb\u003eSuccess\u003c/b\u003e\u003c/p\u003e\n        \u003cp\u003e{success_msg}\u003c/p\u003e\n    \u003c/div\u003e\n\u003c/div\u003e'''))",
      "outputs": [],
      "execution_count": 5
    },
    {
      "id": "b2fef9c1",
      "cell_type": "markdown",
      "metadata": {
        "execution": {}
      },
      "source": "### Utility functions handling db connection and archiving",
      "attachments": {}
    },
    {
      "id": "210c09c8",
      "cell_type": "code",
      "metadata": {
        "execution": {},
        "language": "python"
      },
      "source": "def execute_query(dbcon, query_txt):\n    \"\"\"\n    Execute a SQL query on the specified database connection.\n\n    Parameters\n    ----------\n    dbcon : connection\n        The database connection object.\n    query_txt : str\n        The SQL query to execute.\n\n    Returns\n    -------\n    list\n        A list of rows returned by the query.\n    \"\"\"\n    try:\n        with dbcon.cursor() as cur:\n            cur.execute(query_txt)\n        return cur.fetchall()\n    except Exception as e:\n        logging.error(f\"Failed to execute query: {e}\")\n        raise Exception('Failed to execute query')\n\n\ndef make_tarfile(output_filename, source_dir):\n    \"\"\"\n    Create a tar.gz archive of a directory.\n\n    Parameters\n    ----------\n    output_filename : str\n        The name of the output archive file.\n    source_dir : str\n        The path to the directory to archive.\n\n    Returns\n    -------\n    bool\n        True if the archive was created successfully, False otherwise.\n    \"\"\"\n    try:\n        with tarfile.open(output_filename, \"w:gz\") as tar:\n            tar.add(source_dir, arcname=os.path.basename(source_dir))\n        time.sleep(2)\n        file_stats = os.stat(output_filename)\n        logging.info(f'{output_filename} has size {(file_stats.st_size / (1024 * 1024))} mb')\n        return True\n    except Exception as e:\n        logging.error(f'Failed to create archive: {e}')\n        raise Exception(f'Failed to create archive: {e}')",
      "outputs": [],
      "execution_count": 6
    },
    {
      "id": "2eafb506",
      "cell_type": "markdown",
      "metadata": {
        "execution": {}
      },
      "source": "### Utility functions handling HTML generation",
      "attachments": {}
    },
    {
      "id": "d6e09de3",
      "cell_type": "code",
      "metadata": {
        "execution": {},
        "language": "python"
      },
      "source": "def copy_index_file(p_local_dir_path, p_templ_base_url):\n    \"\"\"\n    Copy the index file to the local directory.\n\n    Parameters\n    ----------\n    p_local_dir_path : str\n        The local directory path.\n    p_templ_base_url : str\n        The base URL for the template.\n\n    \"\"\"\n    index_file = f'{p_local_dir_path}/index.html'\n    # Fetch the content of the index template from a URL\n    index_file_content = fetch_url_content(p_templ_base_url + 'index.template.html')\n    # Write the index file content to a local file\n    with open(index_file, 'w') as writer:\n        writer.write(str(index_file_content))\n    logging.info('Index Page are generated')\n\n\ndef generate_html_list(links):\n    \"\"\"\n    Generate an HTML ordered list from a comma-separated list of links.\n\n    Parameters\n    ----------\n    links : str\n        A comma-separated list of links.\n\n    Returns\n    -------\n    str\n        The HTML formatted ordered list.\n    \"\"\"\n    if 'nan' == links:\n        return ''\n\n    html_list = '\u003col\u003e'\n    for item in links.split(','):\n        html_list += f'\u003cli\u003e\u003ca href=\"{item}\"\u003e{item}\u003c/a\u003e\u003c/li\u003e'\n    html_list += '\u003c/ol\u003e'\n    return html_list\n\ndef generate_stage_link(title, stg_path, curr_file_path):\n    \"\"\"\n    Generate an HTML link to a stage area.\n\n    Parameters\n    ----------\n    stg_path : str\n        The path to the stage area.\n    curr_file_path : str\n        The current file path.\n\n    Returns\n    -------\n    str\n        The HTML formatted link.\n    \"\"\"\n    url = f\"https://portal.singlestore.com/organizations/{os.environ['SINGLESTOREDB_ORGANIZATION']}/workspaces/{os.environ['SINGLESTOREDB_WORKSPACE_GROUP']}#stage/{stg_path}\"\n    return f\"\"\"\u003cdiv style=\\\"text-align:center;margin-top:5px; margin-bottom:5px;\\\"\u003e\n                {title}\n                 STAGE Link \u0026nbsp;\u0026nbsp;\u0026nbsp;\u0026nbsp; \u003ca href='{url}'\u003e {curr_file_path} \u003c/a\u003e\n               \u003c/div\u003e\"\"\"",
      "outputs": [],
      "execution_count": 7
    },
    {
      "id": "c7601752",
      "cell_type": "markdown",
      "metadata": {
        "execution": {}
      },
      "source": "### Function loading query data in CSV",
      "attachments": {}
    },
    {
      "id": "c1923b65",
      "cell_type": "code",
      "metadata": {
        "execution": {},
        "language": "python"
      },
      "source": "def fetch_url_content(url):\n    \"\"\"\n    Fetch the content of a URL.\n\n    Parameters\n    ----------\n    url : str\n        The URL to fetch.\n\n    Returns\n    -------\n    str\n        The content of the URL.\n    \"\"\"\n    try:\n        with urlopen(url) as response:\n            if response.status == 200:\n                my_bytes = response.read()\n                file_content = my_bytes.decode(\"utf8\")\n                return file_content\n    except HTTPError as e:\n        logging.error(f'Failed to read {url} - HTTP error code: {e.code} reason: {e.reason}')\n        raise Exception(f'Failed to read {url} - HTTP error code: {e.code} reason: {e.reason}')\n\n\ndef load_query_data(url):\n    \"\"\"\n    Load CSV data from a URL into a pandas DataFrame.\n\n    Parameters\n    ----------\n    url : str\n        The URL of the CSV file.\n\n    Returns\n    -------\n    pandas.DataFrame\n        The loaded DataFrame.\n    \"\"\"\n    csv_file_content = fetch_url_content(url)\n    csv_df = pd.read_csv(io.StringIO(csv_file_content), sep=\",\",\n                         dtype={'QueryID': int, 'QueryName': str, 'QueryTxt': str, 'QueryParams': str})\n    csv_df.sort_values(by=['QueryID'], inplace=True)\n    return csv_df",
      "outputs": [],
      "execution_count": 8
    },
    {
      "id": "2e96214a",
      "cell_type": "markdown",
      "metadata": {
        "execution": {}
      },
      "source": "### Verify Stage Path and Create if not exists",
      "attachments": {}
    },
    {
      "id": "aacd2fcf",
      "cell_type": "code",
      "metadata": {
        "execution": {},
        "language": "python"
      },
      "source": "def verify_stage_area():\n    \"\"\"\n    Verify the existence and writability of a stage area.\n\n    Returns\n    -------\n    bool\n        True if the stage area is valid, False otherwise.\n    \"\"\"\n    try:\n        global s2_workgroup_stage, s2_workspace_name\n        my_workspace_mngr = s2.manage_workspaces()\n        workspace_group = my_workspace_mngr.get_workspace_group(WORKGROUP_ID)\n        s2_workspace_name = my_workspace_mngr.get_workspace(os.environ['SINGLESTOREDB_WORKSPACE']).name\n        stage_obj = workspace_group.stage.mkdir(stage_path=stage_folder_path, overwrite=False)\n        logging.info(\n            f'Stage Path {stage_folder_path} is ok. Is Directory: {stage_obj.is_dir()}. Is Writeable: {stage_obj.writable}')\n        if stage_obj.is_dir() and stage_obj.writable:\n            s2_workgroup_stage = workspace_group.stage\n            logging.info(f'stage is valid: {s2_workgroup_stage is not None}')\n            return True\n        else:\n            logging.error(f'As provided path is neither directory nor writable.')\n            return False\n    except Exception as stage_ex:\n        logging.error(f'Stage Path Verification Failed. {stage_ex}')\n        return False",
      "outputs": [],
      "execution_count": 9
    },
    {
      "id": "eeb6ab7c",
      "cell_type": "markdown",
      "metadata": {
        "execution": {}
      },
      "source": "## Functions to analyze data type mismatch",
      "attachments": {}
    },
    {
      "id": "2e4fe2f0",
      "cell_type": "code",
      "metadata": {
        "execution": {},
        "language": "python"
      },
      "source": "def parse_table_row_counts(plan_id,json_data):\n    \"\"\"\n    Extract table names and their corresponding rowcounts from a JSON string.\n\n    Args:\n    json_data (str): The JSON string containing table names and rowcounts.\n\n    Returns:\n    dict: A dictionary containing table names as keys and their rowcounts as values.\n    \"\"\"\n    try:\n        if not json_data:\n            logging.warning(f'Plan id: {plan_id}, Optimizer notes does not contain row count element')\n            return None\n\n         # Extract rowcounts for each table\n        matches = row_count_parser.find(json.loads(json_data))\n\n        # Create a dictionary to store table names and rowcounts\n        table_rowcounts = {}\n        for match in matches:\n            # Extract the table name from the JSONPath match\n            table_name = match.full_path.left.fields[0]\n            rowcount = match.value\n            table_rowcounts[table_name] = rowcount\n\n        return table_rowcounts\n    except json.JSONDecodeError as e:\n        # Raise an error if JSON parsing fails\n        logging.error(\"Invalid JSON data: \" + str(e))\n        raise ValueError(\"Invalid JSON data: \" + str(e))\n\n\ndef fetch_table_row_counts(database_name, table_name):\n    \"\"\"\n    Fetch the row count for a given table from the database, using a cursor.\n\n    Args:\n    cursor: The database cursor object.\n    database_name (str): The name of the database.\n    table_name (str): The name of the table.\n\n    Returns:\n    int: The row count of the table, or -1 if the row count cannot be determined.\n    \"\"\"\n    global table_row_count_cache\n\n    if database_name:\n        lookup_key = f'{database_name}.{table_name}'\n        # Check if the row count is already cached\n        if lookup_key in table_row_count_cache.keys():\n            return table_row_count_cache[lookup_key]\n        else:\n            logging.warning(f'{lookup_key} is missing in cache, will fetch and update cache')\n            result = None\n            with s2.connect(results_type='dict').cursor() as cursor:\n                # Fetch the row count from the database\n                cursor.execute(f\"select sum(rows) as total_rows from information_schema.table_statistics \"\n                            f\"where database_name = '{database_name}' and table_name = '{table_name}'\")\n                result = cursor.fetchone()\n            # Check if the result is None\n            if result is None:\n                logging.warning(f'RowCounts missing for database:{database_name}, table: {table_name}')\n                return -1\n            else:\n                # Cache the row count and return it\n                table_row_count_cache[lookup_key] = result['total_rows']\n                logging.info(f\"fetched rowcount: {result['total_rows']}\")\n                return result['total_rows']\n    else:\n        logging.warning(f\"database field empty, so returning -1 for table:{table_name}\")\n        return -1\n\n\n\n\ndef fetch_rowcount(json_data):\n    \"\"\"\n    Extract table names and their corresponding rowcounts from a JSON string.\n\n    Args:\n    json_data (str): The JSON string containing table names and rowcounts.\n\n    Returns:\n    dict: A dictionary containing table names as keys and their rowcounts as values.\n    \"\"\"\n    try:\n        # Parse the JSON string\n        data = json.loads(json_data)\n\n        # Define the JSONPath expression to extract rowcounts\n        expr = parse(\"$.*.rowcount\")\n\n        # Extract rowcounts for each table\n        matches = expr.find(data)\n\n        # Create a dictionary to store table names and rowcounts\n        table_rowcounts = {}\n        for match in matches:\n            # Extract the table name from the JSONPath match\n            table_name = match.full_path.left.fields[0]\n            rowcount = match.value\n            table_rowcounts[table_name] = rowcount\n\n        return table_rowcounts\n    except json.JSONDecodeError as e:\n        # Raise an error if JSON parsing fails\n        logging.error(\"Invalid JSON data: \" + str(e))\n        raise ValueError(\"Invalid JSON data: \" + str(e))\n\n\ndef extract_table_columns(comparison_expression, table_aliases):\n    \"\"\"\n    Extract left and right table columns from a comparison expression.\n\n    Args:\n    comparison_expression (str): The comparison expression.\n\n    Returns:\n    tuple: A tuple containing the left and right table columns if they exist,\n           or None if only one side is present in the expression.\n    \"\"\"\n    try:\n        match = re.match(r\"\\(`([^`]+)`\\.`([^`]+)` (?:=|\u003e|\u003c|\u003e=|\u003c=)+ `([^`]+)`\\.`([^`]+)`\\)\", comparison_expression)\n        if match:\n            left_tab = resolve_table_names((match.group(1) if match.group(1) else \"\"), table_aliases)\n            left_col = (match.group(2) if match.group(2) else \"\")\n            right_tab = resolve_table_names((match.group(3) if match.group(3) else \"\"), table_aliases)\n            right_col = (match.group(4) if match.group(2) else \"\")\n            return left_tab, left_col, right_tab, right_col\n        # exp like \"(`mq`.`keyword` \u003e 0)\"\n        match = re.match(r\"\\(`([^`]+)`\\.`([^`]+)` (?:=|\u003e|\u003c|\u003e=|\u003c=)+ ([\\d.]+)\\)\", comparison_expression)\n        if match:\n            left_tab = resolve_table_names((match.group(1) if match.group(1) else \"\"), table_aliases)\n            left_col = (match.group(2) if match.group(2) else \"\")\n            right_tab = \"\"\n            right_col = \"\"\n            return left_tab, left_col, right_tab, right_col\n        # exp like \"(`mq`.`keyword` \u003e '0')\"\n        match = re.match(r\"\\(`([^`]+)`\\.`([^`]+)` (?:=|\u003e|\u003c|\u003e=|\u003c=)+ ('.+')\\)\", comparison_expression)\n        if match:\n            left_tab = resolve_table_names((match.group(1) if match.group(1) else \"\"), table_aliases)\n            left_col = (match.group(2) if match.group(2) else \"\")\n            right_tab = \"\"\n            right_col = \"\"\n            return left_tab, left_col, right_tab, right_col\n        # exp like \"( 0 \u003c `mq`.`keyword`)\"\n        match = re.match(r\"\\(([\\d.]+) (?:=|\u003e|\u003c|\u003e=|\u003c=)+ `([^`]+)`\\.`([^`]+)`\\)\", comparison_expression)\n        if match:\n            left_tab = \"\"\n            left_col = \"\"\n            right_tab = resolve_table_names((match.group(2) if match.group(2) else \"\"), table_aliases)\n            right_col = (match.group(3) if match.group(3) else \"\")\n            return left_tab, left_col, right_tab, right_col\n        # exp like \"(`mq`.`keyword` = NULL)\"\n        match = re.match(r\"\\(`([^`]+)`\\.`([^`]+)` (?:=|\u003e|\u003c|\u003e=|\u003c=)+ (.*?)\\)\", comparison_expression)\n        if match:\n            left_tab = resolve_table_names((match.group(1) if match.group(1) else \"\"), table_aliases)\n            left_col = (match.group(2) if match.group(2) else \"\")\n            right_tab = \"\"\n            right_col = \"\"\n            return left_tab, left_col, right_tab, right_col\n        # exp like \"(`mq`.`keyword` = 'NULL')\"\n        match = re.match(r\"\\(`([^`]+)`\\.`([^`]+)` (?:=|\u003e|\u003c|\u003e=|\u003c=)+ ('.*?')\\)\", comparison_expression)\n        if match:\n            left_tab = resolve_table_names((match.group(1) if match.group(1) else \"\"), table_aliases)\n            left_col = (match.group(2) if match.group(2) else \"\")\n            right_tab = \"\"\n            right_col = \"\"\n            return left_tab, left_col, right_tab, right_col\n\n        # exp like ( DATE_FORMAT(`mq`.`record_date`,'%Y') = `mt`.`year`)\n        match = re.match(r\"\\( ([A-Za-z_]+)\\(`([^`]+)`\\.`([^`]+)`\\,('.+')\\) (?:=|\u003e|\u003c|\u003e=|\u003c=)+ `([^`]+)`\\.`([^`]+)`\\)\",\n                         comparison_expression)\n        if match:\n            left_tab = resolve_table_names((match.group(2) if match.group(2) else \"\"), table_aliases)\n            left_col = (match.group(3) if match.group(3) else \"\")\n            right_tab = resolve_table_names((match.group(5) if match.group(5) else \"\"), table_aliases)\n            right_col = (match.group(6) if match.group(6) else \"\")\n            return left_tab, left_col, right_tab, right_col\n\n        return None, None, None, None\n    except Exception as ce:\n        logging.error(f\"Error extracting table columns from '{comparison_expression}': {ce}\")\n        raise\n\n\ndef resolve_table_names(table_alias, table_alias_dict):\n    \"\"\"\n    Resolve the actual table name from a given table alias.\n\n    Args:\n    table_alias (str): The table alias to resolve.\n    table_alias_dict (dict): A dictionary mapping table aliases to actual table names.\n\n    Returns:\n    str: The resolved table name.\n    \"\"\"\n    try:\n        if table_alias in table_alias_dict:\n            return table_alias_dict[table_alias]\n        elif re.match(r'.*_[0-9]+$', table_alias):\n            return table_alias[:-2]\n        else:\n            return table_alias\n    except Exception as e:\n        logging.error(f\"Error resolving table name for alias '{table_alias}': {e}\")\n        raise\n\n\ndef analyze_comparison(row):\n    \"\"\"\n    Analyze a comparison expression in a row and generate a suggestion based on table row counts.\n\n    Args:\n    row (dict): A dictionary representing a row of data with keys 'DATABASE_NAME', 'CMP_EXP', 'LEFT_TABLE',\n                'RIGHT_TABLE', and 'TBL_ROW_COUNTS'.\n\n    Returns:\n    dict: The input row dictionary updated with 'SUGGESTION', 'LEFT_TABLE_ROW_COUNT', and 'RIGHT_TABLE_ROW_COUNT'.\n    \"\"\"\n    try:\n        db_name = row['DATABASE_NAME']\n        cmp_element = row['CMP_EXP']\n        left_table = row['LEFT_TABLE']\n        right_table = row['RIGHT_TABLE']\n        #rowcount_dict = fetch_rowcount(row['TBL_ROW_COUNTS'])\n        rowcount_dict = parse_table_row_counts(row['PLAN_ID'],row['TBL_ROW_COUNTS'])\n\n        if rowcount_dict is None:\n            rowcount_dict = {}\n            if left_table:\n                rowcount_dict[f'{db_name}.{left_table}'] = fetch_table_row_counts(db_name, left_table)\n            if right_table:\n                rowcount_dict[f'{db_name}.{right_table}'] = fetch_table_row_counts(db_name, right_table)\n\n        suggestion = io.StringIO()\n\n        suggestion.write(f'For Expression: {cmp_element}. ')\n        left_row_count = None\n        right_row_count = None\n\n        if left_table is not None:\n            left_lookup_key = (left_table if db_name in left_table else db_name + '.' + left_table)\n            left_row_count = rowcount_dict.get(left_lookup_key, -1)\n\n        if right_table is not None:\n            right_lookup_key = (right_table if db_name in right_table else db_name + '.' + right_table)\n            right_row_count = rowcount_dict.get(right_lookup_key, -1)\n\n        if left_row_count is not None and right_row_count is not None:\n            if left_row_count \u003c right_row_count:\n                suggestion.write(f\"{left_table} has fewer records, consider table size while optimizing.\")\n            elif left_row_count \u003e right_row_count:\n                suggestion.write(f\"{right_table} has fewer records, consider table size while optimizing.\")\n            else:\n                suggestion.write(f\"The number of records is equal on both sides of the expression.\")\n        else:\n            suggestion.write(f\"Unable to determine row counts for comparison: {cmp_element}.\")\n\n        row['SUGGESTION'] = suggestion.getvalue()\n        row['LEFT_TABLE_ROW_COUNT'] = left_row_count\n        row['RIGHT_TABLE_ROW_COUNT'] = right_row_count\n        return row\n    except Exception as e:\n        logging.error(f\"Error analyzing comparison for row '{row}': {e}\")\n        raise\n\n\ndef generate_datatype_mismatch_rep(conn, output_file, batch_size):\n    \"\"\"\n    Process database records fetched using a SQL query and generate a excel report.\n\n    Args:\n    conn: The database connection object.\n    output_file (str): filepath to write.\n    batch_size (int): database query fetch size.\n\n    Returns:\n    None\n    \"\"\"\n    try:\n        logging.info(\"Starting database record processing...\")\n        lines = []\n        total_records_processed = 0\n        data_prep_start = time.perf_counter()\n        with conn.cursor() as cursor:\n                cursor.execute(MISMATCH_DATATYPE_ROWCOUNT_COMP_QUERY)\n                while True:\n                    database_records = cursor.fetchmany(batch_size)\n                    logging.info(f\"fetched {len(database_records)} rows\")\n                    if not database_records:\n                        break\n                    for row in database_records:\n                        try:\n                            parser = Parser(row['SQL_QUERY'])\n                            row['LEFT_TABLE'], row['LEFT_COLUMN'], row['RIGHT_TABLE'], row[\n                                'RIGHT_COLUMN'] = extract_table_columns(row['CMP_EXP'], parser.tables_aliases)\n                            row = analyze_comparison(row)\n                            lines.append(row)\n\n                            total_records_processed += 1\n                            if total_records_processed % 1000 == 0:\n                                logging.info(f\"Processed {total_records_processed} records...\")\n                        except Exception as ex:\n                            logging.debug(f\"while processing record: {row}\")\n                            logging.error(ex)\n\n        logging.debug(f\"total Processed {total_records_processed} records\")\n        logging.info(f'Data Preparation took {(time.perf_counter() - data_prep_start):.4f} seconds')\n        if total_records_processed \u003e 0 :\n            report_write_start = time.perf_counter()\n\n            wb = Workbook()\n            ws = wb.active\n            ws.append(list(HEADERS))\n\n            for line in lines:\n                ws.append(list(line.values()))\n\n            wb.save(output_file)\n\n            logging.info(\"Writing to report completed\")\n            logging.info(f'Report Writing took {(time.perf_counter() - report_write_start):.4f} seconds')\n            return True\n        else:\n            logging.info('No records to write, skipping report')\n            return False\n\n        #logging.info(\"Database record processing completed.\")\n\n    except Exception as e:\n        logging.error(f\"An error occurred during database record processing: {e}\")\n        raise",
      "outputs": [],
      "execution_count": 10
    },
    {
      "id": "52f9ebbe",
      "cell_type": "markdown",
      "metadata": {
        "execution": {}
      },
      "source": "### Process dataframe and generate reports for each query in csv",
      "attachments": {}
    },
    {
      "id": "dede33bd",
      "cell_type": "code",
      "metadata": {
        "execution": {},
        "language": "python"
      },
      "source": "def process_dataframe(query_csv_dataframe):\n    \"\"\"\n    Process a DataFrame containing query data.\n\n    Parameters\n    ----------\n    query_csv_dataframe : pandas.DataFrame\n        The DataFrame containing query data.\n\n    \"\"\"\n    excel_report_file = f'{local_dir_path}/perf_troubleshoot_report.xlsx'\n    with pd.ExcelWriter(excel_report_file, engine=\"openpyxl\") as xlwriter:\n\n        for idx, row in query_csv_dataframe.astype(str).iterrows():\n            query_id = row['QueryID']\n            query_name = row['QueryName']\n            query = row['QueryTxt']\n\n            logging.debug(f'about to execute {query_name}')\n            xlwriter.book.create_sheet(query_name[:30])\n\n            try:\n                # Execute the query\n                result = execute_query(conn, query)\n\n                logging.info(f\"Fetched query ID: {query_id} NAME: {query_name}\")\n                # Fetch the template for the result page\n                template = fetch_url_content(template_url_base + 'Result-' + str(query_id) + '.template.html')\n                if not result:\n                    # If the result is empty, replace the template placeholder with an empty table\n                    final_content = template.replace('rstable', empty_result_table)\n                else:\n                    # If the result is not empty, format it as an HTML table and replace the template placeholder\n                    result_df = pd.DataFrame(result)\n                    result_df.columns = map(str.upper, result_df.columns)\n                    result_table_id = 'rstbl'\n                    result_table_content = result_df.to_html(table_id=result_table_id,\n                                                             index=False,\n                                                             classes=result_table_html_classes)\n\n                    final_content = template.replace('rstable', result_table_content)\n                    result_df.to_excel(xlwriter, sheet_name=query_name, index=False)\n\n                # Write the final content to an HTML file\n                report_file = f'{local_dir_path}/{query_id}.html'\n                with open(report_file, 'w') as writer:\n                    writer.write(final_content)\n\n\n            except Exception as curr_iter_err:\n                # If an exception occurs during query execution, log the error and show a warning message\n                logging.error(f\"Error executing query ID: {query_id}, NAME: {query_name}: {curr_iter_err}\")\n                logging.exception(\"Exception details\")\n                show_warn(f\"Error executing query ID: {query_id}, NAME: {query_name}\")\n\n            logging.info(f'process completed for ID:{query_id} Name:{query_name}')\n\n\n    logging.info('Result Pages are generated')\n    logging.info(f'Excel Report perf_troubleshoot_report.xlsx is generated')",
      "outputs": [],
      "execution_count": 11
    },
    {
      "id": "acab5016",
      "cell_type": "markdown",
      "metadata": {
        "execution": {}
      },
      "source": "### Function to clean up generated directories",
      "attachments": {}
    },
    {
      "id": "90c91568",
      "cell_type": "code",
      "metadata": {
        "execution": {},
        "language": "python"
      },
      "source": "def clean_dir(p_dir_path, p_archive_file_path):\n    \"\"\"\n    Clean the local directory by removing all HTML files and the archive file.\n\n    Parameters\n    ----------\n    p_dir_path : str\n        The path to the local directory.\n    p_archive_file_path : str\n        The path to the archive file.\n\n    \"\"\"\n    # Remove the archive file\n    try:\n        os.remove(p_archive_file_path)\n        logging.info('Local archive file removed')\n        logging.info('about to clean previous generated files in local dir')\n        shutil.rmtree(p_dir_path)\n    except OSError as e:\n        logging.error('Clean up failed')\n        execution_success = False\n        error_msg = 'clean up failed'\n        print(\"Error: %s : %s\" % (dir_path, e.strerror))\n        raise Exception(f'Failed to clean up {str(e)}')",
      "outputs": [],
      "execution_count": 12
    },
    {
      "id": "e988f5f1",
      "cell_type": "code",
      "metadata": {
        "execution": {},
        "language": "python"
      },
      "source": "if connection_url.endswith('/'):\n    show_warn('Database not selected. Please select from dropdown in top of web page')\nelse:\n    execution_success = True\n    final_file_path = None\n    error_msg = None\n    try:\n        if verify_stage_area():\n            # Establish a database connection, use dict as results_type\n            conn = s2.connect(results_type='dict')\n            logging.info('Database Connection establised')\n            # Load query data from a csv file into a pandas DataFrame.\n            queries_df = load_query_data(url=query_data_url)\n            logging.info('Query Data loaded')\n             # Create a local directory for storing result files\n            local_dir_path = (s2_workspace_name + local_output_dir_suffix)\n            path = Path(local_dir_path)\n            path.mkdir(exist_ok=True)\n\n            process_dataframe(queries_df)\n\n\n            mismatch_report_file_path = f\"{local_dir_path}/datatype-mismatch-comparision-report.xlsx\"\n            generate_datatype_mismatch_rep(conn, output_file=mismatch_report_file_path, batch_size=1000)\n\n            copy_index_file(local_dir_path, template_url_base)\n\n            # Create a zip archive of the result files\n            final_file_path = s2_workspace_name + '_PERF_REPORT_' + my_timestamp + '.tar.gz'\n\n            zip_success = make_tarfile(final_file_path, local_dir_path)\n\n            logging.info('archive created')\n            # Upload the zip archive to the stage area\n            if zip_success:\n                try:\n                    uploaded_obj = s2_workgroup_stage.upload_file(local_path=final_file_path,\n                                                                  stage_path=f'{stage_folder_path}/{final_file_path}')\n                    logging.info(f'Upload success. Path: {uploaded_obj.abspath()} ')\n                    print(f'File uploaded to STAGE AREA: {uploaded_obj.abspath()}')\n                    logging.info('Upload success')\n                except Exception as e:\n                    # If an exception occurs during the upload process, log the error\n                    execution_success = False\n                    logging.error(f'Failed during upload process{e}')\n                    error_msg = 'File Upload failed'\n\n                clean_dir(local_dir_path, final_file_path)\n                logging.info('Local files cleaned')\n\n            else:\n                # If creating the zip archive fails, set execution_success to False and log the error\n                logging.error('Failed to create archive')\n                execution_success = False\n                error_msg = 'Failed to create archive'\n\n        else:\n            # If verifying the stage area fails, set execution_success to False and log the error\n            logging.info(\"Stage Area Verification Failed. Exiting.\")\n            print('Script execution Failed')\n            execution_success = False\n            error_msg = 'Failed to create missing stage area path or it is not writeable'\n    except Exception as e:\n        execution_success = False\n        logging.error(f\"An error occurred: {e}\")\n        logging.exception(\"Exception details\")\n        error_msg = f'Exception occured. {str(e)}'\n\n    # Display a success or error message based on the execution success\n    if execution_success:\n        #show_success(\"Files are uploaded to Stage\")\n        show_success(generate_stage_link('Upload to stage success, File: ', stage_folder_path, final_file_path))\n\n    else:\n        show_error(error_msg)\n\n    logging.info(f'Script execution completed sucessfully: {execution_success}')",
      "outputs": [],
      "execution_count": 13
    },
    {
      "id": "93cf4edb",
      "cell_type": "markdown",
      "metadata": {
        "execution": {}
      },
      "source": "**Important NOTE**\n\n - Actions suggested suit most of performance improvement scenarios, Still we would encourage to test and verify before applying on prod environemnts\n - To use notebook as scheduled one, we have to modify python code to refer configuration from table instead of user input",
      "attachments": {}
    },
    {
      "id": "7c102a8b",
      "cell_type": "markdown",
      "metadata": {
        "execution": {}
      },
      "source": "\u003cdiv id=\"singlestore-footer\" style=\"background-color: rgba(194, 193, 199, 0.25); height:2px; margin-bottom:10px\"\u003e\u003c/div\u003e\n\u003cdiv\u003e\u003cimg src=\"https://raw.githubusercontent.com/singlestore-labs/spaces-notebooks/master/common/images/singlestore-logo-grey.png\" style=\"padding: 0px; margin: 0px; height: 24px\"/\u003e\u003c/div\u003e",
      "attachments": {}
    }
  ],
  "metadata": {
    "kernelspec": {
      "display_name": "Python 3 (ipykernel)",
      "language": "python",
      "name": "python3"
    },
    "language_info": {
      "codemirror_mode": {
        "name": "ipython",
        "version": 3
      },
      "file_extension": ".py",
      "mimeType": "text/x-python",
      "name": "python",
      "nbconvert_exporter": "python",
      "pygments_lexer": "ipython3",
      "version": "3.11.9"
    },
    "singlestore_connection": {
      "connectionID": "",
      "defaultDatabase": ""
    },
    "singlestore_cell_default_language": "python",
    "singlestore_row_limit": 300
  },
  "nbformat": 4,
  "nbformat_minor": 5
}