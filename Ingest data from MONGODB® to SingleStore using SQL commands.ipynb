{
  "cells": [
    {
      "id": "c6f5dc7b",
      "cell_type": "markdown",
      "metadata": {
        "execution": {}
      },
      "source": "\u003cdiv id=\"singlestore-header\" style=\"display: flex; background-color: rgba(235, 249, 245, 0.25); padding: 5px;\"\u003e\n    \u003cdiv id=\"icon-image\" style=\"width: 90px; height: 90px;\"\u003e\n        \u003cimg width=\"100%\" height=\"100%\" src=\"https://raw.githubusercontent.com/singlestore-labs/spaces-notebooks/master/common/images/header-icons/database.png\" /\u003e\n    \u003c/div\u003e\n    \u003cdiv id=\"text\" style=\"padding: 5px; margin-left: 10px;\"\u003e\n        \u003cdiv id=\"badge\" style=\"display: inline-block; background-color: rgba(0, 0, 0, 0.15); border-radius: 4px; padding: 4px 8px; align-items: center; margin-top: 6px; margin-bottom: -2px; font-size: 80%\"\u003eSingleStore Notebooks\u003c/div\u003e\n        \u003ch1 style=\"font-weight: 500; margin: 8px 0 0 4px;\"\u003eIngest data from MONGODB® to SingleStore using SQL commands\u003c/h1\u003e\n    \u003c/div\u003e\n\u003c/div\u003e",
      "attachments": {}
    },
    {
      "id": "df1b5335",
      "cell_type": "markdown",
      "metadata": {
        "execution": {}
      },
      "source": "\u003ctable style=\"border: 0; border-spacing: 0; width: 100%; background-color: #03010D\"\u003e\u003ctr\u003e\n    \u003ctd style=\"padding: 0; margin: 0; background-color: #03010D; width: 33%; text-align: center\"\u003e\u003cimg src=\"https://raw.githubusercontent.com/singlestore-labs/spaces-notebooks/master/common/images/singlestore-logo-vertical.png\" style=\"height: 200px;\"/\u003e\u003c/td\u003e\n    \u003ctd style=\"padding: 0; margin: 0; width: 66%; background-color: #03010D; text-align: right\"\u003e\u003cimg src=\"https://raw.githubusercontent.com/singlestore-labs/spaces-notebooks/master/notebooks/cdc-mongodb-sql-commands/images/cdc-in-header.png\" style=\"height: 250px\"/\u003e\u003c/td\u003e\n\u003c/tr\u003e\u003c/table\u003e",
      "attachments": {}
    },
    {
      "id": "6229e0c9",
      "cell_type": "markdown",
      "metadata": {
        "execution": {}
      },
      "source": "## When do you use SingleStore's native replication capability from MongoDB ?\n\nSingleStore's native data replication gives you the ability to do one-time snapshot, or continuous change data capture CDC from MongoDB® to SingleStoreDB. This provides a quick and easy way to replicate data and power up analytics on MongoDB® data.",
      "attachments": {}
    },
    {
      "id": "54bed1b2",
      "cell_type": "markdown",
      "metadata": {
        "execution": {}
      },
      "source": "## What you will learn in this notebook:\n\nReplicate MongoDB® collections to SingleStore\n1. Directly without transformations\n2. Flattening required fields into columns of a table\n3. Normalizing collection into multiple tables",
      "attachments": {}
    },
    {
      "id": "635f3fe9",
      "cell_type": "markdown",
      "metadata": {
        "execution": {}
      },
      "source": "## 1. Replicate directly without transformations\n\nTo replicate the required collections, provide the list of collections using `\"collection.include.list\": \"\u003cCollection list\u003e\"` at the time of link creation, the parameter takes a comma-separated list of regular expressions that match collection names (in databaseName.collectionName format)",
      "attachments": {}
    },
    {
      "id": "71592e8c",
      "cell_type": "code",
      "metadata": {
        "execution": {},
        "language": "python"
      },
      "source": "%%sql\nDROP DATABASE IF EXISTS sample_analytics;\nCREATE DATABASE sample_analytics;",
      "outputs": [],
      "execution_count": 1
    },
    {
      "id": "ba6cedf5",
      "cell_type": "markdown",
      "metadata": {
        "execution": {}
      },
      "source": "\u003cdiv class=\"alert alert-block alert-warning\"\u003e\n    \u003cb class=\"fa fa-solid fa-exclamation-circle\"\u003e\u003c/b\u003e\n    \u003cdiv\u003e\n        \u003cp\u003e\u003cb\u003eAction Required\u003c/b\u003e\u003c/p\u003e\n        \u003cp\u003e Make sure to select a database from the drop-down menu at the top of this notebook. It updates the \u003ctt\u003econnection_url\u003c/tt\u003e  to connect to that database.\u003c/p\u003e\n    \u003c/div\u003e\n\u003c/div\u003e",
      "attachments": {}
    },
    {
      "id": "be88b07b",
      "cell_type": "code",
      "metadata": {
        "execution": {},
        "language": "python"
      },
      "source": "%%sql\nCREATE LINK cdclink AS MONGODB\nCONFIG '{\"mongodb.hosts\":\"ac-t7n47to-shard-00-00.tfutgo0.mongodb.net:27017,ac-t7n47to-shard-00-01.tfutgo0.mongodb.net:27017,ac-t7n47to-shard-00-02.tfutgo0.mongodb.net:27017\",\n\"collection.include.list\": \"sample_analytics.customers\",\n\"mongodb.ssl.enabled\":\"true\",\n\"mongodb.authsource\":\"admin\",\n\"mongodb.members.auto.discover\": \"true\"\n    }'\nCREDENTIALS '{\n    \"mongodb.user\":\"mongo_sample_reader\",\n    \"mongodb.password\":\"SingleStoreRocks27017\"\n    }'",
      "outputs": [],
      "execution_count": 2
    },
    {
      "id": "e1e1fbb1",
      "cell_type": "markdown",
      "metadata": {
        "execution": {}
      },
      "source": "Check if the link got created",
      "attachments": {}
    },
    {
      "id": "1b78164d",
      "cell_type": "code",
      "metadata": {
        "execution": {},
        "language": "python"
      },
      "source": "%%sql\nSHOW LINKS;",
      "outputs": [],
      "execution_count": 3
    },
    {
      "id": "0b393f99",
      "cell_type": "markdown",
      "metadata": {
        "execution": {}
      },
      "source": "The following step automatically creates the required tables and pipelines on SingleStoreDB for every collection configured for replication",
      "attachments": {}
    },
    {
      "id": "0b815f2e",
      "cell_type": "code",
      "metadata": {
        "execution": {},
        "language": "python"
      },
      "source": "%%sql\nCREATE TABLES AS INFER PIPELINE AS LOAD DATA LINK cdclink '*' FORMAT AVRO;",
      "outputs": [],
      "execution_count": 4
    },
    {
      "id": "94b05d5b",
      "cell_type": "markdown",
      "metadata": {
        "execution": {}
      },
      "source": "Start pipelines to begin replicating the data",
      "attachments": {}
    },
    {
      "id": "65192525",
      "cell_type": "code",
      "metadata": {
        "execution": {},
        "language": "python"
      },
      "source": "%%sql\nSTART ALL PIPELINES;",
      "outputs": [],
      "execution_count": 5
    },
    {
      "id": "eaea4e3a",
      "cell_type": "code",
      "metadata": {
        "execution": {},
        "language": "python"
      },
      "source": "%%sql\nSHOW TABLES;",
      "outputs": [],
      "execution_count": 6
    },
    {
      "id": "52635772",
      "cell_type": "markdown",
      "metadata": {
        "execution": {}
      },
      "source": "The customer collection from MongoDB are replicated into SingleStore in the default format of _id and _more BSON columns that are compatible with Kai API",
      "attachments": {}
    },
    {
      "id": "c0014b63",
      "cell_type": "code",
      "metadata": {
        "execution": {},
        "language": "python"
      },
      "source": "%%sql\nSELECT (_id :\u003e JSON),(_more :\u003e JSON) FROM customers LIMIT 2;",
      "outputs": [],
      "execution_count": 7
    },
    {
      "id": "e7184990",
      "cell_type": "markdown",
      "metadata": {
        "execution": {}
      },
      "source": "## 2. Flattening required fields from document into columns\nCDC replication also gives additional flexibility to define your own table structure at SingleStore as you bring in data from MongoDB collections. In the following examples data from MongoDB collections are transformed when brought to SingleStoreDB",
      "attachments": {}
    },
    {
      "id": "ddd6afb0",
      "cell_type": "markdown",
      "metadata": {
        "execution": {}
      },
      "source": "Fields like `username`, `name`, `email` are flattened into columns of the table and rest of the document is stored in _more column.\nThe following commands create a table, a stored procedure and a pipeline required for the data replication",
      "attachments": {}
    },
    {
      "id": "7233596f",
      "cell_type": "code",
      "metadata": {
        "execution": {},
        "language": "python"
      },
      "source": "%%sql\nCREATE TABLE `customers_flattened` (\n  `_id` bson NOT NULL,\n  `username` text CHARACTER SET utf8 COLLATE utf8_general_ci,\n  `name` text CHARACTER SET utf8 COLLATE utf8_general_ci,\n  `email` text CHARACTER SET utf8 COLLATE utf8_general_ci,\n  `_more` bson NOT NULL COMMENT 'KAI_MORE' ,\n  `$_id` as BSON_NORMALIZE_NO_ARRAY(`_id`) PERSISTED longblob COMMENT 'KAI_AUTO' ,\n  SHARD KEY `__SHARDKEY` (`$_id`),\n  UNIQUE KEY `__PRIMARY` (`$_id`) USING HASH,\n  SORT KEY `__UNORDERED` ()\n)",
      "outputs": [],
      "execution_count": 8
    },
    {
      "id": "2a60c28c",
      "cell_type": "code",
      "metadata": {
        "execution": {},
        "language": "python"
      },
      "source": "%%sql\nCREATE OR REPLACE PROCEDURE `customers_apply_changes`(changes query(`__operation` int(11) NOT NULL, `_id` longblob NOT NULL, `_more` longblob NOT NULL))\nRETURNS void AS\nDECLARE rowsDeleted INT;\nBEGIN REPLACE INTO  `sample_analytics`.`customers_flattened` SELECT `_id`:\u003eBSON AS `_id`, BSON_EXTRACT_STRING(`_more`,'username') AS `username`, BSON_EXTRACT_STRING(`_more`,'name') AS `name`, BSON_EXTRACT_STRING(`_more`,'email') AS `email`,\nBSON_EXCLUDE_MASK(`_more`,'{\"_id\": 1,\"username\": 1,\"name\": 1,\"email\": 1}') AS `_more`FROM changes WHERE __operation != 1;\nSELECT count(*) INTO rowsDeleted FROM changes WHERE changes.__operation = 1;\nIF rowsDeleted \u003e 0 THEN\nDELETE dest FROM `sample_analytics`.`customers_flattened` AS dest INNER JOIN changes ON dest.`$_id` = BSON_NORMALIZE_NO_ARRAY(changes.`_id`) WHERE changes.__operation = 1; END IF;\nEND;",
      "outputs": [],
      "execution_count": 9
    },
    {
      "id": "f9c867ef",
      "cell_type": "code",
      "metadata": {
        "execution": {},
        "language": "python"
      },
      "source": "%%sql\nCREATE AGGREGATOR PIPELINE `customers_apply_changes`\nAS LOAD DATA LINK cdclink 'customers'\nBATCH_INTERVAL 2500\nMAX_PARTITIONS_PER_BATCH 1\nDISABLE OFFSETS METADATA GC\nREPLACE\nKEY(`_id`)\nINTO PROCEDURE `customers_apply_changes`\nFORMAT AVRO\n(\n    __operation \u003c- `__operation`,\n    _id \u003c- `payload`::`_id`,\n    _more \u003c- `payload`::`_more`\n)",
      "outputs": [],
      "execution_count": 10
    },
    {
      "id": "f78191dc",
      "cell_type": "code",
      "metadata": {
        "execution": {},
        "language": "python"
      },
      "source": "%%sql\nSTART ALL PIPELINES;",
      "outputs": [],
      "execution_count": 11
    },
    {
      "id": "dc7c6aac",
      "cell_type": "code",
      "metadata": {
        "execution": {},
        "language": "python"
      },
      "source": "%%sql\nSHOW TABLES;",
      "outputs": [],
      "execution_count": 12
    },
    {
      "id": "adf1b8d4",
      "cell_type": "code",
      "metadata": {
        "execution": {},
        "language": "python"
      },
      "source": "%%sql\nSELECT _id :\u003e JSON,username, name, email, _more :\u003e JSON FROM customers_flattened LIMIT 10;",
      "outputs": [],
      "execution_count": 13
    },
    {
      "id": "652750b1",
      "cell_type": "markdown",
      "metadata": {
        "execution": {}
      },
      "source": "## 3. Normalize a collection into multiple tables\nIn the following example a collection of MongoDB is normalized into two different tables on SingleStore.",
      "attachments": {}
    },
    {
      "id": "c5ee0fe8",
      "cell_type": "code",
      "metadata": {
        "execution": {},
        "language": "python"
      },
      "source": "%%sql\nDROP DATABASE IF EXISTS sample_airbnb;\nCREATE DATABASE sample_airbnb;",
      "outputs": [],
      "execution_count": 14
    },
    {
      "id": "dddaf078",
      "cell_type": "markdown",
      "metadata": {
        "execution": {}
      },
      "source": "\u003cdiv class=\"alert alert-block alert-warning\"\u003e\n    \u003cb class=\"fa fa-solid fa-exclamation-circle\"\u003e\u003c/b\u003e\n    \u003cdiv\u003e\n        \u003cp\u003e\u003cb\u003eAction Required\u003c/b\u003e\u003c/p\u003e\n        \u003cp\u003e Make sure to select a database from the drop-down menu at the top of this notebook. It updates the \u003ctt\u003econnection_url\u003c/tt\u003e  to connect to that database.\u003c/p\u003e\n    \u003c/div\u003e\n\u003c/div\u003e",
      "attachments": {}
    },
    {
      "id": "9be311ab",
      "cell_type": "code",
      "metadata": {
        "execution": {},
        "language": "python"
      },
      "source": "%%sql\nCREATE LINK source_listingsAndReviews AS MONGODB\nCONFIG '{\"mongodb.hosts\":\"ac-t7n47to-shard-00-00.tfutgo0.mongodb.net:27017,ac-t7n47to-shard-00-01.tfutgo0.mongodb.net:27017,ac-t7n47to-shard-00-02.tfutgo0.mongodb.net:27017\",\n\"collection.include.list\": \"sample_airbnb.*\",\n\"mongodb.ssl.enabled\":\"true\",\n\"mongodb.authsource\":\"admin\",\n\"mongodb.members.auto.discover\": \"true\"\n    }'\nCREDENTIALS '{\n    \"mongodb.user\":\"mongo_sample_reader\",\n    \"mongodb.password\":\"SingleStoreRocks27017\"\n    }'",
      "outputs": [],
      "execution_count": 15
    },
    {
      "id": "4b89bdce",
      "cell_type": "code",
      "metadata": {
        "execution": {},
        "language": "python"
      },
      "source": "%%sql\nSHOW LINKS;",
      "outputs": [],
      "execution_count": 16
    },
    {
      "id": "c4d7b98d",
      "cell_type": "code",
      "metadata": {
        "execution": {},
        "language": "python"
      },
      "source": "%%sql\nCREATE TABLE `listings` (\n  `_id` BSON NOT NULL,\n  `name` text CHARACTER SET utf8 COLLATE utf8_general_ci,\n  `access` text CHARACTER SET utf8 COLLATE utf8_general_ci,\n  `accommodates` int(11) DEFAULT NULL,\n  `_more` BSON NOT NULL,\n  `$_id` as BSON_NORMALIZE_NO_ARRAY(`_id`) PERSISTED longblob,\n  SHARD KEY `__SHARDKEY` (`$_id`),\n  UNIQUE KEY `__PRIMARY` (`$_id`) USING HASH,\n  SORT KEY `__UNORDERED` ()\n)",
      "outputs": [],
      "execution_count": 17
    },
    {
      "id": "1e091d27",
      "cell_type": "code",
      "metadata": {
        "execution": {},
        "language": "python"
      },
      "source": "%%sql\nCREATE TABLE `reviews` (\n  `listingid` BSON NOT NULL,\n  `review_scores_accuracy` int(11) DEFAULT NULL,\n  `review_scores_cleanliness` int(11) DEFAULT NULL,\n  `review_scores_rating` text CHARACTER SET utf8 COLLATE utf8_general_ci,\n  `$listingid` as BSON_NORMALIZE_NO_ARRAY(`listingid`) PERSISTED longblob,\n  SHARD KEY `__SHARDKEY` (`$listingid`),\n  UNIQUE KEY `__PRIMARY` (`$listingid`) USING HASH,\n  SORT KEY `__UNORDERED` ()\n)",
      "outputs": [],
      "execution_count": 18
    },
    {
      "id": "d857451a",
      "cell_type": "code",
      "metadata": {
        "execution": {},
        "language": "python"
      },
      "source": "%%sql\nCREATE OR REPLACE PROCEDURE `listingsAndReviews_apply_changes`(changes query(`__operation` int(11) NOT NULL, `_id` longblob NOT NULL, `_more` longblob NOT NULL))\nRETURNS void AS\nDECLARE rowsDeleted INT;\nBEGIN\n\nREPLACE INTO `listings` SELECT `_id`:\u003eBSON AS `_id`, BSON_EXTRACT_STRING(`_more`,'name') AS `name`, BSON_EXTRACT_STRING(`_more`,'access') AS `access`,\nBSON_EXTRACT_BIGINT(`_more`,'accommodates') AS `accommodates`, BSON_EXCLUDE_MASK(`_more`,'{\"_id\": 1,\"name\": 1,\"review_scores\": 1,\"access\" : 1, \"accommodates\" : 1}') AS `_more`\nFROM changes WHERE __operation != 1;\n\nREPLACE INTO `reviews` SELECT `_id`:\u003eBSON AS `listingid`, BSON_EXTRACT_BIGINT(`_more`,'review_scores','review_scores_accuracy') AS `review_scores_accuracy`,\nBSON_EXTRACT_BIGINT(`_more`,'review_scores','review_scores_cleanliness') AS `review_scores_cleanliness`, BSON_EXTRACT_BIGINT(`_more`,'review_scores','review_scores_rating') AS `review_scores_rating`\nFROM changes WHERE __operation != 1;\n\nSELECT count(*) INTO rowsDeleted FROM changes WHERE changes.__operation = 1;\nIF rowsDeleted \u003e 0 THEN\nDELETE dest FROM `listings` AS dest INNER JOIN changes ON dest.`$_id` = BSON_NORMALIZE_NO_ARRAY(changes.`_id`) WHERE changes.__operation = 1;\nDELETE dest FROM `reviews` AS dest INNER JOIN changes ON dest.`$listingid` = BSON_NORMALIZE_NO_ARRAY(changes.`_id`) WHERE changes.__operation = 1;\nEND IF;\n\nEND;",
      "outputs": [],
      "execution_count": 19
    },
    {
      "id": "c0a21511",
      "cell_type": "code",
      "metadata": {
        "execution": {},
        "language": "python"
      },
      "source": "%%sql\nCREATE AGGREGATOR PIPELINE `listingsAndReviews`\nAS LOAD DATA LINK source_listingsAndReviews 'sample_airbnb.listingsAndReviews'\nBATCH_INTERVAL 2500\nMAX_PARTITIONS_PER_BATCH 1\nDISABLE OFFSETS METADATA GC\nREPLACE\nKEY(`_id`)\nINTO PROCEDURE `listingsAndReviews_apply_changes`\nFORMAT AVRO\n(\n    __operation \u003c- `__operation`,\n    _id \u003c- `payload`::`_id`,\n    _more \u003c- `payload`::`_more`\n)",
      "outputs": [],
      "execution_count": 20
    },
    {
      "id": "4d74028d",
      "cell_type": "code",
      "metadata": {
        "execution": {},
        "language": "python"
      },
      "source": "%%sql\nSTART ALL PIPELINES;",
      "outputs": [],
      "execution_count": 21
    },
    {
      "id": "60efa033",
      "cell_type": "code",
      "metadata": {
        "execution": {},
        "language": "python"
      },
      "source": "%%sql\nSHOW TABLES;",
      "outputs": [],
      "execution_count": 22
    },
    {
      "id": "a0c36179",
      "cell_type": "code",
      "metadata": {
        "execution": {},
        "language": "python"
      },
      "source": "%%sql\nSELECT _id:\u003eJSON ,name, access, accommodates FROM listings LIMIT 10;",
      "outputs": [],
      "execution_count": 23
    },
    {
      "id": "7bc334b1",
      "cell_type": "code",
      "metadata": {
        "execution": {},
        "language": "python"
      },
      "source": "%%sql\nSELECT listingid:\u003eJSON, review_scores_accuracy,review_scores_cleanliness, review_scores_rating FROM reviews LIMIT 10;",
      "outputs": [],
      "execution_count": 24
    },
    {
      "id": "30f1da03",
      "cell_type": "markdown",
      "metadata": {
        "execution": {}
      },
      "source": "\u003cdiv id=\"singlestore-footer\" style=\"background-color: rgba(194, 193, 199, 0.25); height:2px; margin-bottom:10px\"\u003e\u003c/div\u003e\n\u003cdiv\u003e\u003cimg src=\"https://raw.githubusercontent.com/singlestore-labs/spaces-notebooks/master/common/images/singlestore-logo-grey.png\" style=\"padding: 0px; margin: 0px; height: 24px\"/\u003e\u003c/div\u003e",
      "attachments": {}
    }
  ],
  "metadata": {
    "kernelspec": {
      "display_name": "Python 3 (ipykernel)",
      "language": "python",
      "name": "python3"
    },
    "language_info": {
      "codemirror_mode": {
        "name": "ipython",
        "version": 3
      },
      "file_extension": ".py",
      "mimeType": "text/x-python",
      "name": "python",
      "nbconvert_exporter": "python",
      "pygments_lexer": "ipython3",
      "version": "3.11.9"
    },
    "singlestore_connection": {
      "connectionID": "",
      "defaultDatabase": ""
    },
    "singlestore_cell_default_language": "python",
    "singlestore_row_limit": 300
  },
  "nbformat": 4,
  "nbformat_minor": 5
}