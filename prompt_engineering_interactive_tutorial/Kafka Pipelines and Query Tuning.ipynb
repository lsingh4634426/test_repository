{
  "cells": [
    {
      "id": "b0bbc9ff",
      "cell_type": "markdown",
      "metadata": {
        "execution": {}
      },
      "source": "\u003cdiv id=\"singlestore-header\" style=\"display: flex; background-color: rgba(235, 249, 245, 0.25); padding: 5px;\"\u003e\n    \u003cdiv id=\"icon-image\" style=\"width: 90px; height: 90px;\"\u003e\n        \u003cimg width=\"100%\" height=\"100%\" src=\"https://raw.githubusercontent.com/singlestore-labs/spaces-notebooks/master/common/images/header-icons/database.png\" /\u003e\n    \u003c/div\u003e\n    \u003cdiv id=\"text\" style=\"padding: 5px; margin-left: 10px;\"\u003e\n        \u003cdiv id=\"badge\" style=\"display: inline-block; background-color: rgba(0, 0, 0, 0.15); border-radius: 4px; padding: 4px 8px; align-items: center; margin-top: 6px; margin-bottom: -2px; font-size: 80%\"\u003eSingleStore Notebooks\u003c/div\u003e\n        \u003ch1 style=\"font-weight: 500; margin: 8px 0 0 4px;\"\u003eKafka Pipelines and Query Tuning\u003c/h1\u003e\n    \u003c/div\u003e\n\u003c/div\u003e",
      "attachments": {}
    },
    {
      "id": "6f9a4211",
      "cell_type": "markdown",
      "metadata": {
        "execution": {}
      },
      "source": "# Ingesting real time data from the International Space Station (ISS)",
      "attachments": {}
    },
    {
      "id": "135d167a",
      "cell_type": "markdown",
      "metadata": {
        "execution": {}
      },
      "source": "### 1. Drop the database if it exists, create a new database, switch to it, and then create a table.\n\n### Database Name\nIn the following cell you will enter your email address as the database name. However, you will need to replace all characters that are not underscores or alpha numberics with underscores.\n\n### Example:\nIf your email address is \u003cspan style=\"color:yellow\"\u003elorrin.smith-bates@singlestore.com \u003c/span\u003e you would use  \u003cspan style=\"color:red;\"\u003e**lorrin_smith_bates_singlestore_com**\u003c/span\u003e",
      "attachments": {}
    },
    {
      "id": "71853e30",
      "cell_type": "code",
      "metadata": {
        "execution": {},
        "language": "python"
      },
      "source": "email_address = \"\u003c\u003c enter your email address \u003e\u003e\"",
      "outputs": [],
      "execution_count": 1
    },
    {
      "id": "a8482c67",
      "cell_type": "markdown",
      "metadata": {
        "execution": {}
      },
      "source": "Remove characters that can't be used in a database name.",
      "attachments": {}
    },
    {
      "id": "2dd6f0bd",
      "cell_type": "code",
      "metadata": {
        "execution": {},
        "language": "python"
      },
      "source": "import re\n\nmodified_email_address = re.sub(r'[^A-Za-z0-9]', '_', email_address)\nmodified_email_address",
      "outputs": [],
      "execution_count": 2
    },
    {
      "id": "cc0e3e95",
      "cell_type": "code",
      "metadata": {
        "execution": {},
        "language": "python"
      },
      "source": "%%sql\nDROP DATABASE IF EXISTS {{ modified_email_address }};\nCREATE DATABASE {{ modified_email_address }};\nUSE {{ modified_email_address }};\nCREATE TABLE iss_location(\n    name varchar(10),\n    id int,\n    latitude float,\n    longitude float,\n    velocity float,\n    visibility varchar(20),\n    footprint float,\n    timestamp bigint,\n    daynum float,\n    solar_lat float,\n    solar_lon float,\n    units varchar(20),\n    url varchar(255)\n);",
      "outputs": [],
      "execution_count": 3
    },
    {
      "id": "04e2160b",
      "cell_type": "markdown",
      "metadata": {
        "execution": {}
      },
      "source": "### 2. Create a SingleStore pipeline to ingest ISS data from a Kafka topic.",
      "attachments": {}
    },
    {
      "id": "2de706be",
      "cell_type": "code",
      "metadata": {
        "execution": {},
        "language": "python"
      },
      "source": "%%sql\n\nCREATE OR REPLACE PIPELINE iss_pipeline AS\n    LOAD DATA kafka '100.25.125.23/iss'\n    INTO TABLE iss_location\n    FORMAT JSON;",
      "outputs": [],
      "execution_count": 4
    },
    {
      "id": "d6fa41c4",
      "cell_type": "markdown",
      "metadata": {
        "execution": {}
      },
      "source": "### 3. Test the pipeline.",
      "attachments": {}
    },
    {
      "id": "922d9ede",
      "cell_type": "code",
      "metadata": {
        "execution": {},
        "language": "python"
      },
      "source": "%%sql\n\nTEST PIPELINE iss_pipeline;",
      "outputs": [],
      "execution_count": 5
    },
    {
      "id": "6ae60777",
      "cell_type": "markdown",
      "metadata": {
        "execution": {}
      },
      "source": "### 4. Start the Pipeline",
      "attachments": {}
    },
    {
      "id": "637f2ab4",
      "cell_type": "code",
      "metadata": {
        "execution": {},
        "language": "python"
      },
      "source": "%%sql\n\nSTART PIPELINE iss_pipeline;",
      "outputs": [],
      "execution_count": 6
    },
    {
      "id": "a8c81433",
      "cell_type": "markdown",
      "metadata": {
        "execution": {}
      },
      "source": "### 5. Get the count of records. Run this a few times to see the number of records ingested.",
      "attachments": {}
    },
    {
      "id": "481a5a84",
      "cell_type": "code",
      "metadata": {
        "execution": {},
        "language": "python"
      },
      "source": "%%sql\n\nSELECT COUNT(*) FROM iss_location;",
      "outputs": [],
      "execution_count": 7
    },
    {
      "id": "8a7d1af7",
      "cell_type": "markdown",
      "metadata": {
        "execution": {}
      },
      "source": "### 6. Get the latest location record. Click the link to see the location of the ISS in Google Maps.",
      "attachments": {}
    },
    {
      "id": "79755dda",
      "cell_type": "code",
      "metadata": {
        "execution": {},
        "language": "python"
      },
      "source": "%%sql\n\nSELECT timestamp, url\n    FROM iss_location\n    ORDER BY timestamp desc\n    LIMIT 1;",
      "outputs": [],
      "execution_count": 8
    },
    {
      "id": "fb11a6dd",
      "cell_type": "markdown",
      "metadata": {
        "execution": {}
      },
      "source": "### 7. Stop the pipeline and delete the data from the iss_location table.",
      "attachments": {}
    },
    {
      "id": "9aae9731",
      "cell_type": "code",
      "metadata": {
        "execution": {},
        "language": "python"
      },
      "source": "%%sql\n\nSTOP PIPELINE iss_pipeline;\nDELETE FROM iss_location;",
      "outputs": [],
      "execution_count": 9
    },
    {
      "id": "b30644b4",
      "cell_type": "markdown",
      "metadata": {
        "execution": {}
      },
      "source": "### 8. Change the pipeline offsets and interval.",
      "attachments": {}
    },
    {
      "id": "02578bc5",
      "cell_type": "code",
      "metadata": {
        "execution": {},
        "language": "python"
      },
      "source": "%%sql\n\nALTER PIPELINE iss_pipeline\n  SET BATCH_INTERVAL 30000\n  SET OFFSETS latest ;",
      "outputs": [],
      "execution_count": 10
    },
    {
      "id": "d4f4d033",
      "cell_type": "markdown",
      "metadata": {
        "execution": {}
      },
      "source": "### 9. Start the Pipeline again.",
      "attachments": {}
    },
    {
      "id": "80b83394",
      "cell_type": "code",
      "metadata": {
        "execution": {},
        "language": "python"
      },
      "source": "%%sql\n\nSTART PIPELINE iss_pipeline;",
      "outputs": [],
      "execution_count": 11
    },
    {
      "id": "c1e18d41",
      "cell_type": "markdown",
      "metadata": {
        "execution": {}
      },
      "source": "### 10. Count the records, notice how the records are populated now after alterning the pipeline.",
      "attachments": {}
    },
    {
      "id": "9cd65706",
      "cell_type": "code",
      "metadata": {
        "execution": {},
        "language": "python"
      },
      "source": "%%sql\n\nSELECT COUNT(*) from iss_location;",
      "outputs": [],
      "execution_count": 12
    },
    {
      "id": "20661dec",
      "cell_type": "markdown",
      "metadata": {
        "execution": {}
      },
      "source": "### 11. Stop the pipeline",
      "attachments": {}
    },
    {
      "id": "77992744",
      "cell_type": "code",
      "metadata": {
        "execution": {},
        "language": "python"
      },
      "source": "%%sql\n\nSTOP PIPELINE iss_pipeline;",
      "outputs": [],
      "execution_count": 13
    },
    {
      "id": "8b257a40",
      "cell_type": "markdown",
      "metadata": {
        "execution": {}
      },
      "source": "# Query Optimization",
      "attachments": {}
    },
    {
      "id": "8b903e94",
      "cell_type": "markdown",
      "metadata": {
        "execution": {}
      },
      "source": "### 1. Restore the 'employees' database that has been backed up into a public S3 bucket\n\nFor the database name we'll prepend employees_ to the modified email address again.",
      "attachments": {}
    },
    {
      "id": "fca91b00",
      "cell_type": "code",
      "metadata": {
        "execution": {},
        "language": "python"
      },
      "source": "%%sql\nRESTORE DATABASE employees AS employees_{{ modified_email_address }}\n  FROM S3 'train.memsql.com/employee'\n  CONFIG'{\"region\":\"us-east-1\"}'\n  CREDENTIALS'{}';",
      "outputs": [],
      "execution_count": 14
    },
    {
      "id": "daa59705",
      "cell_type": "markdown",
      "metadata": {
        "execution": {}
      },
      "source": "### 2. Switch to the Employees database",
      "attachments": {}
    },
    {
      "id": "30c7c835",
      "cell_type": "code",
      "metadata": {
        "execution": {},
        "language": "python"
      },
      "source": "%%sql\nUSE employees_{{ modified_email_address }};",
      "outputs": [],
      "execution_count": 15
    },
    {
      "id": "2be1611e",
      "cell_type": "markdown",
      "metadata": {
        "execution": {}
      },
      "source": "### 3. Run a query that joins 4 tables and orders by 4 columns in 3 tables",
      "attachments": {}
    },
    {
      "id": "82c5e283",
      "cell_type": "code",
      "metadata": {
        "execution": {},
        "language": "python"
      },
      "source": "%%sql\n\nSELECT e.first_name, e.last_name, d.dept_name, t.title, t.from_date, t.to_date\n  FROM employees e\n  INNER JOIN dept_emp de ON e.emp_no=de.emp_no\n  INNER JOIN departments d ON de.dept_no=d.dept_no\n  INNER JOIN titles t ON e.emp_no=t.emp_no\n  ORDER BY e.first_name, e.last_name, d.dept_name, t.from_date\n  LIMIT 10;",
      "outputs": [],
      "execution_count": 16
    },
    {
      "id": "0d818a3b",
      "cell_type": "markdown",
      "metadata": {
        "execution": {}
      },
      "source": "### 4. Examine the query execution profile using EXPLAIN",
      "attachments": {}
    },
    {
      "id": "09f6dac9",
      "cell_type": "code",
      "metadata": {
        "execution": {},
        "language": "python"
      },
      "source": "%%sql\n\nEXPLAIN SELECT e.first_name, e.last_name, d.dept_name, t.title, t.from_date, t.to_date\n  FROM employees e\n  INNER JOIN dept_emp de ON e.emp_no=de.emp_no\n  INNER JOIN departments d ON de.dept_no=d.dept_no\n  INNER JOIN titles t ON e.emp_no=t.emp_no\n  ORDER BY e.first_name, e.last_name, d.dept_name, t.from_date\n  LIMIT 10;",
      "outputs": [],
      "execution_count": 17
    },
    {
      "id": "c2ac5b2f",
      "cell_type": "markdown",
      "metadata": {
        "execution": {}
      },
      "source": "### 5. Profile the query by using PROFILE.",
      "attachments": {}
    },
    {
      "id": "ce2f483b",
      "cell_type": "code",
      "metadata": {
        "execution": {},
        "language": "python"
      },
      "source": "%%sql\nPROFILE SELECT e.first_name, e.last_name, d.dept_name, t.title, t.from_date, t.to_date\n  FROM employees e\n  INNER JOIN dept_emp de ON e.emp_no=de.emp_no\n  INNER JOIN departments d ON de.dept_no=d.dept_no\n  INNER JOIN titles t ON e.emp_no=t.emp_no\n  ORDER BY e.first_name, e.last_name, d.dept_name, t.from_date\n  LIMIT 10;",
      "outputs": [],
      "execution_count": 18
    },
    {
      "id": "5c1a31ee",
      "cell_type": "markdown",
      "metadata": {
        "execution": {}
      },
      "source": "### 6. Run SHOW PROFILE to view the statistics on an actual run of the query",
      "attachments": {}
    },
    {
      "id": "d79b8588",
      "cell_type": "code",
      "metadata": {
        "execution": {},
        "language": "python"
      },
      "source": "%%sql\nSHOW PROFILE;",
      "outputs": [],
      "execution_count": 19
    },
    {
      "id": "51f45ac9",
      "cell_type": "markdown",
      "metadata": {
        "execution": {}
      },
      "source": "### 7.  Run Visual Profile to see this the profile in a GUI format",
      "attachments": {}
    },
    {
      "id": "171437e1",
      "cell_type": "markdown",
      "metadata": {
        "execution": {}
      },
      "source": "## Query/Schema Tuning Exercise\n\nNow that we've visualized our query execution plan, let's address some of the issues we've uncovered.\n\n### 1. Create a Reference table for departments",
      "attachments": {}
    },
    {
      "id": "f56d36a3",
      "cell_type": "code",
      "metadata": {
        "execution": {},
        "language": "python"
      },
      "source": "%%sql\nCREATE REFERENCE TABLE departments_ref(\n  dept_no CHAR(4) not null,\n  dept_name varchar(40) not null,\n  primary key (dept_no),\n  key(dept_name)\n);\n\nINSERT INTO departments_ref (SELECT * FROM departments);",
      "outputs": [],
      "execution_count": 20
    },
    {
      "id": "b5c9ec5a",
      "cell_type": "markdown",
      "metadata": {
        "execution": {}
      },
      "source": "### 2. Profile the old and the new",
      "attachments": {}
    },
    {
      "id": "14e927e8",
      "cell_type": "code",
      "metadata": {
        "execution": {},
        "language": "python"
      },
      "source": "%%sql\n-- CONTROL. Here is the original query. We can use this as our control in our experiment.\nSELECT e.first_name, e.last_name, d.dept_name, t.title, t.from_date, t.to_date\n  FROM employees e\n  INNER JOIN dept_emp de ON e.emp_no=de.emp_no\n  INNER JOIN departments d ON de.dept_no=d.dept_no\n  INNER JOIN titles t ON e.emp_no=t.emp_no\n  ORDER BY e.first_name, e.last_name, d.dept_name, t.from_date\n  LIMIT 10;\n\n-- IMPROVED. Here is the slightly more improved query with the departments_ref table\nSELECT e.first_name, e.last_name, d.dept_name, t.title, t.from_date, t.to_date\n  FROM employees e\n  INNER JOIN dept_emp de ON e.emp_no=de.emp_no\n  INNER JOIN departments_ref d ON de.dept_no=d.dept_no\n  INNER JOIN titles t ON e.emp_no=t.emp_no\n  ORDER BY e.first_name, e.last_name, d.dept_name, t.from_date\n  LIMIT 10;\n\n-- PROFILE them both and observe the differences.",
      "outputs": [],
      "execution_count": 21
    },
    {
      "id": "29b4ffb7",
      "cell_type": "markdown",
      "metadata": {
        "execution": {}
      },
      "source": "### 3. Create a titles table with sort and shard keys defined.",
      "attachments": {}
    },
    {
      "id": "bd8c4a25",
      "cell_type": "code",
      "metadata": {
        "execution": {},
        "language": "python"
      },
      "source": "%%sql\nCREATE  TABLE titles_sharded (\n  emp_no INT NOT NULL,\n  title VARCHAR(50) NOT NULL,\n  from_date DATE NOT NULL,\n  to_date DATE,\n  SORT KEY (emp_no),\n  SHARD KEY (emp_no)\n);\n\nINSERT INTO titles_sharded (SELECT * FROM titles);",
      "outputs": [],
      "execution_count": 22
    },
    {
      "id": "72575e7e",
      "cell_type": "markdown",
      "metadata": {
        "execution": {}
      },
      "source": "### 4. Add shard and sort keys to the dept_emp table",
      "attachments": {}
    },
    {
      "id": "95810fd4",
      "cell_type": "code",
      "metadata": {
        "execution": {},
        "language": "python"
      },
      "source": "%%sql\nCREATE TABLE dept_emp_sharded(\n  emp_no int not null,\n  dept_no char(4) not null,\n  from_date date not null,\n  to_date date not null,\n  SORT KEY (dept_no),\n  SHARD KEY(emp_no),\n  KEY (dept_no)\n);\n\nINSERT INTO dept_emp_sharded (SELECT * FROM dept_emp);",
      "outputs": [],
      "execution_count": 23
    },
    {
      "id": "e1e7626a",
      "cell_type": "code",
      "metadata": {
        "execution": {},
        "language": "python"
      },
      "source": "%%sql\nSELECT e.first_name, e.last_name, d.dept_name, t.title, t.from_date, t.to_date\n  FROM employees e\n  INNER JOIN dept_emp de ON e.emp_no=de.emp_no\n  INNER JOIN departments_ref d ON de.dept_no=d.dept_no\n  INNER JOIN titles_sharded t ON e.emp_no=t.emp_no\n  ORDER BY e.first_name, e.last_name, d.dept_name, t.from_date\n  LIMIT 10;",
      "outputs": [],
      "execution_count": 24
    },
    {
      "id": "8195fc4b",
      "cell_type": "markdown",
      "metadata": {
        "execution": {}
      },
      "source": "### 5. Add shard and sort keys to the employees table",
      "attachments": {}
    },
    {
      "id": "5ac1403e",
      "cell_type": "code",
      "metadata": {
        "execution": {},
        "language": "python"
      },
      "source": "%%sql\nCREATE TABLE employees_sharded (\n    emp_no INT NOT NULL,\n    birth_date DATE NOT NULL,\n    first_name VARCHAR(14) NOT NULL,\n    last_name VARCHAR(16) NOT NULL,\n    hire_date DATE NOT NULL,\n    SORT KEY (emp_no),\n    SHARD KEY (emp_no)\n);\n\nINSERT INTO employees_sharded (SELECT * FROM employees);",
      "outputs": [],
      "execution_count": 25
    },
    {
      "id": "26f28baa",
      "cell_type": "code",
      "metadata": {
        "execution": {},
        "language": "python"
      },
      "source": "%%sql\nSELECT e.first_name, e.last_name, d.dept_name, t.title, t.from_date, t.to_date\n  FROM employees_sharded e\n  INNER JOIN dept_emp de ON e.emp_no=de.emp_no\n  INNER JOIN departments_ref d ON de.dept_no=d.dept_no\n  INNER JOIN titles_sharded t ON e.emp_no=t.emp_no\n  ORDER BY e.first_name, e.last_name, d.dept_name, t.from_date\n  LIMIT 10;",
      "outputs": [],
      "execution_count": 26
    },
    {
      "id": "4f6aa82b",
      "cell_type": "markdown",
      "metadata": {
        "execution": {}
      },
      "source": "\u003cdiv id=\"singlestore-footer\" style=\"background-color: rgba(194, 193, 199, 0.25); height:2px; margin-bottom:10px\"\u003e\u003c/div\u003e\n\u003cdiv\u003e\u003cimg src=\"https://raw.githubusercontent.com/singlestore-labs/spaces-notebooks/master/common/images/singlestore-logo-grey.png\" style=\"padding: 0px; margin: 0px; height: 24px\"/\u003e\u003c/div\u003e",
      "attachments": {}
    }
  ],
  "metadata": {
    "kernelspec": {
      "display_name": "Python 3 (ipykernel)",
      "language": "python",
      "name": "python3"
    },
    "language_info": {
      "codemirror_mode": {
        "name": "ipython",
        "version": 3
      },
      "file_extension": ".py",
      "mimeType": "text/x-python",
      "name": "python",
      "nbconvert_exporter": "python",
      "pygments_lexer": "ipython3",
      "version": "3.11.9"
    },
    "jupyterlab": {
      "notebooks": {
        "version_major": 6,
        "version_minor": 4
      }
    },
    "singlestore_connection": {
      "connectionID": "",
      "defaultDatabase": ""
    },
    "singlestore_cell_default_language": "python",
    "singlestore_row_limit": 300
  },
  "nbformat": 4,
  "nbformat_minor": 5
}