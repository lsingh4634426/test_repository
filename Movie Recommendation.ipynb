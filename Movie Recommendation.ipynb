{
  "cells": [
    {
      "id": "0826a622",
      "cell_type": "markdown",
      "metadata": {
        "execution": {}
      },
      "source": "\u003cdiv id=\"singlestore-header\" style=\"display: flex; background-color: rgba(255, 182, 176, 0.25); padding: 5px;\"\u003e\n    \u003cdiv id=\"icon-image\" style=\"width: 90px; height: 90px;\"\u003e\n        \u003cimg width=\"100%\" height=\"100%\" src=\"https://raw.githubusercontent.com/singlestore-labs/spaces-notebooks/master/common/images/header-icons/camera-movie.png\" /\u003e\n    \u003c/div\u003e\n    \u003cdiv id=\"text\" style=\"padding: 5px; margin-left: 10px;\"\u003e\n        \u003cdiv id=\"badge\" style=\"display: inline-block; background-color: rgba(0, 0, 0, 0.15); border-radius: 4px; padding: 4px 8px; align-items: center; margin-top: 6px; margin-bottom: -2px; font-size: 80%\"\u003eSingleStore Notebooks\u003c/div\u003e\n        \u003ch1 style=\"font-weight: 500; margin: 8px 0 0 4px;\"\u003eMovie Recommendation\u003c/h1\u003e\n    \u003c/div\u003e\n\u003c/div\u003e",
      "attachments": {}
    },
    {
      "id": "bd3c1a79",
      "cell_type": "markdown",
      "metadata": {
        "execution": {}
      },
      "source": "\u003cdiv class=\"alert alert-block alert-info\"\u003e\n    \u003cb class=\"fa fa-solid fa-info-circle\"\u003e\u003c/b\u003e\n    \u003cdiv\u003e\n        \u003cp\u003e\u003cb\u003eNote\u003c/b\u003e\u003c/p\u003e\n        \u003cp\u003eThis tutorial is meant for Standard \u0026 Premium Workspaces. You can't run this with a Free Starter Workspace due to restrictions on Storage. Create a Workspace using +group in the left nav \u0026 select Standard for this notebook. Gallery notebooks tagged with \"Starter\" are suitable to run on a Free Starter Workspace \u003c/p\u003e\n    \u003c/div\u003e\n\u003c/div\u003e",
      "attachments": {}
    },
    {
      "id": "9039eecb",
      "cell_type": "markdown",
      "metadata": {
        "execution": {}
      },
      "source": "*Source*: [Full MovieLens 25M Dataset](https://grouplens.org/datasets/movielens/25m/) - [Appplication](https://movie-recommender-flask-t954.vercel.app/)\n\nThis notebook demonstrates how SingleStoreDB helps you build a simple Movie Recommender System.\n\n\u003cimg src=https://raw.githubusercontent.com/singlestore-labs/spaces-notebooks/master/notebooks/movie-recommendation/images/database-tables.png width=\"1000\"\u003e",
      "attachments": {}
    },
    {
      "id": "eee7cef6",
      "cell_type": "markdown",
      "metadata": {
        "execution": {}
      },
      "source": "## 1. Install required libraries\n\nInstall the library for vectorizing the data (up to 2 minutes).",
      "attachments": {}
    },
    {
      "id": "039f0b97",
      "cell_type": "code",
      "metadata": {
        "execution": {},
        "language": "python"
      },
      "source": "!pip install sentence-transformers --quiet",
      "outputs": [],
      "execution_count": 1
    },
    {
      "id": "82ddb890",
      "cell_type": "markdown",
      "metadata": {
        "execution": {}
      },
      "source": "## 2. Create database and ingest data",
      "attachments": {}
    },
    {
      "id": "d3181151",
      "cell_type": "markdown",
      "metadata": {
        "execution": {}
      },
      "source": "Create the `movie_recommender` database.",
      "attachments": {}
    },
    {
      "id": "3e763118",
      "cell_type": "code",
      "metadata": {
        "execution": {},
        "language": "python"
      },
      "source": "%%sql\nDROP DATABASE IF EXISTS movie_recommender;\nCREATE DATABASE IF NOT EXISTS movie_recommender;",
      "outputs": [],
      "execution_count": 2
    },
    {
      "id": "339bf265",
      "cell_type": "markdown",
      "metadata": {
        "execution": {}
      },
      "source": "\u003cdiv class=\"alert alert-block alert-warning\"\u003e\n    \u003cb class=\"fa fa-solid fa-exclamation-circle\"\u003e\u003c/b\u003e\n    \u003cdiv\u003e\n        \u003cp\u003e\u003cb\u003eAction Required\u003c/b\u003e\u003c/p\u003e\n        \u003cp\u003eMake sure to select the \u003ctt\u003emovie_recommender\u003c/tt\u003e database from the drop-down menu at the top of this notebook.\n        It updates the \u003ctt\u003econnection_url\u003c/tt\u003e which is used by the \u003ctt\u003e%%sql\u003c/tt\u003e magic command and SQLAlchemy to make connections to the selected database.\u003c/p\u003e\n    \u003c/div\u003e\n\u003c/div\u003e",
      "attachments": {}
    },
    {
      "id": "3fda9e9d",
      "cell_type": "markdown",
      "metadata": {
        "execution": {}
      },
      "source": "Create `tags` table and start pipeline.",
      "attachments": {}
    },
    {
      "id": "3e21f911",
      "cell_type": "code",
      "metadata": {
        "execution": {},
        "language": "python"
      },
      "source": "%%sql\nCREATE TABLE IF NOT EXISTS tags (\n    `userId` bigint(20) NULL,\n    `movieId` bigint(20) NULL,\n    `tag` text CHARACTER SET utf8 COLLATE utf8_general_ci NULL,\n    `timestamp` bigint(20) NULL\n);\n\nCREATE PIPELINE tags\n    AS LOAD DATA S3 'studiotutorials/movielens/tags.csv'\n    CONFIG '{\\\"region\\\":\\\"us-east-1\\\", \\\"disable_gunzip\\\": false}'\n    BATCH_INTERVAL 2500\n    MAX_PARTITIONS_PER_BATCH 1\n    DISABLE OUT_OF_ORDER OPTIMIZATION\n    DISABLE OFFSETS METADATA GC\n    SKIP DUPLICATE KEY ERRORS\n    INTO TABLE `tags`\n    FIELDS TERMINATED BY ',' ENCLOSED BY '\"' ESCAPED BY '\\\\'\n    LINES TERMINATED BY '\\r\\n'\n    NULL DEFINED BY ''\n    IGNORE 1 LINES\n    (userId, movieId, tag, timestamp);\n\nSTART PIPELINE tags;",
      "outputs": [],
      "execution_count": 3
    },
    {
      "id": "9321b7e3",
      "cell_type": "markdown",
      "metadata": {
        "execution": {}
      },
      "source": "Create `ratings` table and start pipeline.",
      "attachments": {}
    },
    {
      "id": "fe23f570",
      "cell_type": "code",
      "metadata": {
        "execution": {},
        "language": "python"
      },
      "source": "%%sql\nCREATE TABLE IF NOT EXISTS ratings (\n    userId bigint(20) DEFAULT NULL,\n    movieId bigint(20) DEFAULT NULL,\n    rating double DEFAULT NULL,\n    timestamp bigint(20) DEFAULT NULL\n);\n\nCREATE PIPELINE ratings\n    AS LOAD DATA S3 'studiotutorials/movielens/ratings.csv'\n    CONFIG '{\\\"region\\\":\\\"us-east-1\\\", \\\"disable_gunzip\\\": false}'\n    BATCH_INTERVAL 2500\n    MAX_PARTITIONS_PER_BATCH 1\n    DISABLE OUT_OF_ORDER OPTIMIZATION\n    DISABLE OFFSETS METADATA GC\n    SKIP DUPLICATE KEY ERRORS\n    INTO TABLE `ratings`\n    FIELDS TERMINATED BY ',' ENCLOSED BY '\"' ESCAPED BY '\\\\'\n    LINES TERMINATED BY '\\r\\n'\n    NULL DEFINED BY ''\n    IGNORE 1 LINES\n    (userId, movieId, rating, timestamp);\n\nSTART PIPELINE ratings;",
      "outputs": [],
      "execution_count": 4
    },
    {
      "id": "b23fd64b",
      "cell_type": "markdown",
      "metadata": {
        "execution": {}
      },
      "source": "Create `movies` table and start pipeline.",
      "attachments": {}
    },
    {
      "id": "f7e76f0f",
      "cell_type": "code",
      "metadata": {
        "execution": {},
        "language": "python"
      },
      "source": "%%sql\nCREATE TABLE movies (\n    movieId bigint(20) DEFAULT NULL,\n    title text CHARACTER SET utf8 COLLATE utf8_general_ci,\n    genres text CHARACTER SET utf8 COLLATE utf8_general_ci,\n    FULLTEXT(title)\n);\n\nCREATE PIPELINE movies\n    AS LOAD DATA S3 'studiotutorials/movielens/movies.csv'\n    CONFIG '{\\\"region\\\":\\\"us-east-1\\\", \\\"disable_gunzip\\\": false}'\n    BATCH_INTERVAL 2500\n    MAX_PARTITIONS_PER_BATCH 1\n    DISABLE OUT_OF_ORDER OPTIMIZATION\n    DISABLE OFFSETS METADATA GC\n    SKIP DUPLICATE KEY ERRORS\n    INTO TABLE `movies`\n    FIELDS TERMINATED BY ',' ENCLOSED BY '\"' ESCAPED BY '\\\\'\n    LINES TERMINATED BY '\\r\\n'\n    NULL DEFINED BY ''\n    IGNORE 1 LINES\n    (movieId, title, genres);\n\nSTART PIPELINE movies;",
      "outputs": [],
      "execution_count": 5
    },
    {
      "id": "25876eb6",
      "cell_type": "markdown",
      "metadata": {
        "execution": {}
      },
      "source": "### Check that all the data has been loaded\n\nThere should be 25m rows for ratings, 62k for movies and 1m for tags. If the values are less than that, try the query\nagain in a few seconds, the pipelines are still running.",
      "attachments": {}
    },
    {
      "id": "9b7d1d50",
      "cell_type": "code",
      "metadata": {
        "execution": {},
        "language": "python"
      },
      "source": "%%sql\nSELECT COUNT(*) AS count_rows FROM ratings\nUNION ALL\nSELECT COUNT(*) AS count_rows FROM movies\nUNION ALL\nSELECT COUNT(*) AS count_rows FROM tags",
      "outputs": [],
      "execution_count": 6
    },
    {
      "id": "3a2ee35a",
      "cell_type": "markdown",
      "metadata": {
        "execution": {}
      },
      "source": "### Concatenate `tags` and `movies` tables using all tags",
      "attachments": {}
    },
    {
      "id": "11de8ee9",
      "cell_type": "code",
      "metadata": {
        "execution": {},
        "language": "python"
      },
      "source": "%%sql\nCREATE TABLE movies_with_tags AS\n    SELECT\n        m.movieId,\n        m.title,\n        m.genres,\n        GROUP_CONCAT(t.tag SEPARATOR ',') AS allTags\n    FROM movies m\n    LEFT JOIN tags t ON m.movieId = t.movieId\n    GROUP BY m.movieId, m.title, m.genres;",
      "outputs": [],
      "execution_count": 7
    },
    {
      "id": "8bd899ae",
      "cell_type": "markdown",
      "metadata": {
        "execution": {}
      },
      "source": "## 3. Vectorize data",
      "attachments": {}
    },
    {
      "id": "f4a0cd2d",
      "cell_type": "markdown",
      "metadata": {
        "execution": {}
      },
      "source": "Initialize sentence transformer.",
      "attachments": {}
    },
    {
      "id": "fb22e686",
      "cell_type": "code",
      "metadata": {
        "execution": {},
        "language": "python"
      },
      "source": "from sentence_transformers import SentenceTransformer\n\nmodel = SentenceTransformer('flax-sentence-embeddings/all_datasets_v3_mpnet-base')",
      "outputs": [],
      "execution_count": 8
    },
    {
      "id": "80b88943",
      "cell_type": "markdown",
      "metadata": {
        "execution": {}
      },
      "source": "Query the `movies_with_tags` table and store the output in a variable named `result`. The `result \u003c\u003c` syntax in the\n`%%sql` line indicates that the output from the query should get stored under that variable name.",
      "attachments": {}
    },
    {
      "id": "0ca4f33c",
      "cell_type": "code",
      "metadata": {
        "execution": {},
        "language": "python"
      },
      "source": "%%sql result \u003c\u003c\nSELECT * FROM movies_with_tags",
      "outputs": [],
      "execution_count": 9
    },
    {
      "id": "5347eef3",
      "cell_type": "markdown",
      "metadata": {
        "execution": {}
      },
      "source": "Convert the result from the above SQL into a DataFrame and clean up quotes.",
      "attachments": {}
    },
    {
      "id": "4a33d614",
      "cell_type": "code",
      "metadata": {
        "execution": {},
        "language": "python"
      },
      "source": "import pandas as pd\n\ndf = pd.DataFrame(result)\n\n# Curate the special characters\ndf['title'] = df['title'].str.replace('\"', '')\ndf['allTags'] = df['allTags'].str.replace('\"', '').str.replace(\"'\", '')\n\ndata = df.to_dict(orient='records')",
      "outputs": [],
      "execution_count": 10
    },
    {
      "id": "17c90ea9",
      "cell_type": "markdown",
      "metadata": {
        "execution": {}
      },
      "source": "Check the first row of the list.",
      "attachments": {}
    },
    {
      "id": "adeebd97",
      "cell_type": "code",
      "metadata": {
        "execution": {},
        "language": "python"
      },
      "source": "data[0]",
      "outputs": [],
      "execution_count": 11
    },
    {
      "id": "de736010",
      "cell_type": "markdown",
      "metadata": {
        "execution": {}
      },
      "source": "Concatenate title and tags.",
      "attachments": {}
    },
    {
      "id": "071d1141",
      "cell_type": "code",
      "metadata": {
        "execution": {},
        "language": "python"
      },
      "source": "all_title_type_column = [f'{row[\"title\"]}-{row[\"allTags\"]}' if row[\"title\"] is not None else row[\"title\"] for row in data]",
      "outputs": [],
      "execution_count": 12
    },
    {
      "id": "e266fe5c",
      "cell_type": "markdown",
      "metadata": {
        "execution": {}
      },
      "source": "Create the embeddings for Title \u0026 Tag (~3 minutes).",
      "attachments": {}
    },
    {
      "id": "5125a794",
      "cell_type": "code",
      "metadata": {
        "execution": {},
        "language": "python"
      },
      "source": "# Remove [:3000] if you want to vectorize all rows (~60 minutes)\nall_embeddings = model.encode(all_title_type_column[:3000])\nall_embeddings.shape",
      "outputs": [],
      "execution_count": 13
    },
    {
      "id": "97f49fdc",
      "cell_type": "markdown",
      "metadata": {
        "execution": {}
      },
      "source": "Merge the original data with the vector data.",
      "attachments": {}
    },
    {
      "id": "05a56d9b",
      "cell_type": "code",
      "metadata": {
        "execution": {},
        "language": "python"
      },
      "source": "# Remember the list will be only 3,000 elements\nfor row, embedding in zip(data, all_embeddings):\n    row['embedding'] = embedding",
      "outputs": [],
      "execution_count": 14
    },
    {
      "id": "53c5cac8",
      "cell_type": "code",
      "metadata": {
        "execution": {},
        "language": "python"
      },
      "source": "data[0]",
      "outputs": [],
      "execution_count": 15
    },
    {
      "id": "83ae8f78",
      "cell_type": "markdown",
      "metadata": {
        "execution": {}
      },
      "source": "## 4. Create table for movie information and vectors",
      "attachments": {}
    },
    {
      "id": "e90dfaf0",
      "cell_type": "code",
      "metadata": {
        "execution": {},
        "language": "python"
      },
      "source": "%%sql\nDROP TABLE IF EXISTS movie_with_tags_with_vectors;\n\nCREATE TABLE movie_with_tags_with_vectors (\n    movieId BIGINT(20) DEFAULT NULL,\n    title text CHARACTER SET utf8 COLLATE utf8_general_ci,\n    genres text CHARACTER SET utf8 COLLATE utf8_general_ci,\n    allTags longtext CHARACTER SET utf8mb4,\n    vector BLOB\n)",
      "outputs": [],
      "execution_count": 16
    },
    {
      "id": "d86c3ab9",
      "cell_type": "markdown",
      "metadata": {
        "execution": {}
      },
      "source": "Create a database connection using SQLAlchemy. We are going to use an SQLAlchemy connection here because one\ncolumn of data is numpy arrays. The SingleStoreDB SQLAlchemy driver will automatically convert those to\nthe correct binary format when uploading, so it's a bit more convenient than doing the conversions and\nformatting manually for the `%sql` magic command.",
      "attachments": {}
    },
    {
      "id": "a0f60a5d",
      "cell_type": "code",
      "metadata": {
        "execution": {},
        "language": "python"
      },
      "source": "from singlestoredb import create_engine\n\nconn = create_engine().connect()",
      "outputs": [],
      "execution_count": 17
    },
    {
      "id": "8d09c8e9",
      "cell_type": "markdown",
      "metadata": {
        "execution": {}
      },
      "source": "Insert the data. Some rows might encounter errors due to unsupported characters.",
      "attachments": {}
    },
    {
      "id": "857354ca",
      "cell_type": "code",
      "metadata": {
        "execution": {},
        "language": "python"
      },
      "source": "import sqlalchemy as sa\n\nsql_query = sa.text('''\n    INSERT INTO movie_with_tags_with_vectors (\n        movieId,\n        title,\n        genres,\n        allTags,\n        vector\n    )\n    VALUES (\n        :movieId,\n        :title,\n        :genres,\n        :allTags,\n        :embedding\n    )\n    ''')\n\nconn.execute(sql_query, data[:3000])",
      "outputs": [],
      "execution_count": 18
    },
    {
      "id": "35d9e0ab",
      "cell_type": "markdown",
      "metadata": {
        "execution": {}
      },
      "source": "## 5. Marrying Search ❤️ Semantic Search ❤️ Analytics",
      "attachments": {}
    },
    {
      "id": "f4d0f756",
      "cell_type": "markdown",
      "metadata": {
        "execution": {}
      },
      "source": "### Build autocomplete search",
      "attachments": {}
    },
    {
      "id": "88fb5547",
      "cell_type": "markdown",
      "metadata": {
        "execution": {}
      },
      "source": "This is en experimentat we started with to render a full text search.",
      "attachments": {}
    },
    {
      "id": "d86ebf5b",
      "cell_type": "code",
      "metadata": {
        "execution": {},
        "language": "python"
      },
      "source": "%%sql\nWITH queryouter AS (\n                SELECT DISTINCT(title), movieId, MATCH(title) AGAINST ('Pocahontas*') as relevance\n                FROM movies\n                WHERE MATCH(title) AGAINST ('Pocahontas*')\n                ORDER BY relevance DESC\n                LIMIT 10)\n    SELECT title, movieId FROM queryouter;",
      "outputs": [],
      "execution_count": 19
    },
    {
      "id": "482c813e",
      "cell_type": "markdown",
      "metadata": {
        "execution": {}
      },
      "source": "### Create user favorite movie tables",
      "attachments": {}
    },
    {
      "id": "67bc3465",
      "cell_type": "code",
      "metadata": {
        "execution": {},
        "language": "python"
      },
      "source": "%%sql\nCREATE ROWSTORE TABLE IF NOT EXISTS user_choice (\n    userid text CHARACTER SET utf8 COLLATE utf8_general_ci,\n    title text CHARACTER SET utf8 COLLATE utf8_general_ci,\n    ts datetime DEFAULT NULL,\n    KEY userid (userid)\n)",
      "outputs": [],
      "execution_count": 20
    },
    {
      "id": "ee7b2569",
      "cell_type": "markdown",
      "metadata": {
        "execution": {}
      },
      "source": "Enter dummy data for testing purposes.",
      "attachments": {}
    },
    {
      "id": "cc8db25d",
      "cell_type": "code",
      "metadata": {
        "execution": {},
        "language": "python"
      },
      "source": "%%sql\nINSERT INTO user_choice (userid, title, ts)\n    VALUES ('user1', 'Zone 39 (1997)', '2022-01-01 00:00:00'),\n           ('user1', 'Star Trek II: The Wrath of Khan (1982)', '2022-01-01 00:00:00'),\n           ('user1', 'Giver, The (2014)', '2022-01-01 00:00:00');",
      "outputs": [],
      "execution_count": 21
    },
    {
      "id": "549dd511",
      "cell_type": "markdown",
      "metadata": {
        "execution": {}
      },
      "source": "### Build semantic search for a movie recommendation",
      "attachments": {}
    },
    {
      "id": "1405d3b4",
      "cell_type": "code",
      "metadata": {
        "execution": {},
        "language": "python"
      },
      "source": "%%sql\nWITH\n    table_match AS (\n        SELECT\n            m.title,\n            m.movieId,\n            m.vector\n        FROM\n            user_choice t\n            INNER JOIN movie_with_tags_with_vectors m ON m.title = t.title\n        WHERE\n            userid = 'user1'\n    ),\n    movie_pairs AS (\n        SELECT\n            m1.movieId AS movieId1,\n            m1.title AS title1,\n            m2.movieId AS movieId2,\n            m2.title AS title2,\n            DOT_PRODUCT(m1.vector, m2.vector) AS similarity\n        FROM\n            table_match m1\n            CROSS JOIN movie_with_tags_with_vectors m2\n        WHERE\n            m1.movieId != m2.movieId\n            AND NOT EXISTS (\n                SELECT\n                    1\n                FROM\n                    user_choice uc\n                WHERE\n                    uc.userid = 'user1'\n                    AND uc.title = m2.title\n            )\n    ),\n    movie_match AS (\n        SELECT\n            movieId1,\n            title1,\n            movieId2,\n            title2,\n            similarity\n        FROM\n            movie_pairs\n        ORDER BY\n            similarity DESC\n    ),\n    distinct_count AS (\n        SELECT DISTINCT\n            movieId2,\n            title2 AS Title,\n            ROUND(AVG(similarity), 4) AS Rating_Match\n        FROM\n            movie_match\n        GROUP BY\n            movieId2,\n            title2\n        ORDER BY\n            Rating_Match DESC\n    ),\n    average_ratings AS (\n        SELECT\n            movieId,\n            AVG(rating) AS Avg_Rating\n        FROM\n            ratings\n        GROUP BY\n            movieId\n    )\nSELECT\n    dc.Title,\n    dc.Rating_Match as 'Match Score',\n    ROUND(ar.Avg_Rating, 1) AS 'Average User Rating'\nFROM\n    distinct_count dc\n    JOIN average_ratings ar ON dc.movieId2 = ar.movieId\nORDER BY\n    dc.Rating_Match DESC\nLIMIT\n    5;",
      "outputs": [],
      "execution_count": 22
    },
    {
      "id": "db8a6e82",
      "cell_type": "markdown",
      "metadata": {
        "execution": {}
      },
      "source": "## 6. What are you looking for?",
      "attachments": {}
    },
    {
      "id": "9686be3c",
      "cell_type": "code",
      "metadata": {
        "execution": {},
        "language": "python"
      },
      "source": "search_embedding = model.encode(\"I want see a French comedy movie\")",
      "outputs": [],
      "execution_count": 23
    },
    {
      "id": "46366909",
      "cell_type": "code",
      "metadata": {
        "execution": {},
        "language": "python"
      },
      "source": "sql_query = sa.text('''\n    SELECT title, genres, DOT_PRODUCT(vector, :vector) AS score FROM movie_with_tags_with_vectors tv\n    ORDER BY Score DESC\n    LIMIT 10\n''')\n\nresults = conn.execute(sql_query, dict(vector=search_embedding))\n\nfor i, res in enumerate(results):\n    print(f\"{i + 1}: {res.title} {res.genres} Score: {res.score}\")",
      "outputs": [],
      "execution_count": 24
    },
    {
      "id": "f44af172",
      "cell_type": "markdown",
      "metadata": {
        "execution": {}
      },
      "source": "## Clean up",
      "attachments": {}
    },
    {
      "id": "88ced78a",
      "cell_type": "code",
      "metadata": {
        "execution": {},
        "language": "python"
      },
      "source": "%%sql\nDROP DATABASE IF EXISTS movie_recommender",
      "outputs": [],
      "execution_count": 25
    },
    {
      "id": "f678873e",
      "cell_type": "markdown",
      "metadata": {
        "execution": {}
      },
      "source": "\u003cdiv id=\"singlestore-footer\" style=\"background-color: rgba(194, 193, 199, 0.25); height:2px; margin-bottom:10px\"\u003e\u003c/div\u003e\n\u003cdiv\u003e\u003cimg src=\"https://raw.githubusercontent.com/singlestore-labs/spaces-notebooks/master/common/images/singlestore-logo-grey.png\" style=\"padding: 0px; margin: 0px; height: 24px\"/\u003e\u003c/div\u003e",
      "attachments": {}
    }
  ],
  "metadata": {
    "kernelspec": {
      "display_name": "Python 3 (ipykernel)",
      "language": "python",
      "name": "python3"
    },
    "language_info": {
      "codemirror_mode": {
        "name": "ipython",
        "version": 3
      },
      "file_extension": ".py",
      "mimeType": "text/x-python",
      "name": "python",
      "nbconvert_exporter": "python",
      "pygments_lexer": "ipython3",
      "version": "3.11.4"
    },
    "singlestore_connection": {
      "connectionID": "",
      "defaultDatabase": ""
    },
    "singlestore_cell_default_language": "python"
  },
  "nbformat": 4,
  "nbformat_minor": 5
}